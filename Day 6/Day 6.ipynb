{
 "cells": [
  {
   "cell_type": "code",
   "execution_count": 1,
   "metadata": {},
   "outputs": [],
   "source": [
    "library(ISLR)"
   ]
  },
  {
   "cell_type": "code",
   "execution_count": 2,
   "metadata": {},
   "outputs": [],
   "source": [
    "data(\"mtcars\")"
   ]
  },
  {
   "cell_type": "code",
   "execution_count": 3,
   "metadata": {},
   "outputs": [
    {
     "name": "stdout",
     "output_type": "stream",
     "text": [
      "'data.frame':\t32 obs. of  11 variables:\n",
      " $ mpg : num  21 21 22.8 21.4 18.7 18.1 14.3 24.4 22.8 19.2 ...\n",
      " $ cyl : num  6 6 4 6 8 6 8 4 4 6 ...\n",
      " $ disp: num  160 160 108 258 360 ...\n",
      " $ hp  : num  110 110 93 110 175 105 245 62 95 123 ...\n",
      " $ drat: num  3.9 3.9 3.85 3.08 3.15 2.76 3.21 3.69 3.92 3.92 ...\n",
      " $ wt  : num  2.62 2.88 2.32 3.21 3.44 ...\n",
      " $ qsec: num  16.5 17 18.6 19.4 17 ...\n",
      " $ vs  : num  0 0 1 1 0 1 0 1 1 1 ...\n",
      " $ am  : num  1 1 1 0 0 0 0 0 0 0 ...\n",
      " $ gear: num  4 4 4 3 3 3 3 4 4 4 ...\n",
      " $ carb: num  4 4 1 1 2 1 4 2 2 4 ...\n"
     ]
    }
   ],
   "source": [
    "str(mtcars)"
   ]
  },
  {
   "cell_type": "code",
   "execution_count": 4,
   "metadata": {},
   "outputs": [
    {
     "data": {
      "text/html": [
       "<table>\n",
       "<thead><tr><th></th><th scope=col>mpg</th><th scope=col>cyl</th><th scope=col>disp</th><th scope=col>hp</th><th scope=col>drat</th><th scope=col>wt</th><th scope=col>qsec</th><th scope=col>vs</th><th scope=col>am</th><th scope=col>gear</th><th scope=col>carb</th></tr></thead>\n",
       "<tbody>\n",
       "\t<tr><th scope=row>Mazda RX4</th><td>21.0 </td><td>6    </td><td>160  </td><td>110  </td><td>3.90 </td><td>2.620</td><td>16.46</td><td>0    </td><td>1    </td><td>4    </td><td>4    </td></tr>\n",
       "\t<tr><th scope=row>Mazda RX4 Wag</th><td>21.0 </td><td>6    </td><td>160  </td><td>110  </td><td>3.90 </td><td>2.875</td><td>17.02</td><td>0    </td><td>1    </td><td>4    </td><td>4    </td></tr>\n",
       "\t<tr><th scope=row>Datsun 710</th><td>22.8 </td><td>4    </td><td>108  </td><td> 93  </td><td>3.85 </td><td>2.320</td><td>18.61</td><td>1    </td><td>1    </td><td>4    </td><td>1    </td></tr>\n",
       "\t<tr><th scope=row>Hornet 4 Drive</th><td>21.4 </td><td>6    </td><td>258  </td><td>110  </td><td>3.08 </td><td>3.215</td><td>19.44</td><td>1    </td><td>0    </td><td>3    </td><td>1    </td></tr>\n",
       "\t<tr><th scope=row>Hornet Sportabout</th><td>18.7 </td><td>8    </td><td>360  </td><td>175  </td><td>3.15 </td><td>3.440</td><td>17.02</td><td>0    </td><td>0    </td><td>3    </td><td>2    </td></tr>\n",
       "\t<tr><th scope=row>Valiant</th><td>18.1 </td><td>6    </td><td>225  </td><td>105  </td><td>2.76 </td><td>3.460</td><td>20.22</td><td>1    </td><td>0    </td><td>3    </td><td>1    </td></tr>\n",
       "</tbody>\n",
       "</table>\n"
      ],
      "text/latex": [
       "\\begin{tabular}{r|lllllllllll}\n",
       "  & mpg & cyl & disp & hp & drat & wt & qsec & vs & am & gear & carb\\\\\n",
       "\\hline\n",
       "\tMazda RX4 & 21.0  & 6     & 160   & 110   & 3.90  & 2.620 & 16.46 & 0     & 1     & 4     & 4    \\\\\n",
       "\tMazda RX4 Wag & 21.0  & 6     & 160   & 110   & 3.90  & 2.875 & 17.02 & 0     & 1     & 4     & 4    \\\\\n",
       "\tDatsun 710 & 22.8  & 4     & 108   &  93   & 3.85  & 2.320 & 18.61 & 1     & 1     & 4     & 1    \\\\\n",
       "\tHornet 4 Drive & 21.4  & 6     & 258   & 110   & 3.08  & 3.215 & 19.44 & 1     & 0     & 3     & 1    \\\\\n",
       "\tHornet Sportabout & 18.7  & 8     & 360   & 175   & 3.15  & 3.440 & 17.02 & 0     & 0     & 3     & 2    \\\\\n",
       "\tValiant & 18.1  & 6     & 225   & 105   & 2.76  & 3.460 & 20.22 & 1     & 0     & 3     & 1    \\\\\n",
       "\\end{tabular}\n"
      ],
      "text/markdown": [
       "\n",
       "| <!--/--> | mpg | cyl | disp | hp | drat | wt | qsec | vs | am | gear | carb | \n",
       "|---|---|---|---|---|---|\n",
       "| Mazda RX4 | 21.0  | 6     | 160   | 110   | 3.90  | 2.620 | 16.46 | 0     | 1     | 4     | 4     | \n",
       "| Mazda RX4 Wag | 21.0  | 6     | 160   | 110   | 3.90  | 2.875 | 17.02 | 0     | 1     | 4     | 4     | \n",
       "| Datsun 710 | 22.8  | 4     | 108   |  93   | 3.85  | 2.320 | 18.61 | 1     | 1     | 4     | 1     | \n",
       "| Hornet 4 Drive | 21.4  | 6     | 258   | 110   | 3.08  | 3.215 | 19.44 | 1     | 0     | 3     | 1     | \n",
       "| Hornet Sportabout | 18.7  | 8     | 360   | 175   | 3.15  | 3.440 | 17.02 | 0     | 0     | 3     | 2     | \n",
       "| Valiant | 18.1  | 6     | 225   | 105   | 2.76  | 3.460 | 20.22 | 1     | 0     | 3     | 1     | \n",
       "\n",
       "\n"
      ],
      "text/plain": [
       "                  mpg  cyl disp hp  drat wt    qsec  vs am gear carb\n",
       "Mazda RX4         21.0 6   160  110 3.90 2.620 16.46 0  1  4    4   \n",
       "Mazda RX4 Wag     21.0 6   160  110 3.90 2.875 17.02 0  1  4    4   \n",
       "Datsun 710        22.8 4   108   93 3.85 2.320 18.61 1  1  4    1   \n",
       "Hornet 4 Drive    21.4 6   258  110 3.08 3.215 19.44 1  0  3    1   \n",
       "Hornet Sportabout 18.7 8   360  175 3.15 3.440 17.02 0  0  3    2   \n",
       "Valiant           18.1 6   225  105 2.76 3.460 20.22 1  0  3    1   "
      ]
     },
     "metadata": {},
     "output_type": "display_data"
    }
   ],
   "source": [
    "head(mtcars)"
   ]
  },
  {
   "cell_type": "code",
   "execution_count": 5,
   "metadata": {},
   "outputs": [],
   "source": [
    "?mtcars"
   ]
  },
  {
   "cell_type": "code",
   "execution_count": 6,
   "metadata": {},
   "outputs": [],
   "source": [
    "cars <- mtcars"
   ]
  },
  {
   "cell_type": "markdown",
   "metadata": {},
   "source": [
    "## Working with mpg"
   ]
  },
  {
   "cell_type": "code",
   "execution_count": 7,
   "metadata": {},
   "outputs": [
    {
     "data": {
      "image/png": "[encoded data removed]",
      "text/plain": [
       "Plot with title \"Histogram of cars$mpg\""
      ]
     },
     "metadata": {},
     "output_type": "display_data"
    }
   ],
   "source": [
    "#Histogram\n",
    "hist(cars$mpg)"
   ]
  },
  {
   "cell_type": "code",
   "execution_count": 8,
   "metadata": {},
   "outputs": [
    {
     "data": {
      "text/plain": [
       "   Min. 1st Qu.  Median    Mean 3rd Qu.    Max. \n",
       "  10.40   15.43   19.20   20.09   22.80   33.90 "
      ]
     },
     "metadata": {},
     "output_type": "display_data"
    }
   ],
   "source": [
    "#Summary\n",
    "summary(cars$mpg)"
   ]
  },
  {
   "cell_type": "code",
   "execution_count": 9,
   "metadata": {},
   "outputs": [
    {
     "data": {
      "image/png": "[encoded data removed]",
      "text/plain": [
       "plot without title"
      ]
     },
     "metadata": {},
     "output_type": "display_data"
    }
   ],
   "source": [
    "#Boxplot\n",
    "boxplot(cars$mpg)"
   ]
  },
  {
   "cell_type": "code",
   "execution_count": 10,
   "metadata": {},
   "outputs": [
    {
     "data": {
      "image/png": "[encoded data removed]",
      "text/plain": [
       "plot without title"
      ]
     },
     "metadata": {},
     "output_type": "display_data"
    }
   ],
   "source": [
    "#matrix Plot\n",
    "pairs(cars[1:5])"
   ]
  },
  {
   "cell_type": "code",
   "execution_count": 11,
   "metadata": {},
   "outputs": [
    {
     "data": {
      "image/png": "[encoded data removed]",
      "text/plain": [
       "plot without title"
      ]
     },
     "metadata": {},
     "output_type": "display_data"
    }
   ],
   "source": [
    "#scatter plot wt vs mpg\n",
    "plot(cars$wt,cars$mpg)"
   ]
  },
  {
   "cell_type": "code",
   "execution_count": 12,
   "metadata": {},
   "outputs": [
    {
     "data": {
      "text/html": [
       "-0.867659376517228"
      ],
      "text/latex": [
       "-0.867659376517228"
      ],
      "text/markdown": [
       "-0.867659376517228"
      ],
      "text/plain": [
       "[1] -0.8676594"
      ]
     },
     "metadata": {},
     "output_type": "display_data"
    }
   ],
   "source": [
    "#corrilation coefficent wt, mpg\n",
    "cor(cars$wt,cars$mpg)"
   ]
  },
  {
   "cell_type": "markdown",
   "metadata": {},
   "source": [
    "## SMR"
   ]
  },
  {
   "cell_type": "code",
   "execution_count": 13,
   "metadata": {},
   "outputs": [
    {
     "data": {
      "text/html": [
       "<dl class=dl-horizontal>\n",
       "\t<dt>(Intercept)</dt>\n",
       "\t\t<dd>37.285126167342</dd>\n",
       "\t<dt>wt</dt>\n",
       "\t\t<dd>-5.34447157272267</dd>\n",
       "</dl>\n"
      ],
      "text/latex": [
       "\\begin{description*}\n",
       "\\item[(Intercept)] 37.285126167342\n",
       "\\item[wt] -5.34447157272267\n",
       "\\end{description*}\n"
      ],
      "text/markdown": [
       "(Intercept)\n",
       ":   37.285126167342wt\n",
       ":   -5.34447157272267\n",
       "\n"
      ],
      "text/plain": [
       "(Intercept)          wt \n",
       "  37.285126   -5.344472 "
      ]
     },
     "metadata": {},
     "output_type": "display_data"
    },
    {
     "data": {
      "text/html": [
       "<table>\n",
       "<thead><tr><th></th><th scope=col>2.5 %</th><th scope=col>97.5 %</th></tr></thead>\n",
       "<tbody>\n",
       "\t<tr><th scope=row>(Intercept)</th><td>33.450500</td><td>41.119753</td></tr>\n",
       "\t<tr><th scope=row>wt</th><td>-6.486308</td><td>-4.202635</td></tr>\n",
       "</tbody>\n",
       "</table>\n"
      ],
      "text/latex": [
       "\\begin{tabular}{r|ll}\n",
       "  & 2.5 \\% & 97.5 \\%\\\\\n",
       "\\hline\n",
       "\t(Intercept) & 33.450500 & 41.119753\\\\\n",
       "\twt & -6.486308 & -4.202635\\\\\n",
       "\\end{tabular}\n"
      ],
      "text/markdown": [
       "\n",
       "| <!--/--> | 2.5 % | 97.5 % | \n",
       "|---|---|\n",
       "| (Intercept) | 33.450500 | 41.119753 | \n",
       "| wt | -6.486308 | -4.202635 | \n",
       "\n",
       "\n"
      ],
      "text/plain": [
       "            2.5 %     97.5 %   \n",
       "(Intercept) 33.450500 41.119753\n",
       "wt          -6.486308 -4.202635"
      ]
     },
     "metadata": {},
     "output_type": "display_data"
    },
    {
     "data": {
      "image/png": "[encoded data removed]",
      "text/plain": [
       "plot without title"
      ]
     },
     "metadata": {},
     "output_type": "display_data"
    }
   ],
   "source": [
    "#lm(y~x, data =)\n",
    "\n",
    "carslm1<-lm(mpg~wt, data=cars) #fitting linear regression model\n",
    "#summary(carslm1)\n",
    "plot(cars$mpg~cars$wt) # alternative way : plot(cars$wt, cars$mpg)\n",
    "abline(carslm1)# regression line\n",
    "carslm1$coefficients # B0 and B1\n",
    "confint(carslm1) #Confidence interval"
   ]
  },
  {
   "cell_type": "code",
   "execution_count": 14,
   "metadata": {},
   "outputs": [
    {
     "data": {
      "text/html": [
       "<dl class=dl-horizontal>\n",
       "\t<dt>Mazda RX4</dt>\n",
       "\t\t<dd>23.2826106468087</dd>\n",
       "\t<dt>Mazda RX4 Wag</dt>\n",
       "\t\t<dd>21.9197703957643</dd>\n",
       "\t<dt>Datsun 710</dt>\n",
       "\t\t<dd>24.8859521186254</dd>\n",
       "\t<dt>Hornet 4 Drive</dt>\n",
       "\t\t<dd>20.1026500610386</dd>\n",
       "\t<dt>Hornet Sportabout</dt>\n",
       "\t\t<dd>18.900143957176</dd>\n",
       "\t<dt>Valiant</dt>\n",
       "\t\t<dd>18.7932545257216</dd>\n",
       "\t<dt>Duster 360</dt>\n",
       "\t\t<dd>18.2053626527221</dd>\n",
       "\t<dt>Merc 240D</dt>\n",
       "\t\t<dd>20.2362618503567</dd>\n",
       "\t<dt>Merc 230</dt>\n",
       "\t\t<dd>20.4500407132656</dd>\n",
       "\t<dt>Merc 280</dt>\n",
       "\t\t<dd>18.900143957176</dd>\n",
       "\t<dt>Merc 280C</dt>\n",
       "\t\t<dd>18.900143957176</dd>\n",
       "\t<dt>Merc 450SE</dt>\n",
       "\t\t<dd>15.5331268663607</dd>\n",
       "\t<dt>Merc 450SL</dt>\n",
       "\t\t<dd>17.3502472010864</dd>\n",
       "\t<dt>Merc 450SLC</dt>\n",
       "\t\t<dd>17.0830236224503</dd>\n",
       "\t<dt>Cadillac Fleetwood</dt>\n",
       "\t\t<dd>9.22665041054798</dd>\n",
       "\t<dt>Lincoln Continental</dt>\n",
       "\t\t<dd>8.29671235689423</dd>\n",
       "\t<dt>Chrysler Imperial</dt>\n",
       "\t\t<dd>8.71892561113933</dd>\n",
       "\t<dt>Fiat 128</dt>\n",
       "\t\t<dd>25.5272887073521</dd>\n",
       "\t<dt>Honda Civic</dt>\n",
       "\t\t<dd>28.6538045773949</dd>\n",
       "\t<dt>Toyota Corolla</dt>\n",
       "\t\t<dd>27.4780208313959</dd>\n",
       "\t<dt>Toyota Corona</dt>\n",
       "\t\t<dd>24.1110037405806</dd>\n",
       "\t<dt>Dodge Challenger</dt>\n",
       "\t\t<dd>18.4725862313582</dd>\n",
       "\t<dt>AMC Javelin</dt>\n",
       "\t\t<dd>18.9268663150396</dd>\n",
       "\t<dt>Camaro Z28</dt>\n",
       "\t\t<dd>16.762355328087</dd>\n",
       "\t<dt>Pontiac Firebird</dt>\n",
       "\t\t<dd>16.7356329702233</dd>\n",
       "\t<dt>Fiat X1-9</dt>\n",
       "\t\t<dd>26.9435736741236</dd>\n",
       "\t<dt>Porsche 914-2</dt>\n",
       "\t\t<dd>25.8479570017155</dd>\n",
       "\t<dt>Lotus Europa</dt>\n",
       "\t\t<dd>29.1989406778126</dd>\n",
       "\t<dt>Ford Pantera L</dt>\n",
       "\t\t<dd>20.3431512818111</dd>\n",
       "\t<dt>Ferrari Dino</dt>\n",
       "\t\t<dd>22.4809399109002</dd>\n",
       "\t<dt>Maserati Bora</dt>\n",
       "\t\t<dd>18.2053626527221</dd>\n",
       "\t<dt>Volvo 142E</dt>\n",
       "\t\t<dd>22.427495195173</dd>\n",
       "</dl>\n"
      ],
      "text/latex": [
       "\\begin{description*}\n",
       "\\item[Mazda RX4] 23.2826106468087\n",
       "\\item[Mazda RX4 Wag] 21.9197703957643\n",
       "\\item[Datsun 710] 24.8859521186254\n",
       "\\item[Hornet 4 Drive] 20.1026500610386\n",
       "\\item[Hornet Sportabout] 18.900143957176\n",
       "\\item[Valiant] 18.7932545257216\n",
       "\\item[Duster 360] 18.2053626527221\n",
       "\\item[Merc 240D] 20.2362618503567\n",
       "\\item[Merc 230] 20.4500407132656\n",
       "\\item[Merc 280] 18.900143957176\n",
       "\\item[Merc 280C] 18.900143957176\n",
       "\\item[Merc 450SE] 15.5331268663607\n",
       "\\item[Merc 450SL] 17.3502472010864\n",
       "\\item[Merc 450SLC] 17.0830236224503\n",
       "\\item[Cadillac Fleetwood] 9.22665041054798\n",
       "\\item[Lincoln Continental] 8.29671235689423\n",
       "\\item[Chrysler Imperial] 8.71892561113933\n",
       "\\item[Fiat 128] 25.5272887073521\n",
       "\\item[Honda Civic] 28.6538045773949\n",
       "\\item[Toyota Corolla] 27.4780208313959\n",
       "\\item[Toyota Corona] 24.1110037405806\n",
       "\\item[Dodge Challenger] 18.4725862313582\n",
       "\\item[AMC Javelin] 18.9268663150396\n",
       "\\item[Camaro Z28] 16.762355328087\n",
       "\\item[Pontiac Firebird] 16.7356329702233\n",
       "\\item[Fiat X1-9] 26.9435736741236\n",
       "\\item[Porsche 914-2] 25.8479570017155\n",
       "\\item[Lotus Europa] 29.1989406778126\n",
       "\\item[Ford Pantera L] 20.3431512818111\n",
       "\\item[Ferrari Dino] 22.4809399109002\n",
       "\\item[Maserati Bora] 18.2053626527221\n",
       "\\item[Volvo 142E] 22.427495195173\n",
       "\\end{description*}\n"
      ],
      "text/markdown": [
       "Mazda RX4\n",
       ":   23.2826106468087Mazda RX4 Wag\n",
       ":   21.9197703957643Datsun 710\n",
       ":   24.8859521186254Hornet 4 Drive\n",
       ":   20.1026500610386Hornet Sportabout\n",
       ":   18.900143957176Valiant\n",
       ":   18.7932545257216Duster 360\n",
       ":   18.2053626527221Merc 240D\n",
       ":   20.2362618503567Merc 230\n",
       ":   20.4500407132656Merc 280\n",
       ":   18.900143957176Merc 280C\n",
       ":   18.900143957176Merc 450SE\n",
       ":   15.5331268663607Merc 450SL\n",
       ":   17.3502472010864Merc 450SLC\n",
       ":   17.0830236224503Cadillac Fleetwood\n",
       ":   9.22665041054798Lincoln Continental\n",
       ":   8.29671235689423Chrysler Imperial\n",
       ":   8.71892561113933Fiat 128\n",
       ":   25.5272887073521Honda Civic\n",
       ":   28.6538045773949Toyota Corolla\n",
       ":   27.4780208313959Toyota Corona\n",
       ":   24.1110037405806Dodge Challenger\n",
       ":   18.4725862313582AMC Javelin\n",
       ":   18.9268663150396Camaro Z28\n",
       ":   16.762355328087Pontiac Firebird\n",
       ":   16.7356329702233Fiat X1-9\n",
       ":   26.9435736741236Porsche 914-2\n",
       ":   25.8479570017155Lotus Europa\n",
       ":   29.1989406778126Ford Pantera L\n",
       ":   20.3431512818111Ferrari Dino\n",
       ":   22.4809399109002Maserati Bora\n",
       ":   18.2053626527221Volvo 142E\n",
       ":   22.427495195173\n",
       "\n"
      ],
      "text/plain": [
       "          Mazda RX4       Mazda RX4 Wag          Datsun 710      Hornet 4 Drive \n",
       "          23.282611           21.919770           24.885952           20.102650 \n",
       "  Hornet Sportabout             Valiant          Duster 360           Merc 240D \n",
       "          18.900144           18.793255           18.205363           20.236262 \n",
       "           Merc 230            Merc 280           Merc 280C          Merc 450SE \n",
       "          20.450041           18.900144           18.900144           15.533127 \n",
       "         Merc 450SL         Merc 450SLC  Cadillac Fleetwood Lincoln Continental \n",
       "          17.350247           17.083024            9.226650            8.296712 \n",
       "  Chrysler Imperial            Fiat 128         Honda Civic      Toyota Corolla \n",
       "           8.718926           25.527289           28.653805           27.478021 \n",
       "      Toyota Corona    Dodge Challenger         AMC Javelin          Camaro Z28 \n",
       "          24.111004           18.472586           18.926866           16.762355 \n",
       "   Pontiac Firebird           Fiat X1-9       Porsche 914-2        Lotus Europa \n",
       "          16.735633           26.943574           25.847957           29.198941 \n",
       "     Ford Pantera L        Ferrari Dino       Maserati Bora          Volvo 142E \n",
       "          20.343151           22.480940           18.205363           22.427495 "
      ]
     },
     "metadata": {},
     "output_type": "display_data"
    }
   ],
   "source": [
    "carslm1$fitted.values"
   ]
  },
  {
   "cell_type": "code",
   "execution_count": 15,
   "metadata": {},
   "outputs": [
    {
     "data": {
      "image/png": "[encoded data removed]",
      "text/plain": [
       "plot without title"
      ]
     },
     "metadata": {},
     "output_type": "display_data"
    }
   ],
   "source": [
    "#scatter plot wt, y^ - Scatter plot X then Y\n",
    "plot(cars$wt, carslm1$fitted.values)"
   ]
  },
  {
   "cell_type": "code",
   "execution_count": 16,
   "metadata": {},
   "outputs": [
    {
     "data": {
      "image/png": "[encoded data removed]",
      "text/plain": [
       "plot without title"
      ]
     },
     "metadata": {},
     "output_type": "display_data"
    }
   ],
   "source": [
    "#carslm1$residuals\n",
    "plot(cars$wt, carslm1$residuals)"
   ]
  },
  {
   "cell_type": "code",
   "execution_count": 17,
   "metadata": {},
   "outputs": [
    {
     "data": {
      "text/html": [
       "278.321937543344"
      ],
      "text/latex": [
       "278.321937543344"
      ],
      "text/markdown": [
       "278.321937543344"
      ],
      "text/plain": [
       "[1] 278.3219"
      ]
     },
     "metadata": {},
     "output_type": "display_data"
    }
   ],
   "source": [
    "#RSS\n",
    "v<-carslm1$residuals\n",
    "sum(v^2)"
   ]
  },
  {
   "cell_type": "code",
   "execution_count": 18,
   "metadata": {},
   "outputs": [
    {
     "data": {
      "text/html": [
       "3.04588212478938"
      ],
      "text/latex": [
       "3.04588212478938"
      ],
      "text/markdown": [
       "3.04588212478938"
      ],
      "text/plain": [
       "[1] 3.045882"
      ]
     },
     "metadata": {},
     "output_type": "display_data"
    }
   ],
   "source": [
    "# other than RSS other data is in Summary\n",
    "summary(carslm1)$sigma"
   ]
  },
  {
   "cell_type": "code",
   "execution_count": 19,
   "metadata": {},
   "outputs": [
    {
     "data": {
      "text/html": [
       "0.752832793658264"
      ],
      "text/latex": [
       "0.752832793658264"
      ],
      "text/markdown": [
       "0.752832793658264"
      ],
      "text/plain": [
       "[1] 0.7528328"
      ]
     },
     "metadata": {},
     "output_type": "display_data"
    }
   ],
   "source": [
    "summary(carslm1)$r.squared"
   ]
  },
  {
   "cell_type": "code",
   "execution_count": 20,
   "metadata": {},
   "outputs": [
    {
     "data": {
      "text/html": [
       "0.744593886780206"
      ],
      "text/latex": [
       "0.744593886780206"
      ],
      "text/markdown": [
       "0.744593886780206"
      ],
      "text/plain": [
       "[1] 0.7445939"
      ]
     },
     "metadata": {},
     "output_type": "display_data"
    }
   ],
   "source": [
    "summary(carslm1)$adj.r.squared"
   ]
  },
  {
   "cell_type": "code",
   "execution_count": 21,
   "metadata": {},
   "outputs": [
    {
     "data": {
      "text/html": [
       "1126.0471875"
      ],
      "text/latex": [
       "1126.0471875"
      ],
      "text/markdown": [
       "1126.0471875"
      ],
      "text/plain": [
       "[1] 1126.047"
      ]
     },
     "metadata": {},
     "output_type": "display_data"
    }
   ],
   "source": [
    "#TSS\n",
    "sum((cars$mpg-mean(cars$mpg))^2)"
   ]
  },
  {
   "cell_type": "code",
   "execution_count": 22,
   "metadata": {},
   "outputs": [
    {
     "data": {
      "text/plain": [
       "\n",
       "Call:\n",
       "lm(formula = mpg ~ wt, data = cars)\n",
       "\n",
       "Residuals:\n",
       "    Min      1Q  Median      3Q     Max \n",
       "-4.5432 -2.3647 -0.1252  1.4096  6.8727 \n",
       "\n",
       "Coefficients:\n",
       "            Estimate Std. Error t value Pr(>|t|)    \n",
       "(Intercept)  37.2851     1.8776  19.858  < 2e-16 ***\n",
       "wt           -5.3445     0.5591  -9.559 1.29e-10 ***\n",
       "---\n",
       "Signif. codes:  0 '***' 0.001 '**' 0.01 '*' 0.05 '.' 0.1 ' ' 1\n",
       "\n",
       "Residual standard error: 3.046 on 30 degrees of freedom\n",
       "Multiple R-squared:  0.7528,\tAdjusted R-squared:  0.7446 \n",
       "F-statistic: 91.38 on 1 and 30 DF,  p-value: 1.294e-10\n"
      ]
     },
     "metadata": {},
     "output_type": "display_data"
    }
   ],
   "source": [
    "summary(carslm1)"
   ]
  },
  {
   "cell_type": "code",
   "execution_count": 23,
   "metadata": {},
   "outputs": [
    {
     "data": {
      "text/plain": [
       "\n",
       "Call:\n",
       "lm(formula = mpg ~ wt, data = cars)\n",
       "\n",
       "Coefficients:\n",
       "(Intercept)           wt  \n",
       "     37.285       -5.344  \n"
      ]
     },
     "metadata": {},
     "output_type": "display_data"
    }
   ],
   "source": [
    "carslm1"
   ]
  },
  {
   "cell_type": "code",
   "execution_count": 24,
   "metadata": {},
   "outputs": [
    {
     "data": {
      "image/png": "[encoded data removed]",
      "text/plain": [
       "Plot with title \"\""
      ]
     },
     "metadata": {},
     "output_type": "display_data"
    }
   ],
   "source": [
    "plot(carslm1,1) # there are some advanced graphs for diffrent numbers"
   ]
  },
  {
   "cell_type": "markdown",
   "metadata": {},
   "source": [
    "## MLR"
   ]
  },
  {
   "cell_type": "code",
   "execution_count": 25,
   "metadata": {},
   "outputs": [
    {
     "data": {
      "text/plain": [
       "\n",
       "Call:\n",
       "lm(formula = mpg ~ wt + hp, data = cars)\n",
       "\n",
       "Coefficients:\n",
       "(Intercept)           wt           hp  \n",
       "   37.22727     -3.87783     -0.03177  \n"
      ]
     },
     "metadata": {},
     "output_type": "display_data"
    }
   ],
   "source": [
    "lm(mpg~wt+hp, cars)"
   ]
  },
  {
   "cell_type": "code",
   "execution_count": 26,
   "metadata": {},
   "outputs": [
    {
     "data": {
      "text/html": [
       "278.321937543344"
      ],
      "text/latex": [
       "278.321937543344"
      ],
      "text/markdown": [
       "278.321937543344"
      ],
      "text/plain": [
       "[1] 278.3219"
      ]
     },
     "metadata": {},
     "output_type": "display_data"
    },
    {
     "data": {
      "text/plain": [
       "\n",
       "Call:\n",
       "lm(formula = mpg ~ wt, data = cars)\n",
       "\n",
       "Residuals:\n",
       "    Min      1Q  Median      3Q     Max \n",
       "-4.5432 -2.3647 -0.1252  1.4096  6.8727 \n",
       "\n",
       "Coefficients:\n",
       "            Estimate Std. Error t value Pr(>|t|)    \n",
       "(Intercept)  37.2851     1.8776  19.858  < 2e-16 ***\n",
       "wt           -5.3445     0.5591  -9.559 1.29e-10 ***\n",
       "---\n",
       "Signif. codes:  0 '***' 0.001 '**' 0.01 '*' 0.05 '.' 0.1 ' ' 1\n",
       "\n",
       "Residual standard error: 3.046 on 30 degrees of freedom\n",
       "Multiple R-squared:  0.7528,\tAdjusted R-squared:  0.7446 \n",
       "F-statistic: 91.38 on 1 and 30 DF,  p-value: 1.294e-10\n"
      ]
     },
     "metadata": {},
     "output_type": "display_data"
    }
   ],
   "source": [
    "carslm1 <- carslm1<-lm(mpg~wt, data=cars) #fitting linear regression model\n",
    "#RSS\n",
    "v<-carslm1$residuals\n",
    "sum(v^2)\n",
    "summary(carslm1)"
   ]
  },
  {
   "cell_type": "code",
   "execution_count": 27,
   "metadata": {},
   "outputs": [
    {
     "data": {
      "text/html": [
       "195.047754741466"
      ],
      "text/latex": [
       "195.047754741466"
      ],
      "text/markdown": [
       "195.047754741466"
      ],
      "text/plain": [
       "[1] 195.0478"
      ]
     },
     "metadata": {},
     "output_type": "display_data"
    },
    {
     "data": {
      "text/plain": [
       "\n",
       "Call:\n",
       "lm(formula = mpg ~ wt + hp, data = cars)\n",
       "\n",
       "Residuals:\n",
       "   Min     1Q Median     3Q    Max \n",
       "-3.941 -1.600 -0.182  1.050  5.854 \n",
       "\n",
       "Coefficients:\n",
       "            Estimate Std. Error t value Pr(>|t|)    \n",
       "(Intercept) 37.22727    1.59879  23.285  < 2e-16 ***\n",
       "wt          -3.87783    0.63273  -6.129 1.12e-06 ***\n",
       "hp          -0.03177    0.00903  -3.519  0.00145 ** \n",
       "---\n",
       "Signif. codes:  0 '***' 0.001 '**' 0.01 '*' 0.05 '.' 0.1 ' ' 1\n",
       "\n",
       "Residual standard error: 2.593 on 29 degrees of freedom\n",
       "Multiple R-squared:  0.8268,\tAdjusted R-squared:  0.8148 \n",
       "F-statistic: 69.21 on 2 and 29 DF,  p-value: 9.109e-12\n"
      ]
     },
     "metadata": {},
     "output_type": "display_data"
    }
   ],
   "source": [
    "carslm2<-lm(mpg~wt+hp, data=cars) #fitting linear regression model\n",
    "#RSS\n",
    "v<-carslm2$residuals\n",
    "sum(v^2)\n",
    "summary(carslm2)"
   ]
  },
  {
   "cell_type": "code",
   "execution_count": 28,
   "metadata": {},
   "outputs": [
    {
     "data": {
      "text/html": [
       "301.262597402597"
      ],
      "text/latex": [
       "301.262597402597"
      ],
      "text/markdown": [
       "301.262597402597"
      ],
      "text/plain": [
       "[1] 301.2626"
      ]
     },
     "metadata": {},
     "output_type": "display_data"
    },
    {
     "data": {
      "text/plain": [
       "\n",
       "Call:\n",
       "lm(formula = mpg ~ cyl, data = cars)\n",
       "\n",
       "Residuals:\n",
       "    Min      1Q  Median      3Q     Max \n",
       "-5.2636 -1.8357  0.0286  1.3893  7.2364 \n",
       "\n",
       "Coefficients:\n",
       "            Estimate Std. Error t value Pr(>|t|)    \n",
       "(Intercept)  26.6636     0.9718  27.437  < 2e-16 ***\n",
       "cyl6         -6.9208     1.5583  -4.441 0.000119 ***\n",
       "cyl8        -11.5636     1.2986  -8.905 8.57e-10 ***\n",
       "---\n",
       "Signif. codes:  0 '***' 0.001 '**' 0.01 '*' 0.05 '.' 0.1 ' ' 1\n",
       "\n",
       "Residual standard error: 3.223 on 29 degrees of freedom\n",
       "Multiple R-squared:  0.7325,\tAdjusted R-squared:  0.714 \n",
       "F-statistic:  39.7 on 2 and 29 DF,  p-value: 4.979e-09\n"
      ]
     },
     "metadata": {},
     "output_type": "display_data"
    }
   ],
   "source": [
    "cars$cyl<-as.factor(cars$cyl)\n",
    "carslm3<-lm(mpg~cyl, data=cars) #fitting linear regression model\n",
    "#RSS\n",
    "v<-carslm3$residuals\n",
    "sum(v^2)\n",
    "summary(carslm3)"
   ]
  },
  {
   "cell_type": "code",
   "execution_count": 29,
   "metadata": {},
   "outputs": [
    {
     "data": {
      "text/html": [
       "160.777633984652"
      ],
      "text/latex": [
       "160.777633984652"
      ],
      "text/markdown": [
       "160.777633984652"
      ],
      "text/plain": [
       "[1] 160.7776"
      ]
     },
     "metadata": {},
     "output_type": "display_data"
    },
    {
     "data": {
      "text/plain": [
       "\n",
       "Call:\n",
       "lm(formula = mpg ~ wt + hp + cyl, data = cars)\n",
       "\n",
       "Residuals:\n",
       "    Min      1Q  Median      3Q     Max \n",
       "-4.2612 -1.0320 -0.3210  0.9281  5.3947 \n",
       "\n",
       "Coefficients:\n",
       "            Estimate Std. Error t value Pr(>|t|)    \n",
       "(Intercept) 35.84600    2.04102  17.563 2.67e-16 ***\n",
       "wt          -3.18140    0.71960  -4.421 0.000144 ***\n",
       "hp          -0.02312    0.01195  -1.934 0.063613 .  \n",
       "cyl6        -3.35902    1.40167  -2.396 0.023747 *  \n",
       "cyl8        -3.18588    2.17048  -1.468 0.153705    \n",
       "---\n",
       "Signif. codes:  0 '***' 0.001 '**' 0.01 '*' 0.05 '.' 0.1 ' ' 1\n",
       "\n",
       "Residual standard error: 2.44 on 27 degrees of freedom\n",
       "Multiple R-squared:  0.8572,\tAdjusted R-squared:  0.8361 \n",
       "F-statistic: 40.53 on 4 and 27 DF,  p-value: 4.869e-11\n"
      ]
     },
     "metadata": {},
     "output_type": "display_data"
    }
   ],
   "source": [
    "carslm4<-lm(mpg~wt+hp+cyl, data=cars) #fitting linear regression model\n",
    "#RSS\n",
    "v<-carslm4$residuals\n",
    "sum(v^2)\n",
    "summary(carslm4)"
   ]
  },
  {
   "cell_type": "code",
   "execution_count": 30,
   "metadata": {},
   "outputs": [
    {
     "data": {
      "text/html": [
       "126.155081700833"
      ],
      "text/latex": [
       "126.155081700833"
      ],
      "text/markdown": [
       "126.155081700833"
      ],
      "text/plain": [
       "[1] 126.1551"
      ]
     },
     "metadata": {},
     "output_type": "display_data"
    },
    {
     "data": {
      "text/plain": [
       "\n",
       "Call:\n",
       "lm(formula = mpg ~ wt + hp + cyl + wt * hp, data = cars)\n",
       "\n",
       "Residuals:\n",
       "    Min      1Q  Median      3Q     Max \n",
       "-3.5309 -1.6451 -0.4154  1.3838  4.4788 \n",
       "\n",
       "Coefficients:\n",
       "             Estimate Std. Error t value Pr(>|t|)    \n",
       "(Intercept) 47.337329   4.679790  10.115 1.67e-10 ***\n",
       "wt          -7.306337   1.675258  -4.361 0.000181 ***\n",
       "hp          -0.103331   0.031907  -3.238 0.003274 ** \n",
       "cyl6        -1.259073   1.489594  -0.845 0.405685    \n",
       "cyl8        -1.454339   2.063696  -0.705 0.487246    \n",
       "wt:hp        0.023951   0.008966   2.671 0.012865 *  \n",
       "---\n",
       "Signif. codes:  0 '***' 0.001 '**' 0.01 '*' 0.05 '.' 0.1 ' ' 1\n",
       "\n",
       "Residual standard error: 2.203 on 26 degrees of freedom\n",
       "Multiple R-squared:  0.888,\tAdjusted R-squared:  0.8664 \n",
       "F-statistic: 41.21 on 5 and 26 DF,  p-value: 1.503e-11\n"
      ]
     },
     "metadata": {},
     "output_type": "display_data"
    }
   ],
   "source": [
    "carslm5<-lm(mpg~wt+hp+cyl+wt*hp, data=cars) #fitting linear regression model\n",
    "#RSS\n",
    "v<-carslm5$residuals\n",
    "sum(v^2)\n",
    "summary(carslm5)"
   ]
  },
  {
   "cell_type": "code",
   "execution_count": 31,
   "metadata": {},
   "outputs": [
    {
     "data": {
      "text/html": [
       "447.674313544602"
      ],
      "text/latex": [
       "447.674313544602"
      ],
      "text/markdown": [
       "447.674313544602"
      ],
      "text/plain": [
       "[1] 447.6743"
      ]
     },
     "metadata": {},
     "output_type": "display_data"
    },
    {
     "data": {
      "text/plain": [
       "\n",
       "Call:\n",
       "lm(formula = mpg ~ hp, data = cars)\n",
       "\n",
       "Residuals:\n",
       "    Min      1Q  Median      3Q     Max \n",
       "-5.7121 -2.1122 -0.8854  1.5819  8.2360 \n",
       "\n",
       "Coefficients:\n",
       "            Estimate Std. Error t value Pr(>|t|)    \n",
       "(Intercept) 30.09886    1.63392  18.421  < 2e-16 ***\n",
       "hp          -0.06823    0.01012  -6.742 1.79e-07 ***\n",
       "---\n",
       "Signif. codes:  0 '***' 0.001 '**' 0.01 '*' 0.05 '.' 0.1 ' ' 1\n",
       "\n",
       "Residual standard error: 3.863 on 30 degrees of freedom\n",
       "Multiple R-squared:  0.6024,\tAdjusted R-squared:  0.5892 \n",
       "F-statistic: 45.46 on 1 and 30 DF,  p-value: 1.788e-07\n"
      ]
     },
     "metadata": {},
     "output_type": "display_data"
    }
   ],
   "source": [
    "carslm6<-lm(mpg~hp, data=cars) #fitting linear regression model\n",
    "#RSS\n",
    "v<-carslm6$residuals\n",
    "sum(v^2)\n",
    "summary(carslm6)"
   ]
  },
  {
   "cell_type": "code",
   "execution_count": 32,
   "metadata": {},
   "outputs": [
    {
     "data": {
      "text/html": [
       "274.631661474247"
      ],
      "text/latex": [
       "274.631661474247"
      ],
      "text/markdown": [
       "274.631661474247"
      ],
      "text/plain": [
       "[1] 274.6317"
      ]
     },
     "metadata": {},
     "output_type": "display_data"
    },
    {
     "data": {
      "text/plain": [
       "\n",
       "Call:\n",
       "lm(formula = mpg ~ hp + I(hp^2), data = cars)\n",
       "\n",
       "Residuals:\n",
       "    Min      1Q  Median      3Q     Max \n",
       "-4.5512 -1.6027 -0.6977  1.5509  8.7213 \n",
       "\n",
       "Coefficients:\n",
       "              Estimate Std. Error t value Pr(>|t|)    \n",
       "(Intercept)  4.041e+01  2.741e+00  14.744 5.23e-15 ***\n",
       "hp          -2.133e-01  3.488e-02  -6.115 1.16e-06 ***\n",
       "I(hp^2)      4.208e-04  9.844e-05   4.275 0.000189 ***\n",
       "---\n",
       "Signif. codes:  0 '***' 0.001 '**' 0.01 '*' 0.05 '.' 0.1 ' ' 1\n",
       "\n",
       "Residual standard error: 3.077 on 29 degrees of freedom\n",
       "Multiple R-squared:  0.7561,\tAdjusted R-squared:  0.7393 \n",
       "F-statistic: 44.95 on 2 and 29 DF,  p-value: 1.301e-09\n"
      ]
     },
     "metadata": {},
     "output_type": "display_data"
    }
   ],
   "source": [
    "carslm7<-lm(mpg~hp+I(hp^2), data=cars) #fitting linear regression model\n",
    "#RSS\n",
    "v<-carslm7$residuals\n",
    "sum(v^2)\n",
    "summary(carslm7)"
   ]
  },
  {
   "cell_type": "code",
   "execution_count": 33,
   "metadata": {},
   "outputs": [
    {
     "data": {
      "text/html": [
       "269.605575432349"
      ],
      "text/latex": [
       "269.605575432349"
      ],
      "text/markdown": [
       "269.605575432349"
      ],
      "text/plain": [
       "[1] 269.6056"
      ]
     },
     "metadata": {},
     "output_type": "display_data"
    },
    {
     "data": {
      "text/plain": [
       "\n",
       "Call:\n",
       "lm(formula = mpg ~ poly(hp, 3), data = cars)\n",
       "\n",
       "Residuals:\n",
       "    Min      1Q  Median      3Q     Max \n",
       "-4.8605 -1.3972 -0.5736  1.6461  9.0738 \n",
       "\n",
       "Coefficients:\n",
       "             Estimate Std. Error t value Pr(>|t|)    \n",
       "(Intercept)   20.0906     0.5485  36.625  < 2e-16 ***\n",
       "poly(hp, 3)1 -26.0456     3.1030  -8.394 3.95e-09 ***\n",
       "poly(hp, 3)2  13.1546     3.1030   4.239 0.000221 ***\n",
       "poly(hp, 3)3  -2.2419     3.1030  -0.722 0.475987    \n",
       "---\n",
       "Signif. codes:  0 '***' 0.001 '**' 0.01 '*' 0.05 '.' 0.1 ' ' 1\n",
       "\n",
       "Residual standard error: 3.103 on 28 degrees of freedom\n",
       "Multiple R-squared:  0.7606,\tAdjusted R-squared:  0.7349 \n",
       "F-statistic: 29.65 on 3 and 28 DF,  p-value: 7.769e-09\n"
      ]
     },
     "metadata": {},
     "output_type": "display_data"
    }
   ],
   "source": [
    "carslm8<-lm(mpg~poly(hp,3), data=cars) #fitting linear regression model\n",
    "#RSS\n",
    "v<-carslm8$residuals\n",
    "sum(v^2)\n",
    "summary(carslm8)"
   ]
  },
  {
   "cell_type": "code",
   "execution_count": 34,
   "metadata": {},
   "outputs": [
    {
     "data": {
      "text/html": [
       "121.562649077578"
      ],
      "text/latex": [
       "121.562649077578"
      ],
      "text/markdown": [
       "121.562649077578"
      ],
      "text/plain": [
       "[1] 121.5626"
      ]
     },
     "metadata": {},
     "output_type": "display_data"
    },
    {
     "data": {
      "text/plain": [
       "\n",
       "Call:\n",
       "lm(formula = mpg ~ wt + hp + cyl + wt * hp + I(hp^2), data = cars)\n",
       "\n",
       "Residuals:\n",
       "   Min     1Q Median     3Q    Max \n",
       "-3.268 -1.493 -0.480  1.330  4.159 \n",
       "\n",
       "Coefficients:\n",
       "              Estimate Std. Error t value Pr(>|t|)    \n",
       "(Intercept)  4.829e+01  4.787e+00  10.089 2.68e-10 ***\n",
       "wt          -6.650e+00  1.808e+00  -3.678  0.00113 ** \n",
       "hp          -1.349e-01  4.557e-02  -2.961  0.00663 ** \n",
       "cyl6        -8.111e-01  1.561e+00  -0.520  0.60786    \n",
       "cyl8        -5.184e-01  2.279e+00  -0.227  0.82195    \n",
       "I(hp^2)      9.821e-05  1.011e-04   0.972  0.34044    \n",
       "wt:hp        2.103e-02  9.466e-03   2.222  0.03559 *  \n",
       "---\n",
       "Signif. codes:  0 '***' 0.001 '**' 0.01 '*' 0.05 '.' 0.1 ' ' 1\n",
       "\n",
       "Residual standard error: 2.205 on 25 degrees of freedom\n",
       "Multiple R-squared:  0.892,\tAdjusted R-squared:  0.8661 \n",
       "F-statistic: 34.43 on 6 and 25 DF,  p-value: 6.528e-11\n"
      ]
     },
     "metadata": {},
     "output_type": "display_data"
    }
   ],
   "source": [
    "carslm9<-lm(mpg~wt+hp+cyl+wt*hp+I(hp^2), data=cars) #fitting linear regression model\n",
    "#RSS\n",
    "v<-carslm9$residuals\n",
    "sum(v^2)\n",
    "summary(carslm9)"
   ]
  },
  {
   "cell_type": "code",
   "execution_count": 35,
   "metadata": {},
   "outputs": [
    {
     "data": {
      "text/html": [
       "133.323451329926"
      ],
      "text/latex": [
       "133.323451329926"
      ],
      "text/markdown": [
       "133.323451329926"
      ],
      "text/plain": [
       "[1] 133.3235"
      ]
     },
     "metadata": {},
     "output_type": "display_data"
    },
    {
     "data": {
      "text/plain": [
       "\n",
       "Call:\n",
       "lm(formula = mpg ~ ., data = cars)\n",
       "\n",
       "Residuals:\n",
       "    Min      1Q  Median      3Q     Max \n",
       "-3.4734 -1.3794 -0.0655  1.0510  4.3906 \n",
       "\n",
       "Coefficients:\n",
       "            Estimate Std. Error t value Pr(>|t|)  \n",
       "(Intercept) 17.81984   16.30602   1.093   0.2875  \n",
       "cyl6        -1.66031    2.26230  -0.734   0.4715  \n",
       "cyl8         1.63744    4.31573   0.379   0.7084  \n",
       "disp         0.01391    0.01740   0.799   0.4334  \n",
       "hp          -0.04613    0.02712  -1.701   0.1045  \n",
       "drat         0.02635    1.67649   0.016   0.9876  \n",
       "wt          -3.80625    1.84664  -2.061   0.0525 .\n",
       "qsec         0.64696    0.72195   0.896   0.3808  \n",
       "vs           1.74739    2.27267   0.769   0.4510  \n",
       "am           2.61727    2.00475   1.306   0.2065  \n",
       "gear         0.76403    1.45668   0.525   0.6057  \n",
       "carb         0.50935    0.94244   0.540   0.5948  \n",
       "---\n",
       "Signif. codes:  0 '***' 0.001 '**' 0.01 '*' 0.05 '.' 0.1 ' ' 1\n",
       "\n",
       "Residual standard error: 2.582 on 20 degrees of freedom\n",
       "Multiple R-squared:  0.8816,\tAdjusted R-squared:  0.8165 \n",
       "F-statistic: 13.54 on 11 and 20 DF,  p-value: 5.722e-07\n"
      ]
     },
     "metadata": {},
     "output_type": "display_data"
    }
   ],
   "source": [
    "carslm10<-lm(mpg~., data=cars) #fitting linear regression model\n",
    "#RSS\n",
    "v<-carslm10$residuals\n",
    "sum(v^2)\n",
    "summary(carslm10)"
   ]
  },
  {
   "cell_type": "code",
   "execution_count": 36,
   "metadata": {},
   "outputs": [
    {
     "data": {
      "text/html": [
       "96.809449169875"
      ],
      "text/latex": [
       "96.809449169875"
      ],
      "text/markdown": [
       "96.809449169875"
      ],
      "text/plain": [
       "[1] 96.80945"
      ]
     },
     "metadata": {},
     "output_type": "display_data"
    },
    {
     "data": {
      "text/plain": [
       "\n",
       "Call:\n",
       "lm(formula = mpg ~ . + wt * hp + I(hp^2), data = cars)\n",
       "\n",
       "Residuals:\n",
       "    Min      1Q  Median      3Q     Max \n",
       "-2.6803 -1.5030  0.0263  1.1591  3.9341 \n",
       "\n",
       "Coefficients:\n",
       "              Estimate Std. Error t value Pr(>|t|)   \n",
       "(Intercept)  3.489e+01  1.683e+01   2.073  0.05282 . \n",
       "cyl6         2.063e+00  2.486e+00   0.830  0.41742   \n",
       "cyl8         4.031e+00  3.996e+00   1.009  0.32643   \n",
       "disp        -3.386e-03  1.706e-02  -0.198  0.84489   \n",
       "hp          -1.588e-01  5.883e-02  -2.699  0.01468 * \n",
       "drat        -8.475e-01  1.543e+00  -0.549  0.58953   \n",
       "wt          -9.067e+00  2.942e+00  -3.082  0.00643 **\n",
       "qsec         6.365e-01  6.823e-01   0.933  0.36322   \n",
       "vs          -7.318e-02  2.217e+00  -0.033  0.97404   \n",
       "am          -8.642e-01  2.250e+00  -0.384  0.70539   \n",
       "gear         2.903e+00  1.548e+00   1.876  0.07695 . \n",
       "carb        -6.120e-01  9.792e-01  -0.625  0.53981   \n",
       "I(hp^2)      5.853e-05  1.244e-04   0.471  0.64355   \n",
       "hp:wt        3.457e-02  1.408e-02   2.456  0.02446 * \n",
       "---\n",
       "Signif. codes:  0 '***' 0.001 '**' 0.01 '*' 0.05 '.' 0.1 ' ' 1\n",
       "\n",
       "Residual standard error: 2.319 on 18 degrees of freedom\n",
       "Multiple R-squared:  0.914,\tAdjusted R-squared:  0.8519 \n",
       "F-statistic: 14.72 on 13 and 18 DF,  p-value: 5.286e-07\n"
      ]
     },
     "metadata": {},
     "output_type": "display_data"
    }
   ],
   "source": [
    "carslm11<-lm(mpg~.+wt*hp+I(hp^2), data=cars) #fitting linear regression model\n",
    "#RSS\n",
    "v<-carslm11$residuals\n",
    "sum(v^2)\n",
    "summary(carslm11)    "
   ]
  },
  {
   "cell_type": "markdown",
   "metadata": {},
   "source": [
    "#### Out of 11 models above, Model 6 is good as R2 adjusted is maximum and RSE is minimum"
   ]
  },
  {
   "cell_type": "markdown",
   "metadata": {},
   "source": [
    "## ANOVA Check for models"
   ]
  },
  {
   "cell_type": "code",
   "execution_count": 37,
   "metadata": {},
   "outputs": [
    {
     "data": {
      "text/html": [
       "<table>\n",
       "<thead><tr><th scope=col>Res.Df</th><th scope=col>RSS</th><th scope=col>Df</th><th scope=col>Sum of Sq</th><th scope=col>F</th><th scope=col>Pr(&gt;F)</th></tr></thead>\n",
       "<tbody>\n",
       "\t<tr><td>30          </td><td>278.32194   </td><td>NA          </td><td>       NA   </td><td>        NA  </td><td>          NA</td></tr>\n",
       "\t<tr><td>29          </td><td>195.04775   </td><td> 1          </td><td>83.274183   </td><td>15.4833573  </td><td>0.0009709211</td></tr>\n",
       "\t<tr><td>27          </td><td>160.77763   </td><td> 2          </td><td>34.270121   </td><td> 3.1859606  </td><td>0.0653799632</td></tr>\n",
       "\t<tr><td>26          </td><td>126.15508   </td><td> 1          </td><td>34.622552   </td><td> 6.4374495  </td><td>0.0206439815</td></tr>\n",
       "\t<tr><td>25          </td><td>121.56265   </td><td> 1          </td><td> 4.592433   </td><td> 0.8538814  </td><td>0.3676791891</td></tr>\n",
       "\t<tr><td>18          </td><td> 96.80945   </td><td> 7          </td><td>24.753200   </td><td> 0.6574884  </td><td>0.7043050298</td></tr>\n",
       "</tbody>\n",
       "</table>\n"
      ],
      "text/latex": [
       "\\begin{tabular}{r|llllll}\n",
       " Res.Df & RSS & Df & Sum of Sq & F & Pr(>F)\\\\\n",
       "\\hline\n",
       "\t 30           & 278.32194    & NA           &        NA    &         NA   &           NA\\\\\n",
       "\t 29           & 195.04775    &  1           & 83.274183    & 15.4833573   & 0.0009709211\\\\\n",
       "\t 27           & 160.77763    &  2           & 34.270121    &  3.1859606   & 0.0653799632\\\\\n",
       "\t 26           & 126.15508    &  1           & 34.622552    &  6.4374495   & 0.0206439815\\\\\n",
       "\t 25           & 121.56265    &  1           &  4.592433    &  0.8538814   & 0.3676791891\\\\\n",
       "\t 18           &  96.80945    &  7           & 24.753200    &  0.6574884   & 0.7043050298\\\\\n",
       "\\end{tabular}\n"
      ],
      "text/markdown": [
       "\n",
       "Res.Df | RSS | Df | Sum of Sq | F | Pr(>F) | \n",
       "|---|---|---|---|---|---|\n",
       "| 30           | 278.32194    | NA           |        NA    |         NA   |           NA | \n",
       "| 29           | 195.04775    |  1           | 83.274183    | 15.4833573   | 0.0009709211 | \n",
       "| 27           | 160.77763    |  2           | 34.270121    |  3.1859606   | 0.0653799632 | \n",
       "| 26           | 126.15508    |  1           | 34.622552    |  6.4374495   | 0.0206439815 | \n",
       "| 25           | 121.56265    |  1           |  4.592433    |  0.8538814   | 0.3676791891 | \n",
       "| 18           |  96.80945    |  7           | 24.753200    |  0.6574884   | 0.7043050298 | \n",
       "\n",
       "\n"
      ],
      "text/plain": [
       "  Res.Df RSS       Df Sum of Sq F          Pr(>F)      \n",
       "1 30     278.32194 NA        NA         NA           NA\n",
       "2 29     195.04775  1 83.274183 15.4833573 0.0009709211\n",
       "3 27     160.77763  2 34.270121  3.1859606 0.0653799632\n",
       "4 26     126.15508  1 34.622552  6.4374495 0.0206439815\n",
       "5 25     121.56265  1  4.592433  0.8538814 0.3676791891\n",
       "6 18      96.80945  7 24.753200  0.6574884 0.7043050298"
      ]
     },
     "metadata": {},
     "output_type": "display_data"
    }
   ],
   "source": [
    "anova(carslm1,carslm2,carslm4,carslm5,carslm9,carslm11)\n",
    "\n",
    "# Here models must be in progressive in terms of feature selection as compaed to previous model\n",
    "\n",
    "# lm(formula = mpg ~ wt, data = cars)\n",
    "# lm(formula = mpg ~ wt + hp, data = cars)\n",
    "# lm(formula = mpg ~ wt + hp + cyl, data = cars)\n",
    "# lm(formula = mpg ~ wt + hp + cyl + wt * hp, data = cars)\n",
    "# lm(formula = mpg ~ wt + hp + cyl + wt * hp + I(hp^2), data = cars)\n",
    "# lm(formula = mpg ~ . + wt * hp + I(hp^2), data = cars) "
   ]
  },
  {
   "cell_type": "markdown",
   "metadata": {},
   "source": [
    "## Predicting mpg using models"
   ]
  },
  {
   "cell_type": "code",
   "execution_count": 39,
   "metadata": {},
   "outputs": [
    {
     "data": {
      "text/html": [
       "<dl class=dl-horizontal>\n",
       "\t<dt>1</dt>\n",
       "\t\t<dd>23.2760327324661</dd>\n",
       "\t<dt>2</dt>\n",
       "\t\t<dd>16.4532049253098</dd>\n",
       "\t<dt>3</dt>\n",
       "\t\t<dd>9.63037711815339</dd>\n",
       "\t<dt>4</dt>\n",
       "\t\t<dd>2.80754931099703</dd>\n",
       "</dl>\n"
      ],
      "text/latex": [
       "\\begin{description*}\n",
       "\\item[1] 23.2760327324661\n",
       "\\item[2] 16.4532049253098\n",
       "\\item[3] 9.63037711815339\n",
       "\\item[4] 2.80754931099703\n",
       "\\end{description*}\n"
      ],
      "text/markdown": [
       "1\n",
       ":   23.27603273246612\n",
       ":   16.45320492530983\n",
       ":   9.630377118153394\n",
       ":   2.80754931099703\n",
       "\n"
      ],
      "text/plain": [
       "        1         2         3         4 \n",
       "23.276033 16.453205  9.630377  2.807549 "
      ]
     },
     "metadata": {},
     "output_type": "display_data"
    }
   ],
   "source": [
    "# To predict mpg\n",
    "predict(carslm6,data.frame(wt=c(2.5,3.5,4.5,5.5),hp=c(100,200,300,400)))"
   ]
  },
  {
   "cell_type": "code",
   "execution_count": 40,
   "metadata": {},
   "outputs": [],
   "source": [
    "summary$"
   ]
  },
  {
   "cell_type": "code",
   "execution_count": null,
   "metadata": {},
   "outputs": [],
   "source": []
  }
 ],
 "metadata": {
  "kernelspec": {
   "display_name": "R",
   "language": "R",
   "name": "ir"
  },
  "language_info": {
   "codemirror_mode": "r",
   "file_extension": ".r",
   "mimetype": "text/x-r-source",
   "name": "R",
   "pygments_lexer": "r",
   "version": "3.5.1"
  }
 },
 "nbformat": 4,
 "nbformat_minor": 2
}
