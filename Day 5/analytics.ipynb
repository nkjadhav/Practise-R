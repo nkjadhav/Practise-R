{
 "cells": [
  {
   "cell_type": "code",
   "execution_count": 1,
   "metadata": {},
   "outputs": [],
   "source": [
    "library(ISLR)"
   ]
  },
  {
   "cell_type": "code",
   "execution_count": 2,
   "metadata": {},
   "outputs": [],
   "source": [
    "library(data.table)"
   ]
  },
  {
   "cell_type": "code",
   "execution_count": 3,
   "metadata": {},
   "outputs": [
    {
     "data": {
      "text/html": [
       "<ol class=list-inline>\n",
       "\t<li>'AtBat'</li>\n",
       "\t<li>'Hits'</li>\n",
       "\t<li>'HmRun'</li>\n",
       "\t<li>'Runs'</li>\n",
       "\t<li>'RBI'</li>\n",
       "\t<li>'Walks'</li>\n",
       "\t<li>'Years'</li>\n",
       "\t<li>'CAtBat'</li>\n",
       "\t<li>'CHits'</li>\n",
       "\t<li>'CHmRun'</li>\n",
       "\t<li>'CRuns'</li>\n",
       "\t<li>'CRBI'</li>\n",
       "\t<li>'CWalks'</li>\n",
       "\t<li>'League'</li>\n",
       "\t<li>'Division'</li>\n",
       "\t<li>'PutOuts'</li>\n",
       "\t<li>'Assists'</li>\n",
       "\t<li>'Errors'</li>\n",
       "\t<li>'Salary'</li>\n",
       "\t<li>'NewLeague'</li>\n",
       "</ol>\n"
      ],
      "text/latex": [
       "\\begin{enumerate*}\n",
       "\\item 'AtBat'\n",
       "\\item 'Hits'\n",
       "\\item 'HmRun'\n",
       "\\item 'Runs'\n",
       "\\item 'RBI'\n",
       "\\item 'Walks'\n",
       "\\item 'Years'\n",
       "\\item 'CAtBat'\n",
       "\\item 'CHits'\n",
       "\\item 'CHmRun'\n",
       "\\item 'CRuns'\n",
       "\\item 'CRBI'\n",
       "\\item 'CWalks'\n",
       "\\item 'League'\n",
       "\\item 'Division'\n",
       "\\item 'PutOuts'\n",
       "\\item 'Assists'\n",
       "\\item 'Errors'\n",
       "\\item 'Salary'\n",
       "\\item 'NewLeague'\n",
       "\\end{enumerate*}\n"
      ],
      "text/markdown": [
       "1. 'AtBat'\n",
       "2. 'Hits'\n",
       "3. 'HmRun'\n",
       "4. 'Runs'\n",
       "5. 'RBI'\n",
       "6. 'Walks'\n",
       "7. 'Years'\n",
       "8. 'CAtBat'\n",
       "9. 'CHits'\n",
       "10. 'CHmRun'\n",
       "11. 'CRuns'\n",
       "12. 'CRBI'\n",
       "13. 'CWalks'\n",
       "14. 'League'\n",
       "15. 'Division'\n",
       "16. 'PutOuts'\n",
       "17. 'Assists'\n",
       "18. 'Errors'\n",
       "19. 'Salary'\n",
       "20. 'NewLeague'\n",
       "\n",
       "\n"
      ],
      "text/plain": [
       " [1] \"AtBat\"     \"Hits\"      \"HmRun\"     \"Runs\"      \"RBI\"       \"Walks\"    \n",
       " [7] \"Years\"     \"CAtBat\"    \"CHits\"     \"CHmRun\"    \"CRuns\"     \"CRBI\"     \n",
       "[13] \"CWalks\"    \"League\"    \"Division\"  \"PutOuts\"   \"Assists\"   \"Errors\"   \n",
       "[19] \"Salary\"    \"NewLeague\""
      ]
     },
     "metadata": {},
     "output_type": "display_data"
    },
    {
     "name": "stdout",
     "output_type": "stream",
     "text": [
      "'data.frame':\t322 obs. of  20 variables:\n",
      " $ AtBat    : int  293 315 479 496 321 594 185 298 323 401 ...\n",
      " $ Hits     : int  66 81 130 141 87 169 37 73 81 92 ...\n",
      " $ HmRun    : int  1 7 18 20 10 4 1 0 6 17 ...\n",
      " $ Runs     : int  30 24 66 65 39 74 23 24 26 49 ...\n",
      " $ RBI      : int  29 38 72 78 42 51 8 24 32 66 ...\n",
      " $ Walks    : int  14 39 76 37 30 35 21 7 8 65 ...\n",
      " $ Years    : int  1 14 3 11 2 11 2 3 2 13 ...\n",
      " $ CAtBat   : int  293 3449 1624 5628 396 4408 214 509 341 5206 ...\n",
      " $ CHits    : int  66 835 457 1575 101 1133 42 108 86 1332 ...\n",
      " $ CHmRun   : int  1 69 63 225 12 19 1 0 6 253 ...\n",
      " $ CRuns    : int  30 321 224 828 48 501 30 41 32 784 ...\n",
      " $ CRBI     : int  29 414 266 838 46 336 9 37 34 890 ...\n",
      " $ CWalks   : int  14 375 263 354 33 194 24 12 8 866 ...\n",
      " $ League   : Factor w/ 2 levels \"A\",\"N\": 1 2 1 2 2 1 2 1 2 1 ...\n",
      " $ Division : Factor w/ 2 levels \"E\",\"W\": 1 2 2 1 1 2 1 2 2 1 ...\n",
      " $ PutOuts  : int  446 632 880 200 805 282 76 121 143 0 ...\n",
      " $ Assists  : int  33 43 82 11 40 421 127 283 290 0 ...\n",
      " $ Errors   : int  20 10 14 3 4 25 7 9 19 0 ...\n",
      " $ Salary   : num  NA 475 480 500 91.5 750 70 100 75 1100 ...\n",
      " $ NewLeague: Factor w/ 2 levels \"A\",\"N\": 1 2 1 2 2 1 1 1 2 1 ...\n"
     ]
    },
    {
     "data": {
      "text/html": [
       "<table>\n",
       "<thead><tr><th></th><th scope=col>AtBat</th><th scope=col>Hits</th><th scope=col>HmRun</th><th scope=col>Runs</th><th scope=col>RBI</th><th scope=col>Walks</th><th scope=col>Years</th><th scope=col>CAtBat</th><th scope=col>CHits</th><th scope=col>CHmRun</th><th scope=col>CRuns</th><th scope=col>CRBI</th><th scope=col>CWalks</th><th scope=col>League</th><th scope=col>Division</th><th scope=col>PutOuts</th><th scope=col>Assists</th><th scope=col>Errors</th><th scope=col>Salary</th><th scope=col>NewLeague</th></tr></thead>\n",
       "<tbody>\n",
       "\t<tr><th scope=row>-Andy Allanson</th><td>293  </td><td> 66  </td><td> 1   </td><td>30   </td><td>29   </td><td>14   </td><td> 1   </td><td> 293 </td><td>  66 </td><td>  1  </td><td> 30  </td><td> 29  </td><td> 14  </td><td>A    </td><td>E    </td><td>446  </td><td> 33  </td><td>20   </td><td>   NA</td><td>A    </td></tr>\n",
       "\t<tr><th scope=row>-Alan Ashby</th><td>315  </td><td> 81  </td><td> 7   </td><td>24   </td><td>38   </td><td>39   </td><td>14   </td><td>3449 </td><td> 835 </td><td> 69  </td><td>321  </td><td>414  </td><td>375  </td><td>N    </td><td>W    </td><td>632  </td><td> 43  </td><td>10   </td><td>475.0</td><td>N    </td></tr>\n",
       "\t<tr><th scope=row>-Alvin Davis</th><td>479  </td><td>130  </td><td>18   </td><td>66   </td><td>72   </td><td>76   </td><td> 3   </td><td>1624 </td><td> 457 </td><td> 63  </td><td>224  </td><td>266  </td><td>263  </td><td>A    </td><td>W    </td><td>880  </td><td> 82  </td><td>14   </td><td>480.0</td><td>A    </td></tr>\n",
       "\t<tr><th scope=row>-Andre Dawson</th><td>496  </td><td>141  </td><td>20   </td><td>65   </td><td>78   </td><td>37   </td><td>11   </td><td>5628 </td><td>1575 </td><td>225  </td><td>828  </td><td>838  </td><td>354  </td><td>N    </td><td>E    </td><td>200  </td><td> 11  </td><td> 3   </td><td>500.0</td><td>N    </td></tr>\n",
       "\t<tr><th scope=row>-Andres Galarraga</th><td>321  </td><td> 87  </td><td>10   </td><td>39   </td><td>42   </td><td>30   </td><td> 2   </td><td> 396 </td><td> 101 </td><td> 12  </td><td> 48  </td><td> 46  </td><td> 33  </td><td>N    </td><td>E    </td><td>805  </td><td> 40  </td><td> 4   </td><td> 91.5</td><td>N    </td></tr>\n",
       "\t<tr><th scope=row>-Alfredo Griffin</th><td>594  </td><td>169  </td><td> 4   </td><td>74   </td><td>51   </td><td>35   </td><td>11   </td><td>4408 </td><td>1133 </td><td> 19  </td><td>501  </td><td>336  </td><td>194  </td><td>A    </td><td>W    </td><td>282  </td><td>421  </td><td>25   </td><td>750.0</td><td>A    </td></tr>\n",
       "</tbody>\n",
       "</table>\n"
      ],
      "text/latex": [
       "\\begin{tabular}{r|llllllllllllllllllll}\n",
       "  & AtBat & Hits & HmRun & Runs & RBI & Walks & Years & CAtBat & CHits & CHmRun & CRuns & CRBI & CWalks & League & Division & PutOuts & Assists & Errors & Salary & NewLeague\\\\\n",
       "\\hline\n",
       "\t-Andy Allanson & 293   &  66   &  1    & 30    & 29    & 14    &  1    &  293  &   66  &   1   &  30   &  29   &  14   & A     & E     & 446   &  33   & 20    &    NA & A    \\\\\n",
       "\t-Alan Ashby & 315   &  81   &  7    & 24    & 38    & 39    & 14    & 3449  &  835  &  69   & 321   & 414   & 375   & N     & W     & 632   &  43   & 10    & 475.0 & N    \\\\\n",
       "\t-Alvin Davis & 479   & 130   & 18    & 66    & 72    & 76    &  3    & 1624  &  457  &  63   & 224   & 266   & 263   & A     & W     & 880   &  82   & 14    & 480.0 & A    \\\\\n",
       "\t-Andre Dawson & 496   & 141   & 20    & 65    & 78    & 37    & 11    & 5628  & 1575  & 225   & 828   & 838   & 354   & N     & E     & 200   &  11   &  3    & 500.0 & N    \\\\\n",
       "\t-Andres Galarraga & 321   &  87   & 10    & 39    & 42    & 30    &  2    &  396  &  101  &  12   &  48   &  46   &  33   & N     & E     & 805   &  40   &  4    &  91.5 & N    \\\\\n",
       "\t-Alfredo Griffin & 594   & 169   &  4    & 74    & 51    & 35    & 11    & 4408  & 1133  &  19   & 501   & 336   & 194   & A     & W     & 282   & 421   & 25    & 750.0 & A    \\\\\n",
       "\\end{tabular}\n"
      ],
      "text/markdown": [
       "\n",
       "| <!--/--> | AtBat | Hits | HmRun | Runs | RBI | Walks | Years | CAtBat | CHits | CHmRun | CRuns | CRBI | CWalks | League | Division | PutOuts | Assists | Errors | Salary | NewLeague | \n",
       "|---|---|---|---|---|---|\n",
       "| -Andy Allanson | 293   |  66   |  1    | 30    | 29    | 14    |  1    |  293  |   66  |   1   |  30   |  29   |  14   | A     | E     | 446   |  33   | 20    |    NA | A     | \n",
       "| -Alan Ashby | 315   |  81   |  7    | 24    | 38    | 39    | 14    | 3449  |  835  |  69   | 321   | 414   | 375   | N     | W     | 632   |  43   | 10    | 475.0 | N     | \n",
       "| -Alvin Davis | 479   | 130   | 18    | 66    | 72    | 76    |  3    | 1624  |  457  |  63   | 224   | 266   | 263   | A     | W     | 880   |  82   | 14    | 480.0 | A     | \n",
       "| -Andre Dawson | 496   | 141   | 20    | 65    | 78    | 37    | 11    | 5628  | 1575  | 225   | 828   | 838   | 354   | N     | E     | 200   |  11   |  3    | 500.0 | N     | \n",
       "| -Andres Galarraga | 321   |  87   | 10    | 39    | 42    | 30    |  2    |  396  |  101  |  12   |  48   |  46   |  33   | N     | E     | 805   |  40   |  4    |  91.5 | N     | \n",
       "| -Alfredo Griffin | 594   | 169   |  4    | 74    | 51    | 35    | 11    | 4408  | 1133  |  19   | 501   | 336   | 194   | A     | W     | 282   | 421   | 25    | 750.0 | A     | \n",
       "\n",
       "\n"
      ],
      "text/plain": [
       "                  AtBat Hits HmRun Runs RBI Walks Years CAtBat CHits CHmRun\n",
       "-Andy Allanson    293    66   1    30   29  14     1     293     66    1   \n",
       "-Alan Ashby       315    81   7    24   38  39    14    3449    835   69   \n",
       "-Alvin Davis      479   130  18    66   72  76     3    1624    457   63   \n",
       "-Andre Dawson     496   141  20    65   78  37    11    5628   1575  225   \n",
       "-Andres Galarraga 321    87  10    39   42  30     2     396    101   12   \n",
       "-Alfredo Griffin  594   169   4    74   51  35    11    4408   1133   19   \n",
       "                  CRuns CRBI CWalks League Division PutOuts Assists Errors\n",
       "-Andy Allanson     30    29   14    A      E        446      33     20    \n",
       "-Alan Ashby       321   414  375    N      W        632      43     10    \n",
       "-Alvin Davis      224   266  263    A      W        880      82     14    \n",
       "-Andre Dawson     828   838  354    N      E        200      11      3    \n",
       "-Andres Galarraga  48    46   33    N      E        805      40      4    \n",
       "-Alfredo Griffin  501   336  194    A      W        282     421     25    \n",
       "                  Salary NewLeague\n",
       "-Andy Allanson       NA  A        \n",
       "-Alan Ashby       475.0  N        \n",
       "-Alvin Davis      480.0  A        \n",
       "-Andre Dawson     500.0  N        \n",
       "-Andres Galarraga  91.5  N        \n",
       "-Alfredo Griffin  750.0  A        "
      ]
     },
     "metadata": {},
     "output_type": "display_data"
    }
   ],
   "source": [
    "data(Hitters)\n",
    "names(Hitters)\n",
    "str(Hitters) # character will be converted into factor\n",
    "head(Hitters)\n",
    "#?Hitters"
   ]
  },
  {
   "cell_type": "code",
   "execution_count": 4,
   "metadata": {},
   "outputs": [],
   "source": [
    "Hitters1=data.frame(Hitters) # convert to data frame"
   ]
  },
  {
   "cell_type": "code",
   "execution_count": 5,
   "metadata": {},
   "outputs": [
    {
     "data": {
      "text/html": [
       "&lt;NA&gt;"
      ],
      "text/latex": [
       "<NA>"
      ],
      "text/markdown": [
       "&lt;NA&gt;"
      ],
      "text/plain": [
       "[1] NA"
      ]
     },
     "metadata": {},
     "output_type": "display_data"
    }
   ],
   "source": [
    "mean(Hitters1$Salary) # Salary has NA"
   ]
  },
  {
   "cell_type": "code",
   "execution_count": 6,
   "metadata": {},
   "outputs": [
    {
     "data": {
      "text/html": [
       "&lt;NA&gt;"
      ],
      "text/latex": [
       "<NA>"
      ],
      "text/markdown": [
       "&lt;NA&gt;"
      ],
      "text/plain": [
       "[1] NA"
      ]
     },
     "metadata": {},
     "output_type": "display_data"
    }
   ],
   "source": [
    "sd(Hitters1$Salary) # Salary has NA"
   ]
  },
  {
   "cell_type": "code",
   "execution_count": 7,
   "metadata": {},
   "outputs": [
    {
     "data": {
      "text/plain": [
       "\n",
       "FALSE  TRUE \n",
       "  263    59 "
      ]
     },
     "metadata": {},
     "output_type": "display_data"
    }
   ],
   "source": [
    "table(is.na(Hitters1$Salary)) # check number of NA's"
   ]
  },
  {
   "cell_type": "code",
   "execution_count": 8,
   "metadata": {},
   "outputs": [],
   "source": [
    "# this step is importatant to consider\n",
    "Hitters1=na.omit(Hitters1) # removes rows with NA"
   ]
  },
  {
   "cell_type": "code",
   "execution_count": 9,
   "metadata": {},
   "outputs": [
    {
     "data": {
      "text/plain": [
       "\n",
       "FALSE \n",
       "  263 "
      ]
     },
     "metadata": {},
     "output_type": "display_data"
    }
   ],
   "source": [
    "table(is.na(Hitters1$Salary)) "
   ]
  },
  {
   "cell_type": "code",
   "execution_count": 10,
   "metadata": {},
   "outputs": [
    {
     "data": {
      "text/html": [
       "<table>\n",
       "<thead><tr><th></th><th scope=col>AtBat</th><th scope=col>Hits</th><th scope=col>HmRun</th><th scope=col>Runs</th><th scope=col>RBI</th><th scope=col>Walks</th><th scope=col>Years</th><th scope=col>CAtBat</th><th scope=col>CHits</th><th scope=col>CHmRun</th><th scope=col>...</th><th scope=col>CRBI</th><th scope=col>CWalks</th><th scope=col>League</th><th scope=col>Division</th><th scope=col>PutOuts</th><th scope=col>Assists</th><th scope=col>Errors</th><th scope=col>Salary</th><th scope=col>NewLeague</th><th scope=col>Salary1</th></tr></thead>\n",
       "<tbody>\n",
       "\t<tr><th scope=row>-Alan Ashby</th><td>315  </td><td> 81  </td><td> 7   </td><td>24   </td><td>38   </td><td>39   </td><td>14   </td><td>3449 </td><td> 835 </td><td> 69  </td><td>...  </td><td>414  </td><td>375  </td><td>N    </td><td>W    </td><td>632  </td><td> 43  </td><td>10   </td><td>475.0</td><td>N    </td><td>L    </td></tr>\n",
       "\t<tr><th scope=row>-Alvin Davis</th><td>479  </td><td>130  </td><td>18   </td><td>66   </td><td>72   </td><td>76   </td><td> 3   </td><td>1624 </td><td> 457 </td><td> 63  </td><td>...  </td><td>266  </td><td>263  </td><td>A    </td><td>W    </td><td>880  </td><td> 82  </td><td>14   </td><td>480.0</td><td>A    </td><td>L    </td></tr>\n",
       "\t<tr><th scope=row>-Andre Dawson</th><td>496  </td><td>141  </td><td>20   </td><td>65   </td><td>78   </td><td>37   </td><td>11   </td><td>5628 </td><td>1575 </td><td>225  </td><td>...  </td><td>838  </td><td>354  </td><td>N    </td><td>E    </td><td>200  </td><td> 11  </td><td> 3   </td><td>500.0</td><td>N    </td><td>L    </td></tr>\n",
       "\t<tr><th scope=row>-Andres Galarraga</th><td>321  </td><td> 87  </td><td>10   </td><td>39   </td><td>42   </td><td>30   </td><td> 2   </td><td> 396 </td><td> 101 </td><td> 12  </td><td>...  </td><td> 46  </td><td> 33  </td><td>N    </td><td>E    </td><td>805  </td><td> 40  </td><td> 4   </td><td> 91.5</td><td>N    </td><td>L    </td></tr>\n",
       "\t<tr><th scope=row>-Alfredo Griffin</th><td>594  </td><td>169  </td><td> 4   </td><td>74   </td><td>51   </td><td>35   </td><td>11   </td><td>4408 </td><td>1133 </td><td> 19  </td><td>...  </td><td>336  </td><td>194  </td><td>A    </td><td>W    </td><td>282  </td><td>421  </td><td>25   </td><td>750.0</td><td>A    </td><td>L    </td></tr>\n",
       "\t<tr><th scope=row>-Al Newman</th><td>185  </td><td> 37  </td><td> 1   </td><td>23   </td><td> 8   </td><td>21   </td><td> 2   </td><td> 214 </td><td>  42 </td><td>  1  </td><td>...  </td><td>  9  </td><td> 24  </td><td>N    </td><td>E    </td><td> 76  </td><td>127  </td><td> 7   </td><td> 70.0</td><td>A    </td><td>L    </td></tr>\n",
       "</tbody>\n",
       "</table>\n"
      ],
      "text/latex": [
       "\\begin{tabular}{r|lllllllllllllllllllll}\n",
       "  & AtBat & Hits & HmRun & Runs & RBI & Walks & Years & CAtBat & CHits & CHmRun & ... & CRBI & CWalks & League & Division & PutOuts & Assists & Errors & Salary & NewLeague & Salary1\\\\\n",
       "\\hline\n",
       "\t-Alan Ashby & 315   &  81   &  7    & 24    & 38    & 39    & 14    & 3449  &  835  &  69   & ...   & 414   & 375   & N     & W     & 632   &  43   & 10    & 475.0 & N     & L    \\\\\n",
       "\t-Alvin Davis & 479   & 130   & 18    & 66    & 72    & 76    &  3    & 1624  &  457  &  63   & ...   & 266   & 263   & A     & W     & 880   &  82   & 14    & 480.0 & A     & L    \\\\\n",
       "\t-Andre Dawson & 496   & 141   & 20    & 65    & 78    & 37    & 11    & 5628  & 1575  & 225   & ...   & 838   & 354   & N     & E     & 200   &  11   &  3    & 500.0 & N     & L    \\\\\n",
       "\t-Andres Galarraga & 321   &  87   & 10    & 39    & 42    & 30    &  2    &  396  &  101  &  12   & ...   &  46   &  33   & N     & E     & 805   &  40   &  4    &  91.5 & N     & L    \\\\\n",
       "\t-Alfredo Griffin & 594   & 169   &  4    & 74    & 51    & 35    & 11    & 4408  & 1133  &  19   & ...   & 336   & 194   & A     & W     & 282   & 421   & 25    & 750.0 & A     & L    \\\\\n",
       "\t-Al Newman & 185   &  37   &  1    & 23    &  8    & 21    &  2    &  214  &   42  &   1   & ...   &   9   &  24   & N     & E     &  76   & 127   &  7    &  70.0 & A     & L    \\\\\n",
       "\\end{tabular}\n"
      ],
      "text/markdown": [
       "\n",
       "| <!--/--> | AtBat | Hits | HmRun | Runs | RBI | Walks | Years | CAtBat | CHits | CHmRun | ... | CRBI | CWalks | League | Division | PutOuts | Assists | Errors | Salary | NewLeague | Salary1 | \n",
       "|---|---|---|---|---|---|\n",
       "| -Alan Ashby | 315   |  81   |  7    | 24    | 38    | 39    | 14    | 3449  |  835  |  69   | ...   | 414   | 375   | N     | W     | 632   |  43   | 10    | 475.0 | N     | L     | \n",
       "| -Alvin Davis | 479   | 130   | 18    | 66    | 72    | 76    |  3    | 1624  |  457  |  63   | ...   | 266   | 263   | A     | W     | 880   |  82   | 14    | 480.0 | A     | L     | \n",
       "| -Andre Dawson | 496   | 141   | 20    | 65    | 78    | 37    | 11    | 5628  | 1575  | 225   | ...   | 838   | 354   | N     | E     | 200   |  11   |  3    | 500.0 | N     | L     | \n",
       "| -Andres Galarraga | 321   |  87   | 10    | 39    | 42    | 30    |  2    |  396  |  101  |  12   | ...   |  46   |  33   | N     | E     | 805   |  40   |  4    |  91.5 | N     | L     | \n",
       "| -Alfredo Griffin | 594   | 169   |  4    | 74    | 51    | 35    | 11    | 4408  | 1133  |  19   | ...   | 336   | 194   | A     | W     | 282   | 421   | 25    | 750.0 | A     | L     | \n",
       "| -Al Newman | 185   |  37   |  1    | 23    |  8    | 21    |  2    |  214  |   42  |   1   | ...   |   9   |  24   | N     | E     |  76   | 127   |  7    |  70.0 | A     | L     | \n",
       "\n",
       "\n"
      ],
      "text/plain": [
       "                  AtBat Hits HmRun Runs RBI Walks Years CAtBat CHits CHmRun ...\n",
       "-Alan Ashby       315    81   7    24   38  39    14    3449    835   69    ...\n",
       "-Alvin Davis      479   130  18    66   72  76     3    1624    457   63    ...\n",
       "-Andre Dawson     496   141  20    65   78  37    11    5628   1575  225    ...\n",
       "-Andres Galarraga 321    87  10    39   42  30     2     396    101   12    ...\n",
       "-Alfredo Griffin  594   169   4    74   51  35    11    4408   1133   19    ...\n",
       "-Al Newman        185    37   1    23    8  21     2     214     42    1    ...\n",
       "                  CRBI CWalks League Division PutOuts Assists Errors Salary\n",
       "-Alan Ashby       414  375    N      W        632      43     10     475.0 \n",
       "-Alvin Davis      266  263    A      W        880      82     14     480.0 \n",
       "-Andre Dawson     838  354    N      E        200      11      3     500.0 \n",
       "-Andres Galarraga  46   33    N      E        805      40      4      91.5 \n",
       "-Alfredo Griffin  336  194    A      W        282     421     25     750.0 \n",
       "-Al Newman          9   24    N      E         76     127      7      70.0 \n",
       "                  NewLeague Salary1\n",
       "-Alan Ashby       N         L      \n",
       "-Alvin Davis      A         L      \n",
       "-Andre Dawson     N         L      \n",
       "-Andres Galarraga N         L      \n",
       "-Alfredo Griffin  A         L      \n",
       "-Al Newman        A         L      "
      ]
     },
     "metadata": {},
     "output_type": "display_data"
    },
    {
     "data": {
      "text/html": [
       "263"
      ],
      "text/latex": [
       "263"
      ],
      "text/markdown": [
       "263"
      ],
      "text/plain": [
       "[1] 263"
      ]
     },
     "metadata": {},
     "output_type": "display_data"
    }
   ],
   "source": [
    "# add one more categorical variable salary1 with value (\"L\",\"M\",\"H\")\n",
    "# Do not run this cell multiple times otherwise multiple Salary1 will be created\n",
    "Salary1 <- cut (Hitters1$Salary, breaks = 3, labels = c(\"L\",\"M\",\"H\"))\n",
    "Hitters1<-cbind(Hitters1,Salary1)\n",
    "head(Hitters1)\n",
    "\n",
    "n <- length(Hitters1$Salary1)\n",
    "n"
   ]
  },
  {
   "cell_type": "markdown",
   "metadata": {},
   "source": [
    "## Universal Analysis"
   ]
  },
  {
   "cell_type": "markdown",
   "metadata": {},
   "source": [
    "#### Qualitative (Catagorical) Data - Neumerical Analysis"
   ]
  },
  {
   "cell_type": "code",
   "execution_count": 11,
   "metadata": {},
   "outputs": [
    {
     "data": {
      "text/plain": [
       "\n",
       "  L   M   H \n",
       "216  37  10 "
      ]
     },
     "metadata": {},
     "output_type": "display_data"
    }
   ],
   "source": [
    "#count\n",
    "table(Hitters1$Salary1)"
   ]
  },
  {
   "cell_type": "code",
   "execution_count": 12,
   "metadata": {},
   "outputs": [
    {
     "data": {
      "text/plain": [
       "\n",
       "         L          M          H \n",
       "0.82129278 0.14068441 0.03802281 "
      ]
     },
     "metadata": {},
     "output_type": "display_data"
    }
   ],
   "source": [
    "#Proporation\n",
    "prop.table(table(Hitters1$Salary1))"
   ]
  },
  {
   "cell_type": "code",
   "execution_count": 13,
   "metadata": {},
   "outputs": [
    {
     "data": {
      "text/plain": [
       "\n",
       "        L         M         H \n",
       "82.129278 14.068441  3.802281 "
      ]
     },
     "metadata": {},
     "output_type": "display_data"
    }
   ],
   "source": [
    "#Percentage\n",
    "prop.table(table(Hitters1$Salary1))*100"
   ]
  },
  {
   "cell_type": "code",
   "execution_count": 14,
   "metadata": {},
   "outputs": [
    {
     "data": {
      "text/html": [
       "<table>\n",
       "<tbody>\n",
       "\t<tr><th scope=row>L</th><td>216</td></tr>\n",
       "\t<tr><th scope=row>M</th><td> 37</td></tr>\n",
       "\t<tr><th scope=row>H</th><td> 10</td></tr>\n",
       "</tbody>\n",
       "</table>\n"
      ],
      "text/latex": [
       "\\begin{tabular}{r|l}\n",
       "\tL & 216\\\\\n",
       "\tM &  37\\\\\n",
       "\tH &  10\\\\\n",
       "\\end{tabular}\n"
      ],
      "text/markdown": [
       "\n",
       "| L | 216 | \n",
       "| M |  37 | \n",
       "| H |  10 | \n",
       "\n",
       "\n"
      ],
      "text/plain": [
       "  [,1]\n",
       "L 216 \n",
       "M  37 \n",
       "H  10 "
      ]
     },
     "metadata": {},
     "output_type": "display_data"
    }
   ],
   "source": [
    "bars <- as.matrix(table(Hitters1$Salary1))\n",
    "bars"
   ]
  },
  {
   "cell_type": "markdown",
   "metadata": {},
   "source": [
    "#### Pie Chart"
   ]
  },
  {
   "cell_type": "code",
   "execution_count": 15,
   "metadata": {},
   "outputs": [
    {
     "data": {
      "image/png": "[encoded data removed]",
      "text/plain": [
       "Plot with title \"Salary Grade\""
      ]
     },
     "metadata": {},
     "output_type": "display_data"
    }
   ],
   "source": [
    "colnames(bars)<-\"Salary\"\n",
    "rownames(bars)<-c(\"Low\",\"Medium\",\"High\")\n",
    "names(bars)<-c(\"Low\",\"Medium\",\"High\")\n",
    "pie(bars,col=c(4,5,6),main=\"Salary Grade\")"
   ]
  },
  {
   "cell_type": "markdown",
   "metadata": {},
   "source": [
    "#### Bar Chart"
   ]
  },
  {
   "cell_type": "code",
   "execution_count": 16,
   "metadata": {},
   "outputs": [
    {
     "data": {
      "image/png": "[encoded data removed]",
      "text/plain": [
       "plot without title"
      ]
     },
     "metadata": {},
     "output_type": "display_data"
    }
   ],
   "source": [
    "barplot(bars)"
   ]
  },
  {
   "cell_type": "code",
   "execution_count": 17,
   "metadata": {},
   "outputs": [
    {
     "data": {
      "image/png": "[encoded data removed]",
      "text/plain": [
       "plot without title"
      ]
     },
     "metadata": {},
     "output_type": "display_data"
    }
   ],
   "source": [
    "barplot(bars, beside = TRUE)"
   ]
  },
  {
   "cell_type": "code",
   "execution_count": 18,
   "metadata": {},
   "outputs": [
    {
     "data": {
      "image/png": "[encoded data removed]",
      "text/plain": [
       "plot without title"
      ]
     },
     "metadata": {},
     "output_type": "display_data"
    }
   ],
   "source": [
    "par(mfrow=c(1,2)) # Graphs will be put in (row,col) values here one row two columns\n",
    "barplot(bars, beside = TRUE, space = 0.5, col=c(3,4,5),names.arg = c(\"Low\",\"Medium\",\"High\"))\n",
    "barplot(bars)"
   ]
  },
  {
   "cell_type": "markdown",
   "metadata": {},
   "source": [
    "## Hypothesis Testing"
   ]
  },
  {
   "cell_type": "code",
   "execution_count": 19,
   "metadata": {},
   "outputs": [
    {
     "data": {
      "text/html": [
       "<strong>X-squared:</strong> 1.9375"
      ],
      "text/latex": [
       "\\textbf{X-squared:} 1.9375"
      ],
      "text/markdown": [
       "**X-squared:** 1.9375"
      ],
      "text/plain": [
       "X-squared \n",
       "   1.9375 "
      ]
     },
     "metadata": {},
     "output_type": "display_data"
    },
    {
     "data": {
      "text/html": [
       "0.0263421266891415"
      ],
      "text/latex": [
       "0.0263421266891415"
      ],
      "text/markdown": [
       "0.0263421266891415"
      ],
      "text/plain": [
       "[1] 0.02634213"
      ]
     },
     "metadata": {},
     "output_type": "display_data"
    }
   ],
   "source": [
    "# 400 parts, 64 found defective, p=0.2\n",
    "p = prop.test(x=64,n=400,p=0.2,alternative = \"less\", conf.level = 0.95)\n",
    "sqrt(p$statistic) #z value of distribution\n",
    "p$p.value #"
   ]
  },
  {
   "cell_type": "code",
   "execution_count": 20,
   "metadata": {},
   "outputs": [
    {
     "data": {
      "text/html": [
       "67.5"
      ],
      "text/latex": [
       "67.5"
      ],
      "text/markdown": [
       "67.5"
      ],
      "text/plain": [
       "[1] 67.5"
      ]
     },
     "metadata": {},
     "output_type": "display_data"
    },
    {
     "data": {
      "text/html": [
       "2460"
      ],
      "text/latex": [
       "2460"
      ],
      "text/markdown": [
       "2460"
      ],
      "text/plain": [
       "[1] 2460"
      ]
     },
     "metadata": {},
     "output_type": "display_data"
    },
    {
     "data": {
      "text/html": [
       "535.925882129278"
      ],
      "text/latex": [
       "535.925882129278"
      ],
      "text/markdown": [
       "535.925882129278"
      ],
      "text/plain": [
       "[1] 535.9259"
      ]
     },
     "metadata": {},
     "output_type": "display_data"
    },
    {
     "data": {
      "text/html": [
       "425"
      ],
      "text/latex": [
       "425"
      ],
      "text/markdown": [
       "425"
      ],
      "text/plain": [
       "[1] 425"
      ]
     },
     "metadata": {},
     "output_type": "display_data"
    },
    {
     "data": {
      "text/html": [
       "<ol class=list-inline>\n",
       "\t<li>67.5</li>\n",
       "\t<li>2460</li>\n",
       "</ol>\n"
      ],
      "text/latex": [
       "\\begin{enumerate*}\n",
       "\\item 67.5\n",
       "\\item 2460\n",
       "\\end{enumerate*}\n"
      ],
      "text/markdown": [
       "1. 67.5\n",
       "2. 2460\n",
       "\n",
       "\n"
      ],
      "text/plain": [
       "[1]   67.5 2460.0"
      ]
     },
     "metadata": {},
     "output_type": "display_data"
    },
    {
     "data": {
      "text/html": [
       "451.118680702539"
      ],
      "text/latex": [
       "451.118680702539"
      ],
      "text/markdown": [
       "451.118680702539"
      ],
      "text/plain": [
       "[1] 451.1187"
      ]
     },
     "metadata": {},
     "output_type": "display_data"
    }
   ],
   "source": [
    "min(Hitters1$Salary)\n",
    "max(Hitters1$Salary)\n",
    "mean(Hitters1$Salary)\n",
    "median(Hitters1$Salary)\n",
    "range(Hitters1$Salary)\n",
    "sd(Hitters1$Salary)"
   ]
  },
  {
   "cell_type": "code",
   "execution_count": 21,
   "metadata": {},
   "outputs": [
    {
     "data": {
      "text/html": [
       "<ol class=list-inline>\n",
       "\t<li>67.5</li>\n",
       "\t<li>190</li>\n",
       "\t<li>425</li>\n",
       "\t<li>750</li>\n",
       "\t<li>2460</li>\n",
       "</ol>\n"
      ],
      "text/latex": [
       "\\begin{enumerate*}\n",
       "\\item 67.5\n",
       "\\item 190\n",
       "\\item 425\n",
       "\\item 750\n",
       "\\item 2460\n",
       "\\end{enumerate*}\n"
      ],
      "text/markdown": [
       "1. 67.5\n",
       "2. 190\n",
       "3. 425\n",
       "4. 750\n",
       "5. 2460\n",
       "\n",
       "\n"
      ],
      "text/plain": [
       "[1]   67.5  190.0  425.0  750.0 2460.0"
      ]
     },
     "metadata": {},
     "output_type": "display_data"
    }
   ],
   "source": [
    "Salary.5p<-fivenum(Hitters1$Salary)\n",
    "Salary.5p"
   ]
  },
  {
   "cell_type": "code",
   "execution_count": 22,
   "metadata": {},
   "outputs": [
    {
     "data": {
      "text/plain": [
       "   Min. 1st Qu.  Median    Mean 3rd Qu.    Max. \n",
       "   67.5   190.0   425.0   535.9   750.0  2460.0 "
      ]
     },
     "metadata": {},
     "output_type": "display_data"
    }
   ],
   "source": [
    "Salary.summ<-summary(Hitters1$Salary)\n",
    "Salary.summ"
   ]
  },
  {
   "cell_type": "code",
   "execution_count": 23,
   "metadata": {},
   "outputs": [
    {
     "data": {
      "text/html": [
       "<ol class=list-inline>\n",
       "\t<li>'Min.'</li>\n",
       "\t<li>'1st Qu.'</li>\n",
       "\t<li>'Median'</li>\n",
       "\t<li>'Mean'</li>\n",
       "\t<li>'3rd Qu.'</li>\n",
       "\t<li>'Max.'</li>\n",
       "</ol>\n"
      ],
      "text/latex": [
       "\\begin{enumerate*}\n",
       "\\item 'Min.'\n",
       "\\item '1st Qu.'\n",
       "\\item 'Median'\n",
       "\\item 'Mean'\n",
       "\\item '3rd Qu.'\n",
       "\\item 'Max.'\n",
       "\\end{enumerate*}\n"
      ],
      "text/markdown": [
       "1. 'Min.'\n",
       "2. '1st Qu.'\n",
       "3. 'Median'\n",
       "4. 'Mean'\n",
       "5. '3rd Qu.'\n",
       "6. 'Max.'\n",
       "\n",
       "\n"
      ],
      "text/plain": [
       "[1] \"Min.\"    \"1st Qu.\" \"Median\"  \"Mean\"    \"3rd Qu.\" \"Max.\"   "
      ]
     },
     "metadata": {},
     "output_type": "display_data"
    }
   ],
   "source": [
    "names(Salary.summ)"
   ]
  },
  {
   "cell_type": "code",
   "execution_count": 24,
   "metadata": {},
   "outputs": [
    {
     "data": {
      "text/html": [
       "560"
      ],
      "text/latex": [
       "560"
      ],
      "text/markdown": [
       "560"
      ],
      "text/plain": [
       "[1] 560"
      ]
     },
     "metadata": {},
     "output_type": "display_data"
    }
   ],
   "source": [
    "IQR <- Salary.5p[4]-Salary.5p[2]\n",
    "IQR"
   ]
  },
  {
   "cell_type": "markdown",
   "metadata": {},
   "source": [
    "#### Histogram"
   ]
  },
  {
   "cell_type": "code",
   "execution_count": 33,
   "metadata": {},
   "outputs": [
    {
     "data": {
      "image/png": "[encoded data removed]",
      "text/plain": [
       "Plot with title \"Histogram for Salary\""
      ]
     },
     "metadata": {},
     "output_type": "display_data"
    }
   ],
   "source": [
    "par(mfrow=c(2,2)) # Graphs will be put in (row,col) values \n",
    "hist(Hitters1$Salary)\n",
    "hist(Hitters1$Salary, breaks = 5)\n",
    "hist(Hitters1$Salary, breaks = 100)\n",
    "hist(Hitters$Salary,\n",
    "    breaks = c(0,400,800,1200,1600,2000,2400,2800),\n",
    "    main = \"Histogram for Salary\",\n",
    "    ylab = \"Frequency\",\n",
    "    xlab = \"Salary\")"
   ]
  },
  {
   "cell_type": "markdown",
   "metadata": {},
   "source": [
    "#### Density Plot"
   ]
  },
  {
   "cell_type": "code",
   "execution_count": 42,
   "metadata": {},
   "outputs": [
    {
     "data": {
      "image/png": "[encoded data removed]",
      "text/plain": [
       "Plot with title \"density.default(x = log(Hitters1$Salary))\""
      ]
     },
     "metadata": {},
     "output_type": "display_data"
    }
   ],
   "source": [
    "par(mfrow=c(1,2)) # Graphs will be put in (row,col) values\n",
    "plot(density(Hitters1$Salary))\n",
    "plot(density(log(Hitters1$Salary)))"
   ]
  },
  {
   "cell_type": "markdown",
   "metadata": {},
   "source": [
    "#### Boxplot"
   ]
  },
  {
   "cell_type": "code",
   "execution_count": 34,
   "metadata": {},
   "outputs": [
    {
     "data": {
      "text/html": [
       "<ol class=list-inline>\n",
       "\t<li>67.5</li>\n",
       "\t<li>190</li>\n",
       "\t<li>425</li>\n",
       "\t<li>750</li>\n",
       "\t<li>1500</li>\n",
       "</ol>\n"
      ],
      "text/latex": [
       "\\begin{enumerate*}\n",
       "\\item 67.5\n",
       "\\item 190\n",
       "\\item 425\n",
       "\\item 750\n",
       "\\item 1500\n",
       "\\end{enumerate*}\n"
      ],
      "text/markdown": [
       "1. 67.5\n",
       "2. 190\n",
       "3. 425\n",
       "4. 750\n",
       "5. 1500\n",
       "\n",
       "\n"
      ],
      "text/plain": [
       "[1]   67.5  190.0  425.0  750.0 1500.0"
      ]
     },
     "metadata": {},
     "output_type": "display_data"
    },
    {
     "data": {
      "image/png": "[encoded data removed]",
      "text/plain": [
       "plot without title"
      ]
     },
     "metadata": {},
     "output_type": "display_data"
    }
   ],
   "source": [
    "par(mfrow=c(3,2)) # Graphs will be put in (row,col) values \n",
    "boxplot(Hitters1$Salary)\n",
    "boxplot(Hitters1$Salary, ylab = \"Salary\", xlab = \"Employee\")\n",
    "boxplot(Hitters1$Salary, horizontal = TRUE)\n",
    "Salary.stats <- boxplot.stats(Hitters1$Salary)$stats\n",
    "Salary.stats\n",
    "boxplot(Salary.stats)\n",
    "boxplot(fivenum(Hitters1$Salary))"
   ]
  },
  {
   "cell_type": "code",
   "execution_count": 37,
   "metadata": {},
   "outputs": [
    {
     "data": {
      "text/plain": [
       "\n",
       "\tShapiro-Wilk normality test\n",
       "\n",
       "data:  Hitters1$Salary\n",
       "W = 0.85111, p-value = 3.307e-15\n"
      ]
     },
     "metadata": {},
     "output_type": "display_data"
    },
    {
     "data": {
      "text/plain": [
       "\n",
       "\tShapiro-Wilk normality test\n",
       "\n",
       "data:  log(Hitters1$Salary)\n",
       "W = 0.97101, p-value = 3.514e-05\n"
      ]
     },
     "metadata": {},
     "output_type": "display_data"
    }
   ],
   "source": [
    "# Box-Cox Transformation\n",
    "# Johnson transformation\n",
    "# Above two tests are used for transforning distribution to normal distribution\n",
    "\n",
    "#Shapiro-wilk normality test (Normal if p value > 0.05)\n",
    "shapiro.test(Hitters1$Salary)\n",
    "shapiro.test(log(Hitters1$Salary))"
   ]
  },
  {
   "cell_type": "markdown",
   "metadata": {},
   "source": [
    "#### t test"
   ]
  },
  {
   "cell_type": "code",
   "execution_count": 50,
   "metadata": {},
   "outputs": [
    {
     "data": {
      "text/html": [
       "<ol class=list-inline>\n",
       "\t<li>67.5</li>\n",
       "\t<li>190</li>\n",
       "\t<li>425</li>\n",
       "\t<li>750</li>\n",
       "\t<li>2460</li>\n",
       "</ol>\n"
      ],
      "text/latex": [
       "\\begin{enumerate*}\n",
       "\\item 67.5\n",
       "\\item 190\n",
       "\\item 425\n",
       "\\item 750\n",
       "\\item 2460\n",
       "\\end{enumerate*}\n"
      ],
      "text/markdown": [
       "1. 67.5\n",
       "2. 190\n",
       "3. 425\n",
       "4. 750\n",
       "5. 2460\n",
       "\n",
       "\n"
      ],
      "text/plain": [
       "[1]   67.5  190.0  425.0  750.0 2460.0"
      ]
     },
     "metadata": {},
     "output_type": "display_data"
    },
    {
     "data": {
      "text/plain": [
       "\n",
       "\tOne Sample t-test\n",
       "\n",
       "data:  Hitters1$Salary\n",
       "t = 3.9877, df = 262, p-value = 4.33e-05\n",
       "alternative hypothesis: true mean is greater than 425\n",
       "95 percent confidence interval:\n",
       " 490.0084      Inf\n",
       "sample estimates:\n",
       "mean of x \n",
       " 535.9259 \n"
      ]
     },
     "metadata": {},
     "output_type": "display_data"
    }
   ],
   "source": [
    "# t test for population mean (mu)\n",
    "# 1 sample t-test; checking if salary is greater than Median =425\n",
    "fivenum(Hitters1$Salary)\n",
    "t.test(Hitters1$Salary, alternative = \"greater\", mu = 425)"
   ]
  },
  {
   "cell_type": "code",
   "execution_count": 52,
   "metadata": {},
   "outputs": [
    {
     "data": {
      "text/html": [
       "<table>\n",
       "<tbody>\n",
       "\t<tr><td>  67.5000</td><td>  70.0   </td></tr>\n",
       "\t<tr><td> 187.5000</td><td> 190.5   </td></tr>\n",
       "\t<tr><td> 400.0000</td><td> 450.0   </td></tr>\n",
       "\t<tr><td> 775.8335</td><td> 740.0   </td></tr>\n",
       "\t<tr><td>1600.0000</td><td>1450.0   </td></tr>\n",
       "</tbody>\n",
       "</table>\n"
      ],
      "text/latex": [
       "\\begin{tabular}{ll}\n",
       "\t   67.5000 &   70.0   \\\\\n",
       "\t  187.5000 &  190.5   \\\\\n",
       "\t  400.0000 &  450.0   \\\\\n",
       "\t  775.8335 &  740.0   \\\\\n",
       "\t 1600.0000 & 1450.0   \\\\\n",
       "\\end{tabular}\n"
      ],
      "text/markdown": [
       "\n",
       "|   67.5000 |   70.0    | \n",
       "|  187.5000 |  190.5    | \n",
       "|  400.0000 |  450.0    | \n",
       "|  775.8335 |  740.0    | \n",
       "| 1600.0000 | 1450.0    | \n",
       "\n",
       "\n"
      ],
      "text/plain": [
       "     [,1]      [,2]  \n",
       "[1,]   67.5000   70.0\n",
       "[2,]  187.5000  190.5\n",
       "[3,]  400.0000  450.0\n",
       "[4,]  775.8335  740.0\n",
       "[5,] 1600.0000 1450.0"
      ]
     },
     "metadata": {},
     "output_type": "display_data"
    },
    {
     "data": {
      "text/plain": [
       "$A\n",
       "   Min. 1st Qu.  Median    Mean 3rd Qu.    Max. \n",
       "   67.5   187.5   400.0   542.0   775.8  2460.0 \n",
       "\n",
       "$N\n",
       "   Min. 1st Qu.  Median    Mean 3rd Qu.    Max. \n",
       "   70.0   190.8   450.0   529.1   740.0  2127.3 \n"
      ]
     },
     "metadata": {},
     "output_type": "display_data"
    },
    {
     "data": {
      "image/png": "[encoded data removed]",
      "text/plain": [
       "plot without title"
      ]
     },
     "metadata": {},
     "output_type": "display_data"
    }
   ],
   "source": [
    "# 2 independent sample : League vs Salary\n",
    "# Numerical Summaries (Five num summary, summary for each category)\n",
    "a <- boxplot(Hitters1$Salary~Hitters1$League)\n",
    "a$stats\n",
    "tapply(Hitters1$Salary, Hitters1$League,summary)"
   ]
  },
  {
   "cell_type": "code",
   "execution_count": 56,
   "metadata": {},
   "outputs": [
    {
     "data": {
      "image/png": "[encoded data removed]",
      "text/plain": [
       "plot without title"
      ]
     },
     "metadata": {},
     "output_type": "display_data"
    }
   ],
   "source": [
    "# Visualization (Side-by-side boxlot (C-Q))\n",
    "par(mfrow = c(1,2))\n",
    "boxplot(Hitters1$Salary~Hitters1$League)\n",
    "boxplot(Hitters1$Salary~Hitters1$League, horizontal = TRUE)"
   ]
  },
  {
   "cell_type": "code",
   "execution_count": 55,
   "metadata": {},
   "outputs": [
    {
     "data": {
      "text/plain": [
       "\n",
       "\tWelch Two Sample t-test\n",
       "\n",
       "data:  Hitters1$Salary by Hitters1$League\n",
       "t = 0.23157, df = 260.26, p-value = 0.8171\n",
       "alternative hypothesis: true difference in means is not equal to 0\n",
       "95 percent confidence interval:\n",
       " -96.66039 122.42448\n",
       "sample estimates:\n",
       "mean in group A mean in group N \n",
       "       541.9995        529.1175 \n"
      ]
     },
     "metadata": {},
     "output_type": "display_data"
    }
   ],
   "source": [
    "t.test(Hitters1$Salary~Hitters1$League,alternative = \"t\")"
   ]
  },
  {
   "cell_type": "code",
   "execution_count": 57,
   "metadata": {},
   "outputs": [],
   "source": [
    "# weight loss program : before - after (Paired)\n",
    "# a) using two data sets"
   ]
  },
  {
   "cell_type": "code",
   "execution_count": 59,
   "metadata": {},
   "outputs": [],
   "source": [
    "wt.before <- c(65.5,78.3,84.6,67.8,72.9,79.8,56.4,88.3,101.6,88,77.4,82.5,93.3)\n",
    "wt.after <- c(67.1,73.6,82.9,71,73.1,73.2,59.9,81.8,91.4,82.5,76.1,81.4,88.8)"
   ]
  },
  {
   "cell_type": "code",
   "execution_count": 60,
   "metadata": {},
   "outputs": [
    {
     "data": {
      "image/png": "[encoded data removed]",
      "text/plain": [
       "Plot with title \"Histogram of wt.after\""
      ]
     },
     "metadata": {},
     "output_type": "display_data"
    }
   ],
   "source": [
    "par(mfrow = c(1,2))\n",
    "hist(wt.before,4)\n",
    "hist(wt.after,4)"
   ]
  },
  {
   "cell_type": "code",
   "execution_count": 61,
   "metadata": {},
   "outputs": [
    {
     "data": {
      "text/plain": [
       "\n",
       "\tPaired t-test\n",
       "\n",
       "data:  wt.after and wt.before\n",
       "t = -2.2466, df = 12, p-value = 0.02213\n",
       "alternative hypothesis: true difference in means is less than 0\n",
       "95 percent confidence interval:\n",
       "       -Inf -0.5341557\n",
       "sample estimates:\n",
       "mean of the differences \n",
       "              -2.584615 \n"
      ]
     },
     "metadata": {},
     "output_type": "display_data"
    }
   ],
   "source": [
    "t.test(wt.after,wt.before, alternative = \"l\", paired = TRUE) # by default paired is false"
   ]
  },
  {
   "cell_type": "code",
   "execution_count": 65,
   "metadata": {},
   "outputs": [
    {
     "data": {
      "text/html": [
       "<table>\n",
       "<thead><tr><th scope=col>period</th><th scope=col>wt</th></tr></thead>\n",
       "<tbody>\n",
       "\t<tr><td>After </td><td>67.1  </td></tr>\n",
       "\t<tr><td>After </td><td>73.6  </td></tr>\n",
       "\t<tr><td>After </td><td>82.9  </td></tr>\n",
       "\t<tr><td>After </td><td>71    </td></tr>\n",
       "\t<tr><td>After </td><td>73.1  </td></tr>\n",
       "\t<tr><td>After </td><td>73.2  </td></tr>\n",
       "\t<tr><td>After </td><td>59.9  </td></tr>\n",
       "\t<tr><td>After </td><td>81.8  </td></tr>\n",
       "\t<tr><td>After </td><td>91.4  </td></tr>\n",
       "\t<tr><td>After </td><td>82.5  </td></tr>\n",
       "\t<tr><td>After </td><td>76.1  </td></tr>\n",
       "\t<tr><td>After </td><td>81.4  </td></tr>\n",
       "\t<tr><td>After </td><td>88.8  </td></tr>\n",
       "\t<tr><td>Before</td><td>65.5  </td></tr>\n",
       "\t<tr><td>Before</td><td>78.3  </td></tr>\n",
       "\t<tr><td>Before</td><td>84.6  </td></tr>\n",
       "\t<tr><td>Before</td><td>67.8  </td></tr>\n",
       "\t<tr><td>Before</td><td>72.9  </td></tr>\n",
       "\t<tr><td>Before</td><td>79.8  </td></tr>\n",
       "\t<tr><td>Before</td><td>56.4  </td></tr>\n",
       "\t<tr><td>Before</td><td>88.3  </td></tr>\n",
       "\t<tr><td>Before</td><td>101.6 </td></tr>\n",
       "\t<tr><td>Before</td><td>88    </td></tr>\n",
       "\t<tr><td>Before</td><td>77.4  </td></tr>\n",
       "\t<tr><td>Before</td><td>82.5  </td></tr>\n",
       "\t<tr><td>Before</td><td>93.3  </td></tr>\n",
       "</tbody>\n",
       "</table>\n"
      ],
      "text/latex": [
       "\\begin{tabular}{ll}\n",
       " period & wt\\\\\n",
       "\\hline\n",
       "\t After  & 67.1  \\\\\n",
       "\t After  & 73.6  \\\\\n",
       "\t After  & 82.9  \\\\\n",
       "\t After  & 71    \\\\\n",
       "\t After  & 73.1  \\\\\n",
       "\t After  & 73.2  \\\\\n",
       "\t After  & 59.9  \\\\\n",
       "\t After  & 81.8  \\\\\n",
       "\t After  & 91.4  \\\\\n",
       "\t After  & 82.5  \\\\\n",
       "\t After  & 76.1  \\\\\n",
       "\t After  & 81.4  \\\\\n",
       "\t After  & 88.8  \\\\\n",
       "\t Before & 65.5  \\\\\n",
       "\t Before & 78.3  \\\\\n",
       "\t Before & 84.6  \\\\\n",
       "\t Before & 67.8  \\\\\n",
       "\t Before & 72.9  \\\\\n",
       "\t Before & 79.8  \\\\\n",
       "\t Before & 56.4  \\\\\n",
       "\t Before & 88.3  \\\\\n",
       "\t Before & 101.6 \\\\\n",
       "\t Before & 88    \\\\\n",
       "\t Before & 77.4  \\\\\n",
       "\t Before & 82.5  \\\\\n",
       "\t Before & 93.3  \\\\\n",
       "\\end{tabular}\n"
      ],
      "text/markdown": [
       "\n",
       "period | wt | \n",
       "|---|---|---|---|---|---|---|---|---|---|---|---|---|---|---|---|---|---|---|---|---|---|---|---|---|---|\n",
       "| After  | 67.1   | \n",
       "| After  | 73.6   | \n",
       "| After  | 82.9   | \n",
       "| After  | 71     | \n",
       "| After  | 73.1   | \n",
       "| After  | 73.2   | \n",
       "| After  | 59.9   | \n",
       "| After  | 81.8   | \n",
       "| After  | 91.4   | \n",
       "| After  | 82.5   | \n",
       "| After  | 76.1   | \n",
       "| After  | 81.4   | \n",
       "| After  | 88.8   | \n",
       "| Before | 65.5   | \n",
       "| Before | 78.3   | \n",
       "| Before | 84.6   | \n",
       "| Before | 67.8   | \n",
       "| Before | 72.9   | \n",
       "| Before | 79.8   | \n",
       "| Before | 56.4   | \n",
       "| Before | 88.3   | \n",
       "| Before | 101.6  | \n",
       "| Before | 88     | \n",
       "| Before | 77.4   | \n",
       "| Before | 82.5   | \n",
       "| Before | 93.3   | \n",
       "\n",
       "\n"
      ],
      "text/plain": [
       "      period wt   \n",
       " [1,] After  67.1 \n",
       " [2,] After  73.6 \n",
       " [3,] After  82.9 \n",
       " [4,] After  71   \n",
       " [5,] After  73.1 \n",
       " [6,] After  73.2 \n",
       " [7,] After  59.9 \n",
       " [8,] After  81.8 \n",
       " [9,] After  91.4 \n",
       "[10,] After  82.5 \n",
       "[11,] After  76.1 \n",
       "[12,] After  81.4 \n",
       "[13,] After  88.8 \n",
       "[14,] Before 65.5 \n",
       "[15,] Before 78.3 \n",
       "[16,] Before 84.6 \n",
       "[17,] Before 67.8 \n",
       "[18,] Before 72.9 \n",
       "[19,] Before 79.8 \n",
       "[20,] Before 56.4 \n",
       "[21,] Before 88.3 \n",
       "[22,] Before 101.6\n",
       "[23,] Before 88   \n",
       "[24,] Before 77.4 \n",
       "[25,] Before 82.5 \n",
       "[26,] Before 93.3 "
      ]
     },
     "metadata": {},
     "output_type": "display_data"
    }
   ],
   "source": [
    "# b) using formula\n",
    "wt <- c(wt.after,wt.before)\n",
    "period <- c(rep(\"After\", 13), rep(\"Before\", 13))\n",
    "cbind(period, wt)"
   ]
  },
  {
   "cell_type": "code",
   "execution_count": 67,
   "metadata": {},
   "outputs": [
    {
     "data": {
      "text/plain": [
       "\n",
       "\tPaired t-test\n",
       "\n",
       "data:  wt by period\n",
       "t = -2.2466, df = 12, p-value = 0.02213\n",
       "alternative hypothesis: true difference in means is less than 0\n",
       "95 percent confidence interval:\n",
       "       -Inf -0.5341557\n",
       "sample estimates:\n",
       "mean of the differences \n",
       "              -2.584615 \n"
      ]
     },
     "metadata": {},
     "output_type": "display_data"
    },
    {
     "data": {
      "image/png": "[encoded data removed]",
      "text/plain": [
       "plot without title"
      ]
     },
     "metadata": {},
     "output_type": "display_data"
    }
   ],
   "source": [
    "boxplot(wt~period)\n",
    "t.test(wt~period, alternative = \"l\", paired = TRUE)"
   ]
  },
  {
   "cell_type": "markdown",
   "metadata": {},
   "source": [
    "## mtcars dataset"
   ]
  },
  {
   "cell_type": "code",
   "execution_count": 70,
   "metadata": {},
   "outputs": [
    {
     "name": "stdout",
     "output_type": "stream",
     "text": [
      "'data.frame':\t32 obs. of  11 variables:\n",
      " $ mpg : num  21 21 22.8 21.4 18.7 18.1 14.3 24.4 22.8 19.2 ...\n",
      " $ cyl : num  6 6 4 6 8 6 8 4 4 6 ...\n",
      " $ disp: num  160 160 108 258 360 ...\n",
      " $ hp  : num  110 110 93 110 175 105 245 62 95 123 ...\n",
      " $ drat: num  3.9 3.9 3.85 3.08 3.15 2.76 3.21 3.69 3.92 3.92 ...\n",
      " $ wt  : num  2.62 2.88 2.32 3.21 3.44 ...\n",
      " $ qsec: num  16.5 17 18.6 19.4 17 ...\n",
      " $ vs  : num  0 0 1 1 0 1 0 1 1 1 ...\n",
      " $ am  : num  1 1 1 0 0 0 0 0 0 0 ...\n",
      " $ gear: num  4 4 4 3 3 3 3 4 4 4 ...\n",
      " $ carb: num  4 4 1 1 2 1 4 2 2 4 ...\n"
     ]
    },
    {
     "data": {
      "text/html": [
       "<table>\n",
       "<thead><tr><th></th><th scope=col>mpg</th><th scope=col>cyl</th><th scope=col>disp</th><th scope=col>hp</th><th scope=col>drat</th><th scope=col>wt</th><th scope=col>qsec</th><th scope=col>vs</th><th scope=col>am</th><th scope=col>gear</th><th scope=col>carb</th></tr></thead>\n",
       "<tbody>\n",
       "\t<tr><th scope=row>Mazda RX4</th><td>21.0 </td><td>6    </td><td>160  </td><td>110  </td><td>3.90 </td><td>2.620</td><td>16.46</td><td>0    </td><td>1    </td><td>4    </td><td>4    </td></tr>\n",
       "\t<tr><th scope=row>Mazda RX4 Wag</th><td>21.0 </td><td>6    </td><td>160  </td><td>110  </td><td>3.90 </td><td>2.875</td><td>17.02</td><td>0    </td><td>1    </td><td>4    </td><td>4    </td></tr>\n",
       "\t<tr><th scope=row>Datsun 710</th><td>22.8 </td><td>4    </td><td>108  </td><td> 93  </td><td>3.85 </td><td>2.320</td><td>18.61</td><td>1    </td><td>1    </td><td>4    </td><td>1    </td></tr>\n",
       "\t<tr><th scope=row>Hornet 4 Drive</th><td>21.4 </td><td>6    </td><td>258  </td><td>110  </td><td>3.08 </td><td>3.215</td><td>19.44</td><td>1    </td><td>0    </td><td>3    </td><td>1    </td></tr>\n",
       "\t<tr><th scope=row>Hornet Sportabout</th><td>18.7 </td><td>8    </td><td>360  </td><td>175  </td><td>3.15 </td><td>3.440</td><td>17.02</td><td>0    </td><td>0    </td><td>3    </td><td>2    </td></tr>\n",
       "\t<tr><th scope=row>Valiant</th><td>18.1 </td><td>6    </td><td>225  </td><td>105  </td><td>2.76 </td><td>3.460</td><td>20.22</td><td>1    </td><td>0    </td><td>3    </td><td>1    </td></tr>\n",
       "</tbody>\n",
       "</table>\n"
      ],
      "text/latex": [
       "\\begin{tabular}{r|lllllllllll}\n",
       "  & mpg & cyl & disp & hp & drat & wt & qsec & vs & am & gear & carb\\\\\n",
       "\\hline\n",
       "\tMazda RX4 & 21.0  & 6     & 160   & 110   & 3.90  & 2.620 & 16.46 & 0     & 1     & 4     & 4    \\\\\n",
       "\tMazda RX4 Wag & 21.0  & 6     & 160   & 110   & 3.90  & 2.875 & 17.02 & 0     & 1     & 4     & 4    \\\\\n",
       "\tDatsun 710 & 22.8  & 4     & 108   &  93   & 3.85  & 2.320 & 18.61 & 1     & 1     & 4     & 1    \\\\\n",
       "\tHornet 4 Drive & 21.4  & 6     & 258   & 110   & 3.08  & 3.215 & 19.44 & 1     & 0     & 3     & 1    \\\\\n",
       "\tHornet Sportabout & 18.7  & 8     & 360   & 175   & 3.15  & 3.440 & 17.02 & 0     & 0     & 3     & 2    \\\\\n",
       "\tValiant & 18.1  & 6     & 225   & 105   & 2.76  & 3.460 & 20.22 & 1     & 0     & 3     & 1    \\\\\n",
       "\\end{tabular}\n"
      ],
      "text/markdown": [
       "\n",
       "| <!--/--> | mpg | cyl | disp | hp | drat | wt | qsec | vs | am | gear | carb | \n",
       "|---|---|---|---|---|---|\n",
       "| Mazda RX4 | 21.0  | 6     | 160   | 110   | 3.90  | 2.620 | 16.46 | 0     | 1     | 4     | 4     | \n",
       "| Mazda RX4 Wag | 21.0  | 6     | 160   | 110   | 3.90  | 2.875 | 17.02 | 0     | 1     | 4     | 4     | \n",
       "| Datsun 710 | 22.8  | 4     | 108   |  93   | 3.85  | 2.320 | 18.61 | 1     | 1     | 4     | 1     | \n",
       "| Hornet 4 Drive | 21.4  | 6     | 258   | 110   | 3.08  | 3.215 | 19.44 | 1     | 0     | 3     | 1     | \n",
       "| Hornet Sportabout | 18.7  | 8     | 360   | 175   | 3.15  | 3.440 | 17.02 | 0     | 0     | 3     | 2     | \n",
       "| Valiant | 18.1  | 6     | 225   | 105   | 2.76  | 3.460 | 20.22 | 1     | 0     | 3     | 1     | \n",
       "\n",
       "\n"
      ],
      "text/plain": [
       "                  mpg  cyl disp hp  drat wt    qsec  vs am gear carb\n",
       "Mazda RX4         21.0 6   160  110 3.90 2.620 16.46 0  1  4    4   \n",
       "Mazda RX4 Wag     21.0 6   160  110 3.90 2.875 17.02 0  1  4    4   \n",
       "Datsun 710        22.8 4   108   93 3.85 2.320 18.61 1  1  4    1   \n",
       "Hornet 4 Drive    21.4 6   258  110 3.08 3.215 19.44 1  0  3    1   \n",
       "Hornet Sportabout 18.7 8   360  175 3.15 3.440 17.02 0  0  3    2   \n",
       "Valiant           18.1 6   225  105 2.76 3.460 20.22 1  0  3    1   "
      ]
     },
     "metadata": {},
     "output_type": "display_data"
    }
   ],
   "source": [
    "library(datasets)\n",
    "data(mtcars)\n",
    "cars<-mtcars\n",
    "str(cars)\n",
    "head(cars)"
   ]
  },
  {
   "cell_type": "code",
   "execution_count": 71,
   "metadata": {},
   "outputs": [
    {
     "name": "stdout",
     "output_type": "stream",
     "text": [
      "'data.frame':\t32 obs. of  11 variables:\n",
      " $ mpg : num  21 21 22.8 21.4 18.7 18.1 14.3 24.4 22.8 19.2 ...\n",
      " $ cyl : Factor w/ 3 levels \"4\",\"6\",\"8\": 2 2 1 2 3 2 3 1 1 2 ...\n",
      " $ disp: num  160 160 108 258 360 ...\n",
      " $ hp  : num  110 110 93 110 175 105 245 62 95 123 ...\n",
      " $ drat: num  3.9 3.9 3.85 3.08 3.15 2.76 3.21 3.69 3.92 3.92 ...\n",
      " $ wt  : num  2.62 2.88 2.32 3.21 3.44 ...\n",
      " $ qsec: num  16.5 17 18.6 19.4 17 ...\n",
      " $ vs  : num  0 0 1 1 0 1 0 1 1 1 ...\n",
      " $ am  : num  1 1 1 0 0 0 0 0 0 0 ...\n",
      " $ gear: num  4 4 4 3 3 3 3 4 4 4 ...\n",
      " $ carb: num  4 4 1 1 2 1 4 2 2 4 ...\n"
     ]
    }
   ],
   "source": [
    "# convert no of cyl to factor (Categorical)\n",
    "cars$cyl <-as.factor(cars$cyl)\n",
    "str(cars)"
   ]
  },
  {
   "cell_type": "code",
   "execution_count": 72,
   "metadata": {},
   "outputs": [
    {
     "data": {
      "text/plain": [
       "\n",
       " 4  6  8 \n",
       "11  7 14 "
      ]
     },
     "metadata": {},
     "output_type": "display_data"
    }
   ],
   "source": [
    "# count of cyl-contingency table\n",
    "table(cars$cyl)"
   ]
  },
  {
   "cell_type": "code",
   "execution_count": 74,
   "metadata": {},
   "outputs": [
    {
     "data": {
      "image/png": "[encoded data removed]",
      "text/plain": [
       "plot without title"
      ]
     },
     "metadata": {},
     "output_type": "display_data"
    }
   ],
   "source": [
    "# Exploration of the data, side by side boxplot\n",
    "boxplot(cars$mpg~cars$cyl)"
   ]
  },
  {
   "cell_type": "code",
   "execution_count": 75,
   "metadata": {},
   "outputs": [
    {
     "data": {
      "text/plain": [
       "            Df Sum Sq Mean Sq F value   Pr(>F)    \n",
       "cyl          2  824.8   412.4    39.7 4.98e-09 ***\n",
       "Residuals   29  301.3    10.4                     \n",
       "---\n",
       "Signif. codes:  0 '***' 0.001 '**' 0.01 '*' 0.05 '.' 0.1 ' ' 1"
      ]
     },
     "metadata": {},
     "output_type": "display_data"
    }
   ],
   "source": [
    "# Annova\n",
    "cars.aov <- aov(mpg~cyl, data =cars)\n",
    "summary(cars.aov)"
   ]
  },
  {
   "cell_type": "code",
   "execution_count": 76,
   "metadata": {},
   "outputs": [],
   "source": [
    "#C->C Two way table (League vs Salary)\n",
    "# chi square test for independence"
   ]
  },
  {
   "cell_type": "code",
   "execution_count": 77,
   "metadata": {},
   "outputs": [],
   "source": [
    "#EDA Visualization Inference"
   ]
  },
  {
   "cell_type": "code",
   "execution_count": 78,
   "metadata": {},
   "outputs": [
    {
     "data": {
      "image/png": "[encoded data removed]",
      "text/plain": [
       "Plot with title \"Histogram of cars$wt\""
      ]
     },
     "metadata": {},
     "output_type": "display_data"
    }
   ],
   "source": [
    "#Q->Q Histogram\n",
    "par(mfrow = c(1,2))\n",
    "hist(cars$mpg)\n",
    "hist(cars$wt)"
   ]
  },
  {
   "cell_type": "code",
   "execution_count": 79,
   "metadata": {},
   "outputs": [
    {
     "data": {
      "image/png": "[encoded data removed]",
      "text/plain": [
       "plot without title"
      ]
     },
     "metadata": {},
     "output_type": "display_data"
    }
   ],
   "source": [
    "#Scatterplot Q->Q\n",
    "plot(cars$wt, cars$mpg)"
   ]
  },
  {
   "cell_type": "code",
   "execution_count": 80,
   "metadata": {},
   "outputs": [
    {
     "data": {
      "text/html": [
       "-0.867659376517228"
      ],
      "text/latex": [
       "-0.867659376517228"
      ],
      "text/markdown": [
       "-0.867659376517228"
      ],
      "text/plain": [
       "[1] -0.8676594"
      ]
     },
     "metadata": {},
     "output_type": "display_data"
    }
   ],
   "source": [
    "#corrilation coefficent\n",
    "cor(cars$mpg,cars$wt)"
   ]
  },
  {
   "cell_type": "code",
   "execution_count": 89,
   "metadata": {},
   "outputs": [
    {
     "data": {
      "text/plain": [
       "\n",
       "Call:\n",
       "lm(formula = mpg ~ wt, data = cars)\n",
       "\n",
       "Residuals:\n",
       "    Min      1Q  Median      3Q     Max \n",
       "-4.5432 -2.3647 -0.1252  1.4096  6.8727 \n",
       "\n",
       "Coefficients:\n",
       "            Estimate Std. Error t value Pr(>|t|)    \n",
       "(Intercept)  37.2851     1.8776  19.858  < 2e-16 ***\n",
       "wt           -5.3445     0.5591  -9.559 1.29e-10 ***\n",
       "---\n",
       "Signif. codes:  0 '***' 0.001 '**' 0.01 '*' 0.05 '.' 0.1 ' ' 1\n",
       "\n",
       "Residual standard error: 3.046 on 30 degrees of freedom\n",
       "Multiple R-squared:  0.7528,\tAdjusted R-squared:  0.7446 \n",
       "F-statistic: 91.38 on 1 and 30 DF,  p-value: 1.294e-10\n"
      ]
     },
     "metadata": {},
     "output_type": "display_data"
    },
    {
     "data": {
      "image/png": "[encoded data removed]",
      "text/plain": [
       "plot without title"
      ]
     },
     "metadata": {},
     "output_type": "display_data"
    }
   ],
   "source": [
    "#linear reggression line\n",
    "#t test for slop\n",
    "carslm1<-lm(mpg~wt, data=cars) #fitting linear regression model\n",
    "summary(carslm1)\n",
    "plot(cars$wt, cars$mpg)\n",
    "abline(carslm1)# regression line\n"
   ]
  },
  {
   "cell_type": "code",
   "execution_count": 85,
   "metadata": {},
   "outputs": [
    {
     "data": {
      "image/png": "[encoded data removed]",
      "text/plain": [
       "plot without title"
      ]
     },
     "metadata": {},
     "output_type": "display_data"
    }
   ],
   "source": [
    "\n",
    "#stratified catter plot\n",
    "plot(cars$wt, cars$mpg, col=(cars$cyl),pch = 17)"
   ]
  },
  {
   "cell_type": "code",
   "execution_count": 88,
   "metadata": {},
   "outputs": [
    {
     "data": {
      "image/png": "[encoded data removed]",
      "text/plain": [
       "plot without title"
      ]
     },
     "metadata": {},
     "output_type": "display_data"
    }
   ],
   "source": [
    "# Matrix Plot\n",
    "pairs(cars[,c(1,2,3,4,6)])"
   ]
  },
  {
   "cell_type": "code",
   "execution_count": null,
   "metadata": {},
   "outputs": [],
   "source": []
  }
 ],
 "metadata": {
  "kernelspec": {
   "display_name": "R",
   "language": "R",
   "name": "ir"
  },
  "language_info": {
   "codemirror_mode": "r",
   "file_extension": ".r",
   "mimetype": "text/x-r-source",
   "name": "R",
   "pygments_lexer": "r",
   "version": "3.5.1"
  }
 },
 "nbformat": 4,
 "nbformat_minor": 2
}
