{
 "cells": [
  {
   "cell_type": "code",
   "execution_count": 17,
   "metadata": {},
   "outputs": [],
   "source": [
    "x <- list(a=1:5, b = rnorm(5))"
   ]
  },
  {
   "cell_type": "code",
   "execution_count": 18,
   "metadata": {},
   "outputs": [
    {
     "data": {
      "text/html": [
       "<ol class=list-inline>\n",
       "\t<li>0.911209225734993</li>\n",
       "\t<li>1.52443784808068</li>\n",
       "\t<li>-0.949000405264761</li>\n",
       "\t<li>-2.1313396940309</li>\n",
       "\t<li>1.01614409706215</li>\n",
       "</ol>\n"
      ],
      "text/latex": [
       "\\begin{enumerate*}\n",
       "\\item 0.911209225734993\n",
       "\\item 1.52443784808068\n",
       "\\item -0.949000405264761\n",
       "\\item -2.1313396940309\n",
       "\\item 1.01614409706215\n",
       "\\end{enumerate*}\n"
      ],
      "text/markdown": [
       "1. 0.911209225734993\n",
       "2. 1.52443784808068\n",
       "3. -0.949000405264761\n",
       "4. -2.1313396940309\n",
       "5. 1.01614409706215\n",
       "\n",
       "\n"
      ],
      "text/plain": [
       "[1]  0.9112092  1.5244378 -0.9490004 -2.1313397  1.0161441"
      ]
     },
     "metadata": {},
     "output_type": "display_data"
    }
   ],
   "source": [
    "x$b"
   ]
  },
  {
   "cell_type": "code",
   "execution_count": 23,
   "metadata": {},
   "outputs": [
    {
     "data": {
      "text/html": [
       "<table>\n",
       "<thead><tr><th></th><th scope=col>a</th><th scope=col>b</th></tr></thead>\n",
       "<tbody>\n",
       "\t<tr><th scope=row>Min.</th><td>1         </td><td>-2.1313397</td></tr>\n",
       "\t<tr><th scope=row>1st Qu.</th><td>2         </td><td>-0.9490004</td></tr>\n",
       "\t<tr><th scope=row>Median</th><td>3         </td><td> 0.9112092</td></tr>\n",
       "\t<tr><th scope=row>3rd Qu.</th><td>4         </td><td> 1.0161441</td></tr>\n",
       "\t<tr><th scope=row>Max.</th><td>5         </td><td> 1.5244378</td></tr>\n",
       "</tbody>\n",
       "</table>\n"
      ],
      "text/latex": [
       "\\begin{tabular}{r|ll}\n",
       "  & a & b\\\\\n",
       "\\hline\n",
       "\tMin. & 1          & -2.1313397\\\\\n",
       "\t1st Qu. & 2          & -0.9490004\\\\\n",
       "\tMedian & 3          &  0.9112092\\\\\n",
       "\t3rd Qu. & 4          &  1.0161441\\\\\n",
       "\tMax. & 5          &  1.5244378\\\\\n",
       "\\end{tabular}\n"
      ],
      "text/markdown": [
       "\n",
       "| <!--/--> | a | b | \n",
       "|---|---|---|---|---|\n",
       "| Min. | 1          | -2.1313397 | \n",
       "| 1st Qu. | 2          | -0.9490004 | \n",
       "| Median | 3          |  0.9112092 | \n",
       "| 3rd Qu. | 4          |  1.0161441 | \n",
       "| Max. | 5          |  1.5244378 | \n",
       "\n",
       "\n"
      ],
      "text/plain": [
       "        a b         \n",
       "Min.    1 -2.1313397\n",
       "1st Qu. 2 -0.9490004\n",
       "Median  3  0.9112092\n",
       "3rd Qu. 4  1.0161441\n",
       "Max.    5  1.5244378"
      ]
     },
     "metadata": {},
     "output_type": "display_data"
    }
   ],
   "source": [
    "vapply(x, fivenum, c(Min. = 0, \"1st Qu.\" = 0, Median = 0, \"3rd Qu.\" = 0, Max. = 0))"
   ]
  },
  {
   "cell_type": "code",
   "execution_count": 27,
   "metadata": {},
   "outputs": [
    {
     "data": {
      "text/html": [
       "<table>\n",
       "<tbody>\n",
       "\t<tr><th scope=row>Min.</th><td>-2.1313397</td></tr>\n",
       "\t<tr><th scope=row>1st Qu. </th><td>-0.9490004</td></tr>\n",
       "\t<tr><th scope=row>Median</th><td> 0.9112092</td></tr>\n",
       "\t<tr><th scope=row>3rd Qu. </th><td> 1.0161441</td></tr>\n",
       "\t<tr><th scope=row>Max.</th><td> 1.5244378</td></tr>\n",
       "</tbody>\n",
       "</table>\n"
      ],
      "text/latex": [
       "\\begin{tabular}{r|l}\n",
       "\tMin. & -2.1313397\\\\\n",
       "\t1st Qu.  & -0.9490004\\\\\n",
       "\tMedian &  0.9112092\\\\\n",
       "\t3rd Qu.  &  1.0161441\\\\\n",
       "\tMax. &  1.5244378\\\\\n",
       "\\end{tabular}\n"
      ],
      "text/markdown": [
       "\n",
       "| Min. | -2.1313397 | \n",
       "| 1st Qu.  | -0.9490004 | \n",
       "| Median |  0.9112092 | \n",
       "| 3rd Qu.  |  1.0161441 | \n",
       "| Max. |  1.5244378 | \n",
       "\n",
       "\n"
      ],
      "text/plain": [
       "         [,1]      \n",
       "Min.     -2.1313397\n",
       "1st Qu.  -0.9490004\n",
       "Median    0.9112092\n",
       "3rd Qu.   1.0161441\n",
       "Max.      1.5244378"
      ]
     },
     "metadata": {},
     "output_type": "display_data"
    }
   ],
   "source": [
    "vapply(list(x$b), fivenum, c(Min. = 0, \"1st Qu. \" = 0, Median = 0, \"3rd Qu. \" = 0, Max. = 0))"
   ]
  },
  {
   "cell_type": "code",
   "execution_count": null,
   "metadata": {},
   "outputs": [],
   "source": []
  },
  {
   "cell_type": "code",
   "execution_count": null,
   "metadata": {},
   "outputs": [],
   "source": []
  }
 ],
 "metadata": {
  "kernelspec": {
   "display_name": "R",
   "language": "R",
   "name": "ir"
  },
  "language_info": {
   "codemirror_mode": "r",
   "file_extension": ".r",
   "mimetype": "text/x-r-source",
   "name": "R",
   "pygments_lexer": "r",
   "version": "3.5.1"
  }
 },
 "nbformat": 4,
 "nbformat_minor": 2
}
