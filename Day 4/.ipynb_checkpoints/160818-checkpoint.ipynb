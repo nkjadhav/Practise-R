{
 "cells": [
  {
   "cell_type": "markdown",
   "metadata": {},
   "source": [
    "# Managing data in R"
   ]
  },
  {
   "cell_type": "code",
   "execution_count": 91,
   "metadata": {},
   "outputs": [],
   "source": [
    "x=0\n",
    "y=0\n",
    "student <- data.frame(roll.no = c(1:4), student.name = c(\"A\",\"B\",\"C\",\"D\"))"
   ]
  },
  {
   "cell_type": "code",
   "execution_count": 92,
   "metadata": {},
   "outputs": [],
   "source": [
    "save(list = c(\"student\",\"x\",\"y\"), file = \"student1.RData\")"
   ]
  },
  {
   "cell_type": "code",
   "execution_count": 93,
   "metadata": {},
   "outputs": [],
   "source": [
    "rm(student,x,y)"
   ]
  },
  {
   "cell_type": "code",
   "execution_count": 94,
   "metadata": {},
   "outputs": [],
   "source": [
    "load(\"student1.RData\") # saves environment variable"
   ]
  },
  {
   "cell_type": "code",
   "execution_count": 95,
   "metadata": {},
   "outputs": [],
   "source": [
    "source(\"example.R\") # loads code from file"
   ]
  },
  {
   "cell_type": "code",
   "execution_count": 96,
   "metadata": {},
   "outputs": [
    {
     "name": "stdout",
     "output_type": "stream",
     "text": [
      "[1] \"Output diverted to file\"\n",
      "[1] \"o1*o2\"\n"
     ]
    }
   ],
   "source": [
    "sink(\"./record.txt\") # Divert output to file \"record.txt\"\n",
    "o1 <- 35\n",
    "o2 <- 36\n",
    "print(\"Output diverted to file\")\n",
    "print(\"o1*o2\")\n"
   ]
  },
  {
   "cell_type": "code",
   "execution_count": 97,
   "metadata": {},
   "outputs": [
    {
     "data": {
      "text/html": [
       "-1"
      ],
      "text/latex": [
       "-1"
      ],
      "text/markdown": [
       "-1"
      ],
      "text/plain": [
       "[1] -1"
      ]
     },
     "metadata": {},
     "output_type": "display_data"
    }
   ],
   "source": [
    "sink()\n",
    "o1-o2"
   ]
  },
  {
   "cell_type": "markdown",
   "metadata": {},
   "source": [
    "#### Importing files in R"
   ]
  },
  {
   "cell_type": "code",
   "execution_count": 98,
   "metadata": {},
   "outputs": [],
   "source": [
    "# Read excel data\n",
    "library(xlsx)"
   ]
  },
  {
   "cell_type": "code",
   "execution_count": 99,
   "metadata": {},
   "outputs": [
    {
     "data": {
      "text/html": [
       "<table>\n",
       "<thead><tr><th scope=col>TSS</th><th scope=col>RSS</th><th scope=col>TSS.RSS</th><th scope=col>n</th><th scope=col>p</th><th scope=col>n.p.1</th><th scope=col>X.TSS.RSS..p</th><th scope=col>RSS..n.p.1.</th><th scope=col>X1.col.H.</th><th scope=col>F.Statistic</th></tr></thead>\n",
       "<tbody>\n",
       "\t<tr><td>100      </td><td>50       </td><td>50       </td><td>50       </td><td>1        </td><td>48       </td><td>50.00000 </td><td>1.0416667</td><td>0.960000 </td><td>48.00000 </td></tr>\n",
       "\t<tr><td>100      </td><td>30       </td><td>70       </td><td>50       </td><td>2        </td><td>47       </td><td>35.00000 </td><td>0.6382979</td><td>1.566667 </td><td>54.83333 </td></tr>\n",
       "\t<tr><td>100      </td><td>25       </td><td>75       </td><td>50       </td><td>3        </td><td>46       </td><td>25.00000 </td><td>0.5434783</td><td>1.840000 </td><td>46.00000 </td></tr>\n",
       "\t<tr><td>100      </td><td>24       </td><td>76       </td><td>50       </td><td>3        </td><td>46       </td><td>25.33333 </td><td>0.5217391</td><td>1.916667 </td><td>48.55556 </td></tr>\n",
       "\t<tr><td>100      </td><td>23       </td><td>77       </td><td>50       </td><td>3        </td><td>46       </td><td>25.66667 </td><td>0.5000000</td><td>2.000000 </td><td>51.33333 </td></tr>\n",
       "\t<tr><td>100      </td><td>22       </td><td>78       </td><td>50       </td><td>3        </td><td>46       </td><td>26.00000 </td><td>0.4782609</td><td>2.090909 </td><td>54.36364 </td></tr>\n",
       "</tbody>\n",
       "</table>\n"
      ],
      "text/latex": [
       "\\begin{tabular}{r|llllllllll}\n",
       " TSS & RSS & TSS.RSS & n & p & n.p.1 & X.TSS.RSS..p & RSS..n.p.1. & X1.col.H. & F.Statistic\\\\\n",
       "\\hline\n",
       "\t 100       & 50        & 50        & 50        & 1         & 48        & 50.00000  & 1.0416667 & 0.960000  & 48.00000 \\\\\n",
       "\t 100       & 30        & 70        & 50        & 2         & 47        & 35.00000  & 0.6382979 & 1.566667  & 54.83333 \\\\\n",
       "\t 100       & 25        & 75        & 50        & 3         & 46        & 25.00000  & 0.5434783 & 1.840000  & 46.00000 \\\\\n",
       "\t 100       & 24        & 76        & 50        & 3         & 46        & 25.33333  & 0.5217391 & 1.916667  & 48.55556 \\\\\n",
       "\t 100       & 23        & 77        & 50        & 3         & 46        & 25.66667  & 0.5000000 & 2.000000  & 51.33333 \\\\\n",
       "\t 100       & 22        & 78        & 50        & 3         & 46        & 26.00000  & 0.4782609 & 2.090909  & 54.36364 \\\\\n",
       "\\end{tabular}\n"
      ],
      "text/markdown": [
       "\n",
       "TSS | RSS | TSS.RSS | n | p | n.p.1 | X.TSS.RSS..p | RSS..n.p.1. | X1.col.H. | F.Statistic | \n",
       "|---|---|---|---|---|---|\n",
       "| 100       | 50        | 50        | 50        | 1         | 48        | 50.00000  | 1.0416667 | 0.960000  | 48.00000  | \n",
       "| 100       | 30        | 70        | 50        | 2         | 47        | 35.00000  | 0.6382979 | 1.566667  | 54.83333  | \n",
       "| 100       | 25        | 75        | 50        | 3         | 46        | 25.00000  | 0.5434783 | 1.840000  | 46.00000  | \n",
       "| 100       | 24        | 76        | 50        | 3         | 46        | 25.33333  | 0.5217391 | 1.916667  | 48.55556  | \n",
       "| 100       | 23        | 77        | 50        | 3         | 46        | 25.66667  | 0.5000000 | 2.000000  | 51.33333  | \n",
       "| 100       | 22        | 78        | 50        | 3         | 46        | 26.00000  | 0.4782609 | 2.090909  | 54.36364  | \n",
       "\n",
       "\n"
      ],
      "text/plain": [
       "  TSS RSS TSS.RSS n  p n.p.1 X.TSS.RSS..p RSS..n.p.1. X1.col.H. F.Statistic\n",
       "1 100 50  50      50 1 48    50.00000     1.0416667   0.960000  48.00000   \n",
       "2 100 30  70      50 2 47    35.00000     0.6382979   1.566667  54.83333   \n",
       "3 100 25  75      50 3 46    25.00000     0.5434783   1.840000  46.00000   \n",
       "4 100 24  76      50 3 46    25.33333     0.5217391   1.916667  48.55556   \n",
       "5 100 23  77      50 3 46    25.66667     0.5000000   2.000000  51.33333   \n",
       "6 100 22  78      50 3 46    26.00000     0.4782609   2.090909  54.36364   "
      ]
     },
     "metadata": {},
     "output_type": "display_data"
    }
   ],
   "source": [
    "F.statistic <- read.xlsx(\"./F-statistic.xlsx\", sheetIndex = 1, header = TRUE) # dot represents the working directory\n",
    "head(F.statistic)"
   ]
  },
  {
   "cell_type": "code",
   "execution_count": 100,
   "metadata": {},
   "outputs": [
    {
     "data": {
      "text/html": [
       "<table>\n",
       "<thead><tr><th scope=col>V1</th><th scope=col>V2</th><th scope=col>V3</th><th scope=col>V4</th><th scope=col>V5</th><th scope=col>V6</th><th scope=col>V7</th><th scope=col>V8</th><th scope=col>V9</th><th scope=col>V10</th></tr></thead>\n",
       "<tbody>\n",
       "\t<tr><td>EMPLOYEE_ID  </td><td>FIRST_NAME   </td><td>LAST_NAME    </td><td>EMAIL        </td><td>PHONE_NUMBER </td><td>HIRE_DATE    </td><td>JOB_ID       </td><td>SALARY       </td><td>MANAGER_ID   </td><td>DEPARTMENT_ID</td></tr>\n",
       "\t<tr><td>100          </td><td>Steven       </td><td>King         </td><td>SKING        </td><td>515.123.4567 </td><td>17-JUN-87    </td><td>AD_PRES      </td><td>24000        </td><td>             </td><td>90           </td></tr>\n",
       "\t<tr><td>101          </td><td>Neena        </td><td>Kochhar      </td><td>NKOCHHAR     </td><td>515.123.4568 </td><td>21-SEP-89    </td><td>AD_VP        </td><td>17000        </td><td>100          </td><td>90           </td></tr>\n",
       "\t<tr><td>102          </td><td>Lex          </td><td>De Haan      </td><td>LDEHAAN      </td><td>515.123.4569 </td><td>13-JAN-93    </td><td>AD_VP        </td><td>17000        </td><td>100          </td><td>90           </td></tr>\n",
       "\t<tr><td>103          </td><td>Alexander    </td><td>Hunold       </td><td>AHUNOLD      </td><td>590.423.4567 </td><td>03-JAN-90    </td><td>IT_PROG      </td><td>9000         </td><td>102          </td><td>60           </td></tr>\n",
       "\t<tr><td>104          </td><td>Bruce        </td><td>Ernst        </td><td>BERNST       </td><td>590.423.4568 </td><td>21-MAY-91    </td><td>IT_PROG      </td><td>6000         </td><td>103          </td><td>60           </td></tr>\n",
       "</tbody>\n",
       "</table>\n"
      ],
      "text/latex": [
       "\\begin{tabular}{r|llllllllll}\n",
       " V1 & V2 & V3 & V4 & V5 & V6 & V7 & V8 & V9 & V10\\\\\n",
       "\\hline\n",
       "\t EMPLOYEE\\_ID   & FIRST\\_NAME    & LAST\\_NAME     & EMAIL           & PHONE\\_NUMBER  & HIRE\\_DATE     & JOB\\_ID        & SALARY          & MANAGER\\_ID    & DEPARTMENT\\_ID\\\\\n",
       "\t 100           & Steven        & King          & SKING         & 515.123.4567  & 17-JUN-87     & AD\\_PRES     & 24000         &               & 90           \\\\\n",
       "\t 101           & Neena         & Kochhar       & NKOCHHAR      & 515.123.4568  & 21-SEP-89     & AD\\_VP       & 17000         & 100           & 90           \\\\\n",
       "\t 102           & Lex           & De Haan       & LDEHAAN       & 515.123.4569  & 13-JAN-93     & AD\\_VP       & 17000         & 100           & 90           \\\\\n",
       "\t 103           & Alexander     & Hunold        & AHUNOLD       & 590.423.4567  & 03-JAN-90     & IT\\_PROG     & 9000          & 102           & 60           \\\\\n",
       "\t 104           & Bruce         & Ernst         & BERNST        & 590.423.4568  & 21-MAY-91     & IT\\_PROG     & 6000          & 103           & 60           \\\\\n",
       "\\end{tabular}\n"
      ],
      "text/markdown": [
       "\n",
       "V1 | V2 | V3 | V4 | V5 | V6 | V7 | V8 | V9 | V10 | \n",
       "|---|---|---|---|---|---|\n",
       "| EMPLOYEE_ID   | FIRST_NAME    | LAST_NAME     | EMAIL         | PHONE_NUMBER  | HIRE_DATE     | JOB_ID        | SALARY        | MANAGER_ID    | DEPARTMENT_ID | \n",
       "| 100           | Steven        | King          | SKING         | 515.123.4567  | 17-JUN-87     | AD_PRES       | 24000         |               | 90            | \n",
       "| 101           | Neena         | Kochhar       | NKOCHHAR      | 515.123.4568  | 21-SEP-89     | AD_VP         | 17000         | 100           | 90            | \n",
       "| 102           | Lex           | De Haan       | LDEHAAN       | 515.123.4569  | 13-JAN-93     | AD_VP         | 17000         | 100           | 90            | \n",
       "| 103           | Alexander     | Hunold        | AHUNOLD       | 590.423.4567  | 03-JAN-90     | IT_PROG       | 9000          | 102           | 60            | \n",
       "| 104           | Bruce         | Ernst         | BERNST        | 590.423.4568  | 21-MAY-91     | IT_PROG       | 6000          | 103           | 60            | \n",
       "\n",
       "\n"
      ],
      "text/plain": [
       "  V1          V2         V3        V4       V5           V6        V7     \n",
       "1 EMPLOYEE_ID FIRST_NAME LAST_NAME EMAIL    PHONE_NUMBER HIRE_DATE JOB_ID \n",
       "2 100         Steven     King      SKING    515.123.4567 17-JUN-87 AD_PRES\n",
       "3 101         Neena      Kochhar   NKOCHHAR 515.123.4568 21-SEP-89 AD_VP  \n",
       "4 102         Lex        De Haan   LDEHAAN  515.123.4569 13-JAN-93 AD_VP  \n",
       "5 103         Alexander  Hunold    AHUNOLD  590.423.4567 03-JAN-90 IT_PROG\n",
       "6 104         Bruce      Ernst     BERNST   590.423.4568 21-MAY-91 IT_PROG\n",
       "  V8     V9         V10          \n",
       "1 SALARY MANAGER_ID DEPARTMENT_ID\n",
       "2 24000             90           \n",
       "3 17000  100        90           \n",
       "4 17000  100        90           \n",
       "5 9000   102        60           \n",
       "6 6000   103        60           "
      ]
     },
     "metadata": {},
     "output_type": "display_data"
    }
   ],
   "source": [
    "#Import file using data.table\n",
    "empdata<-read.table(\"EMP.csv\", sep=\",\")\n",
    "head(empdata)"
   ]
  },
  {
   "cell_type": "code",
   "execution_count": 101,
   "metadata": {},
   "outputs": [],
   "source": [
    "# Explor ata from R\n",
    "write.xlsx(F.statistic,\"./F-statistic.xlsx\",sheetName = \"Sheet2\",append=TRUE) #Done"
   ]
  },
  {
   "cell_type": "code",
   "execution_count": 102,
   "metadata": {},
   "outputs": [],
   "source": [
    "write.table(empdata, file = \"./EMP1.txt\", sep = \"|\", col.names = TRUE) #Done"
   ]
  },
  {
   "cell_type": "code",
   "execution_count": 103,
   "metadata": {},
   "outputs": [],
   "source": [
    "write.csv(empdata, file = \"./EMP1.csv\") #Done"
   ]
  },
  {
   "cell_type": "code",
   "execution_count": 104,
   "metadata": {},
   "outputs": [],
   "source": [
    "#readRDS"
   ]
  },
  {
   "cell_type": "code",
   "execution_count": 105,
   "metadata": {},
   "outputs": [
    {
     "data": {
      "text/html": [
       "<ol class=list-inline>\n",
       "\t<li>1</li>\n",
       "\t<li>2</li>\n",
       "\t<li>3</li>\n",
       "\t<li>4</li>\n",
       "\t<li>5</li>\n",
       "</ol>\n"
      ],
      "text/latex": [
       "\\begin{enumerate*}\n",
       "\\item 1\n",
       "\\item 2\n",
       "\\item 3\n",
       "\\item 4\n",
       "\\item 5\n",
       "\\end{enumerate*}\n"
      ],
      "text/markdown": [
       "1. 1\n",
       "2. 2\n",
       "3. 3\n",
       "4. 4\n",
       "5. 5\n",
       "\n",
       "\n"
      ],
      "text/plain": [
       "[1] 1 2 3 4 5"
      ]
     },
     "metadata": {},
     "output_type": "display_data"
    },
    {
     "data": {
      "text/html": [
       "<ol class=list-inline>\n",
       "\t<li>-0.182218339979161</li>\n",
       "\t<li>-0.549758626707275</li>\n",
       "\t<li>-0.385178102846113</li>\n",
       "\t<li>-0.403389295462291</li>\n",
       "\t<li>0.469071525947438</li>\n",
       "\t<li>-0.409460734323202</li>\n",
       "\t<li>-1.802853858338</li>\n",
       "\t<li>-2.32371489875719</li>\n",
       "\t<li>0.502800243170978</li>\n",
       "\t<li>0.94724810309025</li>\n",
       "</ol>\n"
      ],
      "text/latex": [
       "\\begin{enumerate*}\n",
       "\\item -0.182218339979161\n",
       "\\item -0.549758626707275\n",
       "\\item -0.385178102846113\n",
       "\\item -0.403389295462291\n",
       "\\item 0.469071525947438\n",
       "\\item -0.409460734323202\n",
       "\\item -1.802853858338\n",
       "\\item -2.32371489875719\n",
       "\\item 0.502800243170978\n",
       "\\item 0.94724810309025\n",
       "\\end{enumerate*}\n"
      ],
      "text/markdown": [
       "1. -0.182218339979161\n",
       "2. -0.549758626707275\n",
       "3. -0.385178102846113\n",
       "4. -0.403389295462291\n",
       "5. 0.469071525947438\n",
       "6. -0.409460734323202\n",
       "7. -1.802853858338\n",
       "8. -2.32371489875719\n",
       "9. 0.502800243170978\n",
       "10. 0.94724810309025\n",
       "\n",
       "\n"
      ],
      "text/plain": [
       " [1] -0.1822183 -0.5497586 -0.3851781 -0.4033893  0.4690715 -0.4094607\n",
       " [7] -1.8028539 -2.3237149  0.5028002  0.9472481"
      ]
     },
     "metadata": {},
     "output_type": "display_data"
    }
   ],
   "source": [
    "#dataframe each row is list\n",
    "x <- list(a=1:5, b = rnorm(10))\n",
    "#set.seed(1) will keep andom numbers same, rnorm(10) will generate 10 random uniform values\n",
    "x[[1]] #to access list elements\n",
    "x[[2]]"
   ]
  },
  {
   "cell_type": "markdown",
   "metadata": {},
   "source": [
    "#### lapply"
   ]
  },
  {
   "cell_type": "code",
   "execution_count": 106,
   "metadata": {},
   "outputs": [
    {
     "name": "stderr",
     "output_type": "stream",
     "text": [
      "Warning message in mean.default(x):\n",
      "\"argument is not numeric or logical: returning NA\""
     ]
    },
    {
     "data": {
      "text/html": [
       "&lt;NA&gt;"
      ],
      "text/latex": [
       "<NA>"
      ],
      "text/markdown": [
       "&lt;NA&gt;"
      ],
      "text/plain": [
       "[1] NA"
      ]
     },
     "metadata": {},
     "output_type": "display_data"
    }
   ],
   "source": [
    "mean(x) # mean cannot be applied on list type of datastructure"
   ]
  },
  {
   "cell_type": "code",
   "execution_count": 108,
   "metadata": {},
   "outputs": [
    {
     "data": {
      "text/html": [
       "<dl>\n",
       "\t<dt>$a</dt>\n",
       "\t\t<dd>3</dd>\n",
       "\t<dt>$b</dt>\n",
       "\t\t<dd>-0.413745398420456</dd>\n",
       "</dl>\n"
      ],
      "text/latex": [
       "\\begin{description}\n",
       "\\item[\\$a] 3\n",
       "\\item[\\$b] -0.413745398420456\n",
       "\\end{description}\n"
      ],
      "text/markdown": [
       "$a\n",
       ":   3\n",
       "$b\n",
       ":   -0.413745398420456\n",
       "\n",
       "\n"
      ],
      "text/plain": [
       "$a\n",
       "[1] 3\n",
       "\n",
       "$b\n",
       "[1] -0.4137454\n"
      ]
     },
     "metadata": {},
     "output_type": "display_data"
    }
   ],
   "source": [
    "# lapply always return list, its kind of for loop\n",
    "lapply(x, mean)"
   ]
  },
  {
   "cell_type": "code",
   "execution_count": 109,
   "metadata": {},
   "outputs": [
    {
     "data": {
      "text/html": [
       "<dl>\n",
       "\t<dt>$a</dt>\n",
       "\t\t<dd>3</dd>\n",
       "\t<dt>$b</dt>\n",
       "\t\t<dd>-0.394283699154202</dd>\n",
       "</dl>\n"
      ],
      "text/latex": [
       "\\begin{description}\n",
       "\\item[\\$a] 3\n",
       "\\item[\\$b] -0.394283699154202\n",
       "\\end{description}\n"
      ],
      "text/markdown": [
       "$a\n",
       ":   3\n",
       "$b\n",
       ":   -0.394283699154202\n",
       "\n",
       "\n"
      ],
      "text/plain": [
       "$a\n",
       "[1] 3\n",
       "\n",
       "$b\n",
       "[1] -0.3942837\n"
      ]
     },
     "metadata": {},
     "output_type": "display_data"
    }
   ],
   "source": [
    "lapply(x,median)"
   ]
  },
  {
   "cell_type": "code",
   "execution_count": 110,
   "metadata": {},
   "outputs": [
    {
     "data": {
      "text/html": [
       "<dl>\n",
       "\t<dt>$a</dt>\n",
       "\t\t<dd><ol class=list-inline>\n",
       "\t<li>1</li>\n",
       "\t<li>5</li>\n",
       "</ol>\n",
       "</dd>\n",
       "\t<dt>$b</dt>\n",
       "\t\t<dd><ol class=list-inline>\n",
       "\t<li>-2.32371489875719</li>\n",
       "\t<li>0.94724810309025</li>\n",
       "</ol>\n",
       "</dd>\n",
       "</dl>\n"
      ],
      "text/latex": [
       "\\begin{description}\n",
       "\\item[\\$a] \\begin{enumerate*}\n",
       "\\item 1\n",
       "\\item 5\n",
       "\\end{enumerate*}\n",
       "\n",
       "\\item[\\$b] \\begin{enumerate*}\n",
       "\\item -2.32371489875719\n",
       "\\item 0.94724810309025\n",
       "\\end{enumerate*}\n",
       "\n",
       "\\end{description}\n"
      ],
      "text/markdown": [
       "$a\n",
       ":   1. 1\n",
       "2. 5\n",
       "\n",
       "\n",
       "\n",
       "$b\n",
       ":   1. -2.32371489875719\n",
       "2. 0.94724810309025\n",
       "\n",
       "\n",
       "\n",
       "\n",
       "\n"
      ],
      "text/plain": [
       "$a\n",
       "[1] 1 5\n",
       "\n",
       "$b\n",
       "[1] -2.3237149  0.9472481\n"
      ]
     },
     "metadata": {},
     "output_type": "display_data"
    }
   ],
   "source": [
    "lapply(x,range)"
   ]
  },
  {
   "cell_type": "code",
   "execution_count": 111,
   "metadata": {},
   "outputs": [
    {
     "name": "stderr",
     "output_type": "stream",
     "text": [
      "Warning message in FUN(X[[i]], ...):\n",
      "\"NaNs produced\""
     ]
    },
    {
     "data": {
      "text/html": [
       "<dl>\n",
       "\t<dt>$a</dt>\n",
       "\t\t<dd><ol class=list-inline>\n",
       "\t<li>1</li>\n",
       "\t<li>1.4142135623731</li>\n",
       "\t<li>1.73205080756888</li>\n",
       "\t<li>2</li>\n",
       "\t<li>2.23606797749979</li>\n",
       "</ol>\n",
       "</dd>\n",
       "\t<dt>$b</dt>\n",
       "\t\t<dd><ol class=list-inline>\n",
       "\t<li>NaN</li>\n",
       "\t<li>NaN</li>\n",
       "\t<li>NaN</li>\n",
       "\t<li>NaN</li>\n",
       "\t<li>0.684887965982348</li>\n",
       "\t<li>NaN</li>\n",
       "\t<li>NaN</li>\n",
       "\t<li>NaN</li>\n",
       "\t<li>0.709084087517819</li>\n",
       "\t<li>0.973266717344351</li>\n",
       "</ol>\n",
       "</dd>\n",
       "</dl>\n"
      ],
      "text/latex": [
       "\\begin{description}\n",
       "\\item[\\$a] \\begin{enumerate*}\n",
       "\\item 1\n",
       "\\item 1.4142135623731\n",
       "\\item 1.73205080756888\n",
       "\\item 2\n",
       "\\item 2.23606797749979\n",
       "\\end{enumerate*}\n",
       "\n",
       "\\item[\\$b] \\begin{enumerate*}\n",
       "\\item NaN\n",
       "\\item NaN\n",
       "\\item NaN\n",
       "\\item NaN\n",
       "\\item 0.684887965982348\n",
       "\\item NaN\n",
       "\\item NaN\n",
       "\\item NaN\n",
       "\\item 0.709084087517819\n",
       "\\item 0.973266717344351\n",
       "\\end{enumerate*}\n",
       "\n",
       "\\end{description}\n"
      ],
      "text/markdown": [
       "$a\n",
       ":   1. 1\n",
       "2. 1.4142135623731\n",
       "3. 1.73205080756888\n",
       "4. 2\n",
       "5. 2.23606797749979\n",
       "\n",
       "\n",
       "\n",
       "$b\n",
       ":   1. NaN\n",
       "2. NaN\n",
       "3. NaN\n",
       "4. NaN\n",
       "5. 0.684887965982348\n",
       "6. NaN\n",
       "7. NaN\n",
       "8. NaN\n",
       "9. 0.709084087517819\n",
       "10. 0.973266717344351\n",
       "\n",
       "\n",
       "\n",
       "\n",
       "\n"
      ],
      "text/plain": [
       "$a\n",
       "[1] 1.000000 1.414214 1.732051 2.000000 2.236068\n",
       "\n",
       "$b\n",
       " [1]       NaN       NaN       NaN       NaN 0.6848880       NaN       NaN\n",
       " [8]       NaN 0.7090841 0.9732667\n"
      ]
     },
     "metadata": {},
     "output_type": "display_data"
    }
   ],
   "source": [
    "lapply(x,sqrt) #NaN for negative values"
   ]
  },
  {
   "cell_type": "code",
   "execution_count": 112,
   "metadata": {},
   "outputs": [
    {
     "data": {
      "text/html": [
       "<ol class=list-inline>\n",
       "\t<li>1</li>\n",
       "\t<li>2</li>\n",
       "\t<li>3</li>\n",
       "\t<li>4</li>\n",
       "</ol>\n"
      ],
      "text/latex": [
       "\\begin{enumerate*}\n",
       "\\item 1\n",
       "\\item 2\n",
       "\\item 3\n",
       "\\item 4\n",
       "\\end{enumerate*}\n"
      ],
      "text/markdown": [
       "1. 1\n",
       "2. 2\n",
       "3. 3\n",
       "4. 4\n",
       "\n",
       "\n"
      ],
      "text/plain": [
       "[1] 1 2 3 4"
      ]
     },
     "metadata": {},
     "output_type": "display_data"
    },
    {
     "data": {
      "text/html": [
       "<ol>\n",
       "\t<li>0.0701067056506872</li>\n",
       "\t<li><ol class=list-inline>\n",
       "\t<li>0.125736422836781</li>\n",
       "\t<li>0.272511719260365</li>\n",
       "</ol>\n",
       "</li>\n",
       "\t<li><ol class=list-inline>\n",
       "\t<li>0.699657781049609</li>\n",
       "\t<li>0.0223042867146432</li>\n",
       "\t<li>0.206945189740509</li>\n",
       "</ol>\n",
       "</li>\n",
       "\t<li><ol class=list-inline>\n",
       "\t<li>0.945270141121</li>\n",
       "\t<li>0.106926167150959</li>\n",
       "\t<li>0.168142303591594</li>\n",
       "\t<li>0.146806471282616</li>\n",
       "</ol>\n",
       "</li>\n",
       "</ol>\n"
      ],
      "text/latex": [
       "\\begin{enumerate}\n",
       "\\item 0.0701067056506872\n",
       "\\item \\begin{enumerate*}\n",
       "\\item 0.125736422836781\n",
       "\\item 0.272511719260365\n",
       "\\end{enumerate*}\n",
       "\n",
       "\\item \\begin{enumerate*}\n",
       "\\item 0.699657781049609\n",
       "\\item 0.0223042867146432\n",
       "\\item 0.206945189740509\n",
       "\\end{enumerate*}\n",
       "\n",
       "\\item \\begin{enumerate*}\n",
       "\\item 0.945270141121\n",
       "\\item 0.106926167150959\n",
       "\\item 0.168142303591594\n",
       "\\item 0.146806471282616\n",
       "\\end{enumerate*}\n",
       "\n",
       "\\end{enumerate}\n"
      ],
      "text/markdown": [
       "1. 0.0701067056506872\n",
       "2. 1. 0.125736422836781\n",
       "2. 0.272511719260365\n",
       "\n",
       "\n",
       "\n",
       "3. 1. 0.699657781049609\n",
       "2. 0.0223042867146432\n",
       "3. 0.206945189740509\n",
       "\n",
       "\n",
       "\n",
       "4. 1. 0.945270141121\n",
       "2. 0.106926167150959\n",
       "3. 0.168142303591594\n",
       "4. 0.146806471282616\n",
       "\n",
       "\n",
       "\n",
       "\n",
       "\n"
      ],
      "text/plain": [
       "[[1]]\n",
       "[1] 0.07010671\n",
       "\n",
       "[[2]]\n",
       "[1] 0.1257364 0.2725117\n",
       "\n",
       "[[3]]\n",
       "[1] 0.69965778 0.02230429 0.20694519\n",
       "\n",
       "[[4]]\n",
       "[1] 0.9452701 0.1069262 0.1681423 0.1468065\n"
      ]
     },
     "metadata": {},
     "output_type": "display_data"
    }
   ],
   "source": [
    "?runif\n",
    "x <- 1:4\n",
    "x\n",
    "lapply(x,runif) # lapply is kind of for loop"
   ]
  },
  {
   "cell_type": "code",
   "execution_count": 113,
   "metadata": {},
   "outputs": [
    {
     "data": {
      "text/html": [
       "<ol>\n",
       "\t<li>3.94228076213039</li>\n",
       "\t<li><ol class=list-inline>\n",
       "\t<li>4.32339792954735</li>\n",
       "\t<li>2.24552545812912</li>\n",
       "</ol>\n",
       "</li>\n",
       "\t<li><ol class=list-inline>\n",
       "\t<li>1.8452105182223</li>\n",
       "\t<li>4.66958693694323</li>\n",
       "\t<li>0.311384781962261</li>\n",
       "</ol>\n",
       "</li>\n",
       "\t<li><ol class=list-inline>\n",
       "\t<li>3.51256552501582</li>\n",
       "\t<li>1.46741753793322</li>\n",
       "\t<li>0.79007092746906</li>\n",
       "\t<li>4.29963931790553</li>\n",
       "</ol>\n",
       "</li>\n",
       "</ol>\n"
      ],
      "text/latex": [
       "\\begin{enumerate}\n",
       "\\item 3.94228076213039\n",
       "\\item \\begin{enumerate*}\n",
       "\\item 4.32339792954735\n",
       "\\item 2.24552545812912\n",
       "\\end{enumerate*}\n",
       "\n",
       "\\item \\begin{enumerate*}\n",
       "\\item 1.8452105182223\n",
       "\\item 4.66958693694323\n",
       "\\item 0.311384781962261\n",
       "\\end{enumerate*}\n",
       "\n",
       "\\item \\begin{enumerate*}\n",
       "\\item 3.51256552501582\n",
       "\\item 1.46741753793322\n",
       "\\item 0.79007092746906\n",
       "\\item 4.29963931790553\n",
       "\\end{enumerate*}\n",
       "\n",
       "\\end{enumerate}\n"
      ],
      "text/markdown": [
       "1. 3.94228076213039\n",
       "2. 1. 4.32339792954735\n",
       "2. 2.24552545812912\n",
       "\n",
       "\n",
       "\n",
       "3. 1. 1.8452105182223\n",
       "2. 4.66958693694323\n",
       "3. 0.311384781962261\n",
       "\n",
       "\n",
       "\n",
       "4. 1. 3.51256552501582\n",
       "2. 1.46741753793322\n",
       "3. 0.79007092746906\n",
       "4. 4.29963931790553\n",
       "\n",
       "\n",
       "\n",
       "\n",
       "\n"
      ],
      "text/plain": [
       "[[1]]\n",
       "[1] 3.942281\n",
       "\n",
       "[[2]]\n",
       "[1] 4.323398 2.245525\n",
       "\n",
       "[[3]]\n",
       "[1] 1.8452105 4.6695869 0.3113848\n",
       "\n",
       "[[4]]\n",
       "[1] 3.5125655 1.4674175 0.7900709 4.2996393\n"
      ]
     },
     "metadata": {},
     "output_type": "display_data"
    }
   ],
   "source": [
    "lapply(x,runif,0,5) # default random generation range is 0 to 1, this tells to generate 0 to 5"
   ]
  },
  {
   "cell_type": "markdown",
   "metadata": {},
   "source": [
    "#### sapply"
   ]
  },
  {
   "cell_type": "code",
   "execution_count": 136,
   "metadata": {},
   "outputs": [
    {
     "data": {
      "text/html": [
       "'list'"
      ],
      "text/latex": [
       "'list'"
      ],
      "text/markdown": [
       "'list'"
      ],
      "text/plain": [
       "[1] \"list\""
      ]
     },
     "metadata": {},
     "output_type": "display_data"
    }
   ],
   "source": [
    "x <- list(a=1:5, b = rnorm(10))"
   ]
  },
  {
   "cell_type": "code",
   "execution_count": 115,
   "metadata": {},
   "outputs": [
    {
     "data": {
      "text/html": [
       "<dl class=dl-horizontal>\n",
       "\t<dt>a</dt>\n",
       "\t\t<dd>3</dd>\n",
       "\t<dt>b</dt>\n",
       "\t\t<dd>-0.045472251677113</dd>\n",
       "</dl>\n"
      ],
      "text/latex": [
       "\\begin{description*}\n",
       "\\item[a] 3\n",
       "\\item[b] -0.045472251677113\n",
       "\\end{description*}\n"
      ],
      "text/markdown": [
       "a\n",
       ":   3b\n",
       ":   -0.045472251677113\n",
       "\n"
      ],
      "text/plain": [
       "          a           b \n",
       " 3.00000000 -0.04547225 "
      ]
     },
     "metadata": {},
     "output_type": "display_data"
    }
   ],
   "source": [
    "sapply(x,mean) # vector is returned"
   ]
  },
  {
   "cell_type": "code",
   "execution_count": 116,
   "metadata": {},
   "outputs": [
    {
     "data": {
      "text/html": [
       "<table>\n",
       "<thead><tr><th scope=col>a</th><th scope=col>b</th></tr></thead>\n",
       "<tbody>\n",
       "\t<tr><td>1        </td><td>-2.307319</td></tr>\n",
       "\t<tr><td>5        </td><td> 1.848734</td></tr>\n",
       "</tbody>\n",
       "</table>\n"
      ],
      "text/latex": [
       "\\begin{tabular}{ll}\n",
       " a & b\\\\\n",
       "\\hline\n",
       "\t 1         & -2.307319\\\\\n",
       "\t 5         &  1.848734\\\\\n",
       "\\end{tabular}\n"
      ],
      "text/markdown": [
       "\n",
       "a | b | \n",
       "|---|---|\n",
       "| 1         | -2.307319 | \n",
       "| 5         |  1.848734 | \n",
       "\n",
       "\n"
      ],
      "text/plain": [
       "     a b        \n",
       "[1,] 1 -2.307319\n",
       "[2,] 5  1.848734"
      ]
     },
     "metadata": {},
     "output_type": "display_data"
    }
   ],
   "source": [
    "sapply(x,range) # matrix is returned"
   ]
  },
  {
   "cell_type": "code",
   "execution_count": 117,
   "metadata": {},
   "outputs": [
    {
     "name": "stderr",
     "output_type": "stream",
     "text": [
      "Warning message in FUN(X[[i]], ...):\n",
      "\"NaNs produced\""
     ]
    },
    {
     "data": {
      "text/html": [
       "<dl>\n",
       "\t<dt>$a</dt>\n",
       "\t\t<dd><ol class=list-inline>\n",
       "\t<li>1</li>\n",
       "\t<li>1.4142135623731</li>\n",
       "\t<li>1.73205080756888</li>\n",
       "\t<li>2</li>\n",
       "\t<li>2.23606797749979</li>\n",
       "</ol>\n",
       "</dd>\n",
       "\t<dt>$b</dt>\n",
       "\t\t<dd><ol class=list-inline>\n",
       "\t<li>NaN</li>\n",
       "\t<li>NaN</li>\n",
       "\t<li>NaN</li>\n",
       "\t<li>1.35968150547849</li>\n",
       "\t<li>NaN</li>\n",
       "\t<li>NaN</li>\n",
       "\t<li>NaN</li>\n",
       "\t<li>NaN</li>\n",
       "\t<li>1.18547068574174</li>\n",
       "\t<li>1.05074150350448</li>\n",
       "</ol>\n",
       "</dd>\n",
       "</dl>\n"
      ],
      "text/latex": [
       "\\begin{description}\n",
       "\\item[\\$a] \\begin{enumerate*}\n",
       "\\item 1\n",
       "\\item 1.4142135623731\n",
       "\\item 1.73205080756888\n",
       "\\item 2\n",
       "\\item 2.23606797749979\n",
       "\\end{enumerate*}\n",
       "\n",
       "\\item[\\$b] \\begin{enumerate*}\n",
       "\\item NaN\n",
       "\\item NaN\n",
       "\\item NaN\n",
       "\\item 1.35968150547849\n",
       "\\item NaN\n",
       "\\item NaN\n",
       "\\item NaN\n",
       "\\item NaN\n",
       "\\item 1.18547068574174\n",
       "\\item 1.05074150350448\n",
       "\\end{enumerate*}\n",
       "\n",
       "\\end{description}\n"
      ],
      "text/markdown": [
       "$a\n",
       ":   1. 1\n",
       "2. 1.4142135623731\n",
       "3. 1.73205080756888\n",
       "4. 2\n",
       "5. 2.23606797749979\n",
       "\n",
       "\n",
       "\n",
       "$b\n",
       ":   1. NaN\n",
       "2. NaN\n",
       "3. NaN\n",
       "4. 1.35968150547849\n",
       "5. NaN\n",
       "6. NaN\n",
       "7. NaN\n",
       "8. NaN\n",
       "9. 1.18547068574174\n",
       "10. 1.05074150350448\n",
       "\n",
       "\n",
       "\n",
       "\n",
       "\n"
      ],
      "text/plain": [
       "$a\n",
       "[1] 1.000000 1.414214 1.732051 2.000000 2.236068\n",
       "\n",
       "$b\n",
       " [1]      NaN      NaN      NaN 1.359682      NaN      NaN      NaN      NaN\n",
       " [9] 1.185471 1.050742\n"
      ]
     },
     "metadata": {},
     "output_type": "display_data"
    }
   ],
   "source": [
    "sapply(x,sqrt) # List is returned"
   ]
  },
  {
   "cell_type": "markdown",
   "metadata": {},
   "source": [
    "#### vapply"
   ]
  },
  {
   "cell_type": "code",
   "execution_count": 151,
   "metadata": {},
   "outputs": [
    {
     "data": {
      "text/html": [
       "<ol class=list-inline>\n",
       "\t<li>-0.0474336893375295</li>\n",
       "\t<li>0.438907268776305</li>\n",
       "\t<li>0.714366846884601</li>\n",
       "\t<li>1.15429160810742</li>\n",
       "\t<li>2.58263988729402</li>\n",
       "</ol>\n"
      ],
      "text/latex": [
       "\\begin{enumerate*}\n",
       "\\item -0.0474336893375295\n",
       "\\item 0.438907268776305\n",
       "\\item 0.714366846884601\n",
       "\\item 1.15429160810742\n",
       "\\item 2.58263988729402\n",
       "\\end{enumerate*}\n"
      ],
      "text/markdown": [
       "1. -0.0474336893375295\n",
       "2. 0.438907268776305\n",
       "3. 0.714366846884601\n",
       "4. 1.15429160810742\n",
       "5. 2.58263988729402\n",
       "\n",
       "\n"
      ],
      "text/plain": [
       "[1] -0.04743369  0.43890727  0.71436685  1.15429161  2.58263989"
      ]
     },
     "metadata": {},
     "output_type": "display_data"
    }
   ],
   "source": [
    "fivenum(x$b)"
   ]
  },
  {
   "cell_type": "code",
   "execution_count": 133,
   "metadata": {},
   "outputs": [],
   "source": [
    "?vapply"
   ]
  },
  {
   "cell_type": "code",
   "execution_count": 152,
   "metadata": {},
   "outputs": [
    {
     "data": {
      "text/html": [
       "<table>\n",
       "<thead><tr><th></th><th scope=col>a</th><th scope=col>b</th></tr></thead>\n",
       "<tbody>\n",
       "\t<tr><th scope=row>Min.</th><td>1          </td><td>-0.04743369</td></tr>\n",
       "\t<tr><th scope=row>1st Qu. </th><td>2          </td><td> 0.43890727</td></tr>\n",
       "\t<tr><th scope=row>Median</th><td>3          </td><td> 0.71436685</td></tr>\n",
       "\t<tr><th scope=row>3rd Qu. </th><td>4          </td><td> 1.15429161</td></tr>\n",
       "\t<tr><th scope=row>Max.</th><td>5          </td><td> 2.58263989</td></tr>\n",
       "</tbody>\n",
       "</table>\n"
      ],
      "text/latex": [
       "\\begin{tabular}{r|ll}\n",
       "  & a & b\\\\\n",
       "\\hline\n",
       "\tMin. & 1           & -0.04743369\\\\\n",
       "\t1st Qu.  & 2           &  0.43890727\\\\\n",
       "\tMedian & 3           &  0.71436685\\\\\n",
       "\t3rd Qu.  & 4           &  1.15429161\\\\\n",
       "\tMax. & 5           &  2.58263989\\\\\n",
       "\\end{tabular}\n"
      ],
      "text/markdown": [
       "\n",
       "| <!--/--> | a | b | \n",
       "|---|---|---|---|---|\n",
       "| Min. | 1           | -0.04743369 | \n",
       "| 1st Qu.  | 2           |  0.43890727 | \n",
       "| Median | 3           |  0.71436685 | \n",
       "| 3rd Qu.  | 4           |  1.15429161 | \n",
       "| Max. | 5           |  2.58263989 | \n",
       "\n",
       "\n"
      ],
      "text/plain": [
       "         a b          \n",
       "Min.     1 -0.04743369\n",
       "1st Qu.  2  0.43890727\n",
       "Median   3  0.71436685\n",
       "3rd Qu.  4  1.15429161\n",
       "Max.     5  2.58263989"
      ]
     },
     "metadata": {},
     "output_type": "display_data"
    }
   ],
   "source": [
    "\n",
    "vapply(x, fivenum, c(Min. = 0, \"1st Qu. \" = 0, Median = 0, \"3rd Qu. \" = 0, Max. = 0))"
   ]
  },
  {
   "cell_type": "markdown",
   "metadata": {},
   "source": [
    "#### apply"
   ]
  },
  {
   "cell_type": "code",
   "execution_count": 71,
   "metadata": {},
   "outputs": [
    {
     "data": {
      "text/html": [
       "<table>\n",
       "<tbody>\n",
       "\t<tr><td> 1</td><td>11</td><td>21</td><td>31</td><td>41</td></tr>\n",
       "\t<tr><td> 2</td><td>12</td><td>22</td><td>32</td><td>42</td></tr>\n",
       "\t<tr><td> 3</td><td>13</td><td>23</td><td>33</td><td>43</td></tr>\n",
       "\t<tr><td> 4</td><td>14</td><td>24</td><td>34</td><td>44</td></tr>\n",
       "\t<tr><td> 5</td><td>15</td><td>25</td><td>35</td><td>45</td></tr>\n",
       "\t<tr><td> 6</td><td>16</td><td>26</td><td>36</td><td>46</td></tr>\n",
       "\t<tr><td> 7</td><td>17</td><td>27</td><td>37</td><td>47</td></tr>\n",
       "\t<tr><td> 8</td><td>18</td><td>28</td><td>38</td><td>48</td></tr>\n",
       "\t<tr><td> 9</td><td>19</td><td>29</td><td>39</td><td>49</td></tr>\n",
       "\t<tr><td>10</td><td>20</td><td>30</td><td>40</td><td>50</td></tr>\n",
       "</tbody>\n",
       "</table>\n"
      ],
      "text/latex": [
       "\\begin{tabular}{lllll}\n",
       "\t  1 & 11 & 21 & 31 & 41\\\\\n",
       "\t  2 & 12 & 22 & 32 & 42\\\\\n",
       "\t  3 & 13 & 23 & 33 & 43\\\\\n",
       "\t  4 & 14 & 24 & 34 & 44\\\\\n",
       "\t  5 & 15 & 25 & 35 & 45\\\\\n",
       "\t  6 & 16 & 26 & 36 & 46\\\\\n",
       "\t  7 & 17 & 27 & 37 & 47\\\\\n",
       "\t  8 & 18 & 28 & 38 & 48\\\\\n",
       "\t  9 & 19 & 29 & 39 & 49\\\\\n",
       "\t 10 & 20 & 30 & 40 & 50\\\\\n",
       "\\end{tabular}\n"
      ],
      "text/markdown": [
       "\n",
       "|  1 | 11 | 21 | 31 | 41 | \n",
       "|  2 | 12 | 22 | 32 | 42 | \n",
       "|  3 | 13 | 23 | 33 | 43 | \n",
       "|  4 | 14 | 24 | 34 | 44 | \n",
       "|  5 | 15 | 25 | 35 | 45 | \n",
       "|  6 | 16 | 26 | 36 | 46 | \n",
       "|  7 | 17 | 27 | 37 | 47 | \n",
       "|  8 | 18 | 28 | 38 | 48 | \n",
       "|  9 | 19 | 29 | 39 | 49 | \n",
       "| 10 | 20 | 30 | 40 | 50 | \n",
       "\n",
       "\n"
      ],
      "text/plain": [
       "      [,1] [,2] [,3] [,4] [,5]\n",
       " [1,]  1   11   21   31   41  \n",
       " [2,]  2   12   22   32   42  \n",
       " [3,]  3   13   23   33   43  \n",
       " [4,]  4   14   24   34   44  \n",
       " [5,]  5   15   25   35   45  \n",
       " [6,]  6   16   26   36   46  \n",
       " [7,]  7   17   27   37   47  \n",
       " [8,]  8   18   28   38   48  \n",
       " [9,]  9   19   29   39   49  \n",
       "[10,] 10   20   30   40   50  "
      ]
     },
     "metadata": {},
     "output_type": "display_data"
    }
   ],
   "source": [
    "# apply is used to evaluate a function over margines of an array\n",
    "x <- matrix((1:50),10,5)\n",
    "x"
   ]
  },
  {
   "cell_type": "code",
   "execution_count": 72,
   "metadata": {},
   "outputs": [
    {
     "data": {
      "text/html": [
       "<ol class=list-inline>\n",
       "\t<li>5.5</li>\n",
       "\t<li>15.5</li>\n",
       "\t<li>25.5</li>\n",
       "\t<li>35.5</li>\n",
       "\t<li>45.5</li>\n",
       "</ol>\n"
      ],
      "text/latex": [
       "\\begin{enumerate*}\n",
       "\\item 5.5\n",
       "\\item 15.5\n",
       "\\item 25.5\n",
       "\\item 35.5\n",
       "\\item 45.5\n",
       "\\end{enumerate*}\n"
      ],
      "text/markdown": [
       "1. 5.5\n",
       "2. 15.5\n",
       "3. 25.5\n",
       "4. 35.5\n",
       "5. 45.5\n",
       "\n",
       "\n"
      ],
      "text/plain": [
       "[1]  5.5 15.5 25.5 35.5 45.5"
      ]
     },
     "metadata": {},
     "output_type": "display_data"
    }
   ],
   "source": [
    "apply(x,2,mean) # 1 means rows and 2 mens columns"
   ]
  },
  {
   "cell_type": "code",
   "execution_count": 74,
   "metadata": {},
   "outputs": [
    {
     "data": {
      "text/html": [
       "<ol class=list-inline>\n",
       "\t<li>105</li>\n",
       "\t<li>110</li>\n",
       "\t<li>115</li>\n",
       "\t<li>120</li>\n",
       "\t<li>125</li>\n",
       "\t<li>130</li>\n",
       "\t<li>135</li>\n",
       "\t<li>140</li>\n",
       "\t<li>145</li>\n",
       "\t<li>150</li>\n",
       "</ol>\n"
      ],
      "text/latex": [
       "\\begin{enumerate*}\n",
       "\\item 105\n",
       "\\item 110\n",
       "\\item 115\n",
       "\\item 120\n",
       "\\item 125\n",
       "\\item 130\n",
       "\\item 135\n",
       "\\item 140\n",
       "\\item 145\n",
       "\\item 150\n",
       "\\end{enumerate*}\n"
      ],
      "text/markdown": [
       "1. 105\n",
       "2. 110\n",
       "3. 115\n",
       "4. 120\n",
       "5. 125\n",
       "6. 130\n",
       "7. 135\n",
       "8. 140\n",
       "9. 145\n",
       "10. 150\n",
       "\n",
       "\n"
      ],
      "text/plain": [
       " [1] 105 110 115 120 125 130 135 140 145 150"
      ]
     },
     "metadata": {},
     "output_type": "display_data"
    }
   ],
   "source": [
    "apply(x,1,mean)"
   ]
  },
  {
   "cell_type": "code",
   "execution_count": 75,
   "metadata": {},
   "outputs": [
    {
     "data": {
      "text/html": [
       "<ol class=list-inline>\n",
       "\t<li>1</li>\n",
       "\t<li>2</li>\n",
       "\t<li>3</li>\n",
       "\t<li>4</li>\n",
       "\t<li>5</li>\n",
       "\t<li>6</li>\n",
       "\t<li>7</li>\n",
       "\t<li>8</li>\n",
       "\t<li>9</li>\n",
       "\t<li>10</li>\n",
       "\t<li>11</li>\n",
       "\t<li>12</li>\n",
       "\t<li>13</li>\n",
       "\t<li>14</li>\n",
       "\t<li>15</li>\n",
       "\t<li>16</li>\n",
       "\t<li>17</li>\n",
       "\t<li>18</li>\n",
       "\t<li>19</li>\n",
       "\t<li>20</li>\n",
       "\t<li>21</li>\n",
       "\t<li>22</li>\n",
       "\t<li>23</li>\n",
       "\t<li>24</li>\n",
       "\t<li>25</li>\n",
       "\t<li>26</li>\n",
       "\t<li>27</li>\n",
       "\t<li>28</li>\n",
       "\t<li>29</li>\n",
       "\t<li>30</li>\n",
       "\t<li>31</li>\n",
       "\t<li>32</li>\n",
       "\t<li>33</li>\n",
       "\t<li>34</li>\n",
       "\t<li>35</li>\n",
       "\t<li>36</li>\n",
       "\t<li>37</li>\n",
       "\t<li>38</li>\n",
       "\t<li>39</li>\n",
       "\t<li>40</li>\n",
       "</ol>\n"
      ],
      "text/latex": [
       "\\begin{enumerate*}\n",
       "\\item 1\n",
       "\\item 2\n",
       "\\item 3\n",
       "\\item 4\n",
       "\\item 5\n",
       "\\item 6\n",
       "\\item 7\n",
       "\\item 8\n",
       "\\item 9\n",
       "\\item 10\n",
       "\\item 11\n",
       "\\item 12\n",
       "\\item 13\n",
       "\\item 14\n",
       "\\item 15\n",
       "\\item 16\n",
       "\\item 17\n",
       "\\item 18\n",
       "\\item 19\n",
       "\\item 20\n",
       "\\item 21\n",
       "\\item 22\n",
       "\\item 23\n",
       "\\item 24\n",
       "\\item 25\n",
       "\\item 26\n",
       "\\item 27\n",
       "\\item 28\n",
       "\\item 29\n",
       "\\item 30\n",
       "\\item 31\n",
       "\\item 32\n",
       "\\item 33\n",
       "\\item 34\n",
       "\\item 35\n",
       "\\item 36\n",
       "\\item 37\n",
       "\\item 38\n",
       "\\item 39\n",
       "\\item 40\n",
       "\\end{enumerate*}\n"
      ],
      "text/markdown": [
       "1. 1\n",
       "2. 2\n",
       "3. 3\n",
       "4. 4\n",
       "5. 5\n",
       "6. 6\n",
       "7. 7\n",
       "8. 8\n",
       "9. 9\n",
       "10. 10\n",
       "11. 11\n",
       "12. 12\n",
       "13. 13\n",
       "14. 14\n",
       "15. 15\n",
       "16. 16\n",
       "17. 17\n",
       "18. 18\n",
       "19. 19\n",
       "20. 20\n",
       "21. 21\n",
       "22. 22\n",
       "23. 23\n",
       "24. 24\n",
       "25. 25\n",
       "26. 26\n",
       "27. 27\n",
       "28. 28\n",
       "29. 29\n",
       "30. 30\n",
       "31. 31\n",
       "32. 32\n",
       "33. 33\n",
       "34. 34\n",
       "35. 35\n",
       "36. 36\n",
       "37. 37\n",
       "38. 38\n",
       "39. 39\n",
       "40. 40\n",
       "\n",
       "\n"
      ],
      "text/plain": [
       ", , 1\n",
       "\n",
       "     [,1] [,2]\n",
       "[1,]    1    3\n",
       "[2,]    2    4\n",
       "\n",
       ", , 2\n",
       "\n",
       "     [,1] [,2]\n",
       "[1,]    5    7\n",
       "[2,]    6    8\n",
       "\n",
       ", , 3\n",
       "\n",
       "     [,1] [,2]\n",
       "[1,]    9   11\n",
       "[2,]   10   12\n",
       "\n",
       ", , 4\n",
       "\n",
       "     [,1] [,2]\n",
       "[1,]   13   15\n",
       "[2,]   14   16\n",
       "\n",
       ", , 5\n",
       "\n",
       "     [,1] [,2]\n",
       "[1,]   17   19\n",
       "[2,]   18   20\n",
       "\n",
       ", , 6\n",
       "\n",
       "     [,1] [,2]\n",
       "[1,]   21   23\n",
       "[2,]   22   24\n",
       "\n",
       ", , 7\n",
       "\n",
       "     [,1] [,2]\n",
       "[1,]   25   27\n",
       "[2,]   26   28\n",
       "\n",
       ", , 8\n",
       "\n",
       "     [,1] [,2]\n",
       "[1,]   29   31\n",
       "[2,]   30   32\n",
       "\n",
       ", , 9\n",
       "\n",
       "     [,1] [,2]\n",
       "[1,]   33   35\n",
       "[2,]   34   36\n",
       "\n",
       ", , 10\n",
       "\n",
       "     [,1] [,2]\n",
       "[1,]   37   39\n",
       "[2,]   38   40\n"
      ]
     },
     "metadata": {},
     "output_type": "display_data"
    }
   ],
   "source": [
    "y <- array((1:40),c(2,2,10)) #c(2,2,10) is diamention row, column, pages\n",
    "y"
   ]
  },
  {
   "cell_type": "code",
   "execution_count": 76,
   "metadata": {},
   "outputs": [
    {
     "data": {
      "text/html": [
       "<table>\n",
       "<tbody>\n",
       "\t<tr><td>190</td><td>210</td></tr>\n",
       "\t<tr><td>200</td><td>220</td></tr>\n",
       "</tbody>\n",
       "</table>\n"
      ],
      "text/latex": [
       "\\begin{tabular}{ll}\n",
       "\t 190 & 210\\\\\n",
       "\t 200 & 220\\\\\n",
       "\\end{tabular}\n"
      ],
      "text/markdown": [
       "\n",
       "| 190 | 210 | \n",
       "| 200 | 220 | \n",
       "\n",
       "\n"
      ],
      "text/plain": [
       "     [,1] [,2]\n",
       "[1,] 190  210 \n",
       "[2,] 200  220 "
      ]
     },
     "metadata": {},
     "output_type": "display_data"
    },
    {
     "data": {
      "text/html": [
       "<ol class=list-inline>\n",
       "\t<li>2.5</li>\n",
       "\t<li>6.5</li>\n",
       "\t<li>10.5</li>\n",
       "\t<li>14.5</li>\n",
       "\t<li>18.5</li>\n",
       "\t<li>22.5</li>\n",
       "\t<li>26.5</li>\n",
       "\t<li>30.5</li>\n",
       "\t<li>34.5</li>\n",
       "\t<li>38.5</li>\n",
       "</ol>\n"
      ],
      "text/latex": [
       "\\begin{enumerate*}\n",
       "\\item 2.5\n",
       "\\item 6.5\n",
       "\\item 10.5\n",
       "\\item 14.5\n",
       "\\item 18.5\n",
       "\\item 22.5\n",
       "\\item 26.5\n",
       "\\item 30.5\n",
       "\\item 34.5\n",
       "\\item 38.5\n",
       "\\end{enumerate*}\n"
      ],
      "text/markdown": [
       "1. 2.5\n",
       "2. 6.5\n",
       "3. 10.5\n",
       "4. 14.5\n",
       "5. 18.5\n",
       "6. 22.5\n",
       "7. 26.5\n",
       "8. 30.5\n",
       "9. 34.5\n",
       "10. 38.5\n",
       "\n",
       "\n"
      ],
      "text/plain": [
       " [1]  2.5  6.5 10.5 14.5 18.5 22.5 26.5 30.5 34.5 38.5"
      ]
     },
     "metadata": {},
     "output_type": "display_data"
    }
   ],
   "source": [
    "apply(y, c(1,2),sum) #sum of both rows and columns, row:columns - 1:1,1:2,2:1,2:2\n",
    "apply(y,3,mean) #sum over pages"
   ]
  },
  {
   "cell_type": "markdown",
   "metadata": {},
   "source": [
    "#### tapply"
   ]
  },
  {
   "cell_type": "code",
   "execution_count": 80,
   "metadata": {},
   "outputs": [
    {
     "data": {
      "text/html": [
       "<ol class=list-inline>\n",
       "\t<li>165.54683781229</li>\n",
       "\t<li>166.670232564211</li>\n",
       "\t<li>163.866754467599</li>\n",
       "\t<li>150.377743244171</li>\n",
       "\t<li>161.641474072821</li>\n",
       "\t<li>177.519864612259</li>\n",
       "\t<li>175.452886163257</li>\n",
       "\t<li>162.403178089298</li>\n",
       "\t<li>168.259413647465</li>\n",
       "\t<li>174.151452607475</li>\n",
       "</ol>\n"
      ],
      "text/latex": [
       "\\begin{enumerate*}\n",
       "\\item 165.54683781229\n",
       "\\item 166.670232564211\n",
       "\\item 163.866754467599\n",
       "\\item 150.377743244171\n",
       "\\item 161.641474072821\n",
       "\\item 177.519864612259\n",
       "\\item 175.452886163257\n",
       "\\item 162.403178089298\n",
       "\\item 168.259413647465\n",
       "\\item 174.151452607475\n",
       "\\end{enumerate*}\n"
      ],
      "text/markdown": [
       "1. 165.54683781229\n",
       "2. 166.670232564211\n",
       "3. 163.866754467599\n",
       "4. 150.377743244171\n",
       "5. 161.641474072821\n",
       "6. 177.519864612259\n",
       "7. 175.452886163257\n",
       "8. 162.403178089298\n",
       "9. 168.259413647465\n",
       "10. 174.151452607475\n",
       "\n",
       "\n"
      ],
      "text/plain": [
       " [1] 165.5468 166.6702 163.8668 150.3777 161.6415 177.5199 175.4529 162.4032\n",
       " [9] 168.2594 174.1515"
      ]
     },
     "metadata": {},
     "output_type": "display_data"
    },
    {
     "data": {
      "text/html": [
       "<ol class=list-inline>\n",
       "\t<li>'F'</li>\n",
       "\t<li>'F'</li>\n",
       "\t<li>'F'</li>\n",
       "\t<li>'F'</li>\n",
       "\t<li>'F'</li>\n",
       "\t<li>'M'</li>\n",
       "\t<li>'M'</li>\n",
       "\t<li>'M'</li>\n",
       "\t<li>'M'</li>\n",
       "\t<li>'M'</li>\n",
       "</ol>\n"
      ],
      "text/latex": [
       "\\begin{enumerate*}\n",
       "\\item 'F'\n",
       "\\item 'F'\n",
       "\\item 'F'\n",
       "\\item 'F'\n",
       "\\item 'F'\n",
       "\\item 'M'\n",
       "\\item 'M'\n",
       "\\item 'M'\n",
       "\\item 'M'\n",
       "\\item 'M'\n",
       "\\end{enumerate*}\n"
      ],
      "text/markdown": [
       "1. 'F'\n",
       "2. 'F'\n",
       "3. 'F'\n",
       "4. 'F'\n",
       "5. 'F'\n",
       "6. 'M'\n",
       "7. 'M'\n",
       "8. 'M'\n",
       "9. 'M'\n",
       "10. 'M'\n",
       "\n",
       "\n"
      ],
      "text/plain": [
       " [1] \"F\" \"F\" \"F\" \"F\" \"F\" \"M\" \"M\" \"M\" \"M\" \"M\""
      ]
     },
     "metadata": {},
     "output_type": "display_data"
    },
    {
     "name": "stderr",
     "output_type": "stream",
     "text": [
      "ERROR while rich displaying an object: Error in dn[[2L]]: subscript out of bounds\n",
      "\n",
      "Traceback:\n",
      "1. FUN(X[[i]], ...)\n",
      "2. tryCatch(withCallingHandlers({\n",
      " .     rpr <- mime2repr[[mime]](obj)\n",
      " .     if (is.null(rpr)) \n",
      " .         return(NULL)\n",
      " .     prepare_content(is.raw(rpr), rpr)\n",
      " . }, error = error_handler), error = outer_handler)\n",
      "3. tryCatchList(expr, classes, parentenv, handlers)\n",
      "4. tryCatchOne(expr, names, parentenv, handlers[[1L]])\n",
      "5. doTryCatch(return(expr), name, parentenv, handler)\n",
      "6. withCallingHandlers({\n",
      " .     rpr <- mime2repr[[mime]](obj)\n",
      " .     if (is.null(rpr)) \n",
      " .         return(NULL)\n",
      " .     prepare_content(is.raw(rpr), rpr)\n",
      " . }, error = error_handler)\n",
      "7. mime2repr[[mime]](obj)\n",
      "8. repr_markdown.numeric(obj)\n",
      "9. repr_vector_generic(html_escape_names(obj), \"%s. %s\\n\", \"%s\\n:   %s\", \n",
      " .     \"**%s:** %s\", \"%s\\n\\n\", item_uses_numbers = TRUE, escape_fun = html_escape)\n",
      "10. html_escape_names(obj)\n",
      "11. .escape_names(obj, \"html\")\n",
      "12. colnames(obj)\n",
      "ERROR while rich displaying an object: Error in dn[[2L]]: subscript out of bounds\n",
      "\n",
      "Traceback:\n",
      "1. FUN(X[[i]], ...)\n",
      "2. tryCatch(withCallingHandlers({\n",
      " .     rpr <- mime2repr[[mime]](obj)\n",
      " .     if (is.null(rpr)) \n",
      " .         return(NULL)\n",
      " .     prepare_content(is.raw(rpr), rpr)\n",
      " . }, error = error_handler), error = outer_handler)\n",
      "3. tryCatchList(expr, classes, parentenv, handlers)\n",
      "4. tryCatchOne(expr, names, parentenv, handlers[[1L]])\n",
      "5. doTryCatch(return(expr), name, parentenv, handler)\n",
      "6. withCallingHandlers({\n",
      " .     rpr <- mime2repr[[mime]](obj)\n",
      " .     if (is.null(rpr)) \n",
      " .         return(NULL)\n",
      " .     prepare_content(is.raw(rpr), rpr)\n",
      " . }, error = error_handler)\n",
      "7. mime2repr[[mime]](obj)\n",
      "8. repr_latex.numeric(obj)\n",
      "9. repr_vector_generic(latex_escape_names(obj), \"\\\\item %s\\n\", \"\\\\item[%s] %s\\n\", \n",
      " .     \"\\\\textbf{%s:} %s\", enum_wrap = \"\\\\begin{enumerate*}\\n%s\\\\end{enumerate*}\\n\", \n",
      " .     named_wrap = \"\\\\begin{description*}\\n%s\\\\end{description*}\\n\", \n",
      " .     only_named_item = \"\\\\textbf{%s:} %s\", escape_fun = latex_escape)\n",
      "10. latex_escape_names(obj)\n",
      "11. .escape_names(obj, \"latex\")\n",
      "12. colnames(obj)\n"
     ]
    },
    {
     "data": {
      "text/html": [
       "<dl class=dl-horizontal>\n",
       "\t<dt>F</dt>\n",
       "\t\t<dd>161.620608432218</dd>\n",
       "\t<dt>M</dt>\n",
       "\t\t<dd>171.557359023951</dd>\n",
       "</dl>\n"
      ],
      "text/plain": [
       "       F        M \n",
       "161.6206 171.5574 "
      ]
     },
     "metadata": {},
     "output_type": "display_data"
    }
   ],
   "source": [
    "x <- c(runif(5,150,170), runif(5,160,180))\n",
    "x\n",
    "f <- c(rep(\"F\",5),rep(\"M\",5))\n",
    "f\n",
    "tapply(x,f,mean,simplify = TRUE) #tapply(x,INDEX,FUN,simplyfy)"
   ]
  },
  {
   "cell_type": "markdown",
   "metadata": {},
   "source": [
    "#### mapply"
   ]
  },
  {
   "cell_type": "code",
   "execution_count": 84,
   "metadata": {},
   "outputs": [
    {
     "data": {
      "text/html": [
       "<pre class=language-r><code>.Primitive(\"rep\")</code></pre>"
      ],
      "text/latex": [
       "\\begin{minted}{r}\n",
       ".Primitive(\"rep\")\n",
       "\\end{minted}"
      ],
      "text/markdown": [
       "```r\n",
       ".Primitive(\"rep\")\n",
       "```"
      ],
      "text/plain": [
       "function (x, ...)  .Primitive(\"rep\")"
      ]
     },
     "metadata": {},
     "output_type": "display_data"
    },
    {
     "data": {
      "text/html": [
       "<ol>\n",
       "\t<li>1</li>\n",
       "\t<li><ol class=list-inline>\n",
       "\t<li>2</li>\n",
       "\t<li>2</li>\n",
       "</ol>\n",
       "</li>\n",
       "</ol>\n"
      ],
      "text/latex": [
       "\\begin{enumerate}\n",
       "\\item 1\n",
       "\\item \\begin{enumerate*}\n",
       "\\item 2\n",
       "\\item 2\n",
       "\\end{enumerate*}\n",
       "\n",
       "\\end{enumerate}\n"
      ],
      "text/markdown": [
       "1. 1\n",
       "2. 1. 2\n",
       "2. 2\n",
       "\n",
       "\n",
       "\n",
       "\n",
       "\n"
      ],
      "text/plain": [
       "[[1]]\n",
       "[1] 1\n",
       "\n",
       "[[2]]\n",
       "[1] 2 2\n"
      ]
     },
     "metadata": {},
     "output_type": "display_data"
    }
   ],
   "source": [
    "mapply(rep, c(1,2),c(1,2)) #multivariate apply - multiple x"
   ]
  },
  {
   "cell_type": "code",
   "execution_count": 82,
   "metadata": {},
   "outputs": [
    {
     "data": {
      "text/html": [
       "<ol>\n",
       "\t<li><ol class=list-inline>\n",
       "\t<li>1</li>\n",
       "\t<li>1</li>\n",
       "\t<li>1</li>\n",
       "\t<li>1</li>\n",
       "</ol>\n",
       "</li>\n",
       "\t<li><ol class=list-inline>\n",
       "\t<li>2</li>\n",
       "\t<li>2</li>\n",
       "\t<li>2</li>\n",
       "</ol>\n",
       "</li>\n",
       "\t<li><ol class=list-inline>\n",
       "\t<li>3</li>\n",
       "\t<li>3</li>\n",
       "</ol>\n",
       "</li>\n",
       "\t<li>4</li>\n",
       "</ol>\n"
      ],
      "text/latex": [
       "\\begin{enumerate}\n",
       "\\item \\begin{enumerate*}\n",
       "\\item 1\n",
       "\\item 1\n",
       "\\item 1\n",
       "\\item 1\n",
       "\\end{enumerate*}\n",
       "\n",
       "\\item \\begin{enumerate*}\n",
       "\\item 2\n",
       "\\item 2\n",
       "\\item 2\n",
       "\\end{enumerate*}\n",
       "\n",
       "\\item \\begin{enumerate*}\n",
       "\\item 3\n",
       "\\item 3\n",
       "\\end{enumerate*}\n",
       "\n",
       "\\item 4\n",
       "\\end{enumerate}\n"
      ],
      "text/markdown": [
       "1. 1. 1\n",
       "2. 1\n",
       "3. 1\n",
       "4. 1\n",
       "\n",
       "\n",
       "\n",
       "2. 1. 2\n",
       "2. 2\n",
       "3. 2\n",
       "\n",
       "\n",
       "\n",
       "3. 1. 3\n",
       "2. 3\n",
       "\n",
       "\n",
       "\n",
       "4. 4\n",
       "\n",
       "\n"
      ],
      "text/plain": [
       "[[1]]\n",
       "[1] 1 1 1 1\n",
       "\n",
       "[[2]]\n",
       "[1] 2 2 2\n",
       "\n",
       "[[3]]\n",
       "[1] 3 3\n",
       "\n",
       "[[4]]\n",
       "[1] 4\n"
      ]
     },
     "metadata": {},
     "output_type": "display_data"
    },
    {
     "data": {
      "text/html": [
       "<ol>\n",
       "\t<li><ol class=list-inline>\n",
       "\t<li>1</li>\n",
       "\t<li>2</li>\n",
       "\t<li>3</li>\n",
       "\t<li>4</li>\n",
       "\t<li>5</li>\n",
       "\t<li>6</li>\n",
       "\t<li>7</li>\n",
       "\t<li>8</li>\n",
       "\t<li>9</li>\n",
       "\t<li>10</li>\n",
       "</ol>\n",
       "</li>\n",
       "\t<li><ol class=list-inline>\n",
       "\t<li>11</li>\n",
       "\t<li>12</li>\n",
       "\t<li>13</li>\n",
       "\t<li>14</li>\n",
       "\t<li>15</li>\n",
       "\t<li>16</li>\n",
       "\t<li>17</li>\n",
       "\t<li>18</li>\n",
       "\t<li>19</li>\n",
       "\t<li>20</li>\n",
       "</ol>\n",
       "</li>\n",
       "</ol>\n"
      ],
      "text/latex": [
       "\\begin{enumerate}\n",
       "\\item \\begin{enumerate*}\n",
       "\\item 1\n",
       "\\item 2\n",
       "\\item 3\n",
       "\\item 4\n",
       "\\item 5\n",
       "\\item 6\n",
       "\\item 7\n",
       "\\item 8\n",
       "\\item 9\n",
       "\\item 10\n",
       "\\end{enumerate*}\n",
       "\n",
       "\\item \\begin{enumerate*}\n",
       "\\item 11\n",
       "\\item 12\n",
       "\\item 13\n",
       "\\item 14\n",
       "\\item 15\n",
       "\\item 16\n",
       "\\item 17\n",
       "\\item 18\n",
       "\\item 19\n",
       "\\item 20\n",
       "\\end{enumerate*}\n",
       "\n",
       "\\end{enumerate}\n"
      ],
      "text/markdown": [
       "1. 1. 1\n",
       "2. 2\n",
       "3. 3\n",
       "4. 4\n",
       "5. 5\n",
       "6. 6\n",
       "7. 7\n",
       "8. 8\n",
       "9. 9\n",
       "10. 10\n",
       "\n",
       "\n",
       "\n",
       "2. 1. 11\n",
       "2. 12\n",
       "3. 13\n",
       "4. 14\n",
       "5. 15\n",
       "6. 16\n",
       "7. 17\n",
       "8. 18\n",
       "9. 19\n",
       "10. 20\n",
       "\n",
       "\n",
       "\n",
       "\n",
       "\n"
      ],
      "text/plain": [
       "[[1]]\n",
       " [1]  1  2  3  4  5  6  7  8  9 10\n",
       "\n",
       "[[2]]\n",
       " [1] 11 12 13 14 15 16 17 18 19 20\n"
      ]
     },
     "metadata": {},
     "output_type": "display_data"
    },
    {
     "data": {
      "text/html": [
       "<ol class=list-inline>\n",
       "\t<li>59</li>\n",
       "\t<li>161</li>\n",
       "\t<li>61</li>\n",
       "\t<li>159</li>\n",
       "</ol>\n"
      ],
      "text/latex": [
       "\\begin{enumerate*}\n",
       "\\item 59\n",
       "\\item 161\n",
       "\\item 61\n",
       "\\item 159\n",
       "\\end{enumerate*}\n"
      ],
      "text/markdown": [
       "1. 59\n",
       "2. 161\n",
       "3. 61\n",
       "4. 159\n",
       "\n",
       "\n"
      ],
      "text/plain": [
       "[1]  59 161  61 159"
      ]
     },
     "metadata": {},
     "output_type": "display_data"
    }
   ],
   "source": [
    "# 1 - 4 times\n",
    "# 2 - 3\n",
    "# 3 - 2\n",
    "# 4 - 1\n",
    "\n",
    "x <- mapply(rep, 1:4, 4:1)\n",
    "x\n",
    "y <- list(1:10, 11:20)\n",
    "y\n",
    "mapply(sum,x,y)"
   ]
  },
  {
   "cell_type": "code",
   "execution_count": 85,
   "metadata": {},
   "outputs": [
    {
     "data": {
      "text/html": [
       "<ol>\n",
       "\t<li><ol class=list-inline>\n",
       "\t<li>5</li>\n",
       "\t<li>5.5</li>\n",
       "\t<li>6</li>\n",
       "\t<li>6.5</li>\n",
       "\t<li>7</li>\n",
       "\t<li>7.5</li>\n",
       "\t<li>8</li>\n",
       "\t<li>8.5</li>\n",
       "\t<li>9</li>\n",
       "\t<li>9.5</li>\n",
       "\t<li>10</li>\n",
       "</ol>\n",
       "</li>\n",
       "\t<li><ol class=list-inline>\n",
       "\t<li>6</li>\n",
       "\t<li>7</li>\n",
       "\t<li>8</li>\n",
       "\t<li>9</li>\n",
       "\t<li>10</li>\n",
       "\t<li>11</li>\n",
       "\t<li>12</li>\n",
       "\t<li>13</li>\n",
       "\t<li>14</li>\n",
       "\t<li>15</li>\n",
       "\t<li>16</li>\n",
       "\t<li>17</li>\n",
       "\t<li>18</li>\n",
       "\t<li>19</li>\n",
       "\t<li>20</li>\n",
       "</ol>\n",
       "</li>\n",
       "</ol>\n"
      ],
      "text/latex": [
       "\\begin{enumerate}\n",
       "\\item \\begin{enumerate*}\n",
       "\\item 5\n",
       "\\item 5.5\n",
       "\\item 6\n",
       "\\item 6.5\n",
       "\\item 7\n",
       "\\item 7.5\n",
       "\\item 8\n",
       "\\item 8.5\n",
       "\\item 9\n",
       "\\item 9.5\n",
       "\\item 10\n",
       "\\end{enumerate*}\n",
       "\n",
       "\\item \\begin{enumerate*}\n",
       "\\item 6\n",
       "\\item 7\n",
       "\\item 8\n",
       "\\item 9\n",
       "\\item 10\n",
       "\\item 11\n",
       "\\item 12\n",
       "\\item 13\n",
       "\\item 14\n",
       "\\item 15\n",
       "\\item 16\n",
       "\\item 17\n",
       "\\item 18\n",
       "\\item 19\n",
       "\\item 20\n",
       "\\end{enumerate*}\n",
       "\n",
       "\\end{enumerate}\n"
      ],
      "text/markdown": [
       "1. 1. 5\n",
       "2. 5.5\n",
       "3. 6\n",
       "4. 6.5\n",
       "5. 7\n",
       "6. 7.5\n",
       "7. 8\n",
       "8. 8.5\n",
       "9. 9\n",
       "10. 9.5\n",
       "11. 10\n",
       "\n",
       "\n",
       "\n",
       "2. 1. 6\n",
       "2. 7\n",
       "3. 8\n",
       "4. 9\n",
       "5. 10\n",
       "6. 11\n",
       "7. 12\n",
       "8. 13\n",
       "9. 14\n",
       "10. 15\n",
       "11. 16\n",
       "12. 17\n",
       "13. 18\n",
       "14. 19\n",
       "15. 20\n",
       "\n",
       "\n",
       "\n",
       "\n",
       "\n"
      ],
      "text/plain": [
       "[[1]]\n",
       " [1]  5.0  5.5  6.0  6.5  7.0  7.5  8.0  8.5  9.0  9.5 10.0\n",
       "\n",
       "[[2]]\n",
       " [1]  6  7  8  9 10 11 12 13 14 15 16 17 18 19 20\n"
      ]
     },
     "metadata": {},
     "output_type": "display_data"
    }
   ],
   "source": [
    "mapply(seq,c(5,6),c(10,20),c(0.5,1))\n",
    "#start with 5 end at 10 increment by 0.5\n",
    "#start with 6 end at 20 increment by 1"
   ]
  },
  {
   "cell_type": "code",
   "execution_count": null,
   "metadata": {},
   "outputs": [],
   "source": []
  },
  {
   "cell_type": "code",
   "execution_count": null,
   "metadata": {},
   "outputs": [],
   "source": []
  }
 ],
 "metadata": {
  "kernelspec": {
   "display_name": "R",
   "language": "R",
   "name": "ir"
  },
  "language_info": {
   "codemirror_mode": "r",
   "file_extension": ".r",
   "mimetype": "text/x-r-source",
   "name": "R",
   "pygments_lexer": "r",
   "version": "3.5.1"
  }
 },
 "nbformat": 4,
 "nbformat_minor": 2
}
