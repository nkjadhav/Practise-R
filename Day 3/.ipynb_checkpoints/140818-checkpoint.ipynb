{
 "cells": [
  {
   "cell_type": "markdown",
   "metadata": {},
   "source": [
    "#### Matrix Multiplicaton\n",
    "- x+2y+3z=6\n",
    "- 2x+3y+z=6\n",
    "- x+y+5z=7\n",
    "\n",
    "- |1 2 3| |x| |6|\n",
    "- |2 3 1|*|y|=|6|\n",
    "- |1 1 5| |z| |7|\n",
    "\n",
    "x=A'B\n",
    "x=ginv(A)%*%B"
   ]
  },
  {
   "cell_type": "code",
   "execution_count": 2,
   "metadata": {},
   "outputs": [],
   "source": [
    "library(MASS)"
   ]
  },
  {
   "cell_type": "code",
   "execution_count": 15,
   "metadata": {},
   "outputs": [
    {
     "data": {
      "text/html": [
       "<table>\n",
       "<tbody>\n",
       "\t<tr><td>1</td><td>2</td><td>3</td></tr>\n",
       "\t<tr><td>2</td><td>3</td><td>1</td></tr>\n",
       "\t<tr><td>1</td><td>1</td><td>5</td></tr>\n",
       "</tbody>\n",
       "</table>\n"
      ],
      "text/latex": [
       "\\begin{tabular}{lll}\n",
       "\t 1 & 2 & 3\\\\\n",
       "\t 2 & 3 & 1\\\\\n",
       "\t 1 & 1 & 5\\\\\n",
       "\\end{tabular}\n"
      ],
      "text/markdown": [
       "\n",
       "| 1 | 2 | 3 | \n",
       "| 2 | 3 | 1 | \n",
       "| 1 | 1 | 5 | \n",
       "\n",
       "\n"
      ],
      "text/plain": [
       "     [,1] [,2] [,3]\n",
       "[1,] 1    2    3   \n",
       "[2,] 2    3    1   \n",
       "[3,] 1    1    5   "
      ]
     },
     "metadata": {},
     "output_type": "display_data"
    },
    {
     "data": {
      "text/html": [
       "<ol class=list-inline>\n",
       "\t<li>6</li>\n",
       "\t<li>6</li>\n",
       "\t<li>7</li>\n",
       "</ol>\n"
      ],
      "text/latex": [
       "\\begin{enumerate*}\n",
       "\\item 6\n",
       "\\item 6\n",
       "\\item 7\n",
       "\\end{enumerate*}\n"
      ],
      "text/markdown": [
       "1. 6\n",
       "2. 6\n",
       "3. 7\n",
       "\n",
       "\n"
      ],
      "text/plain": [
       "[1] 6 6 7"
      ]
     },
     "metadata": {},
     "output_type": "display_data"
    },
    {
     "data": {
      "text/html": [
       "<table>\n",
       "<tbody>\n",
       "\t<tr><td>1.000000e+00 </td><td>-8.881784e-16</td><td> 1.776357e-15</td></tr>\n",
       "\t<tr><td>7.771561e-16 </td><td> 1.000000e+00</td><td>-1.332268e-15</td></tr>\n",
       "\t<tr><td>2.498002e-16 </td><td> 3.053113e-16</td><td> 1.000000e+00</td></tr>\n",
       "</tbody>\n",
       "</table>\n"
      ],
      "text/latex": [
       "\\begin{tabular}{lll}\n",
       "\t 1.000000e+00  & -8.881784e-16 &  1.776357e-15\\\\\n",
       "\t 7.771561e-16  &  1.000000e+00 & -1.332268e-15\\\\\n",
       "\t 2.498002e-16  &  3.053113e-16 &  1.000000e+00\\\\\n",
       "\\end{tabular}\n"
      ],
      "text/markdown": [
       "\n",
       "| 1.000000e+00  | -8.881784e-16 |  1.776357e-15 | \n",
       "| 7.771561e-16  |  1.000000e+00 | -1.332268e-15 | \n",
       "| 2.498002e-16  |  3.053113e-16 |  1.000000e+00 | \n",
       "\n",
       "\n"
      ],
      "text/plain": [
       "     [,1]         [,2]          [,3]         \n",
       "[1,] 1.000000e+00 -8.881784e-16  1.776357e-15\n",
       "[2,] 7.771561e-16  1.000000e+00 -1.332268e-15\n",
       "[3,] 2.498002e-16  3.053113e-16  1.000000e+00"
      ]
     },
     "metadata": {},
     "output_type": "display_data"
    },
    {
     "data": {
      "text/html": [
       "<table>\n",
       "<tbody>\n",
       "\t<tr><td>1</td></tr>\n",
       "\t<tr><td>1</td></tr>\n",
       "\t<tr><td>1</td></tr>\n",
       "</tbody>\n",
       "</table>\n"
      ],
      "text/latex": [
       "\\begin{tabular}{l}\n",
       "\t 1\\\\\n",
       "\t 1\\\\\n",
       "\t 1\\\\\n",
       "\\end{tabular}\n"
      ],
      "text/markdown": [
       "\n",
       "| 1 | \n",
       "| 1 | \n",
       "| 1 | \n",
       "\n",
       "\n"
      ],
      "text/plain": [
       "     [,1]\n",
       "[1,] 1   \n",
       "[2,] 1   \n",
       "[3,] 1   "
      ]
     },
     "metadata": {},
     "output_type": "display_data"
    }
   ],
   "source": [
    "A<-matrix(c(1,2,1,2,3,1,3,1,5),3,3) #filled columnwise\n",
    "A\n",
    "B<-c(6,6,7)\n",
    "B\n",
    "ginv(A)%*%A\n",
    "x<-ginv(A)%*%B\n",
    "x"
   ]
  },
  {
   "cell_type": "markdown",
   "metadata": {},
   "source": [
    "#### Arrarys with moe than two diamention"
   ]
  },
  {
   "cell_type": "code",
   "execution_count": 8,
   "metadata": {},
   "outputs": [
    {
     "data": {
      "text/html": [
       "<ol class=list-inline>\n",
       "\t<li>1</li>\n",
       "\t<li>2</li>\n",
       "\t<li>3</li>\n",
       "\t<li>4</li>\n",
       "\t<li>5</li>\n",
       "\t<li>6</li>\n",
       "\t<li>7</li>\n",
       "\t<li>8</li>\n",
       "\t<li>9</li>\n",
       "\t<li>10</li>\n",
       "\t<li>11</li>\n",
       "\t<li>12</li>\n",
       "\t<li>13</li>\n",
       "\t<li>14</li>\n",
       "\t<li>15</li>\n",
       "\t<li>16</li>\n",
       "\t<li>17</li>\n",
       "\t<li>18</li>\n",
       "\t<li>19</li>\n",
       "\t<li>20</li>\n",
       "\t<li>21</li>\n",
       "\t<li>22</li>\n",
       "\t<li>23</li>\n",
       "\t<li>24</li>\n",
       "\t<li>25</li>\n",
       "\t<li>26</li>\n",
       "\t<li>27</li>\n",
       "</ol>\n"
      ],
      "text/latex": [
       "\\begin{enumerate*}\n",
       "\\item 1\n",
       "\\item 2\n",
       "\\item 3\n",
       "\\item 4\n",
       "\\item 5\n",
       "\\item 6\n",
       "\\item 7\n",
       "\\item 8\n",
       "\\item 9\n",
       "\\item 10\n",
       "\\item 11\n",
       "\\item 12\n",
       "\\item 13\n",
       "\\item 14\n",
       "\\item 15\n",
       "\\item 16\n",
       "\\item 17\n",
       "\\item 18\n",
       "\\item 19\n",
       "\\item 20\n",
       "\\item 21\n",
       "\\item 22\n",
       "\\item 23\n",
       "\\item 24\n",
       "\\item 25\n",
       "\\item 26\n",
       "\\item 27\n",
       "\\end{enumerate*}\n"
      ],
      "text/markdown": [
       "1. 1\n",
       "2. 2\n",
       "3. 3\n",
       "4. 4\n",
       "5. 5\n",
       "6. 6\n",
       "7. 7\n",
       "8. 8\n",
       "9. 9\n",
       "10. 10\n",
       "11. 11\n",
       "12. 12\n",
       "13. 13\n",
       "14. 14\n",
       "15. 15\n",
       "16. 16\n",
       "17. 17\n",
       "18. 18\n",
       "19. 19\n",
       "20. 20\n",
       "21. 21\n",
       "22. 22\n",
       "23. 23\n",
       "24. 24\n",
       "25. 25\n",
       "26. 26\n",
       "27. 27\n",
       "\n",
       "\n"
      ],
      "text/plain": [
       " [1]  1  2  3  4  5  6  7  8  9 10 11 12 13 14 15 16 17 18 19 20 21 22 23 24 25\n",
       "[26] 26 27"
      ]
     },
     "metadata": {},
     "output_type": "display_data"
    }
   ],
   "source": [
    "v4<-1:27\n",
    "v4"
   ]
  },
  {
   "cell_type": "code",
   "execution_count": 9,
   "metadata": {},
   "outputs": [
    {
     "data": {
      "text/html": [
       "<ol class=list-inline>\n",
       "\t<li>1</li>\n",
       "\t<li>2</li>\n",
       "\t<li>3</li>\n",
       "\t<li>4</li>\n",
       "\t<li>5</li>\n",
       "\t<li>6</li>\n",
       "\t<li>7</li>\n",
       "\t<li>8</li>\n",
       "\t<li>9</li>\n",
       "\t<li>10</li>\n",
       "\t<li>11</li>\n",
       "\t<li>12</li>\n",
       "\t<li>13</li>\n",
       "\t<li>14</li>\n",
       "\t<li>15</li>\n",
       "\t<li>16</li>\n",
       "\t<li>17</li>\n",
       "\t<li>18</li>\n",
       "\t<li>19</li>\n",
       "\t<li>20</li>\n",
       "\t<li>21</li>\n",
       "\t<li>22</li>\n",
       "\t<li>23</li>\n",
       "\t<li>24</li>\n",
       "\t<li>25</li>\n",
       "\t<li>26</li>\n",
       "\t<li>27</li>\n",
       "</ol>\n"
      ],
      "text/latex": [
       "\\begin{enumerate*}\n",
       "\\item 1\n",
       "\\item 2\n",
       "\\item 3\n",
       "\\item 4\n",
       "\\item 5\n",
       "\\item 6\n",
       "\\item 7\n",
       "\\item 8\n",
       "\\item 9\n",
       "\\item 10\n",
       "\\item 11\n",
       "\\item 12\n",
       "\\item 13\n",
       "\\item 14\n",
       "\\item 15\n",
       "\\item 16\n",
       "\\item 17\n",
       "\\item 18\n",
       "\\item 19\n",
       "\\item 20\n",
       "\\item 21\n",
       "\\item 22\n",
       "\\item 23\n",
       "\\item 24\n",
       "\\item 25\n",
       "\\item 26\n",
       "\\item 27\n",
       "\\end{enumerate*}\n"
      ],
      "text/markdown": [
       "1. 1\n",
       "2. 2\n",
       "3. 3\n",
       "4. 4\n",
       "5. 5\n",
       "6. 6\n",
       "7. 7\n",
       "8. 8\n",
       "9. 9\n",
       "10. 10\n",
       "11. 11\n",
       "12. 12\n",
       "13. 13\n",
       "14. 14\n",
       "15. 15\n",
       "16. 16\n",
       "17. 17\n",
       "18. 18\n",
       "19. 19\n",
       "20. 20\n",
       "21. 21\n",
       "22. 22\n",
       "23. 23\n",
       "24. 24\n",
       "25. 25\n",
       "26. 26\n",
       "27. 27\n",
       "\n",
       "\n"
      ],
      "text/plain": [
       ", , 1\n",
       "\n",
       "     [,1] [,2] [,3]\n",
       "[1,]    1    4    7\n",
       "[2,]    2    5    8\n",
       "[3,]    3    6    9\n",
       "\n",
       ", , 2\n",
       "\n",
       "     [,1] [,2] [,3]\n",
       "[1,]   10   13   16\n",
       "[2,]   11   14   17\n",
       "[3,]   12   15   18\n",
       "\n",
       ", , 3\n",
       "\n",
       "     [,1] [,2] [,3]\n",
       "[1,]   19   22   25\n",
       "[2,]   20   23   26\n",
       "[3,]   21   24   27\n"
      ]
     },
     "metadata": {},
     "output_type": "display_data"
    }
   ],
   "source": [
    "dim(v4)<-c(3,3,3)\n",
    "v4"
   ]
  },
  {
   "cell_type": "code",
   "execution_count": 10,
   "metadata": {},
   "outputs": [
    {
     "data": {
      "text/html": [
       "1"
      ],
      "text/latex": [
       "1"
      ],
      "text/markdown": [
       "1"
      ],
      "text/plain": [
       "[1] 1"
      ]
     },
     "metadata": {},
     "output_type": "display_data"
    }
   ],
   "source": [
    "v4[1,1,1]"
   ]
  },
  {
   "cell_type": "code",
   "execution_count": 11,
   "metadata": {},
   "outputs": [
    {
     "data": {
      "text/html": [
       "<ol class=list-inline>\n",
       "\t<li>1</li>\n",
       "\t<li>2</li>\n",
       "\t<li>3</li>\n",
       "</ol>\n"
      ],
      "text/latex": [
       "\\begin{enumerate*}\n",
       "\\item 1\n",
       "\\item 2\n",
       "\\item 3\n",
       "\\end{enumerate*}\n"
      ],
      "text/markdown": [
       "1. 1\n",
       "2. 2\n",
       "3. 3\n",
       "\n",
       "\n"
      ],
      "text/plain": [
       "[1] 1 2 3"
      ]
     },
     "metadata": {},
     "output_type": "display_data"
    }
   ],
   "source": [
    "v4[,1,1]"
   ]
  },
  {
   "cell_type": "code",
   "execution_count": 12,
   "metadata": {},
   "outputs": [
    {
     "data": {
      "text/html": [
       "<table>\n",
       "<tbody>\n",
       "\t<tr><td>1</td><td>4</td><td>7</td></tr>\n",
       "\t<tr><td>2</td><td>5</td><td>8</td></tr>\n",
       "\t<tr><td>3</td><td>6</td><td>9</td></tr>\n",
       "</tbody>\n",
       "</table>\n"
      ],
      "text/latex": [
       "\\begin{tabular}{lll}\n",
       "\t 1 & 4 & 7\\\\\n",
       "\t 2 & 5 & 8\\\\\n",
       "\t 3 & 6 & 9\\\\\n",
       "\\end{tabular}\n"
      ],
      "text/markdown": [
       "\n",
       "| 1 | 4 | 7 | \n",
       "| 2 | 5 | 8 | \n",
       "| 3 | 6 | 9 | \n",
       "\n",
       "\n"
      ],
      "text/plain": [
       "     [,1] [,2] [,3]\n",
       "[1,] 1    4    7   \n",
       "[2,] 2    5    8   \n",
       "[3,] 3    6    9   "
      ]
     },
     "metadata": {},
     "output_type": "display_data"
    }
   ],
   "source": [
    "v4[,,1]"
   ]
  },
  {
   "cell_type": "code",
   "execution_count": 13,
   "metadata": {},
   "outputs": [
    {
     "data": {
      "text/html": [
       "<table>\n",
       "<tbody>\n",
       "\t<tr><td>10</td><td>13</td><td>16</td></tr>\n",
       "\t<tr><td>11</td><td>14</td><td>17</td></tr>\n",
       "\t<tr><td>12</td><td>15</td><td>18</td></tr>\n",
       "</tbody>\n",
       "</table>\n"
      ],
      "text/latex": [
       "\\begin{tabular}{lll}\n",
       "\t 10 & 13 & 16\\\\\n",
       "\t 11 & 14 & 17\\\\\n",
       "\t 12 & 15 & 18\\\\\n",
       "\\end{tabular}\n"
      ],
      "text/markdown": [
       "\n",
       "| 10 | 13 | 16 | \n",
       "| 11 | 14 | 17 | \n",
       "| 12 | 15 | 18 | \n",
       "\n",
       "\n"
      ],
      "text/plain": [
       "     [,1] [,2] [,3]\n",
       "[1,] 10   13   16  \n",
       "[2,] 11   14   17  \n",
       "[3,] 12   15   18  "
      ]
     },
     "metadata": {},
     "output_type": "display_data"
    }
   ],
   "source": [
    "v4[,,2]"
   ]
  },
  {
   "cell_type": "code",
   "execution_count": 14,
   "metadata": {},
   "outputs": [
    {
     "data": {
      "text/html": [
       "<table>\n",
       "<tbody>\n",
       "\t<tr><td>4 </td><td>13</td><td>22</td></tr>\n",
       "\t<tr><td>5 </td><td>14</td><td>23</td></tr>\n",
       "\t<tr><td>6 </td><td>15</td><td>24</td></tr>\n",
       "</tbody>\n",
       "</table>\n"
      ],
      "text/latex": [
       "\\begin{tabular}{lll}\n",
       "\t 4  & 13 & 22\\\\\n",
       "\t 5  & 14 & 23\\\\\n",
       "\t 6  & 15 & 24\\\\\n",
       "\\end{tabular}\n"
      ],
      "text/markdown": [
       "\n",
       "| 4  | 13 | 22 | \n",
       "| 5  | 14 | 23 | \n",
       "| 6  | 15 | 24 | \n",
       "\n",
       "\n"
      ],
      "text/plain": [
       "     [,1] [,2] [,3]\n",
       "[1,] 4    13   22  \n",
       "[2,] 5    14   23  \n",
       "[3,] 6    15   24  "
      ]
     },
     "metadata": {},
     "output_type": "display_data"
    }
   ],
   "source": [
    "v4[,2,]"
   ]
  },
  {
   "cell_type": "code",
   "execution_count": 40,
   "metadata": {},
   "outputs": [
    {
     "data": {
      "text/html": [
       "<ol class=list-inline>\n",
       "\t<li>1</li>\n",
       "\t<li>2</li>\n",
       "\t<li>3</li>\n",
       "\t<li>4</li>\n",
       "\t<li>5</li>\n",
       "\t<li>6</li>\n",
       "\t<li>1</li>\n",
       "\t<li>2</li>\n",
       "</ol>\n"
      ],
      "text/latex": [
       "\\begin{enumerate*}\n",
       "\\item 1\n",
       "\\item 2\n",
       "\\item 3\n",
       "\\item 4\n",
       "\\item 5\n",
       "\\item 6\n",
       "\\item 1\n",
       "\\item 2\n",
       "\\end{enumerate*}\n"
      ],
      "text/markdown": [
       "1. 1\n",
       "2. 2\n",
       "3. 3\n",
       "4. 4\n",
       "5. 5\n",
       "6. 6\n",
       "7. 1\n",
       "8. 2\n",
       "\n",
       "\n"
      ],
      "text/plain": [
       ", , 1\n",
       "\n",
       "     [,1] [,2]\n",
       "[1,]    1    3\n",
       "[2,]    2    4\n",
       "\n",
       ", , 2\n",
       "\n",
       "     [,1] [,2]\n",
       "[1,]    5    1\n",
       "[2,]    6    2\n"
      ]
     },
     "metadata": {},
     "output_type": "display_data"
    }
   ],
   "source": [
    "v5<-1:6\n",
    "d1<-c(2,2,2)\n",
    "A1<-array(v5,d1)\n",
    "A1"
   ]
  },
  {
   "cell_type": "code",
   "execution_count": 41,
   "metadata": {},
   "outputs": [
    {
     "data": {
      "text/html": [
       "<ol class=list-inline>\n",
       "\t<li>2</li>\n",
       "\t<li>2</li>\n",
       "\t<li>2</li>\n",
       "</ol>\n"
      ],
      "text/latex": [
       "\\begin{enumerate*}\n",
       "\\item 2\n",
       "\\item 2\n",
       "\\item 2\n",
       "\\end{enumerate*}\n"
      ],
      "text/markdown": [
       "1. 2\n",
       "2. 2\n",
       "3. 2\n",
       "\n",
       "\n"
      ],
      "text/plain": [
       "[1] 2 2 2"
      ]
     },
     "metadata": {},
     "output_type": "display_data"
    },
    {
     "data": {
      "text/html": [
       "<ol class=list-inline>\n",
       "\t<li>1</li>\n",
       "\t<li>1</li>\n",
       "\t<li>1</li>\n",
       "\t<li>1</li>\n",
       "\t<li>1</li>\n",
       "\t<li>1</li>\n",
       "\t<li>1</li>\n",
       "\t<li>1</li>\n",
       "</ol>\n"
      ],
      "text/latex": [
       "\\begin{enumerate*}\n",
       "\\item 1\n",
       "\\item 1\n",
       "\\item 1\n",
       "\\item 1\n",
       "\\item 1\n",
       "\\item 1\n",
       "\\item 1\n",
       "\\item 1\n",
       "\\end{enumerate*}\n"
      ],
      "text/markdown": [
       "1. 1\n",
       "2. 1\n",
       "3. 1\n",
       "4. 1\n",
       "5. 1\n",
       "6. 1\n",
       "7. 1\n",
       "8. 1\n",
       "\n",
       "\n"
      ],
      "text/plain": [
       ", , 1\n",
       "\n",
       "     [,1] [,2]\n",
       "[1,]    1    1\n",
       "[2,]    1    1\n",
       "\n",
       ", , 2\n",
       "\n",
       "     [,1] [,2]\n",
       "[1,]    1    1\n",
       "[2,]    1    1\n"
      ]
     },
     "metadata": {},
     "output_type": "display_data"
    }
   ],
   "source": [
    "v6<-1\n",
    "d1\n",
    "A2<-array(v6,d1)\n",
    "A2"
   ]
  },
  {
   "cell_type": "code",
   "execution_count": null,
   "metadata": {},
   "outputs": [],
   "source": [
    "?array"
   ]
  },
  {
   "cell_type": "markdown",
   "metadata": {},
   "source": [
    "#### List - a row in a table - two operators $ and [[]]"
   ]
  },
  {
   "cell_type": "code",
   "execution_count": 19,
   "metadata": {},
   "outputs": [
    {
     "data": {
      "text/html": [
       "<dl>\n",
       "\t<dt>$name</dt>\n",
       "\t\t<dd>'Fred'</dd>\n",
       "\t<dt>$wife</dt>\n",
       "\t\t<dd>'Mary'</dd>\n",
       "\t<dt>$no.children</dt>\n",
       "\t\t<dd>3</dd>\n",
       "\t<dt>$child.ages</dt>\n",
       "\t\t<dd><ol class=list-inline>\n",
       "\t<li>4</li>\n",
       "\t<li>7</li>\n",
       "\t<li>9</li>\n",
       "</ol>\n",
       "</dd>\n",
       "</dl>\n"
      ],
      "text/latex": [
       "\\begin{description}\n",
       "\\item[\\$name] 'Fred'\n",
       "\\item[\\$wife] 'Mary'\n",
       "\\item[\\$no.children] 3\n",
       "\\item[\\$child.ages] \\begin{enumerate*}\n",
       "\\item 4\n",
       "\\item 7\n",
       "\\item 9\n",
       "\\end{enumerate*}\n",
       "\n",
       "\\end{description}\n"
      ],
      "text/markdown": [
       "$name\n",
       ":   'Fred'\n",
       "$wife\n",
       ":   'Mary'\n",
       "$no.children\n",
       ":   3\n",
       "$child.ages\n",
       ":   1. 4\n",
       "2. 7\n",
       "3. 9\n",
       "\n",
       "\n",
       "\n",
       "\n",
       "\n"
      ],
      "text/plain": [
       "$name\n",
       "[1] \"Fred\"\n",
       "\n",
       "$wife\n",
       "[1] \"Mary\"\n",
       "\n",
       "$no.children\n",
       "[1] 3\n",
       "\n",
       "$child.ages\n",
       "[1] 4 7 9\n"
      ]
     },
     "metadata": {},
     "output_type": "display_data"
    },
    {
     "data": {
      "text/html": [
       "'Fred'"
      ],
      "text/latex": [
       "'Fred'"
      ],
      "text/markdown": [
       "'Fred'"
      ],
      "text/plain": [
       "[1] \"Fred\""
      ]
     },
     "metadata": {},
     "output_type": "display_data"
    },
    {
     "data": {
      "text/html": [
       "'Mary'"
      ],
      "text/latex": [
       "'Mary'"
      ],
      "text/markdown": [
       "'Mary'"
      ],
      "text/plain": [
       "[1] \"Mary\""
      ]
     },
     "metadata": {},
     "output_type": "display_data"
    },
    {
     "data": {
      "text/html": [
       "3"
      ],
      "text/latex": [
       "3"
      ],
      "text/markdown": [
       "3"
      ],
      "text/plain": [
       "[1] 3"
      ]
     },
     "metadata": {},
     "output_type": "display_data"
    },
    {
     "data": {
      "text/html": [
       "7"
      ],
      "text/latex": [
       "7"
      ],
      "text/markdown": [
       "7"
      ],
      "text/plain": [
       "[1] 7"
      ]
     },
     "metadata": {},
     "output_type": "display_data"
    },
    {
     "data": {
      "text/html": [
       "'Fred'"
      ],
      "text/latex": [
       "'Fred'"
      ],
      "text/markdown": [
       "'Fred'"
      ],
      "text/plain": [
       "[1] \"Fred\""
      ]
     },
     "metadata": {},
     "output_type": "display_data"
    },
    {
     "data": {
      "text/html": [
       "'Mary'"
      ],
      "text/latex": [
       "'Mary'"
      ],
      "text/markdown": [
       "'Mary'"
      ],
      "text/plain": [
       "[1] \"Mary\""
      ]
     },
     "metadata": {},
     "output_type": "display_data"
    },
    {
     "data": {
      "text/html": [
       "3"
      ],
      "text/latex": [
       "3"
      ],
      "text/markdown": [
       "3"
      ],
      "text/plain": [
       "[1] 3"
      ]
     },
     "metadata": {},
     "output_type": "display_data"
    },
    {
     "data": {
      "text/html": [
       "<ol class=list-inline>\n",
       "\t<li>4</li>\n",
       "\t<li>7</li>\n",
       "\t<li>9</li>\n",
       "</ol>\n"
      ],
      "text/latex": [
       "\\begin{enumerate*}\n",
       "\\item 4\n",
       "\\item 7\n",
       "\\item 9\n",
       "\\end{enumerate*}\n"
      ],
      "text/markdown": [
       "1. 4\n",
       "2. 7\n",
       "3. 9\n",
       "\n",
       "\n"
      ],
      "text/plain": [
       "[1] 4 7 9"
      ]
     },
     "metadata": {},
     "output_type": "display_data"
    },
    {
     "data": {
      "text/html": [
       "7"
      ],
      "text/latex": [
       "7"
      ],
      "text/markdown": [
       "7"
      ],
      "text/plain": [
       "[1] 7"
      ]
     },
     "metadata": {},
     "output_type": "display_data"
    }
   ],
   "source": [
    "lst <- list(name=\"Fred\", wife=\"Mary\", no.children=3, child.ages=c(4,7,9))\n",
    "lst\n",
    "\n",
    "# retrieving components in a list\n",
    "# using $ operator\n",
    "lst$name\n",
    "lst$wife\n",
    "lst$no.children\n",
    "lst$child.ages[2]\n",
    "\n",
    "#using [[]] operator\n",
    "lst[[1]]\n",
    "lst[[2]]\n",
    "lst[[3]]\n",
    "lst[[4]]\n",
    "lst[[4]][[2]]"
   ]
  },
  {
   "cell_type": "code",
   "execution_count": 20,
   "metadata": {},
   "outputs": [
    {
     "data": {
      "text/html": [
       "<ol class=list-inline>\n",
       "\t<li>'B'</li>\n",
       "\t<li>'G'</li>\n",
       "\t<li>'L'</li>\n",
       "\t<li>'R'</li>\n",
       "</ol>\n"
      ],
      "text/latex": [
       "\\begin{enumerate*}\n",
       "\\item 'B'\n",
       "\\item 'G'\n",
       "\\item 'L'\n",
       "\\item 'R'\n",
       "\\end{enumerate*}\n"
      ],
      "text/markdown": [
       "1. 'B'\n",
       "2. 'G'\n",
       "3. 'L'\n",
       "4. 'R'\n",
       "\n",
       "\n"
      ],
      "text/plain": [
       "[1] \"B\" \"G\" \"L\" \"R\""
      ]
     },
     "metadata": {},
     "output_type": "display_data"
    },
    {
     "data": {
      "text/html": [
       "<ol class=list-inline>\n",
       "\t<li>R</li>\n",
       "\t<li>B</li>\n",
       "\t<li>L</li>\n",
       "\t<li>B</li>\n",
       "\t<li>R</li>\n",
       "\t<li>L</li>\n",
       "\t<li>G</li>\n",
       "\t<li>L</li>\n",
       "</ol>\n",
       "\n",
       "<details>\n",
       "\t<summary style=display:list-item;cursor:pointer>\n",
       "\t\t<strong>Levels</strong>:\n",
       "\t</summary>\n",
       "\t<ol class=list-inline>\n",
       "\t\t<li>'B'</li>\n",
       "\t\t<li>'G'</li>\n",
       "\t\t<li>'L'</li>\n",
       "\t\t<li>'R'</li>\n",
       "\t</ol>\n",
       "</details>"
      ],
      "text/latex": [
       "\\begin{enumerate*}\n",
       "\\item R\n",
       "\\item B\n",
       "\\item L\n",
       "\\item B\n",
       "\\item R\n",
       "\\item L\n",
       "\\item G\n",
       "\\item L\n",
       "\\end{enumerate*}\n",
       "\n",
       "\\emph{Levels}: \\begin{enumerate*}\n",
       "\\item 'B'\n",
       "\\item 'G'\n",
       "\\item 'L'\n",
       "\\item 'R'\n",
       "\\end{enumerate*}\n"
      ],
      "text/markdown": [
       "1. R\n",
       "2. B\n",
       "3. L\n",
       "4. B\n",
       "5. R\n",
       "6. L\n",
       "7. G\n",
       "8. L\n",
       "\n",
       "\n",
       "\n",
       "**Levels**: 1. 'B'\n",
       "2. 'G'\n",
       "3. 'L'\n",
       "4. 'R'\n",
       "\n",
       "\n"
      ],
      "text/plain": [
       "[1] R B L B R L G L\n",
       "Levels: B G L R"
      ]
     },
     "metadata": {},
     "output_type": "display_data"
    },
    {
     "data": {
      "text/plain": [
       "eye.colours\n",
       "B G L R \n",
       "2 1 3 2 "
      ]
     },
     "metadata": {},
     "output_type": "display_data"
    }
   ],
   "source": [
    "eye.colours <- factor(c(\"R\",\"B\",\"L\",\"B\",\"R\",\"L\",\"G\",\"L\"))\n",
    "levels(eye.colours)\n",
    "eye.colours\n",
    "table(eye.colours)"
   ]
  },
  {
   "cell_type": "code",
   "execution_count": 21,
   "metadata": {},
   "outputs": [
    {
     "data": {
      "text/html": [
       "<ol class=list-inline>\n",
       "\t<li>SD</li>\n",
       "\t<li>AG</li>\n",
       "\t<li>SD</li>\n",
       "\t<li>SA</li>\n",
       "\t<li>DI</li>\n",
       "\t<li>NE</li>\n",
       "\t<li>SA</li>\n",
       "\t<li>DI</li>\n",
       "\t<li>AG</li>\n",
       "</ol>\n",
       "\n",
       "<details>\n",
       "\t<summary style=display:list-item;cursor:pointer>\n",
       "\t\t<strong>Levels</strong>:\n",
       "\t</summary>\n",
       "\t<ol class=list-inline>\n",
       "\t\t<li>'SD'</li>\n",
       "\t\t<li>'DI'</li>\n",
       "\t\t<li>'NE'</li>\n",
       "\t\t<li>'AG'</li>\n",
       "\t\t<li>'SA'</li>\n",
       "\t</ol>\n",
       "</details>"
      ],
      "text/latex": [
       "\\begin{enumerate*}\n",
       "\\item SD\n",
       "\\item AG\n",
       "\\item SD\n",
       "\\item SA\n",
       "\\item DI\n",
       "\\item NE\n",
       "\\item SA\n",
       "\\item DI\n",
       "\\item AG\n",
       "\\end{enumerate*}\n",
       "\n",
       "\\emph{Levels}: \\begin{enumerate*}\n",
       "\\item 'SD'\n",
       "\\item 'DI'\n",
       "\\item 'NE'\n",
       "\\item 'AG'\n",
       "\\item 'SA'\n",
       "\\end{enumerate*}\n"
      ],
      "text/markdown": [
       "1. SD\n",
       "2. AG\n",
       "3. SD\n",
       "4. SA\n",
       "5. DI\n",
       "6. NE\n",
       "7. SA\n",
       "8. DI\n",
       "9. AG\n",
       "\n",
       "\n",
       "\n",
       "**Levels**: 1. 'SD'\n",
       "2. 'DI'\n",
       "3. 'NE'\n",
       "4. 'AG'\n",
       "5. 'SA'\n",
       "\n",
       "\n"
      ],
      "text/plain": [
       "[1] SD AG SD SA DI NE SA DI AG\n",
       "Levels: SD < DI < NE < AG < SA"
      ]
     },
     "metadata": {},
     "output_type": "display_data"
    }
   ],
   "source": [
    "survey.result <- factor(c(\"SD\",\"AG\",\"SD\",\"SA\",\"DI\",\"NE\",\"SA\",\"DI\",\"AG\"),levels = c(\"SD\",\"DI\",\"NE\",\"AG\",\"SA\"),ordered = TRUE)\n",
    "survey.result"
   ]
  },
  {
   "cell_type": "code",
   "execution_count": 22,
   "metadata": {},
   "outputs": [
    {
     "data": {
      "text/html": [
       "'numeric'"
      ],
      "text/latex": [
       "'numeric'"
      ],
      "text/markdown": [
       "'numeric'"
      ],
      "text/plain": [
       "[1] \"numeric\""
      ]
     },
     "metadata": {},
     "output_type": "display_data"
    }
   ],
   "source": [
    "#internally stored in numeric format\n",
    "mode(survey.result)"
   ]
  },
  {
   "cell_type": "code",
   "execution_count": 24,
   "metadata": {},
   "outputs": [
    {
     "name": "stdout",
     "output_type": "stream",
     "text": [
      " Ord.factor w/ 5 levels \"SD\"<\"DI\"<\"NE\"<..: 1 4 1 5 2 3 5 2 4\n"
     ]
    }
   ],
   "source": [
    "#structure of the \"survey.result\"\n",
    "str(survey.result)"
   ]
  },
  {
   "cell_type": "code",
   "execution_count": 26,
   "metadata": {},
   "outputs": [
    {
     "data": {
      "text/html": [
       "<ol class=list-inline>\n",
       "\t<li>F</li>\n",
       "\t<li>M</li>\n",
       "\t<li>F</li>\n",
       "\t<li>M</li>\n",
       "\t<li>F</li>\n",
       "\t<li>M</li>\n",
       "\t<li>F</li>\n",
       "\t<li>M</li>\n",
       "</ol>\n",
       "\n",
       "<details>\n",
       "\t<summary style=display:list-item;cursor:pointer>\n",
       "\t\t<strong>Levels</strong>:\n",
       "\t</summary>\n",
       "\t<ol class=list-inline>\n",
       "\t\t<li>'M'</li>\n",
       "\t\t<li>'F'</li>\n",
       "\t</ol>\n",
       "</details>"
      ],
      "text/latex": [
       "\\begin{enumerate*}\n",
       "\\item F\n",
       "\\item M\n",
       "\\item F\n",
       "\\item M\n",
       "\\item F\n",
       "\\item M\n",
       "\\item F\n",
       "\\item M\n",
       "\\end{enumerate*}\n",
       "\n",
       "\\emph{Levels}: \\begin{enumerate*}\n",
       "\\item 'M'\n",
       "\\item 'F'\n",
       "\\end{enumerate*}\n"
      ],
      "text/markdown": [
       "1. F\n",
       "2. M\n",
       "3. F\n",
       "4. M\n",
       "5. F\n",
       "6. M\n",
       "7. F\n",
       "8. M\n",
       "\n",
       "\n",
       "\n",
       "**Levels**: 1. 'M'\n",
       "2. 'F'\n",
       "\n",
       "\n"
      ],
      "text/plain": [
       "[1] F M F M F M F M\n",
       "Levels: M F"
      ]
     },
     "metadata": {},
     "output_type": "display_data"
    }
   ],
   "source": [
    "#Passive Survey: Gender of students coming out of library\n",
    "gender<-factor(c(\"F\",\"M\",\"F\",\"M\",\"F\",\"M\",\"F\",\"M\"),levels=c(\"M\",\"F\"), ordered=FALSE)\n",
    "gender"
   ]
  },
  {
   "cell_type": "code",
   "execution_count": 27,
   "metadata": {},
   "outputs": [
    {
     "data": {
      "text/html": [
       "<ol class=list-inline>\n",
       "\t<li>'ordered'</li>\n",
       "\t<li>'factor'</li>\n",
       "</ol>\n"
      ],
      "text/latex": [
       "\\begin{enumerate*}\n",
       "\\item 'ordered'\n",
       "\\item 'factor'\n",
       "\\end{enumerate*}\n"
      ],
      "text/markdown": [
       "1. 'ordered'\n",
       "2. 'factor'\n",
       "\n",
       "\n"
      ],
      "text/plain": [
       "[1] \"ordered\" \"factor\" "
      ]
     },
     "metadata": {},
     "output_type": "display_data"
    }
   ],
   "source": [
    "class(survey.result)"
   ]
  },
  {
   "cell_type": "code",
   "execution_count": 28,
   "metadata": {},
   "outputs": [
    {
     "data": {
      "text/html": [
       "<ol class=list-inline>\n",
       "\t<li>1</li>\n",
       "\t<li>4</li>\n",
       "\t<li>1</li>\n",
       "\t<li>5</li>\n",
       "\t<li>2</li>\n",
       "\t<li>3</li>\n",
       "\t<li>5</li>\n",
       "\t<li>2</li>\n",
       "\t<li>4</li>\n",
       "</ol>\n"
      ],
      "text/latex": [
       "\\begin{enumerate*}\n",
       "\\item 1\n",
       "\\item 4\n",
       "\\item 1\n",
       "\\item 5\n",
       "\\item 2\n",
       "\\item 3\n",
       "\\item 5\n",
       "\\item 2\n",
       "\\item 4\n",
       "\\end{enumerate*}\n"
      ],
      "text/markdown": [
       "1. 1\n",
       "2. 4\n",
       "3. 1\n",
       "4. 5\n",
       "5. 2\n",
       "6. 3\n",
       "7. 5\n",
       "8. 2\n",
       "9. 4\n",
       "\n",
       "\n"
      ],
      "text/plain": [
       "[1] 1 4 1 5 2 3 5 2 4\n",
       "attr(,\"levels\")\n",
       "[1] \"SD\" \"DI\" \"NE\" \"AG\" \"SA\""
      ]
     },
     "metadata": {},
     "output_type": "display_data"
    }
   ],
   "source": [
    "survey.result.unclass<-unclass(survey.result)\n",
    "survey.result.unclass"
   ]
  },
  {
   "cell_type": "code",
   "execution_count": 29,
   "metadata": {},
   "outputs": [
    {
     "data": {
      "text/html": [
       "'integer'"
      ],
      "text/latex": [
       "'integer'"
      ],
      "text/markdown": [
       "'integer'"
      ],
      "text/plain": [
       "[1] \"integer\""
      ]
     },
     "metadata": {},
     "output_type": "display_data"
    }
   ],
   "source": [
    "class(survey.result.unclass)"
   ]
  },
  {
   "cell_type": "code",
   "execution_count": 33,
   "metadata": {},
   "outputs": [
    {
     "data": {
      "text/html": [
       "<ol class=list-inline>\n",
       "\t<li>'factor'</li>\n",
       "\t<li>'ordered'</li>\n",
       "</ol>\n"
      ],
      "text/latex": [
       "\\begin{enumerate*}\n",
       "\\item 'factor'\n",
       "\\item 'ordered'\n",
       "\\end{enumerate*}\n"
      ],
      "text/markdown": [
       "1. 'factor'\n",
       "2. 'ordered'\n",
       "\n",
       "\n"
      ],
      "text/plain": [
       "[1] \"factor\"  \"ordered\""
      ]
     },
     "metadata": {},
     "output_type": "display_data"
    },
    {
     "name": "stdout",
     "output_type": "stream",
     "text": [
      " Ord.factor w/ 5 levels \"SD\"<\"DI\"<\"NE\"<..: 1 4 1 5 2 3 5 2 4\n"
     ]
    }
   ],
   "source": [
    "class(survey.result.unclass)<-c(\"factor\",\"ordered\")\n",
    "class(survey.result.unclass)\n",
    "str(survey.result.unclass)"
   ]
  },
  {
   "cell_type": "markdown",
   "metadata": {},
   "source": [
    "#### Data Frames"
   ]
  },
  {
   "cell_type": "code",
   "execution_count": 34,
   "metadata": {},
   "outputs": [
    {
     "data": {
      "text/html": [
       "<table>\n",
       "<thead><tr><th scope=col>roll.no</th><th scope=col>student.name</th></tr></thead>\n",
       "<tbody>\n",
       "\t<tr><td>1</td><td>A</td></tr>\n",
       "\t<tr><td>2</td><td>B</td></tr>\n",
       "\t<tr><td>3</td><td>C</td></tr>\n",
       "\t<tr><td>4</td><td>D</td></tr>\n",
       "</tbody>\n",
       "</table>\n"
      ],
      "text/latex": [
       "\\begin{tabular}{r|ll}\n",
       " roll.no & student.name\\\\\n",
       "\\hline\n",
       "\t 1 & A\\\\\n",
       "\t 2 & B\\\\\n",
       "\t 3 & C\\\\\n",
       "\t 4 & D\\\\\n",
       "\\end{tabular}\n"
      ],
      "text/markdown": [
       "\n",
       "roll.no | student.name | \n",
       "|---|---|---|---|\n",
       "| 1 | A | \n",
       "| 2 | B | \n",
       "| 3 | C | \n",
       "| 4 | D | \n",
       "\n",
       "\n"
      ],
      "text/plain": [
       "  roll.no student.name\n",
       "1 1       A           \n",
       "2 2       B           \n",
       "3 3       C           \n",
       "4 4       D           "
      ]
     },
     "metadata": {},
     "output_type": "display_data"
    }
   ],
   "source": [
    "student <- data.frame(roll.no=c(1:4),student.name=c(\"A\",\"B\",\"C\",\"D\"))\n",
    "student"
   ]
  },
  {
   "cell_type": "code",
   "execution_count": 36,
   "metadata": {},
   "outputs": [
    {
     "data": {
      "text/html": [
       "4"
      ],
      "text/latex": [
       "4"
      ],
      "text/markdown": [
       "4"
      ],
      "text/plain": [
       "[1] 4"
      ]
     },
     "metadata": {},
     "output_type": "display_data"
    }
   ],
   "source": [
    "nrow(student)"
   ]
  },
  {
   "cell_type": "code",
   "execution_count": 37,
   "metadata": {},
   "outputs": [
    {
     "data": {
      "text/html": [
       "2"
      ],
      "text/latex": [
       "2"
      ],
      "text/markdown": [
       "2"
      ],
      "text/plain": [
       "[1] 2"
      ]
     },
     "metadata": {},
     "output_type": "display_data"
    }
   ],
   "source": [
    "ncol(student)"
   ]
  },
  {
   "cell_type": "code",
   "execution_count": 38,
   "metadata": {},
   "outputs": [
    {
     "data": {
      "text/html": [
       "<table>\n",
       "<thead><tr><th></th><th scope=col>roll.no</th><th scope=col>student.name</th></tr></thead>\n",
       "<tbody>\n",
       "\t<tr><th scope=row>First</th><td>1</td><td>A</td></tr>\n",
       "\t<tr><th scope=row>Second</th><td>2</td><td>B</td></tr>\n",
       "\t<tr><th scope=row>Third</th><td>3</td><td>C</td></tr>\n",
       "\t<tr><th scope=row>Fourth</th><td>4</td><td>D</td></tr>\n",
       "</tbody>\n",
       "</table>\n"
      ],
      "text/latex": [
       "\\begin{tabular}{r|ll}\n",
       "  & roll.no & student.name\\\\\n",
       "\\hline\n",
       "\tFirst & 1 & A\\\\\n",
       "\tSecond & 2 & B\\\\\n",
       "\tThird & 3 & C\\\\\n",
       "\tFourth & 4 & D\\\\\n",
       "\\end{tabular}\n"
      ],
      "text/markdown": [
       "\n",
       "| <!--/--> | roll.no | student.name | \n",
       "|---|---|---|---|\n",
       "| First | 1 | A | \n",
       "| Second | 2 | B | \n",
       "| Third | 3 | C | \n",
       "| Fourth | 4 | D | \n",
       "\n",
       "\n"
      ],
      "text/plain": [
       "       roll.no student.name\n",
       "First  1       A           \n",
       "Second 2       B           \n",
       "Third  3       C           \n",
       "Fourth 4       D           "
      ]
     },
     "metadata": {},
     "output_type": "display_data"
    }
   ],
   "source": [
    "row.names(student)<-c(\"First\",\"Second\",\"Third\",\"Fourth\")\n",
    "student"
   ]
  },
  {
   "cell_type": "markdown",
   "metadata": {},
   "source": [
    "#### Managing data in R"
   ]
  },
  {
   "cell_type": "code",
   "execution_count": 42,
   "metadata": {},
   "outputs": [
    {
     "data": {
      "text/html": [
       "'C:/Users/Nilkanth Jadhav/ETLHIVE Notebooks/R/Day 3'"
      ],
      "text/latex": [
       "'C:/Users/Nilkanth Jadhav/ETLHIVE Notebooks/R/Day 3'"
      ],
      "text/markdown": [
       "'C:/Users/Nilkanth Jadhav/ETLHIVE Notebooks/R/Day 3'"
      ],
      "text/plain": [
       "[1] \"C:/Users/Nilkanth Jadhav/ETLHIVE Notebooks/R/Day 3\""
      ]
     },
     "metadata": {},
     "output_type": "display_data"
    }
   ],
   "source": [
    "getwd()"
   ]
  },
  {
   "cell_type": "code",
   "execution_count": 43,
   "metadata": {},
   "outputs": [],
   "source": [
    "setwd('C:/Users/Nilkanth Jadhav/ETLHIVE Notebooks/R/Day 3/data')"
   ]
  },
  {
   "cell_type": "code",
   "execution_count": 44,
   "metadata": {},
   "outputs": [
    {
     "data": {
      "text/html": [
       "<ol class=list-inline>\n",
       "\t<li>'EMP.csv'</li>\n",
       "\t<li>'example.R'</li>\n",
       "\t<li>'F-statistic.xlsx'</li>\n",
       "\t<li>'Fundamentals of R 1.0.pdf'</li>\n",
       "\t<li>'numb_in_file.txt'</li>\n",
       "\t<li>'R-Course -pdf 1.0.pdf'</li>\n",
       "\t<li>'R Data Structure 1.1.pdf'</li>\n",
       "\t<li>'sourceExample.R'</li>\n",
       "</ol>\n"
      ],
      "text/latex": [
       "\\begin{enumerate*}\n",
       "\\item 'EMP.csv'\n",
       "\\item 'example.R'\n",
       "\\item 'F-statistic.xlsx'\n",
       "\\item 'Fundamentals of R 1.0.pdf'\n",
       "\\item 'numb\\_in\\_file.txt'\n",
       "\\item 'R-Course -pdf 1.0.pdf'\n",
       "\\item 'R Data Structure 1.1.pdf'\n",
       "\\item 'sourceExample.R'\n",
       "\\end{enumerate*}\n"
      ],
      "text/markdown": [
       "1. 'EMP.csv'\n",
       "2. 'example.R'\n",
       "3. 'F-statistic.xlsx'\n",
       "4. 'Fundamentals of R 1.0.pdf'\n",
       "5. 'numb_in_file.txt'\n",
       "6. 'R-Course -pdf 1.0.pdf'\n",
       "7. 'R Data Structure 1.1.pdf'\n",
       "8. 'sourceExample.R'\n",
       "\n",
       "\n"
      ],
      "text/plain": [
       "[1] \"EMP.csv\"                   \"example.R\"                \n",
       "[3] \"F-statistic.xlsx\"          \"Fundamentals of R 1.0.pdf\"\n",
       "[5] \"numb_in_file.txt\"          \"R-Course -pdf 1.0.pdf\"    \n",
       "[7] \"R Data Structure 1.1.pdf\"  \"sourceExample.R\"          "
      ]
     },
     "metadata": {},
     "output_type": "display_data"
    }
   ],
   "source": [
    "dir()"
   ]
  },
  {
   "cell_type": "code",
   "execution_count": 45,
   "metadata": {},
   "outputs": [
    {
     "data": {
      "text/html": [
       "<ol class=list-inline>\n",
       "\t<li>1</li>\n",
       "\t<li>3</li>\n",
       "\t<li>5</li>\n",
       "\t<li>7</li>\n",
       "\t<li>9</li>\n",
       "\t<li>11</li>\n",
       "\t<li>13</li>\n",
       "\t<li>15</li>\n",
       "\t<li>17</li>\n",
       "\t<li>19</li>\n",
       "\t<li>21</li>\n",
       "\t<li>23</li>\n",
       "\t<li>25</li>\n",
       "\t<li>27</li>\n",
       "\t<li>29</li>\n",
       "\t<li>31</li>\n",
       "\t<li>33</li>\n",
       "\t<li>35</li>\n",
       "\t<li>37</li>\n",
       "\t<li>39</li>\n",
       "\t<li>41</li>\n",
       "\t<li>43</li>\n",
       "</ol>\n"
      ],
      "text/latex": [
       "\\begin{enumerate*}\n",
       "\\item 1\n",
       "\\item 3\n",
       "\\item 5\n",
       "\\item 7\n",
       "\\item 9\n",
       "\\item 11\n",
       "\\item 13\n",
       "\\item 15\n",
       "\\item 17\n",
       "\\item 19\n",
       "\\item 21\n",
       "\\item 23\n",
       "\\item 25\n",
       "\\item 27\n",
       "\\item 29\n",
       "\\item 31\n",
       "\\item 33\n",
       "\\item 35\n",
       "\\item 37\n",
       "\\item 39\n",
       "\\item 41\n",
       "\\item 43\n",
       "\\end{enumerate*}\n"
      ],
      "text/markdown": [
       "1. 1\n",
       "2. 3\n",
       "3. 5\n",
       "4. 7\n",
       "5. 9\n",
       "6. 11\n",
       "7. 13\n",
       "8. 15\n",
       "9. 17\n",
       "10. 19\n",
       "11. 21\n",
       "12. 23\n",
       "13. 25\n",
       "14. 27\n",
       "15. 29\n",
       "16. 31\n",
       "17. 33\n",
       "18. 35\n",
       "19. 37\n",
       "20. 39\n",
       "21. 41\n",
       "22. 43\n",
       "\n",
       "\n"
      ],
      "text/plain": [
       " [1]  1  3  5  7  9 11 13 15 17 19 21 23 25 27 29 31 33 35 37 39 41 43"
      ]
     },
     "metadata": {},
     "output_type": "display_data"
    }
   ],
   "source": [
    "numb.in.file<-scan(\"numb_in_file.txt\")\n",
    "numb.in.file"
   ]
  },
  {
   "cell_type": "code",
   "execution_count": 47,
   "metadata": {},
   "outputs": [
    {
     "data": {
      "text/html": [
       "'numeric'"
      ],
      "text/latex": [
       "'numeric'"
      ],
      "text/markdown": [
       "'numeric'"
      ],
      "text/plain": [
       "[1] \"numeric\""
      ]
     },
     "metadata": {},
     "output_type": "display_data"
    }
   ],
   "source": [
    "mode(numb.in.file)"
   ]
  },
  {
   "cell_type": "code",
   "execution_count": 48,
   "metadata": {},
   "outputs": [
    {
     "data": {
      "text/html": [
       "<ol class=list-inline>\n",
       "\t<li>'1'</li>\n",
       "\t<li>'3'</li>\n",
       "\t<li>'5'</li>\n",
       "\t<li>'7'</li>\n",
       "\t<li>'9'</li>\n",
       "</ol>\n"
      ],
      "text/latex": [
       "\\begin{enumerate*}\n",
       "\\item '1'\n",
       "\\item '3'\n",
       "\\item '5'\n",
       "\\item '7'\n",
       "\\item '9'\n",
       "\\end{enumerate*}\n"
      ],
      "text/markdown": [
       "1. '1'\n",
       "2. '3'\n",
       "3. '5'\n",
       "4. '7'\n",
       "5. '9'\n",
       "\n",
       "\n"
      ],
      "text/plain": [
       "[1] \"1\" \"3\" \"5\" \"7\" \"9\""
      ]
     },
     "metadata": {},
     "output_type": "display_data"
    }
   ],
   "source": [
    "numb.in.file<-scan(\"numb_in_file.txt\", what = \"character\", nmax = 5)\n",
    "numb.in.file"
   ]
  },
  {
   "cell_type": "code",
   "execution_count": 50,
   "metadata": {},
   "outputs": [
    {
     "data": {
      "text/html": [
       "<ol class=list-inline>\n",
       "\t<li>'23'</li>\n",
       "\t<li>'25'</li>\n",
       "\t<li>'27'</li>\n",
       "\t<li>'29'</li>\n",
       "\t<li>'31'</li>\n",
       "</ol>\n"
      ],
      "text/latex": [
       "\\begin{enumerate*}\n",
       "\\item '23'\n",
       "\\item '25'\n",
       "\\item '27'\n",
       "\\item '29'\n",
       "\\item '31'\n",
       "\\end{enumerate*}\n"
      ],
      "text/markdown": [
       "1. '23'\n",
       "2. '25'\n",
       "3. '27'\n",
       "4. '29'\n",
       "5. '31'\n",
       "\n",
       "\n"
      ],
      "text/plain": [
       "[1] \"23\" \"25\" \"27\" \"29\" \"31\""
      ]
     },
     "metadata": {},
     "output_type": "display_data"
    }
   ],
   "source": [
    "numb.in.file<-scan(\"numb_in_file.txt\", what = \"character\", nmax = 5, sep=\" \", skip = 1)\n",
    "numb.in.file"
   ]
  },
  {
   "cell_type": "code",
   "execution_count": 57,
   "metadata": {},
   "outputs": [
    {
     "data": {
      "text/html": [
       "<ol class=list-inline>\n",
       "\t<li>'23'</li>\n",
       "\t<li>'25'</li>\n",
       "\t<li>'27'</li>\n",
       "\t<li>'29'</li>\n",
       "\t<li>'31'</li>\n",
       "\t<li>'33'</li>\n",
       "\t<li>'35'</li>\n",
       "\t<li>'37'</li>\n",
       "\t<li>'39'</li>\n",
       "\t<li>'41'</li>\n",
       "\t<li>'43'</li>\n",
       "\t<li>'34'</li>\n",
       "\t<li>'33'</li>\n",
       "\t<li>'38'</li>\n",
       "\t<li>'34'</li>\n",
       "</ol>\n"
      ],
      "text/latex": [
       "\\begin{enumerate*}\n",
       "\\item '23'\n",
       "\\item '25'\n",
       "\\item '27'\n",
       "\\item '29'\n",
       "\\item '31'\n",
       "\\item '33'\n",
       "\\item '35'\n",
       "\\item '37'\n",
       "\\item '39'\n",
       "\\item '41'\n",
       "\\item '43'\n",
       "\\item '34'\n",
       "\\item '33'\n",
       "\\item '38'\n",
       "\\item '34'\n",
       "\\end{enumerate*}\n"
      ],
      "text/markdown": [
       "1. '23'\n",
       "2. '25'\n",
       "3. '27'\n",
       "4. '29'\n",
       "5. '31'\n",
       "6. '33'\n",
       "7. '35'\n",
       "8. '37'\n",
       "9. '39'\n",
       "10. '41'\n",
       "11. '43'\n",
       "12. '34'\n",
       "13. '33'\n",
       "14. '38'\n",
       "15. '34'\n",
       "\n",
       "\n"
      ],
      "text/plain": [
       " [1] \"23\" \"25\" \"27\" \"29\" \"31\" \"33\" \"35\" \"37\" \"39\" \"41\" \"43\" \"34\" \"33\" \"38\" \"34\""
      ]
     },
     "metadata": {},
     "output_type": "display_data"
    }
   ],
   "source": [
    "numb.in.file<-scan(\"numb_in_file.txt\", what = \"character\", nmax = 15, sep=\" \", skip = 1, nlines = 2)\n",
    "#skip - will skip the lines from start\n",
    "#nlines - will go on reading for that much of lines\n",
    "numb.in.file"
   ]
  },
  {
   "cell_type": "code",
   "execution_count": 59,
   "metadata": {},
   "outputs": [
    {
     "data": {
      "text/html": [
       "<table>\n",
       "<thead><tr><th scope=col>V1</th><th scope=col>V2</th><th scope=col>V3</th><th scope=col>V4</th><th scope=col>V5</th><th scope=col>V6</th><th scope=col>V7</th><th scope=col>V8</th><th scope=col>V9</th><th scope=col>V10</th></tr></thead>\n",
       "<tbody>\n",
       "\t<tr><td>EMPLOYEE_ID  </td><td>FIRST_NAME   </td><td>LAST_NAME    </td><td>EMAIL        </td><td>PHONE_NUMBER </td><td>HIRE_DATE    </td><td>JOB_ID       </td><td>SALARY       </td><td>MANAGER_ID   </td><td>DEPARTMENT_ID</td></tr>\n",
       "\t<tr><td>100          </td><td>Steven       </td><td>King         </td><td>SKING        </td><td>515.123.4567 </td><td>17-JUN-87    </td><td>AD_PRES      </td><td>24000        </td><td>             </td><td>90           </td></tr>\n",
       "\t<tr><td>101          </td><td>Neena        </td><td>Kochhar      </td><td>NKOCHHAR     </td><td>515.123.4568 </td><td>21-SEP-89    </td><td>AD_VP        </td><td>17000        </td><td>100          </td><td>90           </td></tr>\n",
       "\t<tr><td>102          </td><td>Lex          </td><td>De Haan      </td><td>LDEHAAN      </td><td>515.123.4569 </td><td>13-JAN-93    </td><td>AD_VP        </td><td>17000        </td><td>100          </td><td>90           </td></tr>\n",
       "\t<tr><td>103          </td><td>Alexander    </td><td>Hunold       </td><td>AHUNOLD      </td><td>590.423.4567 </td><td>03-JAN-90    </td><td>IT_PROG      </td><td>9000         </td><td>102          </td><td>60           </td></tr>\n",
       "\t<tr><td>104          </td><td>Bruce        </td><td>Ernst        </td><td>BERNST       </td><td>590.423.4568 </td><td>21-MAY-91    </td><td>IT_PROG      </td><td>6000         </td><td>103          </td><td>60           </td></tr>\n",
       "</tbody>\n",
       "</table>\n"
      ],
      "text/latex": [
       "\\begin{tabular}{r|llllllllll}\n",
       " V1 & V2 & V3 & V4 & V5 & V6 & V7 & V8 & V9 & V10\\\\\n",
       "\\hline\n",
       "\t EMPLOYEE\\_ID   & FIRST\\_NAME    & LAST\\_NAME     & EMAIL           & PHONE\\_NUMBER  & HIRE\\_DATE     & JOB\\_ID        & SALARY          & MANAGER\\_ID    & DEPARTMENT\\_ID\\\\\n",
       "\t 100           & Steven        & King          & SKING         & 515.123.4567  & 17-JUN-87     & AD\\_PRES     & 24000         &               & 90           \\\\\n",
       "\t 101           & Neena         & Kochhar       & NKOCHHAR      & 515.123.4568  & 21-SEP-89     & AD\\_VP       & 17000         & 100           & 90           \\\\\n",
       "\t 102           & Lex           & De Haan       & LDEHAAN       & 515.123.4569  & 13-JAN-93     & AD\\_VP       & 17000         & 100           & 90           \\\\\n",
       "\t 103           & Alexander     & Hunold        & AHUNOLD       & 590.423.4567  & 03-JAN-90     & IT\\_PROG     & 9000          & 102           & 60           \\\\\n",
       "\t 104           & Bruce         & Ernst         & BERNST        & 590.423.4568  & 21-MAY-91     & IT\\_PROG     & 6000          & 103           & 60           \\\\\n",
       "\\end{tabular}\n"
      ],
      "text/markdown": [
       "\n",
       "V1 | V2 | V3 | V4 | V5 | V6 | V7 | V8 | V9 | V10 | \n",
       "|---|---|---|---|---|---|\n",
       "| EMPLOYEE_ID   | FIRST_NAME    | LAST_NAME     | EMAIL         | PHONE_NUMBER  | HIRE_DATE     | JOB_ID        | SALARY        | MANAGER_ID    | DEPARTMENT_ID | \n",
       "| 100           | Steven        | King          | SKING         | 515.123.4567  | 17-JUN-87     | AD_PRES       | 24000         |               | 90            | \n",
       "| 101           | Neena         | Kochhar       | NKOCHHAR      | 515.123.4568  | 21-SEP-89     | AD_VP         | 17000         | 100           | 90            | \n",
       "| 102           | Lex           | De Haan       | LDEHAAN       | 515.123.4569  | 13-JAN-93     | AD_VP         | 17000         | 100           | 90            | \n",
       "| 103           | Alexander     | Hunold        | AHUNOLD       | 590.423.4567  | 03-JAN-90     | IT_PROG       | 9000          | 102           | 60            | \n",
       "| 104           | Bruce         | Ernst         | BERNST        | 590.423.4568  | 21-MAY-91     | IT_PROG       | 6000          | 103           | 60            | \n",
       "\n",
       "\n"
      ],
      "text/plain": [
       "  V1          V2         V3        V4       V5           V6        V7     \n",
       "1 EMPLOYEE_ID FIRST_NAME LAST_NAME EMAIL    PHONE_NUMBER HIRE_DATE JOB_ID \n",
       "2 100         Steven     King      SKING    515.123.4567 17-JUN-87 AD_PRES\n",
       "3 101         Neena      Kochhar   NKOCHHAR 515.123.4568 21-SEP-89 AD_VP  \n",
       "4 102         Lex        De Haan   LDEHAAN  515.123.4569 13-JAN-93 AD_VP  \n",
       "5 103         Alexander  Hunold    AHUNOLD  590.423.4567 03-JAN-90 IT_PROG\n",
       "6 104         Bruce      Ernst     BERNST   590.423.4568 21-MAY-91 IT_PROG\n",
       "  V8     V9         V10          \n",
       "1 SALARY MANAGER_ID DEPARTMENT_ID\n",
       "2 24000             90           \n",
       "3 17000  100        90           \n",
       "4 17000  100        90           \n",
       "5 9000   102        60           \n",
       "6 6000   103        60           "
      ]
     },
     "metadata": {},
     "output_type": "display_data"
    }
   ],
   "source": [
    "#Import file using data.table\n",
    "empdata<-read.table(\"EMP.csv\", sep=\",\")\n",
    "head(empdata)"
   ]
  },
  {
   "cell_type": "code",
   "execution_count": 60,
   "metadata": {},
   "outputs": [
    {
     "data": {
      "text/html": [
       "<table>\n",
       "<thead><tr><th scope=col>EMPLOYEE_ID</th><th scope=col>FIRST_NAME</th><th scope=col>LAST_NAME</th><th scope=col>EMAIL</th><th scope=col>PHONE_NUMBER</th><th scope=col>HIRE_DATE</th><th scope=col>JOB_ID</th><th scope=col>SALARY</th><th scope=col>MANAGER_ID</th><th scope=col>DEPARTMENT_ID</th></tr></thead>\n",
       "<tbody>\n",
       "\t<tr><td>100         </td><td>Steven      </td><td>King        </td><td>SKING       </td><td>515.123.4567</td><td>17-JUN-87   </td><td>AD_PRES     </td><td>24000       </td><td> NA         </td><td>90          </td></tr>\n",
       "\t<tr><td>101         </td><td>Neena       </td><td>Kochhar     </td><td>NKOCHHAR    </td><td>515.123.4568</td><td>21-SEP-89   </td><td>AD_VP       </td><td>17000       </td><td>100         </td><td>90          </td></tr>\n",
       "\t<tr><td>102         </td><td>Lex         </td><td>De Haan     </td><td>LDEHAAN     </td><td>515.123.4569</td><td>13-JAN-93   </td><td>AD_VP       </td><td>17000       </td><td>100         </td><td>90          </td></tr>\n",
       "\t<tr><td>103         </td><td>Alexander   </td><td>Hunold      </td><td>AHUNOLD     </td><td>590.423.4567</td><td>03-JAN-90   </td><td>IT_PROG     </td><td> 9000       </td><td>102         </td><td>60          </td></tr>\n",
       "\t<tr><td>104         </td><td>Bruce       </td><td>Ernst       </td><td>BERNST      </td><td>590.423.4568</td><td>21-MAY-91   </td><td>IT_PROG     </td><td> 6000       </td><td>103         </td><td>60          </td></tr>\n",
       "\t<tr><td>105         </td><td>David       </td><td>Austin      </td><td>DAUSTIN     </td><td>590.423.4569</td><td>25-JUN-97   </td><td>IT_PROG     </td><td> 4800       </td><td>103         </td><td>60          </td></tr>\n",
       "</tbody>\n",
       "</table>\n"
      ],
      "text/latex": [
       "\\begin{tabular}{r|llllllllll}\n",
       " EMPLOYEE\\_ID & FIRST\\_NAME & LAST\\_NAME & EMAIL & PHONE\\_NUMBER & HIRE\\_DATE & JOB\\_ID & SALARY & MANAGER\\_ID & DEPARTMENT\\_ID\\\\\n",
       "\\hline\n",
       "\t 100          & Steven       & King         & SKING        & 515.123.4567 & 17-JUN-87    & AD\\_PRES    & 24000        &  NA          & 90          \\\\\n",
       "\t 101          & Neena        & Kochhar      & NKOCHHAR     & 515.123.4568 & 21-SEP-89    & AD\\_VP      & 17000        & 100          & 90          \\\\\n",
       "\t 102          & Lex          & De Haan      & LDEHAAN      & 515.123.4569 & 13-JAN-93    & AD\\_VP      & 17000        & 100          & 90          \\\\\n",
       "\t 103          & Alexander    & Hunold       & AHUNOLD      & 590.423.4567 & 03-JAN-90    & IT\\_PROG    &  9000        & 102          & 60          \\\\\n",
       "\t 104          & Bruce        & Ernst        & BERNST       & 590.423.4568 & 21-MAY-91    & IT\\_PROG    &  6000        & 103          & 60          \\\\\n",
       "\t 105          & David        & Austin       & DAUSTIN      & 590.423.4569 & 25-JUN-97    & IT\\_PROG    &  4800        & 103          & 60          \\\\\n",
       "\\end{tabular}\n"
      ],
      "text/markdown": [
       "\n",
       "EMPLOYEE_ID | FIRST_NAME | LAST_NAME | EMAIL | PHONE_NUMBER | HIRE_DATE | JOB_ID | SALARY | MANAGER_ID | DEPARTMENT_ID | \n",
       "|---|---|---|---|---|---|\n",
       "| 100          | Steven       | King         | SKING        | 515.123.4567 | 17-JUN-87    | AD_PRES      | 24000        |  NA          | 90           | \n",
       "| 101          | Neena        | Kochhar      | NKOCHHAR     | 515.123.4568 | 21-SEP-89    | AD_VP        | 17000        | 100          | 90           | \n",
       "| 102          | Lex          | De Haan      | LDEHAAN      | 515.123.4569 | 13-JAN-93    | AD_VP        | 17000        | 100          | 90           | \n",
       "| 103          | Alexander    | Hunold       | AHUNOLD      | 590.423.4567 | 03-JAN-90    | IT_PROG      |  9000        | 102          | 60           | \n",
       "| 104          | Bruce        | Ernst        | BERNST       | 590.423.4568 | 21-MAY-91    | IT_PROG      |  6000        | 103          | 60           | \n",
       "| 105          | David        | Austin       | DAUSTIN      | 590.423.4569 | 25-JUN-97    | IT_PROG      |  4800        | 103          | 60           | \n",
       "\n",
       "\n"
      ],
      "text/plain": [
       "  EMPLOYEE_ID FIRST_NAME LAST_NAME EMAIL    PHONE_NUMBER HIRE_DATE JOB_ID \n",
       "1 100         Steven     King      SKING    515.123.4567 17-JUN-87 AD_PRES\n",
       "2 101         Neena      Kochhar   NKOCHHAR 515.123.4568 21-SEP-89 AD_VP  \n",
       "3 102         Lex        De Haan   LDEHAAN  515.123.4569 13-JAN-93 AD_VP  \n",
       "4 103         Alexander  Hunold    AHUNOLD  590.423.4567 03-JAN-90 IT_PROG\n",
       "5 104         Bruce      Ernst     BERNST   590.423.4568 21-MAY-91 IT_PROG\n",
       "6 105         David      Austin    DAUSTIN  590.423.4569 25-JUN-97 IT_PROG\n",
       "  SALARY MANAGER_ID DEPARTMENT_ID\n",
       "1 24000   NA        90           \n",
       "2 17000  100        90           \n",
       "3 17000  100        90           \n",
       "4  9000  102        60           \n",
       "5  6000  103        60           \n",
       "6  4800  103        60           "
      ]
     },
     "metadata": {},
     "output_type": "display_data"
    }
   ],
   "source": [
    "empdata<-read.table(\"EMP.csv\", header = TRUE, sep=\",\")\n",
    "head(empdata)"
   ]
  },
  {
   "cell_type": "code",
   "execution_count": 62,
   "metadata": {},
   "outputs": [
    {
     "data": {
      "text/html": [
       "<table>\n",
       "<thead><tr><th scope=col>EMPLOYEE_ID</th><th scope=col>FIRST_NAME</th><th scope=col>LAST_NAME</th><th scope=col>EMAIL</th><th scope=col>PHONE_NUMBER</th><th scope=col>HIRE_DATE</th><th scope=col>JOB_ID</th><th scope=col>SALARY</th><th scope=col>MANAGER_ID</th><th scope=col>DEPARTMENT_ID</th></tr></thead>\n",
       "<tbody>\n",
       "\t<tr><td>100         </td><td>Steven      </td><td>King        </td><td>SKING       </td><td>515.123.4567</td><td>17-JUN-87   </td><td>AD_PRES     </td><td>24000       </td><td> NA         </td><td> 90         </td></tr>\n",
       "\t<tr><td>101         </td><td>Neena       </td><td>Kochhar     </td><td>NKOCHHAR    </td><td>515.123.4568</td><td>21-SEP-89   </td><td>AD_VP       </td><td>17000       </td><td>100         </td><td> 90         </td></tr>\n",
       "\t<tr><td>102         </td><td>Lex         </td><td>De Haan     </td><td>LDEHAAN     </td><td>515.123.4569</td><td>13-JAN-93   </td><td>AD_VP       </td><td>17000       </td><td>100         </td><td> 90         </td></tr>\n",
       "\t<tr><td>103         </td><td>Alexander   </td><td>Hunold      </td><td>AHUNOLD     </td><td>590.423.4567</td><td>03-JAN-90   </td><td>IT_PROG     </td><td> 9000       </td><td>102         </td><td> 60         </td></tr>\n",
       "\t<tr><td>104         </td><td>Bruce       </td><td>Ernst       </td><td>BERNST      </td><td>590.423.4568</td><td>21-MAY-91   </td><td>IT_PROG     </td><td> 6000       </td><td>103         </td><td> 60         </td></tr>\n",
       "\t<tr><td>105         </td><td>David       </td><td>Austin      </td><td>DAUSTIN     </td><td>590.423.4569</td><td>25-JUN-97   </td><td>IT_PROG     </td><td> 4800       </td><td>103         </td><td> 60         </td></tr>\n",
       "\t<tr><td>106         </td><td>Valli       </td><td>Pataballa   </td><td>VPATABAL    </td><td>590.423.4560</td><td>05-FEB-98   </td><td>IT_PROG     </td><td> 4800       </td><td>103         </td><td> 60         </td></tr>\n",
       "\t<tr><td>107         </td><td>Diana       </td><td>Lorentz     </td><td>DLORENTZ    </td><td>590.423.5567</td><td>07-FEB-99   </td><td>IT_PROG     </td><td> 4200       </td><td>103         </td><td> 60         </td></tr>\n",
       "\t<tr><td>108         </td><td>Nancy       </td><td>Greenberg   </td><td>NGREENBE    </td><td>515.124.4569</td><td>17-AUG-94   </td><td>FI_MGR      </td><td>12000       </td><td>101         </td><td>100         </td></tr>\n",
       "\t<tr><td>109         </td><td>Daniel      </td><td>Faviet      </td><td>DFAVIET     </td><td>515.124.4169</td><td>16-AUG-94   </td><td>FI_ACCOUNT  </td><td> 9000       </td><td>108         </td><td>100         </td></tr>\n",
       "</tbody>\n",
       "</table>\n"
      ],
      "text/latex": [
       "\\begin{tabular}{r|llllllllll}\n",
       " EMPLOYEE\\_ID & FIRST\\_NAME & LAST\\_NAME & EMAIL & PHONE\\_NUMBER & HIRE\\_DATE & JOB\\_ID & SALARY & MANAGER\\_ID & DEPARTMENT\\_ID\\\\\n",
       "\\hline\n",
       "\t 100          & Steven       & King         & SKING        & 515.123.4567 & 17-JUN-87    & AD\\_PRES    & 24000        &  NA          &  90         \\\\\n",
       "\t 101          & Neena        & Kochhar      & NKOCHHAR     & 515.123.4568 & 21-SEP-89    & AD\\_VP      & 17000        & 100          &  90         \\\\\n",
       "\t 102          & Lex          & De Haan      & LDEHAAN      & 515.123.4569 & 13-JAN-93    & AD\\_VP      & 17000        & 100          &  90         \\\\\n",
       "\t 103          & Alexander    & Hunold       & AHUNOLD      & 590.423.4567 & 03-JAN-90    & IT\\_PROG    &  9000        & 102          &  60         \\\\\n",
       "\t 104          & Bruce        & Ernst        & BERNST       & 590.423.4568 & 21-MAY-91    & IT\\_PROG    &  6000        & 103          &  60         \\\\\n",
       "\t 105          & David        & Austin       & DAUSTIN      & 590.423.4569 & 25-JUN-97    & IT\\_PROG    &  4800        & 103          &  60         \\\\\n",
       "\t 106          & Valli        & Pataballa    & VPATABAL     & 590.423.4560 & 05-FEB-98    & IT\\_PROG    &  4800        & 103          &  60         \\\\\n",
       "\t 107          & Diana        & Lorentz      & DLORENTZ     & 590.423.5567 & 07-FEB-99    & IT\\_PROG    &  4200        & 103          &  60         \\\\\n",
       "\t 108          & Nancy        & Greenberg    & NGREENBE     & 515.124.4569 & 17-AUG-94    & FI\\_MGR     & 12000        & 101          & 100         \\\\\n",
       "\t 109          & Daniel       & Faviet       & DFAVIET      & 515.124.4169 & 16-AUG-94    & FI\\_ACCOUNT &  9000        & 108          & 100         \\\\\n",
       "\\end{tabular}\n"
      ],
      "text/markdown": [
       "\n",
       "EMPLOYEE_ID | FIRST_NAME | LAST_NAME | EMAIL | PHONE_NUMBER | HIRE_DATE | JOB_ID | SALARY | MANAGER_ID | DEPARTMENT_ID | \n",
       "|---|---|---|---|---|---|---|---|---|---|\n",
       "| 100          | Steven       | King         | SKING        | 515.123.4567 | 17-JUN-87    | AD_PRES      | 24000        |  NA          |  90          | \n",
       "| 101          | Neena        | Kochhar      | NKOCHHAR     | 515.123.4568 | 21-SEP-89    | AD_VP        | 17000        | 100          |  90          | \n",
       "| 102          | Lex          | De Haan      | LDEHAAN      | 515.123.4569 | 13-JAN-93    | AD_VP        | 17000        | 100          |  90          | \n",
       "| 103          | Alexander    | Hunold       | AHUNOLD      | 590.423.4567 | 03-JAN-90    | IT_PROG      |  9000        | 102          |  60          | \n",
       "| 104          | Bruce        | Ernst        | BERNST       | 590.423.4568 | 21-MAY-91    | IT_PROG      |  6000        | 103          |  60          | \n",
       "| 105          | David        | Austin       | DAUSTIN      | 590.423.4569 | 25-JUN-97    | IT_PROG      |  4800        | 103          |  60          | \n",
       "| 106          | Valli        | Pataballa    | VPATABAL     | 590.423.4560 | 05-FEB-98    | IT_PROG      |  4800        | 103          |  60          | \n",
       "| 107          | Diana        | Lorentz      | DLORENTZ     | 590.423.5567 | 07-FEB-99    | IT_PROG      |  4200        | 103          |  60          | \n",
       "| 108          | Nancy        | Greenberg    | NGREENBE     | 515.124.4569 | 17-AUG-94    | FI_MGR       | 12000        | 101          | 100          | \n",
       "| 109          | Daniel       | Faviet       | DFAVIET      | 515.124.4169 | 16-AUG-94    | FI_ACCOUNT   |  9000        | 108          | 100          | \n",
       "\n",
       "\n"
      ],
      "text/plain": [
       "   EMPLOYEE_ID FIRST_NAME LAST_NAME EMAIL    PHONE_NUMBER HIRE_DATE JOB_ID    \n",
       "1  100         Steven     King      SKING    515.123.4567 17-JUN-87 AD_PRES   \n",
       "2  101         Neena      Kochhar   NKOCHHAR 515.123.4568 21-SEP-89 AD_VP     \n",
       "3  102         Lex        De Haan   LDEHAAN  515.123.4569 13-JAN-93 AD_VP     \n",
       "4  103         Alexander  Hunold    AHUNOLD  590.423.4567 03-JAN-90 IT_PROG   \n",
       "5  104         Bruce      Ernst     BERNST   590.423.4568 21-MAY-91 IT_PROG   \n",
       "6  105         David      Austin    DAUSTIN  590.423.4569 25-JUN-97 IT_PROG   \n",
       "7  106         Valli      Pataballa VPATABAL 590.423.4560 05-FEB-98 IT_PROG   \n",
       "8  107         Diana      Lorentz   DLORENTZ 590.423.5567 07-FEB-99 IT_PROG   \n",
       "9  108         Nancy      Greenberg NGREENBE 515.124.4569 17-AUG-94 FI_MGR    \n",
       "10 109         Daniel     Faviet    DFAVIET  515.124.4169 16-AUG-94 FI_ACCOUNT\n",
       "   SALARY MANAGER_ID DEPARTMENT_ID\n",
       "1  24000   NA         90          \n",
       "2  17000  100         90          \n",
       "3  17000  100         90          \n",
       "4   9000  102         60          \n",
       "5   6000  103         60          \n",
       "6   4800  103         60          \n",
       "7   4800  103         60          \n",
       "8   4200  103         60          \n",
       "9  12000  101        100          \n",
       "10  9000  108        100          "
      ]
     },
     "metadata": {},
     "output_type": "display_data"
    }
   ],
   "source": [
    "empdata<-read.table(\"EMP.csv\", header = TRUE, sep=\",\", nrows = 10)\n",
    "empdata"
   ]
  },
  {
   "cell_type": "code",
   "execution_count": 64,
   "metadata": {},
   "outputs": [
    {
     "data": {
      "text/html": [
       "<table>\n",
       "<thead><tr><th scope=col>V1</th><th scope=col>V2</th><th scope=col>V3</th><th scope=col>V4</th><th scope=col>V5</th><th scope=col>V6</th><th scope=col>V7</th><th scope=col>V8</th><th scope=col>V9</th><th scope=col>V10</th></tr></thead>\n",
       "<tbody>\n",
       "\t<tr><td>104         </td><td>Bruce       </td><td>Ernst       </td><td>BERNST      </td><td>590.423.4568</td><td>21-MAY-91   </td><td>IT_PROG     </td><td> 6000       </td><td>103         </td><td> 60         </td></tr>\n",
       "\t<tr><td>105         </td><td>David       </td><td>Austin      </td><td>DAUSTIN     </td><td>590.423.4569</td><td>25-JUN-97   </td><td>IT_PROG     </td><td> 4800       </td><td>103         </td><td> 60         </td></tr>\n",
       "\t<tr><td>106         </td><td>Valli       </td><td>Pataballa   </td><td>VPATABAL    </td><td>590.423.4560</td><td>05-FEB-98   </td><td>IT_PROG     </td><td> 4800       </td><td>103         </td><td> 60         </td></tr>\n",
       "\t<tr><td>107         </td><td>Diana       </td><td>Lorentz     </td><td>DLORENTZ    </td><td>590.423.5567</td><td>07-FEB-99   </td><td>IT_PROG     </td><td> 4200       </td><td>103         </td><td> 60         </td></tr>\n",
       "\t<tr><td>108         </td><td>Nancy       </td><td>Greenberg   </td><td>NGREENBE    </td><td>515.124.4569</td><td>17-AUG-94   </td><td>FI_MGR      </td><td>12000       </td><td>101         </td><td>100         </td></tr>\n",
       "\t<tr><td>109         </td><td>Daniel      </td><td>Faviet      </td><td>DFAVIET     </td><td>515.124.4169</td><td>16-AUG-94   </td><td>FI_ACCOUNT  </td><td> 9000       </td><td>108         </td><td>100         </td></tr>\n",
       "\t<tr><td>110         </td><td>John        </td><td>Chen        </td><td>JCHEN       </td><td>515.124.4269</td><td>28-SEP-97   </td><td>FI_ACCOUNT  </td><td> 8200       </td><td>108         </td><td>100         </td></tr>\n",
       "\t<tr><td>111         </td><td>Ismael      </td><td>Sciarra     </td><td>ISCIARRA    </td><td>515.124.4369</td><td>30-SEP-97   </td><td>FI_ACCOUNT  </td><td> 7700       </td><td>108         </td><td>100         </td></tr>\n",
       "\t<tr><td>112         </td><td>Jose Manuel </td><td>Urman       </td><td>JMURMAN     </td><td>515.124.4469</td><td>07-MAR-98   </td><td>FI_ACCOUNT  </td><td> 7800       </td><td>108         </td><td>100         </td></tr>\n",
       "\t<tr><td>113         </td><td>Luis        </td><td>Popp        </td><td>LPOPP       </td><td>515.124.4567</td><td>07-DEC-99   </td><td>FI_ACCOUNT  </td><td> 6900       </td><td>108         </td><td>100         </td></tr>\n",
       "</tbody>\n",
       "</table>\n"
      ],
      "text/latex": [
       "\\begin{tabular}{r|llllllllll}\n",
       " V1 & V2 & V3 & V4 & V5 & V6 & V7 & V8 & V9 & V10\\\\\n",
       "\\hline\n",
       "\t 104          & Bruce        & Ernst        & BERNST       & 590.423.4568 & 21-MAY-91    & IT\\_PROG    &  6000        & 103          &  60         \\\\\n",
       "\t 105          & David        & Austin       & DAUSTIN      & 590.423.4569 & 25-JUN-97    & IT\\_PROG    &  4800        & 103          &  60         \\\\\n",
       "\t 106          & Valli        & Pataballa    & VPATABAL     & 590.423.4560 & 05-FEB-98    & IT\\_PROG    &  4800        & 103          &  60         \\\\\n",
       "\t 107          & Diana        & Lorentz      & DLORENTZ     & 590.423.5567 & 07-FEB-99    & IT\\_PROG    &  4200        & 103          &  60         \\\\\n",
       "\t 108          & Nancy        & Greenberg    & NGREENBE     & 515.124.4569 & 17-AUG-94    & FI\\_MGR     & 12000        & 101          & 100         \\\\\n",
       "\t 109          & Daniel       & Faviet       & DFAVIET      & 515.124.4169 & 16-AUG-94    & FI\\_ACCOUNT &  9000        & 108          & 100         \\\\\n",
       "\t 110          & John         & Chen         & JCHEN        & 515.124.4269 & 28-SEP-97    & FI\\_ACCOUNT &  8200        & 108          & 100         \\\\\n",
       "\t 111          & Ismael       & Sciarra      & ISCIARRA     & 515.124.4369 & 30-SEP-97    & FI\\_ACCOUNT &  7700        & 108          & 100         \\\\\n",
       "\t 112          & Jose Manuel  & Urman        & JMURMAN      & 515.124.4469 & 07-MAR-98    & FI\\_ACCOUNT &  7800        & 108          & 100         \\\\\n",
       "\t 113          & Luis         & Popp         & LPOPP        & 515.124.4567 & 07-DEC-99    & FI\\_ACCOUNT &  6900        & 108          & 100         \\\\\n",
       "\\end{tabular}\n"
      ],
      "text/markdown": [
       "\n",
       "V1 | V2 | V3 | V4 | V5 | V6 | V7 | V8 | V9 | V10 | \n",
       "|---|---|---|---|---|---|---|---|---|---|\n",
       "| 104          | Bruce        | Ernst        | BERNST       | 590.423.4568 | 21-MAY-91    | IT_PROG      |  6000        | 103          |  60          | \n",
       "| 105          | David        | Austin       | DAUSTIN      | 590.423.4569 | 25-JUN-97    | IT_PROG      |  4800        | 103          |  60          | \n",
       "| 106          | Valli        | Pataballa    | VPATABAL     | 590.423.4560 | 05-FEB-98    | IT_PROG      |  4800        | 103          |  60          | \n",
       "| 107          | Diana        | Lorentz      | DLORENTZ     | 590.423.5567 | 07-FEB-99    | IT_PROG      |  4200        | 103          |  60          | \n",
       "| 108          | Nancy        | Greenberg    | NGREENBE     | 515.124.4569 | 17-AUG-94    | FI_MGR       | 12000        | 101          | 100          | \n",
       "| 109          | Daniel       | Faviet       | DFAVIET      | 515.124.4169 | 16-AUG-94    | FI_ACCOUNT   |  9000        | 108          | 100          | \n",
       "| 110          | John         | Chen         | JCHEN        | 515.124.4269 | 28-SEP-97    | FI_ACCOUNT   |  8200        | 108          | 100          | \n",
       "| 111          | Ismael       | Sciarra      | ISCIARRA     | 515.124.4369 | 30-SEP-97    | FI_ACCOUNT   |  7700        | 108          | 100          | \n",
       "| 112          | Jose Manuel  | Urman        | JMURMAN      | 515.124.4469 | 07-MAR-98    | FI_ACCOUNT   |  7800        | 108          | 100          | \n",
       "| 113          | Luis         | Popp         | LPOPP        | 515.124.4567 | 07-DEC-99    | FI_ACCOUNT   |  6900        | 108          | 100          | \n",
       "\n",
       "\n"
      ],
      "text/plain": [
       "   V1  V2          V3        V4       V5           V6        V7         V8   \n",
       "1  104 Bruce       Ernst     BERNST   590.423.4568 21-MAY-91 IT_PROG     6000\n",
       "2  105 David       Austin    DAUSTIN  590.423.4569 25-JUN-97 IT_PROG     4800\n",
       "3  106 Valli       Pataballa VPATABAL 590.423.4560 05-FEB-98 IT_PROG     4800\n",
       "4  107 Diana       Lorentz   DLORENTZ 590.423.5567 07-FEB-99 IT_PROG     4200\n",
       "5  108 Nancy       Greenberg NGREENBE 515.124.4569 17-AUG-94 FI_MGR     12000\n",
       "6  109 Daniel      Faviet    DFAVIET  515.124.4169 16-AUG-94 FI_ACCOUNT  9000\n",
       "7  110 John        Chen      JCHEN    515.124.4269 28-SEP-97 FI_ACCOUNT  8200\n",
       "8  111 Ismael      Sciarra   ISCIARRA 515.124.4369 30-SEP-97 FI_ACCOUNT  7700\n",
       "9  112 Jose Manuel Urman     JMURMAN  515.124.4469 07-MAR-98 FI_ACCOUNT  7800\n",
       "10 113 Luis        Popp      LPOPP    515.124.4567 07-DEC-99 FI_ACCOUNT  6900\n",
       "   V9  V10\n",
       "1  103  60\n",
       "2  103  60\n",
       "3  103  60\n",
       "4  103  60\n",
       "5  101 100\n",
       "6  108 100\n",
       "7  108 100\n",
       "8  108 100\n",
       "9  108 100\n",
       "10 108 100"
      ]
     },
     "metadata": {},
     "output_type": "display_data"
    }
   ],
   "source": [
    "empdata<-read.table(\"EMP.csv\", header = FALSE, sep=\",\", nrows = 10, skip=5)\n",
    "empdata"
   ]
  },
  {
   "cell_type": "code",
   "execution_count": 65,
   "metadata": {},
   "outputs": [
    {
     "data": {
      "text/html": [
       "<table>\n",
       "<thead><tr><th scope=col>V1</th><th scope=col>V2</th><th scope=col>V3</th><th scope=col>V4</th><th scope=col>V5</th><th scope=col>V6</th><th scope=col>V7</th><th scope=col>V8</th><th scope=col>V9</th><th scope=col>V10</th></tr></thead>\n",
       "<tbody>\n",
       "\t<tr><td>EMPLOYEE_ID  </td><td>FIRST_NAME   </td><td>LAST_NAME    </td><td>EMAIL        </td><td>PHONE_NUMBER </td><td>HIRE_DATE    </td><td>JOB_ID       </td><td>SALARY       </td><td>MANAGER_ID   </td><td>DEPARTMENT_ID</td></tr>\n",
       "</tbody>\n",
       "</table>\n"
      ],
      "text/latex": [
       "\\begin{tabular}{r|llllllllll}\n",
       " V1 & V2 & V3 & V4 & V5 & V6 & V7 & V8 & V9 & V10\\\\\n",
       "\\hline\n",
       "\t EMPLOYEE\\_ID   & FIRST\\_NAME    & LAST\\_NAME     & EMAIL           & PHONE\\_NUMBER  & HIRE\\_DATE     & JOB\\_ID        & SALARY          & MANAGER\\_ID    & DEPARTMENT\\_ID\\\\\n",
       "\\end{tabular}\n"
      ],
      "text/markdown": [
       "\n",
       "V1 | V2 | V3 | V4 | V5 | V6 | V7 | V8 | V9 | V10 | \n",
       "|---|\n",
       "| EMPLOYEE_ID   | FIRST_NAME    | LAST_NAME     | EMAIL         | PHONE_NUMBER  | HIRE_DATE     | JOB_ID        | SALARY        | MANAGER_ID    | DEPARTMENT_ID | \n",
       "\n",
       "\n"
      ],
      "text/plain": [
       "  V1          V2         V3        V4    V5           V6        V7     V8    \n",
       "1 EMPLOYEE_ID FIRST_NAME LAST_NAME EMAIL PHONE_NUMBER HIRE_DATE JOB_ID SALARY\n",
       "  V9         V10          \n",
       "1 MANAGER_ID DEPARTMENT_ID"
      ]
     },
     "metadata": {},
     "output_type": "display_data"
    }
   ],
   "source": [
    "empdata<-read.table(\"EMP.csv\", header = FALSE, sep=\",\", nrows = 1)\n",
    "empdata"
   ]
  },
  {
   "cell_type": "markdown",
   "metadata": {},
   "source": [
    "#### Import files using data.csv"
   ]
  },
  {
   "cell_type": "code",
   "execution_count": 71,
   "metadata": {},
   "outputs": [
    {
     "data": {
      "text/html": [
       "<table>\n",
       "<thead><tr><th scope=col>EMPLOYEE_ID</th><th scope=col>FIRST_NAME</th><th scope=col>LAST_NAME</th><th scope=col>EMAIL</th><th scope=col>PHONE_NUMBER</th><th scope=col>HIRE_DATE</th><th scope=col>JOB_ID</th><th scope=col>SALARY</th><th scope=col>MANAGER_ID</th><th scope=col>DEPARTMENT_ID</th></tr></thead>\n",
       "<tbody>\n",
       "\t<tr><td>100         </td><td>Steven      </td><td>King        </td><td>SKING       </td><td>515.123.4567</td><td>17-JUN-87   </td><td>AD_PRES     </td><td>24000       </td><td> NA         </td><td>90          </td></tr>\n",
       "\t<tr><td>101         </td><td>Neena       </td><td>Kochhar     </td><td>NKOCHHAR    </td><td>515.123.4568</td><td>21-SEP-89   </td><td>AD_VP       </td><td>17000       </td><td>100         </td><td>90          </td></tr>\n",
       "\t<tr><td>102         </td><td>Lex         </td><td>De Haan     </td><td>LDEHAAN     </td><td>515.123.4569</td><td>13-JAN-93   </td><td>AD_VP       </td><td>17000       </td><td>100         </td><td>90          </td></tr>\n",
       "\t<tr><td>103         </td><td>Alexander   </td><td>Hunold      </td><td>AHUNOLD     </td><td>590.423.4567</td><td>03-JAN-90   </td><td>IT_PROG     </td><td> 9000       </td><td>102         </td><td>60          </td></tr>\n",
       "\t<tr><td>104         </td><td>Bruce       </td><td>Ernst       </td><td>BERNST      </td><td>590.423.4568</td><td>21-MAY-91   </td><td>IT_PROG     </td><td> 6000       </td><td>103         </td><td>60          </td></tr>\n",
       "\t<tr><td>105         </td><td>David       </td><td>Austin      </td><td>DAUSTIN     </td><td>590.423.4569</td><td>25-JUN-97   </td><td>IT_PROG     </td><td> 4800       </td><td>103         </td><td>60          </td></tr>\n",
       "</tbody>\n",
       "</table>\n"
      ],
      "text/latex": [
       "\\begin{tabular}{r|llllllllll}\n",
       " EMPLOYEE\\_ID & FIRST\\_NAME & LAST\\_NAME & EMAIL & PHONE\\_NUMBER & HIRE\\_DATE & JOB\\_ID & SALARY & MANAGER\\_ID & DEPARTMENT\\_ID\\\\\n",
       "\\hline\n",
       "\t 100          & Steven       & King         & SKING        & 515.123.4567 & 17-JUN-87    & AD\\_PRES    & 24000        &  NA          & 90          \\\\\n",
       "\t 101          & Neena        & Kochhar      & NKOCHHAR     & 515.123.4568 & 21-SEP-89    & AD\\_VP      & 17000        & 100          & 90          \\\\\n",
       "\t 102          & Lex          & De Haan      & LDEHAAN      & 515.123.4569 & 13-JAN-93    & AD\\_VP      & 17000        & 100          & 90          \\\\\n",
       "\t 103          & Alexander    & Hunold       & AHUNOLD      & 590.423.4567 & 03-JAN-90    & IT\\_PROG    &  9000        & 102          & 60          \\\\\n",
       "\t 104          & Bruce        & Ernst        & BERNST       & 590.423.4568 & 21-MAY-91    & IT\\_PROG    &  6000        & 103          & 60          \\\\\n",
       "\t 105          & David        & Austin       & DAUSTIN      & 590.423.4569 & 25-JUN-97    & IT\\_PROG    &  4800        & 103          & 60          \\\\\n",
       "\\end{tabular}\n"
      ],
      "text/markdown": [
       "\n",
       "EMPLOYEE_ID | FIRST_NAME | LAST_NAME | EMAIL | PHONE_NUMBER | HIRE_DATE | JOB_ID | SALARY | MANAGER_ID | DEPARTMENT_ID | \n",
       "|---|---|---|---|---|---|\n",
       "| 100          | Steven       | King         | SKING        | 515.123.4567 | 17-JUN-87    | AD_PRES      | 24000        |  NA          | 90           | \n",
       "| 101          | Neena        | Kochhar      | NKOCHHAR     | 515.123.4568 | 21-SEP-89    | AD_VP        | 17000        | 100          | 90           | \n",
       "| 102          | Lex          | De Haan      | LDEHAAN      | 515.123.4569 | 13-JAN-93    | AD_VP        | 17000        | 100          | 90           | \n",
       "| 103          | Alexander    | Hunold       | AHUNOLD      | 590.423.4567 | 03-JAN-90    | IT_PROG      |  9000        | 102          | 60           | \n",
       "| 104          | Bruce        | Ernst        | BERNST       | 590.423.4568 | 21-MAY-91    | IT_PROG      |  6000        | 103          | 60           | \n",
       "| 105          | David        | Austin       | DAUSTIN      | 590.423.4569 | 25-JUN-97    | IT_PROG      |  4800        | 103          | 60           | \n",
       "\n",
       "\n"
      ],
      "text/plain": [
       "  EMPLOYEE_ID FIRST_NAME LAST_NAME EMAIL    PHONE_NUMBER HIRE_DATE JOB_ID \n",
       "1 100         Steven     King      SKING    515.123.4567 17-JUN-87 AD_PRES\n",
       "2 101         Neena      Kochhar   NKOCHHAR 515.123.4568 21-SEP-89 AD_VP  \n",
       "3 102         Lex        De Haan   LDEHAAN  515.123.4569 13-JAN-93 AD_VP  \n",
       "4 103         Alexander  Hunold    AHUNOLD  590.423.4567 03-JAN-90 IT_PROG\n",
       "5 104         Bruce      Ernst     BERNST   590.423.4568 21-MAY-91 IT_PROG\n",
       "6 105         David      Austin    DAUSTIN  590.423.4569 25-JUN-97 IT_PROG\n",
       "  SALARY MANAGER_ID DEPARTMENT_ID\n",
       "1 24000   NA        90           \n",
       "2 17000  100        90           \n",
       "3 17000  100        90           \n",
       "4  9000  102        60           \n",
       "5  6000  103        60           \n",
       "6  4800  103        60           "
      ]
     },
     "metadata": {},
     "output_type": "display_data"
    },
    {
     "data": {
      "text/html": [
       "<table>\n",
       "<thead><tr><th></th><th scope=col>EMPLOYEE_ID</th><th scope=col>FIRST_NAME</th><th scope=col>LAST_NAME</th><th scope=col>EMAIL</th><th scope=col>PHONE_NUMBER</th><th scope=col>HIRE_DATE</th><th scope=col>JOB_ID</th><th scope=col>SALARY</th><th scope=col>MANAGER_ID</th><th scope=col>DEPARTMENT_ID</th></tr></thead>\n",
       "<tbody>\n",
       "\t<tr><th scope=row>102</th><td>201         </td><td>Michael     </td><td>Hartstein   </td><td>MHARTSTE    </td><td>515.123.5555</td><td>17-FEB-96   </td><td>MK_MAN      </td><td>13000       </td><td>100         </td><td> 20         </td></tr>\n",
       "\t<tr><th scope=row>103</th><td>202         </td><td>Pat         </td><td>Fay         </td><td>PFAY        </td><td>603.123.6666</td><td>17-AUG-97   </td><td>MK_REP      </td><td> 6000       </td><td>201         </td><td> 20         </td></tr>\n",
       "\t<tr><th scope=row>104</th><td>203         </td><td>Susan       </td><td>Mavris      </td><td>SMAVRIS     </td><td>515.123.7777</td><td>07-JUN-94   </td><td>HR_REP      </td><td> 6500       </td><td>101         </td><td> 40         </td></tr>\n",
       "\t<tr><th scope=row>105</th><td>204         </td><td>Hermann     </td><td>Baer        </td><td>HBAER       </td><td>515.123.8888</td><td>07-JUN-94   </td><td>PR_REP      </td><td>10000       </td><td>101         </td><td> 70         </td></tr>\n",
       "\t<tr><th scope=row>106</th><td>205         </td><td>Shelley     </td><td>Higgins     </td><td>SHIGGINS    </td><td>515.123.8080</td><td>07-JUN-94   </td><td>AC_MGR      </td><td>12000       </td><td>101         </td><td>110         </td></tr>\n",
       "\t<tr><th scope=row>107</th><td>206         </td><td>William     </td><td>Gietz       </td><td>WGIETZ      </td><td>515.123.8181</td><td>07-JUN-94   </td><td>AC_ACCOUNT  </td><td> 8300       </td><td>205         </td><td>110         </td></tr>\n",
       "</tbody>\n",
       "</table>\n"
      ],
      "text/latex": [
       "\\begin{tabular}{r|llllllllll}\n",
       "  & EMPLOYEE\\_ID & FIRST\\_NAME & LAST\\_NAME & EMAIL & PHONE\\_NUMBER & HIRE\\_DATE & JOB\\_ID & SALARY & MANAGER\\_ID & DEPARTMENT\\_ID\\\\\n",
       "\\hline\n",
       "\t102 & 201          & Michael      & Hartstein    & MHARTSTE     & 515.123.5555 & 17-FEB-96    & MK\\_MAN     & 13000        & 100          &  20         \\\\\n",
       "\t103 & 202          & Pat          & Fay          & PFAY         & 603.123.6666 & 17-AUG-97    & MK\\_REP     &  6000        & 201          &  20         \\\\\n",
       "\t104 & 203          & Susan        & Mavris       & SMAVRIS      & 515.123.7777 & 07-JUN-94    & HR\\_REP     &  6500        & 101          &  40         \\\\\n",
       "\t105 & 204          & Hermann      & Baer         & HBAER        & 515.123.8888 & 07-JUN-94    & PR\\_REP     & 10000        & 101          &  70         \\\\\n",
       "\t106 & 205          & Shelley      & Higgins      & SHIGGINS     & 515.123.8080 & 07-JUN-94    & AC\\_MGR     & 12000        & 101          & 110         \\\\\n",
       "\t107 & 206          & William      & Gietz        & WGIETZ       & 515.123.8181 & 07-JUN-94    & AC\\_ACCOUNT &  8300        & 205          & 110         \\\\\n",
       "\\end{tabular}\n"
      ],
      "text/markdown": [
       "\n",
       "| <!--/--> | EMPLOYEE_ID | FIRST_NAME | LAST_NAME | EMAIL | PHONE_NUMBER | HIRE_DATE | JOB_ID | SALARY | MANAGER_ID | DEPARTMENT_ID | \n",
       "|---|---|---|---|---|---|\n",
       "| 102 | 201          | Michael      | Hartstein    | MHARTSTE     | 515.123.5555 | 17-FEB-96    | MK_MAN       | 13000        | 100          |  20          | \n",
       "| 103 | 202          | Pat          | Fay          | PFAY         | 603.123.6666 | 17-AUG-97    | MK_REP       |  6000        | 201          |  20          | \n",
       "| 104 | 203          | Susan        | Mavris       | SMAVRIS      | 515.123.7777 | 07-JUN-94    | HR_REP       |  6500        | 101          |  40          | \n",
       "| 105 | 204          | Hermann      | Baer         | HBAER        | 515.123.8888 | 07-JUN-94    | PR_REP       | 10000        | 101          |  70          | \n",
       "| 106 | 205          | Shelley      | Higgins      | SHIGGINS     | 515.123.8080 | 07-JUN-94    | AC_MGR       | 12000        | 101          | 110          | \n",
       "| 107 | 206          | William      | Gietz        | WGIETZ       | 515.123.8181 | 07-JUN-94    | AC_ACCOUNT   |  8300        | 205          | 110          | \n",
       "\n",
       "\n"
      ],
      "text/plain": [
       "    EMPLOYEE_ID FIRST_NAME LAST_NAME EMAIL    PHONE_NUMBER HIRE_DATE JOB_ID    \n",
       "102 201         Michael    Hartstein MHARTSTE 515.123.5555 17-FEB-96 MK_MAN    \n",
       "103 202         Pat        Fay       PFAY     603.123.6666 17-AUG-97 MK_REP    \n",
       "104 203         Susan      Mavris    SMAVRIS  515.123.7777 07-JUN-94 HR_REP    \n",
       "105 204         Hermann    Baer      HBAER    515.123.8888 07-JUN-94 PR_REP    \n",
       "106 205         Shelley    Higgins   SHIGGINS 515.123.8080 07-JUN-94 AC_MGR    \n",
       "107 206         William    Gietz     WGIETZ   515.123.8181 07-JUN-94 AC_ACCOUNT\n",
       "    SALARY MANAGER_ID DEPARTMENT_ID\n",
       "102 13000  100         20          \n",
       "103  6000  201         20          \n",
       "104  6500  101         40          \n",
       "105 10000  101         70          \n",
       "106 12000  101        110          \n",
       "107  8300  205        110          "
      ]
     },
     "metadata": {},
     "output_type": "display_data"
    }
   ],
   "source": [
    "empdata<-read.csv(\"EMP.csv\")\n",
    "head(empdata)\n",
    "tail(empdata)"
   ]
  },
  {
   "cell_type": "markdown",
   "metadata": {},
   "source": [
    "#### dplyr"
   ]
  },
  {
   "cell_type": "code",
   "execution_count": 73,
   "metadata": {},
   "outputs": [],
   "source": [
    "library(dplyr)"
   ]
  },
  {
   "cell_type": "code",
   "execution_count": 75,
   "metadata": {},
   "outputs": [
    {
     "name": "stdout",
     "output_type": "stream",
     "text": [
      "'data.frame':\t107 obs. of  10 variables:\n",
      " $ EMPLOYEE_ID  : int  100 101 102 103 104 105 106 107 108 109 ...\n",
      " $ FIRST_NAME   : Factor w/ 91 levels \"Adam\",\"Alana\",..: 80 64 51 4 11 18 88 20 61 16 ...\n",
      " $ LAST_NAME    : Factor w/ 102 levels \"Abel\",\"Ande\",..: 50 51 20 44 24 4 74 57 38 27 ...\n",
      " $ EMAIL        : Factor w/ 107 levels \"ABANDA\",\"ABULL\",..: 90 74 61 6 11 17 104 23 73 19 ...\n",
      " $ PHONE_NUMBER : Factor w/ 107 levels \"011.44.1343.329268\",..: 37 38 39 58 59 60 57 61 50 45 ...\n",
      " $ HIRE_DATE    : Factor w/ 98 levels \"01-AUG-96\",\"01-JUL-98\",..: 53 67 37 6 66 86 12 18 50 46 ...\n",
      " $ JOB_ID       : Factor w/ 19 levels \"AC_ACCOUNT\",\"AC_MGR\",..: 4 5 5 9 9 9 9 9 7 6 ...\n",
      " $ SALARY       : int  24000 17000 17000 9000 6000 4800 4800 4200 12000 9000 ...\n",
      " $ MANAGER_ID   : int  NA 100 100 102 103 103 103 103 101 108 ...\n",
      " $ DEPARTMENT_ID: int  90 90 90 60 60 60 60 60 100 100 ...\n"
     ]
    },
    {
     "data": {
      "text/html": [
       "<ol class=list-inline>\n",
       "\t<li>'EMPLOYEE_ID'</li>\n",
       "\t<li>'FIRST_NAME'</li>\n",
       "\t<li>'LAST_NAME'</li>\n",
       "\t<li>'EMAIL'</li>\n",
       "\t<li>'PHONE_NUMBER'</li>\n",
       "\t<li>'HIRE_DATE'</li>\n",
       "\t<li>'JOB_ID'</li>\n",
       "\t<li>'SALARY'</li>\n",
       "\t<li>'MANAGER_ID'</li>\n",
       "\t<li>'DEPARTMENT_ID'</li>\n",
       "</ol>\n"
      ],
      "text/latex": [
       "\\begin{enumerate*}\n",
       "\\item 'EMPLOYEE\\_ID'\n",
       "\\item 'FIRST\\_NAME'\n",
       "\\item 'LAST\\_NAME'\n",
       "\\item 'EMAIL'\n",
       "\\item 'PHONE\\_NUMBER'\n",
       "\\item 'HIRE\\_DATE'\n",
       "\\item 'JOB\\_ID'\n",
       "\\item 'SALARY'\n",
       "\\item 'MANAGER\\_ID'\n",
       "\\item 'DEPARTMENT\\_ID'\n",
       "\\end{enumerate*}\n"
      ],
      "text/markdown": [
       "1. 'EMPLOYEE_ID'\n",
       "2. 'FIRST_NAME'\n",
       "3. 'LAST_NAME'\n",
       "4. 'EMAIL'\n",
       "5. 'PHONE_NUMBER'\n",
       "6. 'HIRE_DATE'\n",
       "7. 'JOB_ID'\n",
       "8. 'SALARY'\n",
       "9. 'MANAGER_ID'\n",
       "10. 'DEPARTMENT_ID'\n",
       "\n",
       "\n"
      ],
      "text/plain": [
       " [1] \"EMPLOYEE_ID\"   \"FIRST_NAME\"    \"LAST_NAME\"     \"EMAIL\"        \n",
       " [5] \"PHONE_NUMBER\"  \"HIRE_DATE\"     \"JOB_ID\"        \"SALARY\"       \n",
       " [9] \"MANAGER_ID\"    \"DEPARTMENT_ID\""
      ]
     },
     "metadata": {},
     "output_type": "display_data"
    },
    {
     "data": {
      "text/html": [
       "<table>\n",
       "<thead><tr><th scope=col>EMPLOYEE_ID</th><th scope=col>FIRST_NAME</th><th scope=col>LAST_NAME</th><th scope=col>EMAIL</th><th scope=col>PHONE_NUMBER</th><th scope=col>HIRE_DATE</th><th scope=col>JOB_ID</th><th scope=col>SALARY</th><th scope=col>MANAGER_ID</th><th scope=col>DEPARTMENT_ID</th></tr></thead>\n",
       "<tbody>\n",
       "\t<tr><td>100         </td><td>Steven      </td><td>King        </td><td>SKING       </td><td>515.123.4567</td><td>17-JUN-87   </td><td>AD_PRES     </td><td>24000       </td><td> NA         </td><td>90          </td></tr>\n",
       "\t<tr><td>101         </td><td>Neena       </td><td>Kochhar     </td><td>NKOCHHAR    </td><td>515.123.4568</td><td>21-SEP-89   </td><td>AD_VP       </td><td>17000       </td><td>100         </td><td>90          </td></tr>\n",
       "\t<tr><td>102         </td><td>Lex         </td><td>De Haan     </td><td>LDEHAAN     </td><td>515.123.4569</td><td>13-JAN-93   </td><td>AD_VP       </td><td>17000       </td><td>100         </td><td>90          </td></tr>\n",
       "</tbody>\n",
       "</table>\n"
      ],
      "text/latex": [
       "\\begin{tabular}{r|llllllllll}\n",
       " EMPLOYEE\\_ID & FIRST\\_NAME & LAST\\_NAME & EMAIL & PHONE\\_NUMBER & HIRE\\_DATE & JOB\\_ID & SALARY & MANAGER\\_ID & DEPARTMENT\\_ID\\\\\n",
       "\\hline\n",
       "\t 100          & Steven       & King         & SKING        & 515.123.4567 & 17-JUN-87    & AD\\_PRES    & 24000        &  NA          & 90          \\\\\n",
       "\t 101          & Neena        & Kochhar      & NKOCHHAR     & 515.123.4568 & 21-SEP-89    & AD\\_VP      & 17000        & 100          & 90          \\\\\n",
       "\t 102          & Lex          & De Haan      & LDEHAAN      & 515.123.4569 & 13-JAN-93    & AD\\_VP      & 17000        & 100          & 90          \\\\\n",
       "\\end{tabular}\n"
      ],
      "text/markdown": [
       "\n",
       "EMPLOYEE_ID | FIRST_NAME | LAST_NAME | EMAIL | PHONE_NUMBER | HIRE_DATE | JOB_ID | SALARY | MANAGER_ID | DEPARTMENT_ID | \n",
       "|---|---|---|\n",
       "| 100          | Steven       | King         | SKING        | 515.123.4567 | 17-JUN-87    | AD_PRES      | 24000        |  NA          | 90           | \n",
       "| 101          | Neena        | Kochhar      | NKOCHHAR     | 515.123.4568 | 21-SEP-89    | AD_VP        | 17000        | 100          | 90           | \n",
       "| 102          | Lex          | De Haan      | LDEHAAN      | 515.123.4569 | 13-JAN-93    | AD_VP        | 17000        | 100          | 90           | \n",
       "\n",
       "\n"
      ],
      "text/plain": [
       "  EMPLOYEE_ID FIRST_NAME LAST_NAME EMAIL    PHONE_NUMBER HIRE_DATE JOB_ID \n",
       "1 100         Steven     King      SKING    515.123.4567 17-JUN-87 AD_PRES\n",
       "2 101         Neena      Kochhar   NKOCHHAR 515.123.4568 21-SEP-89 AD_VP  \n",
       "3 102         Lex        De Haan   LDEHAAN  515.123.4569 13-JAN-93 AD_VP  \n",
       "  SALARY MANAGER_ID DEPARTMENT_ID\n",
       "1 24000   NA        90           \n",
       "2 17000  100        90           \n",
       "3 17000  100        90           "
      ]
     },
     "metadata": {},
     "output_type": "display_data"
    }
   ],
   "source": [
    "# Exploring structure of data\n",
    "str(empdata)\n",
    "names(empdata)\n",
    "head(empdata,3)"
   ]
  },
  {
   "cell_type": "code",
   "execution_count": 76,
   "metadata": {},
   "outputs": [
    {
     "data": {
      "text/html": [
       "<table>\n",
       "<thead><tr><th scope=col>FIRST_NAME</th><th scope=col>LAST_NAME</th><th scope=col>SALARY</th></tr></thead>\n",
       "<tbody>\n",
       "\t<tr><td>Steven   </td><td>King     </td><td>24000    </td></tr>\n",
       "\t<tr><td>Neena    </td><td>Kochhar  </td><td>17000    </td></tr>\n",
       "\t<tr><td>Lex      </td><td>De Haan  </td><td>17000    </td></tr>\n",
       "\t<tr><td>Alexander</td><td>Hunold   </td><td> 9000    </td></tr>\n",
       "\t<tr><td>Bruce    </td><td>Ernst    </td><td> 6000    </td></tr>\n",
       "\t<tr><td>David    </td><td>Austin   </td><td> 4800    </td></tr>\n",
       "</tbody>\n",
       "</table>\n"
      ],
      "text/latex": [
       "\\begin{tabular}{r|lll}\n",
       " FIRST\\_NAME & LAST\\_NAME & SALARY\\\\\n",
       "\\hline\n",
       "\t Steven    & King      & 24000    \\\\\n",
       "\t Neena     & Kochhar   & 17000    \\\\\n",
       "\t Lex       & De Haan   & 17000    \\\\\n",
       "\t Alexander & Hunold    &  9000    \\\\\n",
       "\t Bruce     & Ernst     &  6000    \\\\\n",
       "\t David     & Austin    &  4800    \\\\\n",
       "\\end{tabular}\n"
      ],
      "text/markdown": [
       "\n",
       "FIRST_NAME | LAST_NAME | SALARY | \n",
       "|---|---|---|---|---|---|\n",
       "| Steven    | King      | 24000     | \n",
       "| Neena     | Kochhar   | 17000     | \n",
       "| Lex       | De Haan   | 17000     | \n",
       "| Alexander | Hunold    |  9000     | \n",
       "| Bruce     | Ernst     |  6000     | \n",
       "| David     | Austin    |  4800     | \n",
       "\n",
       "\n"
      ],
      "text/plain": [
       "  FIRST_NAME LAST_NAME SALARY\n",
       "1 Steven     King      24000 \n",
       "2 Neena      Kochhar   17000 \n",
       "3 Lex        De Haan   17000 \n",
       "4 Alexander  Hunold     9000 \n",
       "5 Bruce      Ernst      6000 \n",
       "6 David      Austin     4800 "
      ]
     },
     "metadata": {},
     "output_type": "display_data"
    },
    {
     "data": {
      "text/html": [
       "<table>\n",
       "<thead><tr><th scope=col>FIRST_NAME</th><th scope=col>LAST_NAME</th><th scope=col>EMAIL</th><th scope=col>PHONE_NUMBER</th><th scope=col>HIRE_DATE</th><th scope=col>JOB_ID</th><th scope=col>SALARY</th></tr></thead>\n",
       "<tbody>\n",
       "\t<tr><td>Steven      </td><td>King        </td><td>SKING       </td><td>515.123.4567</td><td>17-JUN-87   </td><td>AD_PRES     </td><td>24000       </td></tr>\n",
       "\t<tr><td>Neena       </td><td>Kochhar     </td><td>NKOCHHAR    </td><td>515.123.4568</td><td>21-SEP-89   </td><td>AD_VP       </td><td>17000       </td></tr>\n",
       "\t<tr><td>Lex         </td><td>De Haan     </td><td>LDEHAAN     </td><td>515.123.4569</td><td>13-JAN-93   </td><td>AD_VP       </td><td>17000       </td></tr>\n",
       "\t<tr><td>Alexander   </td><td>Hunold      </td><td>AHUNOLD     </td><td>590.423.4567</td><td>03-JAN-90   </td><td>IT_PROG     </td><td> 9000       </td></tr>\n",
       "\t<tr><td>Bruce       </td><td>Ernst       </td><td>BERNST      </td><td>590.423.4568</td><td>21-MAY-91   </td><td>IT_PROG     </td><td> 6000       </td></tr>\n",
       "\t<tr><td>David       </td><td>Austin      </td><td>DAUSTIN     </td><td>590.423.4569</td><td>25-JUN-97   </td><td>IT_PROG     </td><td> 4800       </td></tr>\n",
       "</tbody>\n",
       "</table>\n"
      ],
      "text/latex": [
       "\\begin{tabular}{r|lllllll}\n",
       " FIRST\\_NAME & LAST\\_NAME & EMAIL & PHONE\\_NUMBER & HIRE\\_DATE & JOB\\_ID & SALARY\\\\\n",
       "\\hline\n",
       "\t Steven       & King         & SKING        & 515.123.4567 & 17-JUN-87    & AD\\_PRES    & 24000       \\\\\n",
       "\t Neena        & Kochhar      & NKOCHHAR     & 515.123.4568 & 21-SEP-89    & AD\\_VP      & 17000       \\\\\n",
       "\t Lex          & De Haan      & LDEHAAN      & 515.123.4569 & 13-JAN-93    & AD\\_VP      & 17000       \\\\\n",
       "\t Alexander    & Hunold       & AHUNOLD      & 590.423.4567 & 03-JAN-90    & IT\\_PROG    &  9000       \\\\\n",
       "\t Bruce        & Ernst        & BERNST       & 590.423.4568 & 21-MAY-91    & IT\\_PROG    &  6000       \\\\\n",
       "\t David        & Austin       & DAUSTIN      & 590.423.4569 & 25-JUN-97    & IT\\_PROG    &  4800       \\\\\n",
       "\\end{tabular}\n"
      ],
      "text/markdown": [
       "\n",
       "FIRST_NAME | LAST_NAME | EMAIL | PHONE_NUMBER | HIRE_DATE | JOB_ID | SALARY | \n",
       "|---|---|---|---|---|---|\n",
       "| Steven       | King         | SKING        | 515.123.4567 | 17-JUN-87    | AD_PRES      | 24000        | \n",
       "| Neena        | Kochhar      | NKOCHHAR     | 515.123.4568 | 21-SEP-89    | AD_VP        | 17000        | \n",
       "| Lex          | De Haan      | LDEHAAN      | 515.123.4569 | 13-JAN-93    | AD_VP        | 17000        | \n",
       "| Alexander    | Hunold       | AHUNOLD      | 590.423.4567 | 03-JAN-90    | IT_PROG      |  9000        | \n",
       "| Bruce        | Ernst        | BERNST       | 590.423.4568 | 21-MAY-91    | IT_PROG      |  6000        | \n",
       "| David        | Austin       | DAUSTIN      | 590.423.4569 | 25-JUN-97    | IT_PROG      |  4800        | \n",
       "\n",
       "\n"
      ],
      "text/plain": [
       "  FIRST_NAME LAST_NAME EMAIL    PHONE_NUMBER HIRE_DATE JOB_ID  SALARY\n",
       "1 Steven     King      SKING    515.123.4567 17-JUN-87 AD_PRES 24000 \n",
       "2 Neena      Kochhar   NKOCHHAR 515.123.4568 21-SEP-89 AD_VP   17000 \n",
       "3 Lex        De Haan   LDEHAAN  515.123.4569 13-JAN-93 AD_VP   17000 \n",
       "4 Alexander  Hunold    AHUNOLD  590.423.4567 03-JAN-90 IT_PROG  9000 \n",
       "5 Bruce      Ernst     BERNST   590.423.4568 21-MAY-91 IT_PROG  6000 \n",
       "6 David      Austin    DAUSTIN  590.423.4569 25-JUN-97 IT_PROG  4800 "
      ]
     },
     "metadata": {},
     "output_type": "display_data"
    },
    {
     "data": {
      "text/html": [
       "<table>\n",
       "<thead><tr><th scope=col>EMPLOYEE_ID</th><th scope=col>FIRST_NAME</th><th scope=col>LAST_NAME</th><th scope=col>MANAGER_ID</th><th scope=col>DEPARTMENT_ID</th></tr></thead>\n",
       "<tbody>\n",
       "\t<tr><td>100      </td><td>Steven   </td><td>King     </td><td> NA      </td><td>90       </td></tr>\n",
       "\t<tr><td>101      </td><td>Neena    </td><td>Kochhar  </td><td>100      </td><td>90       </td></tr>\n",
       "\t<tr><td>102      </td><td>Lex      </td><td>De Haan  </td><td>100      </td><td>90       </td></tr>\n",
       "\t<tr><td>103      </td><td>Alexander</td><td>Hunold   </td><td>102      </td><td>60       </td></tr>\n",
       "\t<tr><td>104      </td><td>Bruce    </td><td>Ernst    </td><td>103      </td><td>60       </td></tr>\n",
       "\t<tr><td>105      </td><td>David    </td><td>Austin   </td><td>103      </td><td>60       </td></tr>\n",
       "</tbody>\n",
       "</table>\n"
      ],
      "text/latex": [
       "\\begin{tabular}{r|lllll}\n",
       " EMPLOYEE\\_ID & FIRST\\_NAME & LAST\\_NAME & MANAGER\\_ID & DEPARTMENT\\_ID\\\\\n",
       "\\hline\n",
       "\t 100       & Steven    & King      &  NA       & 90       \\\\\n",
       "\t 101       & Neena     & Kochhar   & 100       & 90       \\\\\n",
       "\t 102       & Lex       & De Haan   & 100       & 90       \\\\\n",
       "\t 103       & Alexander & Hunold    & 102       & 60       \\\\\n",
       "\t 104       & Bruce     & Ernst     & 103       & 60       \\\\\n",
       "\t 105       & David     & Austin    & 103       & 60       \\\\\n",
       "\\end{tabular}\n"
      ],
      "text/markdown": [
       "\n",
       "EMPLOYEE_ID | FIRST_NAME | LAST_NAME | MANAGER_ID | DEPARTMENT_ID | \n",
       "|---|---|---|---|---|---|\n",
       "| 100       | Steven    | King      |  NA       | 90        | \n",
       "| 101       | Neena     | Kochhar   | 100       | 90        | \n",
       "| 102       | Lex       | De Haan   | 100       | 90        | \n",
       "| 103       | Alexander | Hunold    | 102       | 60        | \n",
       "| 104       | Bruce     | Ernst     | 103       | 60        | \n",
       "| 105       | David     | Austin    | 103       | 60        | \n",
       "\n",
       "\n"
      ],
      "text/plain": [
       "  EMPLOYEE_ID FIRST_NAME LAST_NAME MANAGER_ID DEPARTMENT_ID\n",
       "1 100         Steven     King       NA        90           \n",
       "2 101         Neena      Kochhar   100        90           \n",
       "3 102         Lex        De Haan   100        90           \n",
       "4 103         Alexander  Hunold    102        60           \n",
       "5 104         Bruce      Ernst     103        60           \n",
       "6 105         David      Austin    103        60           "
      ]
     },
     "metadata": {},
     "output_type": "display_data"
    }
   ],
   "source": [
    "#select\n",
    "head(select(empdata, FIRST_NAME, LAST_NAME, SALARY))\n",
    "head(select(empdata, FIRST_NAME:SALARY))\n",
    "head(select(empdata, -(EMAIL:SALARY)))"
   ]
  },
  {
   "cell_type": "code",
   "execution_count": 77,
   "metadata": {},
   "outputs": [
    {
     "data": {
      "text/html": [
       "<table>\n",
       "<thead><tr><th scope=col>EMPLOYEE_ID</th><th scope=col>FIRST_NAME</th><th scope=col>LAST_NAME</th><th scope=col>EMAIL</th><th scope=col>PHONE_NUMBER</th><th scope=col>HIRE_DATE</th><th scope=col>JOB_ID</th><th scope=col>SALARY</th><th scope=col>MANAGER_ID</th><th scope=col>DEPARTMENT_ID</th></tr></thead>\n",
       "<tbody>\n",
       "\t<tr><td>100         </td><td>Steven      </td><td>King        </td><td>SKING       </td><td>515.123.4567</td><td>17-JUN-87   </td><td>AD_PRES     </td><td>24000       </td><td> NA         </td><td>90          </td></tr>\n",
       "\t<tr><td>101         </td><td>Neena       </td><td>Kochhar     </td><td>NKOCHHAR    </td><td>515.123.4568</td><td>21-SEP-89   </td><td>AD_VP       </td><td>17000       </td><td>100         </td><td>90          </td></tr>\n",
       "\t<tr><td>102         </td><td>Lex         </td><td>De Haan     </td><td>LDEHAAN     </td><td>515.123.4569</td><td>13-JAN-93   </td><td>AD_VP       </td><td>17000       </td><td>100         </td><td>90          </td></tr>\n",
       "</tbody>\n",
       "</table>\n"
      ],
      "text/latex": [
       "\\begin{tabular}{r|llllllllll}\n",
       " EMPLOYEE\\_ID & FIRST\\_NAME & LAST\\_NAME & EMAIL & PHONE\\_NUMBER & HIRE\\_DATE & JOB\\_ID & SALARY & MANAGER\\_ID & DEPARTMENT\\_ID\\\\\n",
       "\\hline\n",
       "\t 100          & Steven       & King         & SKING        & 515.123.4567 & 17-JUN-87    & AD\\_PRES    & 24000        &  NA          & 90          \\\\\n",
       "\t 101          & Neena        & Kochhar      & NKOCHHAR     & 515.123.4568 & 21-SEP-89    & AD\\_VP      & 17000        & 100          & 90          \\\\\n",
       "\t 102          & Lex          & De Haan      & LDEHAAN      & 515.123.4569 & 13-JAN-93    & AD\\_VP      & 17000        & 100          & 90          \\\\\n",
       "\\end{tabular}\n"
      ],
      "text/markdown": [
       "\n",
       "EMPLOYEE_ID | FIRST_NAME | LAST_NAME | EMAIL | PHONE_NUMBER | HIRE_DATE | JOB_ID | SALARY | MANAGER_ID | DEPARTMENT_ID | \n",
       "|---|---|---|\n",
       "| 100          | Steven       | King         | SKING        | 515.123.4567 | 17-JUN-87    | AD_PRES      | 24000        |  NA          | 90           | \n",
       "| 101          | Neena        | Kochhar      | NKOCHHAR     | 515.123.4568 | 21-SEP-89    | AD_VP        | 17000        | 100          | 90           | \n",
       "| 102          | Lex          | De Haan      | LDEHAAN      | 515.123.4569 | 13-JAN-93    | AD_VP        | 17000        | 100          | 90           | \n",
       "\n",
       "\n"
      ],
      "text/plain": [
       "  EMPLOYEE_ID FIRST_NAME LAST_NAME EMAIL    PHONE_NUMBER HIRE_DATE JOB_ID \n",
       "1 100         Steven     King      SKING    515.123.4567 17-JUN-87 AD_PRES\n",
       "2 101         Neena      Kochhar   NKOCHHAR 515.123.4568 21-SEP-89 AD_VP  \n",
       "3 102         Lex        De Haan   LDEHAAN  515.123.4569 13-JAN-93 AD_VP  \n",
       "  SALARY MANAGER_ID DEPARTMENT_ID\n",
       "1 24000   NA        90           \n",
       "2 17000  100        90           \n",
       "3 17000  100        90           "
      ]
     },
     "metadata": {},
     "output_type": "display_data"
    },
    {
     "data": {
      "text/html": [
       "<table>\n",
       "<thead><tr><th scope=col>EMPLOYEE_ID</th><th scope=col>FIRST_NAME</th><th scope=col>LAST_NAME</th><th scope=col>EMAIL</th><th scope=col>PHONE_NUMBER</th><th scope=col>HIRE_DATE</th><th scope=col>JOB_ID</th><th scope=col>SALARY</th><th scope=col>MANAGER_ID</th><th scope=col>DEPARTMENT_ID</th></tr></thead>\n",
       "<tbody>\n",
       "\t<tr><td>101         </td><td>Neena       </td><td>Kochhar     </td><td>NKOCHHAR    </td><td>515.123.4568</td><td>21-SEP-89   </td><td>AD_VP       </td><td>17000       </td><td>100         </td><td>90          </td></tr>\n",
       "\t<tr><td>102         </td><td>Lex         </td><td>De Haan     </td><td>LDEHAAN     </td><td>515.123.4569</td><td>13-JAN-93   </td><td>AD_VP       </td><td>17000       </td><td>100         </td><td>90          </td></tr>\n",
       "</tbody>\n",
       "</table>\n"
      ],
      "text/latex": [
       "\\begin{tabular}{r|llllllllll}\n",
       " EMPLOYEE\\_ID & FIRST\\_NAME & LAST\\_NAME & EMAIL & PHONE\\_NUMBER & HIRE\\_DATE & JOB\\_ID & SALARY & MANAGER\\_ID & DEPARTMENT\\_ID\\\\\n",
       "\\hline\n",
       "\t 101          & Neena        & Kochhar      & NKOCHHAR     & 515.123.4568 & 21-SEP-89    & AD\\_VP      & 17000        & 100          & 90          \\\\\n",
       "\t 102          & Lex          & De Haan      & LDEHAAN      & 515.123.4569 & 13-JAN-93    & AD\\_VP      & 17000        & 100          & 90          \\\\\n",
       "\\end{tabular}\n"
      ],
      "text/markdown": [
       "\n",
       "EMPLOYEE_ID | FIRST_NAME | LAST_NAME | EMAIL | PHONE_NUMBER | HIRE_DATE | JOB_ID | SALARY | MANAGER_ID | DEPARTMENT_ID | \n",
       "|---|---|\n",
       "| 101          | Neena        | Kochhar      | NKOCHHAR     | 515.123.4568 | 21-SEP-89    | AD_VP        | 17000        | 100          | 90           | \n",
       "| 102          | Lex          | De Haan      | LDEHAAN      | 515.123.4569 | 13-JAN-93    | AD_VP        | 17000        | 100          | 90           | \n",
       "\n",
       "\n"
      ],
      "text/plain": [
       "  EMPLOYEE_ID FIRST_NAME LAST_NAME EMAIL    PHONE_NUMBER HIRE_DATE JOB_ID\n",
       "1 101         Neena      Kochhar   NKOCHHAR 515.123.4568 21-SEP-89 AD_VP \n",
       "2 102         Lex        De Haan   LDEHAAN  515.123.4569 13-JAN-93 AD_VP \n",
       "  SALARY MANAGER_ID DEPARTMENT_ID\n",
       "1 17000  100        90           \n",
       "2 17000  100        90           "
      ]
     },
     "metadata": {},
     "output_type": "display_data"
    },
    {
     "data": {
      "text/html": [
       "<table>\n",
       "<thead><tr><th scope=col>FIRST_NAME</th><th scope=col>LAST_NAME</th><th scope=col>SALARY</th></tr></thead>\n",
       "<tbody>\n",
       "\t<tr><td>Steven </td><td>King   </td><td>24000  </td></tr>\n",
       "\t<tr><td>Neena  </td><td>Kochhar</td><td>17000  </td></tr>\n",
       "\t<tr><td>Lex    </td><td>De Haan</td><td>17000  </td></tr>\n",
       "</tbody>\n",
       "</table>\n"
      ],
      "text/latex": [
       "\\begin{tabular}{r|lll}\n",
       " FIRST\\_NAME & LAST\\_NAME & SALARY\\\\\n",
       "\\hline\n",
       "\t Steven  & King    & 24000  \\\\\n",
       "\t Neena   & Kochhar & 17000  \\\\\n",
       "\t Lex     & De Haan & 17000  \\\\\n",
       "\\end{tabular}\n"
      ],
      "text/markdown": [
       "\n",
       "FIRST_NAME | LAST_NAME | SALARY | \n",
       "|---|---|---|\n",
       "| Steven  | King    | 24000   | \n",
       "| Neena   | Kochhar | 17000   | \n",
       "| Lex     | De Haan | 17000   | \n",
       "\n",
       "\n"
      ],
      "text/plain": [
       "  FIRST_NAME LAST_NAME SALARY\n",
       "1 Steven     King      24000 \n",
       "2 Neena      Kochhar   17000 \n",
       "3 Lex        De Haan   17000 "
      ]
     },
     "metadata": {},
     "output_type": "display_data"
    }
   ],
   "source": [
    "#filter\n",
    "head(filter(empdata, SALARY>15000))\n",
    "head(filter(empdata, SALARY>15000 & JOB_ID == \"AD_VP\"))\n",
    "filter(select(empdata, FIRST_NAME, LAST_NAME, SALARY), SALARY>15000)"
   ]
  },
  {
   "cell_type": "code",
   "execution_count": 78,
   "metadata": {},
   "outputs": [
    {
     "data": {
      "text/html": [
       "<table>\n",
       "<thead><tr><th scope=col>EMPLOYEE_ID</th><th scope=col>FIRST_NAME</th><th scope=col>LAST_NAME</th><th scope=col>EMAIL</th><th scope=col>PHONE_NUMBER</th><th scope=col>HIRE_DATE</th><th scope=col>JOB_ID</th><th scope=col>SALARY</th><th scope=col>MANAGER_ID</th><th scope=col>DEPARTMENT_ID</th></tr></thead>\n",
       "<tbody>\n",
       "\t<tr><td>132         </td><td>TJ          </td><td>Olson       </td><td>TJOLSON     </td><td>650.124.8234</td><td>10-APR-99   </td><td>ST_CLERK    </td><td>2100        </td><td>121         </td><td>50          </td></tr>\n",
       "\t<tr><td>128         </td><td>Steven      </td><td>Markle      </td><td>SMARKLE     </td><td>650.124.1434</td><td>08-MAR-00   </td><td>ST_CLERK    </td><td>2200        </td><td>120         </td><td>50          </td></tr>\n",
       "\t<tr><td>136         </td><td>Hazel       </td><td>Philtanker  </td><td>HPHILTAN    </td><td>650.127.1634</td><td>06-FEB-00   </td><td>ST_CLERK    </td><td>2200        </td><td>122         </td><td>50          </td></tr>\n",
       "\t<tr><td>127         </td><td>James       </td><td>Landry      </td><td>JLANDRY     </td><td>650.124.1334</td><td>14-JAN-99   </td><td>ST_CLERK    </td><td>2400        </td><td>120         </td><td>50          </td></tr>\n",
       "\t<tr><td>135         </td><td>Ki          </td><td>Gee         </td><td>KGEE        </td><td>650.127.1734</td><td>12-DEC-99   </td><td>ST_CLERK    </td><td>2400        </td><td>122         </td><td>50          </td></tr>\n",
       "\t<tr><td>119         </td><td>Karen       </td><td>Colmenares  </td><td>KCOLMENA    </td><td>515.127.4566</td><td>10-AUG-99   </td><td>PU_CLERK    </td><td>2500        </td><td>114         </td><td>30          </td></tr>\n",
       "</tbody>\n",
       "</table>\n"
      ],
      "text/latex": [
       "\\begin{tabular}{r|llllllllll}\n",
       " EMPLOYEE\\_ID & FIRST\\_NAME & LAST\\_NAME & EMAIL & PHONE\\_NUMBER & HIRE\\_DATE & JOB\\_ID & SALARY & MANAGER\\_ID & DEPARTMENT\\_ID\\\\\n",
       "\\hline\n",
       "\t 132          & TJ           & Olson        & TJOLSON      & 650.124.8234 & 10-APR-99    & ST\\_CLERK   & 2100         & 121          & 50          \\\\\n",
       "\t 128          & Steven       & Markle       & SMARKLE      & 650.124.1434 & 08-MAR-00    & ST\\_CLERK   & 2200         & 120          & 50          \\\\\n",
       "\t 136          & Hazel        & Philtanker   & HPHILTAN     & 650.127.1634 & 06-FEB-00    & ST\\_CLERK   & 2200         & 122          & 50          \\\\\n",
       "\t 127          & James        & Landry       & JLANDRY      & 650.124.1334 & 14-JAN-99    & ST\\_CLERK   & 2400         & 120          & 50          \\\\\n",
       "\t 135          & Ki           & Gee          & KGEE         & 650.127.1734 & 12-DEC-99    & ST\\_CLERK   & 2400         & 122          & 50          \\\\\n",
       "\t 119          & Karen        & Colmenares   & KCOLMENA     & 515.127.4566 & 10-AUG-99    & PU\\_CLERK   & 2500         & 114          & 30          \\\\\n",
       "\\end{tabular}\n"
      ],
      "text/markdown": [
       "\n",
       "EMPLOYEE_ID | FIRST_NAME | LAST_NAME | EMAIL | PHONE_NUMBER | HIRE_DATE | JOB_ID | SALARY | MANAGER_ID | DEPARTMENT_ID | \n",
       "|---|---|---|---|---|---|\n",
       "| 132          | TJ           | Olson        | TJOLSON      | 650.124.8234 | 10-APR-99    | ST_CLERK     | 2100         | 121          | 50           | \n",
       "| 128          | Steven       | Markle       | SMARKLE      | 650.124.1434 | 08-MAR-00    | ST_CLERK     | 2200         | 120          | 50           | \n",
       "| 136          | Hazel        | Philtanker   | HPHILTAN     | 650.127.1634 | 06-FEB-00    | ST_CLERK     | 2200         | 122          | 50           | \n",
       "| 127          | James        | Landry       | JLANDRY      | 650.124.1334 | 14-JAN-99    | ST_CLERK     | 2400         | 120          | 50           | \n",
       "| 135          | Ki           | Gee          | KGEE         | 650.127.1734 | 12-DEC-99    | ST_CLERK     | 2400         | 122          | 50           | \n",
       "| 119          | Karen        | Colmenares   | KCOLMENA     | 515.127.4566 | 10-AUG-99    | PU_CLERK     | 2500         | 114          | 30           | \n",
       "\n",
       "\n"
      ],
      "text/plain": [
       "  EMPLOYEE_ID FIRST_NAME LAST_NAME  EMAIL    PHONE_NUMBER HIRE_DATE JOB_ID  \n",
       "1 132         TJ         Olson      TJOLSON  650.124.8234 10-APR-99 ST_CLERK\n",
       "2 128         Steven     Markle     SMARKLE  650.124.1434 08-MAR-00 ST_CLERK\n",
       "3 136         Hazel      Philtanker HPHILTAN 650.127.1634 06-FEB-00 ST_CLERK\n",
       "4 127         James      Landry     JLANDRY  650.124.1334 14-JAN-99 ST_CLERK\n",
       "5 135         Ki         Gee        KGEE     650.127.1734 12-DEC-99 ST_CLERK\n",
       "6 119         Karen      Colmenares KCOLMENA 515.127.4566 10-AUG-99 PU_CLERK\n",
       "  SALARY MANAGER_ID DEPARTMENT_ID\n",
       "1 2100   121        50           \n",
       "2 2200   120        50           \n",
       "3 2200   122        50           \n",
       "4 2400   120        50           \n",
       "5 2400   122        50           \n",
       "6 2500   114        30           "
      ]
     },
     "metadata": {},
     "output_type": "display_data"
    },
    {
     "data": {
      "text/html": [
       "<table>\n",
       "<thead><tr><th></th><th scope=col>EMPLOYEE_ID</th><th scope=col>FIRST_NAME</th><th scope=col>LAST_NAME</th><th scope=col>EMAIL</th><th scope=col>PHONE_NUMBER</th><th scope=col>HIRE_DATE</th><th scope=col>JOB_ID</th><th scope=col>SALARY</th><th scope=col>MANAGER_ID</th><th scope=col>DEPARTMENT_ID</th></tr></thead>\n",
       "<tbody>\n",
       "\t<tr><th scope=row>102</th><td>201               </td><td>Michael           </td><td>Hartstein         </td><td>MHARTSTE          </td><td>515.123.5555      </td><td>17-FEB-96         </td><td>MK_MAN            </td><td>13000             </td><td>100               </td><td>20                </td></tr>\n",
       "\t<tr><th scope=row>103</th><td>146               </td><td>Karen             </td><td>Partners          </td><td>KPARTNER          </td><td>011.44.1344.467268</td><td>05-JAN-97         </td><td>SA_MAN            </td><td>13500             </td><td>100               </td><td>80                </td></tr>\n",
       "\t<tr><th scope=row>104</th><td>145               </td><td>John              </td><td>Russell           </td><td>JRUSSEL           </td><td>011.44.1344.429268</td><td>01-OCT-96         </td><td>SA_MAN            </td><td>14000             </td><td>100               </td><td>80                </td></tr>\n",
       "\t<tr><th scope=row>105</th><td>101               </td><td>Neena             </td><td>Kochhar           </td><td>NKOCHHAR          </td><td>515.123.4568      </td><td>21-SEP-89         </td><td>AD_VP             </td><td>17000             </td><td>100               </td><td>90                </td></tr>\n",
       "\t<tr><th scope=row>106</th><td>102               </td><td>Lex               </td><td>De Haan           </td><td>LDEHAAN           </td><td>515.123.4569      </td><td>13-JAN-93         </td><td>AD_VP             </td><td>17000             </td><td>100               </td><td>90                </td></tr>\n",
       "\t<tr><th scope=row>107</th><td>100               </td><td>Steven            </td><td>King              </td><td>SKING             </td><td>515.123.4567      </td><td>17-JUN-87         </td><td>AD_PRES           </td><td>24000             </td><td> NA               </td><td>90                </td></tr>\n",
       "</tbody>\n",
       "</table>\n"
      ],
      "text/latex": [
       "\\begin{tabular}{r|llllllllll}\n",
       "  & EMPLOYEE\\_ID & FIRST\\_NAME & LAST\\_NAME & EMAIL & PHONE\\_NUMBER & HIRE\\_DATE & JOB\\_ID & SALARY & MANAGER\\_ID & DEPARTMENT\\_ID\\\\\n",
       "\\hline\n",
       "\t102 & 201                & Michael            & Hartstein          & MHARTSTE           & 515.123.5555       & 17-FEB-96          & MK\\_MAN           & 13000              & 100                & 20                \\\\\n",
       "\t103 & 146                & Karen              & Partners           & KPARTNER           & 011.44.1344.467268 & 05-JAN-97          & SA\\_MAN           & 13500              & 100                & 80                \\\\\n",
       "\t104 & 145                & John               & Russell            & JRUSSEL            & 011.44.1344.429268 & 01-OCT-96          & SA\\_MAN           & 14000              & 100                & 80                \\\\\n",
       "\t105 & 101                & Neena              & Kochhar            & NKOCHHAR           & 515.123.4568       & 21-SEP-89          & AD\\_VP            & 17000              & 100                & 90                \\\\\n",
       "\t106 & 102                & Lex                & De Haan            & LDEHAAN            & 515.123.4569       & 13-JAN-93          & AD\\_VP            & 17000              & 100                & 90                \\\\\n",
       "\t107 & 100                & Steven             & King               & SKING              & 515.123.4567       & 17-JUN-87          & AD\\_PRES          & 24000              &  NA                & 90                \\\\\n",
       "\\end{tabular}\n"
      ],
      "text/markdown": [
       "\n",
       "| <!--/--> | EMPLOYEE_ID | FIRST_NAME | LAST_NAME | EMAIL | PHONE_NUMBER | HIRE_DATE | JOB_ID | SALARY | MANAGER_ID | DEPARTMENT_ID | \n",
       "|---|---|---|---|---|---|\n",
       "| 102 | 201                | Michael            | Hartstein          | MHARTSTE           | 515.123.5555       | 17-FEB-96          | MK_MAN             | 13000              | 100                | 20                 | \n",
       "| 103 | 146                | Karen              | Partners           | KPARTNER           | 011.44.1344.467268 | 05-JAN-97          | SA_MAN             | 13500              | 100                | 80                 | \n",
       "| 104 | 145                | John               | Russell            | JRUSSEL            | 011.44.1344.429268 | 01-OCT-96          | SA_MAN             | 14000              | 100                | 80                 | \n",
       "| 105 | 101                | Neena              | Kochhar            | NKOCHHAR           | 515.123.4568       | 21-SEP-89          | AD_VP              | 17000              | 100                | 90                 | \n",
       "| 106 | 102                | Lex                | De Haan            | LDEHAAN            | 515.123.4569       | 13-JAN-93          | AD_VP              | 17000              | 100                | 90                 | \n",
       "| 107 | 100                | Steven             | King               | SKING              | 515.123.4567       | 17-JUN-87          | AD_PRES            | 24000              |  NA                | 90                 | \n",
       "\n",
       "\n"
      ],
      "text/plain": [
       "    EMPLOYEE_ID FIRST_NAME LAST_NAME EMAIL    PHONE_NUMBER       HIRE_DATE\n",
       "102 201         Michael    Hartstein MHARTSTE 515.123.5555       17-FEB-96\n",
       "103 146         Karen      Partners  KPARTNER 011.44.1344.467268 05-JAN-97\n",
       "104 145         John       Russell   JRUSSEL  011.44.1344.429268 01-OCT-96\n",
       "105 101         Neena      Kochhar   NKOCHHAR 515.123.4568       21-SEP-89\n",
       "106 102         Lex        De Haan   LDEHAAN  515.123.4569       13-JAN-93\n",
       "107 100         Steven     King      SKING    515.123.4567       17-JUN-87\n",
       "    JOB_ID  SALARY MANAGER_ID DEPARTMENT_ID\n",
       "102 MK_MAN  13000  100        20           \n",
       "103 SA_MAN  13500  100        80           \n",
       "104 SA_MAN  14000  100        80           \n",
       "105 AD_VP   17000  100        90           \n",
       "106 AD_VP   17000  100        90           \n",
       "107 AD_PRES 24000   NA        90           "
      ]
     },
     "metadata": {},
     "output_type": "display_data"
    },
    {
     "data": {
      "text/html": [
       "<table>\n",
       "<thead><tr><th scope=col>EMPLOYEE_ID</th><th scope=col>FIRST_NAME</th><th scope=col>LAST_NAME</th><th scope=col>EMAIL</th><th scope=col>PHONE_NUMBER</th><th scope=col>HIRE_DATE</th><th scope=col>JOB_ID</th><th scope=col>SALARY</th><th scope=col>MANAGER_ID</th><th scope=col>DEPARTMENT_ID</th></tr></thead>\n",
       "<tbody>\n",
       "\t<tr><td>100               </td><td>Steven            </td><td>King              </td><td>SKING             </td><td>515.123.4567      </td><td>17-JUN-87         </td><td>AD_PRES           </td><td>24000             </td><td> NA               </td><td>90                </td></tr>\n",
       "\t<tr><td>101               </td><td>Neena             </td><td>Kochhar           </td><td>NKOCHHAR          </td><td>515.123.4568      </td><td>21-SEP-89         </td><td>AD_VP             </td><td>17000             </td><td>100               </td><td>90                </td></tr>\n",
       "\t<tr><td>102               </td><td>Lex               </td><td>De Haan           </td><td>LDEHAAN           </td><td>515.123.4569      </td><td>13-JAN-93         </td><td>AD_VP             </td><td>17000             </td><td>100               </td><td>90                </td></tr>\n",
       "\t<tr><td>145               </td><td>John              </td><td>Russell           </td><td>JRUSSEL           </td><td>011.44.1344.429268</td><td>01-OCT-96         </td><td>SA_MAN            </td><td>14000             </td><td>100               </td><td>80                </td></tr>\n",
       "\t<tr><td>146               </td><td>Karen             </td><td>Partners          </td><td>KPARTNER          </td><td>011.44.1344.467268</td><td>05-JAN-97         </td><td>SA_MAN            </td><td>13500             </td><td>100               </td><td>80                </td></tr>\n",
       "\t<tr><td>201               </td><td>Michael           </td><td>Hartstein         </td><td>MHARTSTE          </td><td>515.123.5555      </td><td>17-FEB-96         </td><td>MK_MAN            </td><td>13000             </td><td>100               </td><td>20                </td></tr>\n",
       "</tbody>\n",
       "</table>\n"
      ],
      "text/latex": [
       "\\begin{tabular}{r|llllllllll}\n",
       " EMPLOYEE\\_ID & FIRST\\_NAME & LAST\\_NAME & EMAIL & PHONE\\_NUMBER & HIRE\\_DATE & JOB\\_ID & SALARY & MANAGER\\_ID & DEPARTMENT\\_ID\\\\\n",
       "\\hline\n",
       "\t 100                & Steven             & King               & SKING              & 515.123.4567       & 17-JUN-87          & AD\\_PRES          & 24000              &  NA                & 90                \\\\\n",
       "\t 101                & Neena              & Kochhar            & NKOCHHAR           & 515.123.4568       & 21-SEP-89          & AD\\_VP            & 17000              & 100                & 90                \\\\\n",
       "\t 102                & Lex                & De Haan            & LDEHAAN            & 515.123.4569       & 13-JAN-93          & AD\\_VP            & 17000              & 100                & 90                \\\\\n",
       "\t 145                & John               & Russell            & JRUSSEL            & 011.44.1344.429268 & 01-OCT-96          & SA\\_MAN           & 14000              & 100                & 80                \\\\\n",
       "\t 146                & Karen              & Partners           & KPARTNER           & 011.44.1344.467268 & 05-JAN-97          & SA\\_MAN           & 13500              & 100                & 80                \\\\\n",
       "\t 201                & Michael            & Hartstein          & MHARTSTE           & 515.123.5555       & 17-FEB-96          & MK\\_MAN           & 13000              & 100                & 20                \\\\\n",
       "\\end{tabular}\n"
      ],
      "text/markdown": [
       "\n",
       "EMPLOYEE_ID | FIRST_NAME | LAST_NAME | EMAIL | PHONE_NUMBER | HIRE_DATE | JOB_ID | SALARY | MANAGER_ID | DEPARTMENT_ID | \n",
       "|---|---|---|---|---|---|\n",
       "| 100                | Steven             | King               | SKING              | 515.123.4567       | 17-JUN-87          | AD_PRES            | 24000              |  NA                | 90                 | \n",
       "| 101                | Neena              | Kochhar            | NKOCHHAR           | 515.123.4568       | 21-SEP-89          | AD_VP              | 17000              | 100                | 90                 | \n",
       "| 102                | Lex                | De Haan            | LDEHAAN            | 515.123.4569       | 13-JAN-93          | AD_VP              | 17000              | 100                | 90                 | \n",
       "| 145                | John               | Russell            | JRUSSEL            | 011.44.1344.429268 | 01-OCT-96          | SA_MAN             | 14000              | 100                | 80                 | \n",
       "| 146                | Karen              | Partners           | KPARTNER           | 011.44.1344.467268 | 05-JAN-97          | SA_MAN             | 13500              | 100                | 80                 | \n",
       "| 201                | Michael            | Hartstein          | MHARTSTE           | 515.123.5555       | 17-FEB-96          | MK_MAN             | 13000              | 100                | 20                 | \n",
       "\n",
       "\n"
      ],
      "text/plain": [
       "  EMPLOYEE_ID FIRST_NAME LAST_NAME EMAIL    PHONE_NUMBER       HIRE_DATE\n",
       "1 100         Steven     King      SKING    515.123.4567       17-JUN-87\n",
       "2 101         Neena      Kochhar   NKOCHHAR 515.123.4568       21-SEP-89\n",
       "3 102         Lex        De Haan   LDEHAAN  515.123.4569       13-JAN-93\n",
       "4 145         John       Russell   JRUSSEL  011.44.1344.429268 01-OCT-96\n",
       "5 146         Karen      Partners  KPARTNER 011.44.1344.467268 05-JAN-97\n",
       "6 201         Michael    Hartstein MHARTSTE 515.123.5555       17-FEB-96\n",
       "  JOB_ID  SALARY MANAGER_ID DEPARTMENT_ID\n",
       "1 AD_PRES 24000   NA        90           \n",
       "2 AD_VP   17000  100        90           \n",
       "3 AD_VP   17000  100        90           \n",
       "4 SA_MAN  14000  100        80           \n",
       "5 SA_MAN  13500  100        80           \n",
       "6 MK_MAN  13000  100        20           "
      ]
     },
     "metadata": {},
     "output_type": "display_data"
    }
   ],
   "source": [
    "#arrange (or sort)\n",
    "head(arrange(empdata,SALARY))\n",
    "tail(arrange(empdata,SALARY))\n",
    "head(arrange(empdata,desc(SALARY)))"
   ]
  },
  {
   "cell_type": "code",
   "execution_count": 95,
   "metadata": {},
   "outputs": [
    {
     "data": {
      "text/html": [
       "<table>\n",
       "<thead><tr><th scope=col>EMP_ID</th><th scope=col>F_N</th><th scope=col>L_N</th><th scope=col>EMAIL</th><th scope=col>PHONE_NUMBER</th><th scope=col>HIRE_DATE</th><th scope=col>JOB_ID</th><th scope=col>SALARY</th><th scope=col>MANAGER_ID</th><th scope=col>DEPARTMENT_ID</th><th scope=col>z_salary</th></tr></thead>\n",
       "<tbody>\n",
       "\t<tr><td>100         </td><td>Steven      </td><td>King        </td><td>SKING       </td><td>515.123.4567</td><td>17-JUN-87   </td><td>AD_PRES     </td><td>24000       </td><td> NA         </td><td>90          </td><td> 4.4862310  </td></tr>\n",
       "\t<tr><td>101         </td><td>Neena       </td><td>Kochhar     </td><td>NKOCHHAR    </td><td>515.123.4568</td><td>21-SEP-89   </td><td>AD_VP       </td><td>17000       </td><td>100         </td><td>90          </td><td> 2.6956592  </td></tr>\n",
       "\t<tr><td>102         </td><td>Lex         </td><td>De Haan     </td><td>LDEHAAN     </td><td>515.123.4569</td><td>13-JAN-93   </td><td>AD_VP       </td><td>17000       </td><td>100         </td><td>90          </td><td> 2.6956592  </td></tr>\n",
       "\t<tr><td>103         </td><td>Alexander   </td><td>Hunold      </td><td>AHUNOLD     </td><td>590.423.4567</td><td>03-JAN-90   </td><td>IT_PROG     </td><td> 9000       </td><td>102         </td><td>60          </td><td> 0.6492915  </td></tr>\n",
       "\t<tr><td>104         </td><td>Bruce       </td><td>Ernst       </td><td>BERNST      </td><td>590.423.4568</td><td>21-MAY-91   </td><td>IT_PROG     </td><td> 6000       </td><td>103         </td><td>60          </td><td>-0.1180965  </td></tr>\n",
       "\t<tr><td>105         </td><td>David       </td><td>Austin      </td><td>DAUSTIN     </td><td>590.423.4569</td><td>25-JUN-97   </td><td>IT_PROG     </td><td> 4800       </td><td>103         </td><td>60          </td><td>-0.4250516  </td></tr>\n",
       "</tbody>\n",
       "</table>\n"
      ],
      "text/latex": [
       "\\begin{tabular}{r|lllllllllll}\n",
       " EMP\\_ID & F\\_N & L\\_N & EMAIL & PHONE\\_NUMBER & HIRE\\_DATE & JOB\\_ID & SALARY & MANAGER\\_ID & DEPARTMENT\\_ID & z\\_salary\\\\\n",
       "\\hline\n",
       "\t 100          & Steven       & King         & SKING        & 515.123.4567 & 17-JUN-87    & AD\\_PRES    & 24000        &  NA          & 90           &  4.4862310  \\\\\n",
       "\t 101          & Neena        & Kochhar      & NKOCHHAR     & 515.123.4568 & 21-SEP-89    & AD\\_VP      & 17000        & 100          & 90           &  2.6956592  \\\\\n",
       "\t 102          & Lex          & De Haan      & LDEHAAN      & 515.123.4569 & 13-JAN-93    & AD\\_VP      & 17000        & 100          & 90           &  2.6956592  \\\\\n",
       "\t 103          & Alexander    & Hunold       & AHUNOLD      & 590.423.4567 & 03-JAN-90    & IT\\_PROG    &  9000        & 102          & 60           &  0.6492915  \\\\\n",
       "\t 104          & Bruce        & Ernst        & BERNST       & 590.423.4568 & 21-MAY-91    & IT\\_PROG    &  6000        & 103          & 60           & -0.1180965  \\\\\n",
       "\t 105          & David        & Austin       & DAUSTIN      & 590.423.4569 & 25-JUN-97    & IT\\_PROG    &  4800        & 103          & 60           & -0.4250516  \\\\\n",
       "\\end{tabular}\n"
      ],
      "text/markdown": [
       "\n",
       "EMP_ID | F_N | L_N | EMAIL | PHONE_NUMBER | HIRE_DATE | JOB_ID | SALARY | MANAGER_ID | DEPARTMENT_ID | z_salary | \n",
       "|---|---|---|---|---|---|\n",
       "| 100          | Steven       | King         | SKING        | 515.123.4567 | 17-JUN-87    | AD_PRES      | 24000        |  NA          | 90           |  4.4862310   | \n",
       "| 101          | Neena        | Kochhar      | NKOCHHAR     | 515.123.4568 | 21-SEP-89    | AD_VP        | 17000        | 100          | 90           |  2.6956592   | \n",
       "| 102          | Lex          | De Haan      | LDEHAAN      | 515.123.4569 | 13-JAN-93    | AD_VP        | 17000        | 100          | 90           |  2.6956592   | \n",
       "| 103          | Alexander    | Hunold       | AHUNOLD      | 590.423.4567 | 03-JAN-90    | IT_PROG      |  9000        | 102          | 60           |  0.6492915   | \n",
       "| 104          | Bruce        | Ernst        | BERNST       | 590.423.4568 | 21-MAY-91    | IT_PROG      |  6000        | 103          | 60           | -0.1180965   | \n",
       "| 105          | David        | Austin       | DAUSTIN      | 590.423.4569 | 25-JUN-97    | IT_PROG      |  4800        | 103          | 60           | -0.4250516   | \n",
       "\n",
       "\n"
      ],
      "text/plain": [
       "  EMP_ID F_N       L_N     EMAIL    PHONE_NUMBER HIRE_DATE JOB_ID  SALARY\n",
       "1 100    Steven    King    SKING    515.123.4567 17-JUN-87 AD_PRES 24000 \n",
       "2 101    Neena     Kochhar NKOCHHAR 515.123.4568 21-SEP-89 AD_VP   17000 \n",
       "3 102    Lex       De Haan LDEHAAN  515.123.4569 13-JAN-93 AD_VP   17000 \n",
       "4 103    Alexander Hunold  AHUNOLD  590.423.4567 03-JAN-90 IT_PROG  9000 \n",
       "5 104    Bruce     Ernst   BERNST   590.423.4568 21-MAY-91 IT_PROG  6000 \n",
       "6 105    David     Austin  DAUSTIN  590.423.4569 25-JUN-97 IT_PROG  4800 \n",
       "  MANAGER_ID DEPARTMENT_ID z_salary  \n",
       "1  NA        90             4.4862310\n",
       "2 100        90             2.6956592\n",
       "3 100        90             2.6956592\n",
       "4 102        60             0.6492915\n",
       "5 103        60            -0.1180965\n",
       "6 103        60            -0.4250516"
      ]
     },
     "metadata": {},
     "output_type": "display_data"
    }
   ],
   "source": [
    "# rename column names\n",
    "empdata <- rename(empdata, EMP_ID=EMPID, F_N = FN, L_N = LN)\n",
    "head(empdata)"
   ]
  },
  {
   "cell_type": "code",
   "execution_count": 93,
   "metadata": {},
   "outputs": [
    {
     "data": {
      "text/html": [
       "<table>\n",
       "<thead><tr><th scope=col>SALARY</th><th scope=col>z_salary</th></tr></thead>\n",
       "<tbody>\n",
       "\t<tr><td>24000     </td><td> 4.4862310</td></tr>\n",
       "\t<tr><td>17000     </td><td> 2.6956592</td></tr>\n",
       "\t<tr><td>17000     </td><td> 2.6956592</td></tr>\n",
       "\t<tr><td> 9000     </td><td> 0.6492915</td></tr>\n",
       "\t<tr><td> 6000     </td><td>-0.1180965</td></tr>\n",
       "\t<tr><td> 4800     </td><td>-0.4250516</td></tr>\n",
       "</tbody>\n",
       "</table>\n"
      ],
      "text/latex": [
       "\\begin{tabular}{r|ll}\n",
       " SALARY & z\\_salary\\\\\n",
       "\\hline\n",
       "\t 24000      &  4.4862310\\\\\n",
       "\t 17000      &  2.6956592\\\\\n",
       "\t 17000      &  2.6956592\\\\\n",
       "\t  9000      &  0.6492915\\\\\n",
       "\t  6000      & -0.1180965\\\\\n",
       "\t  4800      & -0.4250516\\\\\n",
       "\\end{tabular}\n"
      ],
      "text/markdown": [
       "\n",
       "SALARY | z_salary | \n",
       "|---|---|---|---|---|---|\n",
       "| 24000      |  4.4862310 | \n",
       "| 17000      |  2.6956592 | \n",
       "| 17000      |  2.6956592 | \n",
       "|  9000      |  0.6492915 | \n",
       "|  6000      | -0.1180965 | \n",
       "|  4800      | -0.4250516 | \n",
       "\n",
       "\n"
      ],
      "text/plain": [
       "  SALARY z_salary  \n",
       "1 24000   4.4862310\n",
       "2 17000   2.6956592\n",
       "3 17000   2.6956592\n",
       "4  9000   0.6492915\n",
       "5  6000  -0.1180965\n",
       "6  4800  -0.4250516"
      ]
     },
     "metadata": {},
     "output_type": "display_data"
    },
    {
     "data": {
      "text/html": [
       "<table>\n",
       "<thead><tr><th></th><th scope=col>SALARY</th><th scope=col>z_salary</th></tr></thead>\n",
       "<tbody>\n",
       "\t<tr><th scope=row>102</th><td>13000       </td><td> 1.672475327</td></tr>\n",
       "\t<tr><th scope=row>103</th><td> 6000       </td><td>-0.118096457</td></tr>\n",
       "\t<tr><th scope=row>104</th><td> 6500       </td><td> 0.009801528</td></tr>\n",
       "\t<tr><th scope=row>105</th><td>10000       </td><td> 0.905087420</td></tr>\n",
       "\t<tr><th scope=row>106</th><td>12000       </td><td> 1.416679358</td></tr>\n",
       "\t<tr><th scope=row>107</th><td> 8300       </td><td> 0.470234272</td></tr>\n",
       "</tbody>\n",
       "</table>\n"
      ],
      "text/latex": [
       "\\begin{tabular}{r|ll}\n",
       "  & SALARY & z\\_salary\\\\\n",
       "\\hline\n",
       "\t102 & 13000        &  1.672475327\\\\\n",
       "\t103 &  6000        & -0.118096457\\\\\n",
       "\t104 &  6500        &  0.009801528\\\\\n",
       "\t105 & 10000        &  0.905087420\\\\\n",
       "\t106 & 12000        &  1.416679358\\\\\n",
       "\t107 &  8300        &  0.470234272\\\\\n",
       "\\end{tabular}\n"
      ],
      "text/markdown": [
       "\n",
       "| <!--/--> | SALARY | z_salary | \n",
       "|---|---|---|---|---|---|\n",
       "| 102 | 13000        |  1.672475327 | \n",
       "| 103 |  6000        | -0.118096457 | \n",
       "| 104 |  6500        |  0.009801528 | \n",
       "| 105 | 10000        |  0.905087420 | \n",
       "| 106 | 12000        |  1.416679358 | \n",
       "| 107 |  8300        |  0.470234272 | \n",
       "\n",
       "\n"
      ],
      "text/plain": [
       "    SALARY z_salary    \n",
       "102 13000   1.672475327\n",
       "103  6000  -0.118096457\n",
       "104  6500   0.009801528\n",
       "105 10000   0.905087420\n",
       "106 12000   1.416679358\n",
       "107  8300   0.470234272"
      ]
     },
     "metadata": {},
     "output_type": "display_data"
    }
   ],
   "source": [
    "# mutate - transform existing variable or create new vriable\n",
    "empdata <- mutate(empdata, z_salary = ((SALARY - mean(SALARY))/sd(SALARY)))\n",
    "head(select(empdata, SALARY, z_salary))\n",
    "tail(select(empdata,SALARY, z_salary))"
   ]
  },
  {
   "cell_type": "code",
   "execution_count": 84,
   "metadata": {},
   "outputs": [],
   "source": [
    "# group_by"
   ]
  },
  {
   "cell_type": "code",
   "execution_count": 86,
   "metadata": {},
   "outputs": [
    {
     "data": {
      "text/html": [
       "<table>\n",
       "<thead><tr><th scope=col>JOB_ID</th><th scope=col>sal</th><th scope=col>nos</th></tr></thead>\n",
       "<tbody>\n",
       "\t<tr><td>AC_ACCOUNT</td><td> 8300     </td><td> 1        </td></tr>\n",
       "\t<tr><td>AC_MGR    </td><td>12000     </td><td> 1        </td></tr>\n",
       "\t<tr><td>AD_ASST   </td><td> 4400     </td><td> 1        </td></tr>\n",
       "\t<tr><td>AD_PRES   </td><td>24000     </td><td> 1        </td></tr>\n",
       "\t<tr><td>AD_VP     </td><td>17000     </td><td> 2        </td></tr>\n",
       "\t<tr><td>FI_ACCOUNT</td><td> 7920     </td><td> 5        </td></tr>\n",
       "\t<tr><td>FI_MGR    </td><td>12000     </td><td> 1        </td></tr>\n",
       "\t<tr><td>HR_REP    </td><td> 6500     </td><td> 1        </td></tr>\n",
       "\t<tr><td>IT_PROG   </td><td> 5760     </td><td> 5        </td></tr>\n",
       "\t<tr><td>MK_MAN    </td><td>13000     </td><td> 1        </td></tr>\n",
       "\t<tr><td>MK_REP    </td><td> 6000     </td><td> 1        </td></tr>\n",
       "\t<tr><td>PR_REP    </td><td>10000     </td><td> 1        </td></tr>\n",
       "\t<tr><td>PU_CLERK  </td><td> 2780     </td><td> 5        </td></tr>\n",
       "\t<tr><td>PU_MAN    </td><td>11000     </td><td> 1        </td></tr>\n",
       "\t<tr><td>SA_MAN    </td><td>12200     </td><td> 5        </td></tr>\n",
       "\t<tr><td>SA_REP    </td><td> 8350     </td><td>30        </td></tr>\n",
       "\t<tr><td>SH_CLERK  </td><td> 3215     </td><td>20        </td></tr>\n",
       "\t<tr><td>ST_CLERK  </td><td> 2785     </td><td>20        </td></tr>\n",
       "\t<tr><td>ST_MAN    </td><td> 7280     </td><td> 5        </td></tr>\n",
       "</tbody>\n",
       "</table>\n"
      ],
      "text/latex": [
       "\\begin{tabular}{r|lll}\n",
       " JOB\\_ID & sal & nos\\\\\n",
       "\\hline\n",
       "\t AC\\_ACCOUNT &  8300        &  1          \\\\\n",
       "\t AC\\_MGR     & 12000        &  1          \\\\\n",
       "\t AD\\_ASST    &  4400        &  1          \\\\\n",
       "\t AD\\_PRES    & 24000        &  1          \\\\\n",
       "\t AD\\_VP      & 17000        &  2          \\\\\n",
       "\t FI\\_ACCOUNT &  7920        &  5          \\\\\n",
       "\t FI\\_MGR     & 12000        &  1          \\\\\n",
       "\t HR\\_REP     &  6500        &  1          \\\\\n",
       "\t IT\\_PROG    &  5760        &  5          \\\\\n",
       "\t MK\\_MAN     & 13000        &  1          \\\\\n",
       "\t MK\\_REP     &  6000        &  1          \\\\\n",
       "\t PR\\_REP     & 10000        &  1          \\\\\n",
       "\t PU\\_CLERK   &  2780        &  5          \\\\\n",
       "\t PU\\_MAN     & 11000        &  1          \\\\\n",
       "\t SA\\_MAN     & 12200        &  5          \\\\\n",
       "\t SA\\_REP     &  8350        & 30          \\\\\n",
       "\t SH\\_CLERK   &  3215        & 20          \\\\\n",
       "\t ST\\_CLERK   &  2785        & 20          \\\\\n",
       "\t ST\\_MAN     &  7280        &  5          \\\\\n",
       "\\end{tabular}\n"
      ],
      "text/markdown": [
       "\n",
       "JOB_ID | sal | nos | \n",
       "|---|---|---|---|---|---|---|---|---|---|---|---|---|---|---|---|---|---|---|\n",
       "| AC_ACCOUNT |  8300      |  1         | \n",
       "| AC_MGR     | 12000      |  1         | \n",
       "| AD_ASST    |  4400      |  1         | \n",
       "| AD_PRES    | 24000      |  1         | \n",
       "| AD_VP      | 17000      |  2         | \n",
       "| FI_ACCOUNT |  7920      |  5         | \n",
       "| FI_MGR     | 12000      |  1         | \n",
       "| HR_REP     |  6500      |  1         | \n",
       "| IT_PROG    |  5760      |  5         | \n",
       "| MK_MAN     | 13000      |  1         | \n",
       "| MK_REP     |  6000      |  1         | \n",
       "| PR_REP     | 10000      |  1         | \n",
       "| PU_CLERK   |  2780      |  5         | \n",
       "| PU_MAN     | 11000      |  1         | \n",
       "| SA_MAN     | 12200      |  5         | \n",
       "| SA_REP     |  8350      | 30         | \n",
       "| SH_CLERK   |  3215      | 20         | \n",
       "| ST_CLERK   |  2785      | 20         | \n",
       "| ST_MAN     |  7280      |  5         | \n",
       "\n",
       "\n"
      ],
      "text/plain": [
       "   JOB_ID     sal   nos\n",
       "1  AC_ACCOUNT  8300  1 \n",
       "2  AC_MGR     12000  1 \n",
       "3  AD_ASST     4400  1 \n",
       "4  AD_PRES    24000  1 \n",
       "5  AD_VP      17000  2 \n",
       "6  FI_ACCOUNT  7920  5 \n",
       "7  FI_MGR     12000  1 \n",
       "8  HR_REP      6500  1 \n",
       "9  IT_PROG     5760  5 \n",
       "10 MK_MAN     13000  1 \n",
       "11 MK_REP      6000  1 \n",
       "12 PR_REP     10000  1 \n",
       "13 PU_CLERK    2780  5 \n",
       "14 PU_MAN     11000  1 \n",
       "15 SA_MAN     12200  5 \n",
       "16 SA_REP      8350 30 \n",
       "17 SH_CLERK    3215 20 \n",
       "18 ST_CLERK    2785 20 \n",
       "19 ST_MAN      7280  5 "
      ]
     },
     "metadata": {},
     "output_type": "display_data"
    }
   ],
   "source": [
    "job_group <- group_by(empdata, JOB_ID)\n",
    "summarize(job_group, sal = mean(SALARY), nos = length(SALARY))"
   ]
  }
 ],
 "metadata": {
  "kernelspec": {
   "display_name": "R",
   "language": "R",
   "name": "ir"
  },
  "language_info": {
   "codemirror_mode": "r",
   "file_extension": ".r",
   "mimetype": "text/x-r-source",
   "name": "R",
   "pygments_lexer": "r",
   "version": "3.5.1"
  }
 },
 "nbformat": 4,
 "nbformat_minor": 2
}
