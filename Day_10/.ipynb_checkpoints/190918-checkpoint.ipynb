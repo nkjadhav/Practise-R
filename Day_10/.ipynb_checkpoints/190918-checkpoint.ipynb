{
 "cells": [
  {
   "cell_type": "markdown",
   "metadata": {},
   "source": [
    "# Supervised Learning"
   ]
  },
  {
   "cell_type": "code",
   "execution_count": 1,
   "metadata": {},
   "outputs": [],
   "source": [
    "library(e1071)"
   ]
  },
  {
   "cell_type": "markdown",
   "metadata": {},
   "source": [
    "## Support Vector Classifier"
   ]
  },
  {
   "cell_type": "markdown",
   "metadata": {},
   "source": [
    "### Creating Training Data"
   ]
  },
  {
   "cell_type": "code",
   "execution_count": 2,
   "metadata": {},
   "outputs": [
    {
     "data": {
      "text/html": [
       "<table>\n",
       "<thead><tr><th scope=col>x.1</th><th scope=col>x.2</th><th scope=col>y</th></tr></thead>\n",
       "<tbody>\n",
       "\t<tr><td>-0.6264538 </td><td> 0.91897737</td><td>-1         </td></tr>\n",
       "\t<tr><td> 0.1836433 </td><td> 0.78213630</td><td>-1         </td></tr>\n",
       "\t<tr><td>-0.8356286 </td><td> 0.07456498</td><td>-1         </td></tr>\n",
       "\t<tr><td> 1.5952808 </td><td>-1.98935170</td><td>-1         </td></tr>\n",
       "\t<tr><td> 0.3295078 </td><td> 0.61982575</td><td>-1         </td></tr>\n",
       "\t<tr><td>-0.8204684 </td><td>-0.05612874</td><td>-1         </td></tr>\n",
       "\t<tr><td> 0.4874291 </td><td>-0.15579551</td><td>-1         </td></tr>\n",
       "\t<tr><td> 0.7383247 </td><td>-1.47075238</td><td>-1         </td></tr>\n",
       "\t<tr><td> 0.5757814 </td><td>-0.47815006</td><td>-1         </td></tr>\n",
       "\t<tr><td>-0.3053884 </td><td> 0.41794156</td><td>-1         </td></tr>\n",
       "\t<tr><td> 2.5117812 </td><td> 2.35867955</td><td>1          </td></tr>\n",
       "\t<tr><td> 1.3898432 </td><td> 0.89721227</td><td>1          </td></tr>\n",
       "\t<tr><td> 0.3787594 </td><td> 1.38767161</td><td>1          </td></tr>\n",
       "\t<tr><td>-1.2146999 </td><td> 0.94619496</td><td>1          </td></tr>\n",
       "\t<tr><td> 2.1249309 </td><td>-0.37705956</td><td>1          </td></tr>\n",
       "\t<tr><td> 0.9550664 </td><td> 0.58500544</td><td>1          </td></tr>\n",
       "\t<tr><td> 0.9838097 </td><td> 0.60571005</td><td>1          </td></tr>\n",
       "\t<tr><td> 1.9438362 </td><td> 0.94068660</td><td>1          </td></tr>\n",
       "\t<tr><td> 1.8212212 </td><td> 2.10002537</td><td>1          </td></tr>\n",
       "\t<tr><td> 1.5939013 </td><td> 1.76317575</td><td>1          </td></tr>\n",
       "</tbody>\n",
       "</table>\n"
      ],
      "text/latex": [
       "\\begin{tabular}{r|lll}\n",
       " x.1 & x.2 & y\\\\\n",
       "\\hline\n",
       "\t -0.6264538  &  0.91897737 & -1         \\\\\n",
       "\t  0.1836433  &  0.78213630 & -1         \\\\\n",
       "\t -0.8356286  &  0.07456498 & -1         \\\\\n",
       "\t  1.5952808  & -1.98935170 & -1         \\\\\n",
       "\t  0.3295078  &  0.61982575 & -1         \\\\\n",
       "\t -0.8204684  & -0.05612874 & -1         \\\\\n",
       "\t  0.4874291  & -0.15579551 & -1         \\\\\n",
       "\t  0.7383247  & -1.47075238 & -1         \\\\\n",
       "\t  0.5757814  & -0.47815006 & -1         \\\\\n",
       "\t -0.3053884  &  0.41794156 & -1         \\\\\n",
       "\t  2.5117812  &  2.35867955 & 1          \\\\\n",
       "\t  1.3898432  &  0.89721227 & 1          \\\\\n",
       "\t  0.3787594  &  1.38767161 & 1          \\\\\n",
       "\t -1.2146999  &  0.94619496 & 1          \\\\\n",
       "\t  2.1249309  & -0.37705956 & 1          \\\\\n",
       "\t  0.9550664  &  0.58500544 & 1          \\\\\n",
       "\t  0.9838097  &  0.60571005 & 1          \\\\\n",
       "\t  1.9438362  &  0.94068660 & 1          \\\\\n",
       "\t  1.8212212  &  2.10002537 & 1          \\\\\n",
       "\t  1.5939013  &  1.76317575 & 1          \\\\\n",
       "\\end{tabular}\n"
      ],
      "text/markdown": [
       "\n",
       "x.1 | x.2 | y | \n",
       "|---|---|---|---|---|---|---|---|---|---|---|---|---|---|---|---|---|---|---|---|\n",
       "| -0.6264538  |  0.91897737 | -1          | \n",
       "|  0.1836433  |  0.78213630 | -1          | \n",
       "| -0.8356286  |  0.07456498 | -1          | \n",
       "|  1.5952808  | -1.98935170 | -1          | \n",
       "|  0.3295078  |  0.61982575 | -1          | \n",
       "| -0.8204684  | -0.05612874 | -1          | \n",
       "|  0.4874291  | -0.15579551 | -1          | \n",
       "|  0.7383247  | -1.47075238 | -1          | \n",
       "|  0.5757814  | -0.47815006 | -1          | \n",
       "| -0.3053884  |  0.41794156 | -1          | \n",
       "|  2.5117812  |  2.35867955 | 1           | \n",
       "|  1.3898432  |  0.89721227 | 1           | \n",
       "|  0.3787594  |  1.38767161 | 1           | \n",
       "| -1.2146999  |  0.94619496 | 1           | \n",
       "|  2.1249309  | -0.37705956 | 1           | \n",
       "|  0.9550664  |  0.58500544 | 1           | \n",
       "|  0.9838097  |  0.60571005 | 1           | \n",
       "|  1.9438362  |  0.94068660 | 1           | \n",
       "|  1.8212212  |  2.10002537 | 1           | \n",
       "|  1.5939013  |  1.76317575 | 1           | \n",
       "\n",
       "\n"
      ],
      "text/plain": [
       "   x.1        x.2         y \n",
       "1  -0.6264538  0.91897737 -1\n",
       "2   0.1836433  0.78213630 -1\n",
       "3  -0.8356286  0.07456498 -1\n",
       "4   1.5952808 -1.98935170 -1\n",
       "5   0.3295078  0.61982575 -1\n",
       "6  -0.8204684 -0.05612874 -1\n",
       "7   0.4874291 -0.15579551 -1\n",
       "8   0.7383247 -1.47075238 -1\n",
       "9   0.5757814 -0.47815006 -1\n",
       "10 -0.3053884  0.41794156 -1\n",
       "11  2.5117812  2.35867955 1 \n",
       "12  1.3898432  0.89721227 1 \n",
       "13  0.3787594  1.38767161 1 \n",
       "14 -1.2146999  0.94619496 1 \n",
       "15  2.1249309 -0.37705956 1 \n",
       "16  0.9550664  0.58500544 1 \n",
       "17  0.9838097  0.60571005 1 \n",
       "18  1.9438362  0.94068660 1 \n",
       "19  1.8212212  2.10002537 1 \n",
       "20  1.5939013  1.76317575 1 "
      ]
     },
     "metadata": {},
     "output_type": "display_data"
    },
    {
     "data": {
      "image/png": "[encoded data removed]",
      "text/plain": [
       "plot without title"
      ]
     },
     "metadata": {},
     "output_type": "display_data"
    }
   ],
   "source": [
    "par(mfrow=c(1,2))\n",
    "set.seed(1)\n",
    "x=matrix(rnorm(20*2), ncol=2)\n",
    "y=c(rep(-1,10), rep(1,10)) # y column having first 10 elements -1 ; next 10 elements 1\n",
    "plot(x[,2],x[,1],col=(3-y)) # col will decide the color of pts.\n",
    "#x\n",
    "\n",
    "x[y==1,]=x[y==1,]+1\n",
    "plot(x[,2],x[,1],col=(3-y))\n",
    "dat = data.frame(x=x,y=as.factor(y))\n",
    "dat"
   ]
  },
  {
   "cell_type": "markdown",
   "metadata": {},
   "source": [
    "## Model 1"
   ]
  },
  {
   "cell_type": "code",
   "execution_count": 3,
   "metadata": {},
   "outputs": [
    {
     "data": {
      "text/html": [
       "<ol class=list-inline>\n",
       "\t<li>1</li>\n",
       "\t<li>2</li>\n",
       "\t<li>5</li>\n",
       "\t<li>7</li>\n",
       "\t<li>14</li>\n",
       "\t<li>16</li>\n",
       "\t<li>17</li>\n",
       "</ol>\n"
      ],
      "text/latex": [
       "\\begin{enumerate*}\n",
       "\\item 1\n",
       "\\item 2\n",
       "\\item 5\n",
       "\\item 7\n",
       "\\item 14\n",
       "\\item 16\n",
       "\\item 17\n",
       "\\end{enumerate*}\n"
      ],
      "text/markdown": [
       "1. 1\n",
       "2. 2\n",
       "3. 5\n",
       "4. 7\n",
       "5. 14\n",
       "6. 16\n",
       "7. 17\n",
       "\n",
       "\n"
      ],
      "text/plain": [
       "[1]  1  2  5  7 14 16 17"
      ]
     },
     "metadata": {},
     "output_type": "display_data"
    },
    {
     "data": {
      "text/plain": [
       "\n",
       "Call:\n",
       "svm(formula = y ~ ., data = dat, kernel = \"linear\", cost = 10, scale = FALSE)\n",
       "\n",
       "\n",
       "Parameters:\n",
       "   SVM-Type:  C-classification \n",
       " SVM-Kernel:  linear \n",
       "       cost:  10 \n",
       "      gamma:  0.5 \n",
       "\n",
       "Number of Support Vectors:  7\n",
       "\n",
       " ( 4 3 )\n",
       "\n",
       "\n",
       "Number of Classes:  2 \n",
       "\n",
       "Levels: \n",
       " -1 1\n",
       "\n",
       "\n"
      ]
     },
     "metadata": {},
     "output_type": "display_data"
    },
    {
     "data": {
      "image/png": "[encoded data removed]",
      "text/plain": [
       "Plot with title \"SVM classification plot\""
      ]
     },
     "metadata": {},
     "output_type": "display_data"
    }
   ],
   "source": [
    "svmfit1=svm(y~., data=dat, kernel = \"linear\", cost =10, scale = FALSE) # cost = 10\n",
    "plot(svmfit1, dat)\n",
    "# cross represents the support vectors\n",
    "\n",
    "svmfit1$index # identifies the support vectors\n",
    "summary(svmfit1)\n",
    "# gamma = 1/(number of X values) ; here 1/2 ; gamma is important in radial kernal"
   ]
  },
  {
   "cell_type": "markdown",
   "metadata": {},
   "source": [
    "## Model 2"
   ]
  },
  {
   "cell_type": "code",
   "execution_count": 4,
   "metadata": {},
   "outputs": [
    {
     "data": {
      "text/plain": [
       "\n",
       "Call:\n",
       "svm(formula = y ~ ., data = dat, kernel = \"linear\", cost = 0.1, scale = FALSE)\n",
       "\n",
       "\n",
       "Parameters:\n",
       "   SVM-Type:  C-classification \n",
       " SVM-Kernel:  linear \n",
       "       cost:  0.1 \n",
       "      gamma:  0.5 \n",
       "\n",
       "Number of Support Vectors:  16\n",
       "\n",
       " ( 8 8 )\n",
       "\n",
       "\n",
       "Number of Classes:  2 \n",
       "\n",
       "Levels: \n",
       " -1 1\n",
       "\n",
       "\n"
      ]
     },
     "metadata": {},
     "output_type": "display_data"
    },
    {
     "data": {
      "image/png": "[encoded data removed]",
      "text/plain": [
       "Plot with title \"SVM classification plot\""
      ]
     },
     "metadata": {},
     "output_type": "display_data"
    }
   ],
   "source": [
    "svmfit2=svm(y~., data=dat, kernel = \"linear\", cost =0.1, scale = FALSE) # cost = 0.1\n",
    "plot(svmfit2, dat)\n",
    "# cross represents the support vectors ; margin is increased\n",
    "# low cost results in large margins and 16 support points\n",
    "summary(svmfit2)"
   ]
  },
  {
   "cell_type": "markdown",
   "metadata": {},
   "source": [
    "## Tunning Model with diffrent costs"
   ]
  },
  {
   "cell_type": "code",
   "execution_count": 5,
   "metadata": {},
   "outputs": [
    {
     "data": {
      "text/plain": [
       "\n",
       "Parameter tuning of 'svm':\n",
       "\n",
       "- sampling method: 10-fold cross validation \n",
       "\n",
       "- best parameters:\n",
       " cost\n",
       "    5\n",
       "\n",
       "- best performance: 0.1 \n",
       "\n",
       "- Detailed performance results:\n",
       "   cost error dispersion\n",
       "1 1e-03  0.65  0.4743416\n",
       "2 1e-02  0.65  0.4743416\n",
       "3 1e-01  0.65  0.4743416\n",
       "4 1e+00  0.15  0.2415229\n",
       "5 5e+00  0.10  0.2108185\n",
       "6 1e+01  0.10  0.2108185\n",
       "7 1e+02  0.10  0.2108185\n"
      ]
     },
     "metadata": {},
     "output_type": "display_data"
    }
   ],
   "source": [
    "set.seed(1)\n",
    "tune.out = tune(svm, y~., data=dat, kernal=\"linear\", ranges=list(cost=c(0.001,0.01,0.1,1,5,10,100)))\n",
    "summary(tune.out)"
   ]
  },
  {
   "cell_type": "code",
   "execution_count": 6,
   "metadata": {},
   "outputs": [
    {
     "data": {
      "text/plain": [
       "\n",
       "Call:\n",
       "best.tune(method = svm, train.x = y ~ ., data = dat, ranges = list(cost = c(0.001, \n",
       "    0.01, 0.1, 1, 5, 10, 100)), kernal = \"linear\")\n",
       "\n",
       "\n",
       "Parameters:\n",
       "   SVM-Type:  C-classification \n",
       " SVM-Kernel:  radial \n",
       "       cost:  5 \n",
       "      gamma:  0.5 \n",
       "\n",
       "Number of Support Vectors:  9\n",
       "\n",
       " ( 5 4 )\n",
       "\n",
       "\n",
       "Number of Classes:  2 \n",
       "\n",
       "Levels: \n",
       " -1 1\n",
       "\n",
       "\n"
      ]
     },
     "metadata": {},
     "output_type": "display_data"
    }
   ],
   "source": [
    "# best model is corrosponding to cost\n",
    "# best performance is error of the model\n",
    "bestmod = tune.out$best.model\n",
    "summary(bestmod)"
   ]
  },
  {
   "cell_type": "markdown",
   "metadata": {},
   "source": [
    "## Creating Test Data"
   ]
  },
  {
   "cell_type": "code",
   "execution_count": 7,
   "metadata": {},
   "outputs": [
    {
     "data": {
      "text/plain": [
       "       truth\n",
       "predict -1 1\n",
       "     -1  8 0\n",
       "     1   3 9"
      ]
     },
     "metadata": {},
     "output_type": "display_data"
    },
    {
     "data": {
      "image/png": "[encoded data removed]",
      "text/plain": [
       "plot without title"
      ]
     },
     "metadata": {},
     "output_type": "display_data"
    }
   ],
   "source": [
    "xtest = matrix(rnorm(20*2), ncol=2)\n",
    "ytest = sample(c(-1,1),20,rep=TRUE)\n",
    "xtest[ytest==1,]=xtest[ytest==1,]+1\n",
    "testdat=data.frame(x=xtest, y=as.factor(ytest))\n",
    "plot(xtest, col = (3-ytest))\n",
    "# predict class lable of the test observation using best model\n",
    "ypred=predict(bestmod, testdat)\n",
    "table(predict=ypred, truth=testdat$y)"
   ]
  },
  {
   "cell_type": "markdown",
   "metadata": {},
   "source": [
    "## Model 3"
   ]
  },
  {
   "cell_type": "code",
   "execution_count": 8,
   "metadata": {},
   "outputs": [
    {
     "data": {
      "text/plain": [
       "       truth\n",
       "predict -1  1\n",
       "     -1 11  2\n",
       "     1   0  7"
      ]
     },
     "metadata": {},
     "output_type": "display_data"
    }
   ],
   "source": [
    "# cost =0.01, no of support vector should increase\n",
    "svmfit3=svm(y~., data=dat, kernel = \"linear\", cost =0.01, scale = FALSE) # cost = 0.01\n",
    "ypred = predict(svmfit3, testdat)\n",
    "table(predict=ypred, truth=testdat$y)"
   ]
  },
  {
   "cell_type": "markdown",
   "metadata": {},
   "source": [
    "## Model 4"
   ]
  },
  {
   "cell_type": "code",
   "execution_count": 9,
   "metadata": {},
   "outputs": [
    {
     "data": {
      "text/plain": [
       "       truth\n",
       "predict -1  1\n",
       "     -1 11  1\n",
       "     1   0  8"
      ]
     },
     "metadata": {},
     "output_type": "display_data"
    },
    {
     "data": {
      "image/png": "[encoded data removed]",
      "text/plain": [
       "plot without title"
      ]
     },
     "metadata": {},
     "output_type": "display_data"
    }
   ],
   "source": [
    "# two classes linearly separable\n",
    "x[y==1,]=x[y==1,]+2\n",
    "plot(x, col = (y+5)/2+1, pch=19)\n",
    "par(mfrow = c(1,1))\n",
    "\n",
    "svmfit4=svm(y~., data=dat, kernel = \"linear\", cost =0.1, scale = FALSE) # cost = 0.1\n",
    "ypred = predict(svmfit4, testdat)\n",
    "table(predict=ypred, truth=testdat$y)"
   ]
  },
  {
   "cell_type": "markdown",
   "metadata": {},
   "source": [
    "## Model 5"
   ]
  },
  {
   "cell_type": "code",
   "execution_count": 10,
   "metadata": {},
   "outputs": [
    {
     "data": {
      "text/plain": [
       "\n",
       "Call:\n",
       "svm(formula = y ~ ., data = dat, kernel = \"linear\", cost = 1e+05)\n",
       "\n",
       "\n",
       "Parameters:\n",
       "   SVM-Type:  C-classification \n",
       " SVM-Kernel:  linear \n",
       "       cost:  1e+05 \n",
       "      gamma:  0.5 \n",
       "\n",
       "Number of Support Vectors:  3\n",
       "\n",
       " ( 1 2 )\n",
       "\n",
       "\n",
       "Number of Classes:  2 \n",
       "\n",
       "Levels: \n",
       " -1 1\n",
       "\n",
       "\n"
      ]
     },
     "metadata": {},
     "output_type": "display_data"
    },
    {
     "data": {
      "text/html": [
       "<ol class=list-inline>\n",
       "\t<li>2</li>\n",
       "\t<li>14</li>\n",
       "\t<li>15</li>\n",
       "</ol>\n"
      ],
      "text/latex": [
       "\\begin{enumerate*}\n",
       "\\item 2\n",
       "\\item 14\n",
       "\\item 15\n",
       "\\end{enumerate*}\n"
      ],
      "text/markdown": [
       "1. 2\n",
       "2. 14\n",
       "3. 15\n",
       "\n",
       "\n"
      ],
      "text/plain": [
       "[1]  2 14 15"
      ]
     },
     "metadata": {},
     "output_type": "display_data"
    },
    {
     "data": {
      "text/plain": [
       "       truth\n",
       "predict -1  1\n",
       "     -1 11  5\n",
       "     1   0  4"
      ]
     },
     "metadata": {},
     "output_type": "display_data"
    },
    {
     "data": {
      "image/png": "[encoded data removed]",
      "text/plain": [
       "Plot with title \"SVM classification plot\""
      ]
     },
     "metadata": {},
     "output_type": "display_data"
    }
   ],
   "source": [
    "# fit svm with high cost so that no observation is missclassified\n",
    "dat = data.frame(x=x, y=as.factor(y))\n",
    "svmfit5=svm(y~.,data=dat, kernel = \"linear\", cost = 1e5)\n",
    "summary(svmfit5)\n",
    "plot(svmfit5, dat)\n",
    "svmfit5$index\n",
    "\n",
    "ypred=predict(svmfit5,testdat)\n",
    "table(predict=ypred, truth=testdat$y)"
   ]
  },
  {
   "cell_type": "markdown",
   "metadata": {},
   "source": [
    "## Model 6"
   ]
  },
  {
   "cell_type": "code",
   "execution_count": 11,
   "metadata": {},
   "outputs": [
    {
     "data": {
      "text/plain": [
       "\n",
       "Call:\n",
       "svm(formula = y ~ ., data = dat, kernel = \"linear\", cost = 1)\n",
       "\n",
       "\n",
       "Parameters:\n",
       "   SVM-Type:  C-classification \n",
       " SVM-Kernel:  linear \n",
       "       cost:  1 \n",
       "      gamma:  0.5 \n",
       "\n",
       "Number of Support Vectors:  4\n",
       "\n",
       " ( 2 2 )\n",
       "\n",
       "\n",
       "Number of Classes:  2 \n",
       "\n",
       "Levels: \n",
       " -1 1\n",
       "\n",
       "\n"
      ]
     },
     "metadata": {},
     "output_type": "display_data"
    },
    {
     "data": {
      "text/html": [
       "<ol class=list-inline>\n",
       "\t<li>2</li>\n",
       "\t<li>5</li>\n",
       "\t<li>14</li>\n",
       "\t<li>15</li>\n",
       "</ol>\n"
      ],
      "text/latex": [
       "\\begin{enumerate*}\n",
       "\\item 2\n",
       "\\item 5\n",
       "\\item 14\n",
       "\\item 15\n",
       "\\end{enumerate*}\n"
      ],
      "text/markdown": [
       "1. 2\n",
       "2. 5\n",
       "3. 14\n",
       "4. 15\n",
       "\n",
       "\n"
      ],
      "text/plain": [
       "[1]  2  5 14 15"
      ]
     },
     "metadata": {},
     "output_type": "display_data"
    },
    {
     "data": {
      "text/plain": [
       "       truth\n",
       "predict -1  1\n",
       "     -1 11  5\n",
       "     1   0  4"
      ]
     },
     "metadata": {},
     "output_type": "display_data"
    },
    {
     "data": {
      "image/png": "[encoded data removed]",
      "text/plain": [
       "Plot with title \"SVM classification plot\""
      ]
     },
     "metadata": {},
     "output_type": "display_data"
    }
   ],
   "source": [
    "svmfit6=svm(y~.,data=dat, kernel = \"linear\", cost = 1)\n",
    "summary(svmfit6)\n",
    "plot(svmfit6,dat)\n",
    "svmfit6$index\n",
    "\n",
    "ypred=predict(svmfit6,testdat)\n",
    "table(predict=ypred, truth=testdat$y)"
   ]
  },
  {
   "cell_type": "markdown",
   "metadata": {},
   "source": [
    "## Support Vector Machine"
   ]
  },
  {
   "cell_type": "code",
   "execution_count": 12,
   "metadata": {},
   "outputs": [
    {
     "data": {
      "image/png": "[encoded data removed]",
      "text/plain": [
       "plot without title"
      ]
     },
     "metadata": {},
     "output_type": "display_data"
    }
   ],
   "source": [
    "set.seed(1)\n",
    "x=matrix(rnorm(200*2), ncol=2)\n",
    "x[1:100,]=x[1:100,]+2\n",
    "x[101:150,]=x[101:150,]-2\n",
    "y=c(rep(1,150),rep(2,50))\n",
    "dat=data.frame(x=x, y=as.factor(y))\n",
    "plot(x, col=y+7)"
   ]
  },
  {
   "cell_type": "markdown",
   "metadata": {},
   "source": [
    "## Model 7"
   ]
  },
  {
   "cell_type": "code",
   "execution_count": 13,
   "metadata": {},
   "outputs": [
    {
     "data": {
      "text/html": [
       "100"
      ],
      "text/latex": [
       "100"
      ],
      "text/markdown": [
       "100"
      ],
      "text/plain": [
       "[1] 100"
      ]
     },
     "metadata": {},
     "output_type": "display_data"
    },
    {
     "data": {
      "text/plain": [
       "\n",
       "Call:\n",
       "svm(formula = y ~ ., data = dat[train, ], kernel = \"radial\", gamma = 1, \n",
       "    cost = 1)\n",
       "\n",
       "\n",
       "Parameters:\n",
       "   SVM-Type:  C-classification \n",
       " SVM-Kernel:  radial \n",
       "       cost:  1 \n",
       "      gamma:  1 \n",
       "\n",
       "Number of Support Vectors:  37\n",
       "\n",
       " ( 17 20 )\n",
       "\n",
       "\n",
       "Number of Classes:  2 \n",
       "\n",
       "Levels: \n",
       " 1 2\n",
       "\n",
       "\n"
      ]
     },
     "metadata": {},
     "output_type": "display_data"
    },
    {
     "data": {
      "text/plain": [
       "   \n",
       "     1  2\n",
       "  1 67  5\n",
       "  2  6 22"
      ]
     },
     "metadata": {},
     "output_type": "display_data"
    },
    {
     "data": {
      "image/png": "[encoded data removed]",
      "text/plain": [
       "Plot with title \"SVM classification plot\""
      ]
     },
     "metadata": {},
     "output_type": "display_data"
    }
   ],
   "source": [
    "train=sample(200,100)\n",
    "length(train)\n",
    "svmfit7 = svm(y~.,data=dat[train,],kernel = \"radial\", gamma = 1, cost = 1)\n",
    "\n",
    "plot(svmfit7,dat[train,])\n",
    "summary(svmfit7)\n",
    "table(svmfit7$fitted, y[train])"
   ]
  },
  {
   "cell_type": "markdown",
   "metadata": {},
   "source": [
    "## Model 8"
   ]
  },
  {
   "cell_type": "code",
   "execution_count": 14,
   "metadata": {},
   "outputs": [
    {
     "data": {
      "text/plain": [
       "\n",
       "Call:\n",
       "svm(formula = y ~ ., data = dat[train, ], kernel = \"polynomial\", \n",
       "    degree = 2, cost = 1)\n",
       "\n",
       "\n",
       "Parameters:\n",
       "   SVM-Type:  C-classification \n",
       " SVM-Kernel:  polynomial \n",
       "       cost:  1 \n",
       "     degree:  2 \n",
       "      gamma:  0.5 \n",
       "     coef.0:  0 \n",
       "\n",
       "Number of Support Vectors:  47\n",
       "\n",
       " ( 23 24 )\n",
       "\n",
       "\n",
       "Number of Classes:  2 \n",
       "\n",
       "Levels: \n",
       " 1 2\n",
       "\n",
       "\n"
      ]
     },
     "metadata": {},
     "output_type": "display_data"
    },
    {
     "data": {
      "text/plain": [
       "   \n",
       "     1  2\n",
       "  1 62  5\n",
       "  2 11 22"
      ]
     },
     "metadata": {},
     "output_type": "display_data"
    },
    {
     "data": {
      "image/png": "[encoded data removed]",
      "text/plain": [
       "Plot with title \"SVM classification plot\""
      ]
     },
     "metadata": {},
     "output_type": "display_data"
    }
   ],
   "source": [
    "svmfit8 = svm(y~.,data=dat[train,],kernel = \"polynomial\", degree = 2, cost = 1)\n",
    "\n",
    "plot(svmfit8,dat[train,])\n",
    "summary(svmfit8)\n",
    "table(svmfit8$fitted, y[train])"
   ]
  },
  {
   "cell_type": "markdown",
   "metadata": {},
   "source": [
    "## Model 9"
   ]
  },
  {
   "cell_type": "code",
   "execution_count": 15,
   "metadata": {},
   "outputs": [
    {
     "data": {
      "text/plain": [
       "\n",
       "Call:\n",
       "svm(formula = y ~ ., data = dat[train, ], kernel = \"radial\", gamma = 1, \n",
       "    cost = 1e+05)\n",
       "\n",
       "\n",
       "Parameters:\n",
       "   SVM-Type:  C-classification \n",
       " SVM-Kernel:  radial \n",
       "       cost:  1e+05 \n",
       "      gamma:  1 \n",
       "\n",
       "Number of Support Vectors:  26\n",
       "\n",
       " ( 12 14 )\n",
       "\n",
       "\n",
       "Number of Classes:  2 \n",
       "\n",
       "Levels: \n",
       " 1 2\n",
       "\n",
       "\n"
      ]
     },
     "metadata": {},
     "output_type": "display_data"
    },
    {
     "data": {
      "text/plain": [
       "   \n",
       "     1  2\n",
       "  1 73  1\n",
       "  2  0 26"
      ]
     },
     "metadata": {},
     "output_type": "display_data"
    },
    {
     "data": {
      "image/png": "[encoded data removed]",
      "text/plain": [
       "Plot with title \"SVM classification plot\""
      ]
     },
     "metadata": {},
     "output_type": "display_data"
    }
   ],
   "source": [
    "svmfit9 = svm(y~.,data=dat[train,],kernel = \"radial\", gamma = 1, cost = 1e5)\n",
    "plot(svmfit9,dat[train,])\n",
    "summary(svmfit9)\n",
    "table(svmfit9$fitted, y[train])"
   ]
  },
  {
   "cell_type": "markdown",
   "metadata": {},
   "source": [
    "## Model 10"
   ]
  },
  {
   "cell_type": "code",
   "execution_count": 16,
   "metadata": {},
   "outputs": [
    {
     "data": {
      "text/plain": [
       "\n",
       "Call:\n",
       "svm(formula = y ~ ., data = dat[train, ], kernel = \"polynomial\", \n",
       "    degree = 2, cost = 1e+05)\n",
       "\n",
       "\n",
       "Parameters:\n",
       "   SVM-Type:  C-classification \n",
       " SVM-Kernel:  polynomial \n",
       "       cost:  1e+05 \n",
       "     degree:  2 \n",
       "      gamma:  0.5 \n",
       "     coef.0:  0 \n",
       "\n",
       "Number of Support Vectors:  34\n",
       "\n",
       " ( 17 17 )\n",
       "\n",
       "\n",
       "Number of Classes:  2 \n",
       "\n",
       "Levels: \n",
       " 1 2\n",
       "\n",
       "\n"
      ]
     },
     "metadata": {},
     "output_type": "display_data"
    },
    {
     "data": {
      "text/plain": [
       "   \n",
       "     1  2\n",
       "  1 63  5\n",
       "  2 10 22"
      ]
     },
     "metadata": {},
     "output_type": "display_data"
    },
    {
     "data": {
      "image/png": "[encoded data removed]",
      "text/plain": [
       "Plot with title \"SVM classification plot\""
      ]
     },
     "metadata": {},
     "output_type": "display_data"
    }
   ],
   "source": [
    "svmfit10 = svm(y~.,data=dat[train,],kernel = \"polynomial\", degree = 2, cost = 1e5)\n",
    "plot(svmfit10,dat[train,])\n",
    "summary(svmfit10)\n",
    "table(svmfit10$fitted, y[train])"
   ]
  },
  {
   "cell_type": "markdown",
   "metadata": {},
   "source": [
    "## Predict test data using best model and compare"
   ]
  },
  {
   "cell_type": "code",
   "execution_count": 17,
   "metadata": {},
   "outputs": [
    {
     "data": {
      "text/plain": [
       "\n",
       "Parameter tuning of 'svm':\n",
       "\n",
       "- sampling method: 10-fold cross validation \n",
       "\n",
       "- best parameters:\n",
       " cost gamma\n",
       "    1   0.5\n",
       "\n",
       "- best performance: 0.13 \n",
       "\n",
       "- Detailed performance results:\n",
       "    cost gamma error dispersion\n",
       "1  1e-01   0.5  0.28 0.16865481\n",
       "2  1e+00   0.5  0.13 0.10593499\n",
       "3  1e+01   0.5  0.14 0.11737878\n",
       "4  1e+02   0.5  0.18 0.10327956\n",
       "5  1e+03   0.5  0.19 0.11005049\n",
       "6  1e-01   1.0  0.30 0.15634719\n",
       "7  1e+00   1.0  0.14 0.11737878\n",
       "8  1e+01   1.0  0.18 0.10327956\n",
       "9  1e+02   1.0  0.19 0.13703203\n",
       "10 1e+03   1.0  0.22 0.11352924\n",
       "11 1e-01   2.0  0.29 0.15951315\n",
       "12 1e+00   2.0  0.15 0.11785113\n",
       "13 1e+01   2.0  0.17 0.11595018\n",
       "14 1e+02   2.0  0.19 0.11005049\n",
       "15 1e+03   2.0  0.24 0.13498971\n",
       "16 1e-01   3.0  0.29 0.15951315\n",
       "17 1e+00   3.0  0.15 0.09718253\n",
       "18 1e+01   3.0  0.17 0.11595018\n",
       "19 1e+02   3.0  0.22 0.12292726\n",
       "20 1e+03   3.0  0.25 0.12692955\n",
       "21 1e-01   4.0  0.27 0.18287822\n",
       "22 1e+00   4.0  0.16 0.09660918\n",
       "23 1e+01   4.0  0.21 0.11972190\n",
       "24 1e+02   4.0  0.21 0.07378648\n",
       "25 1e+03   4.0  0.25 0.12692955\n"
      ]
     },
     "metadata": {},
     "output_type": "display_data"
    },
    {
     "data": {
      "text/plain": [
       "    pred\n",
       "true  1  2\n",
       "   1 54 23\n",
       "   2 17  6"
      ]
     },
     "metadata": {},
     "output_type": "display_data"
    }
   ],
   "source": [
    "tune.out = tune(svm, y~., data=dat[train,], kernel=\"radial\", ranges=list(cost=c(0.1,1,10,100,1000), gamma=c(0.5,1,2,3,4)))\n",
    "summary(tune.out)\n",
    "\n",
    "# predict test data using best model and compare\n",
    "table(true=dat[-train,\"y\"], pred=predict(tune.out$best.model, newx=dat[-train,]))"
   ]
  },
  {
   "cell_type": "markdown",
   "metadata": {},
   "source": [
    "## SVM with multiple classes"
   ]
  },
  {
   "cell_type": "code",
   "execution_count": 18,
   "metadata": {},
   "outputs": [
    {
     "data": {
      "image/png": "[encoded data removed]",
      "text/plain": [
       "plot without title"
      ]
     },
     "metadata": {},
     "output_type": "display_data"
    }
   ],
   "source": [
    "set.seed(1)\n",
    "x=rbind(x,matrix(rnorm(50*2), ncol=2))\n",
    "y=c(y,rep(0,50))\n",
    "x[y==0,2]=x[y==0,2]+2\n",
    "dat=data.frame(x=x,y=as.factor(y))\n",
    "plot(x,col=(y+3))"
   ]
  },
  {
   "cell_type": "markdown",
   "metadata": {},
   "source": [
    "## Model 11"
   ]
  },
  {
   "cell_type": "code",
   "execution_count": 19,
   "metadata": {},
   "outputs": [
    {
     "data": {
      "text/plain": [
       "\n",
       "Call:\n",
       "svm(formula = y ~ ., data = dat, kernel = \"radial\", gamma = 1, cost = 10)\n",
       "\n",
       "\n",
       "Parameters:\n",
       "   SVM-Type:  C-classification \n",
       " SVM-Kernel:  radial \n",
       "       cost:  10 \n",
       "      gamma:  1 \n",
       "\n",
       "Number of Support Vectors:  105\n",
       "\n",
       " ( 38 37 30 )\n",
       "\n",
       "\n",
       "Number of Classes:  3 \n",
       "\n",
       "Levels: \n",
       " 0 1 2\n",
       "\n",
       "\n"
      ]
     },
     "metadata": {},
     "output_type": "display_data"
    },
    {
     "data": {
      "text/plain": [
       "   y\n",
       "      0   1   2\n",
       "  0  42   8   6\n",
       "  1   4 134   8\n",
       "  2   4   8  36"
      ]
     },
     "metadata": {},
     "output_type": "display_data"
    },
    {
     "data": {
      "image/png": "[encoded data removed]",
      "text/plain": [
       "Plot with title \"SVM classification plot\""
      ]
     },
     "metadata": {},
     "output_type": "display_data"
    }
   ],
   "source": [
    "svmfit11 = svm(y~.,data=dat,kernel = \"radial\", gamma = 1, cost = 10)\n",
    "plot(svmfit11,dat)\n",
    "summary(svmfit11)\n",
    "table(svmfit11$fitted, y)"
   ]
  }
 ],
 "metadata": {
  "kernelspec": {
   "display_name": "R",
   "language": "R",
   "name": "ir"
  },
  "language_info": {
   "codemirror_mode": "r",
   "file_extension": ".r",
   "mimetype": "text/x-r-source",
   "name": "R",
   "pygments_lexer": "r",
   "version": "3.5.1"
  }
 },
 "nbformat": 4,
 "nbformat_minor": 2
}
