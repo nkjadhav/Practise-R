{
 "cells": [
  {
   "cell_type": "markdown",
   "metadata": {},
   "source": [
    "# Installing XGBoost"
   ]
  },
  {
   "cell_type": "code",
   "execution_count": 1,
   "metadata": {},
   "outputs": [
    {
     "name": "stderr",
     "output_type": "stream",
     "text": [
      "Installing package into 'C:/Users/Nilkanth Jadhav/Documents/R/win-library/3.5'\n",
      "(as 'lib' is unspecified)\n"
     ]
    },
    {
     "name": "stdout",
     "output_type": "stream",
     "text": [
      "package 'devtools' successfully unpacked and MD5 sums checked\n",
      "\n",
      "The downloaded binary packages are in\n",
      "\tC:\\Users\\Nilkanth Jadhav\\AppData\\Local\\Temp\\RtmpQhfmDA\\downloaded_packages\n"
     ]
    }
   ],
   "source": [
    "install.packages(\"devtools\")"
   ]
  },
  {
   "cell_type": "code",
   "execution_count": 2,
   "metadata": {},
   "outputs": [
    {
     "name": "stderr",
     "output_type": "stream",
     "text": [
      "Installing package into 'C:/Users/Nilkanth Jadhav/Documents/R/win-library/3.5'\n",
      "(as 'lib' is unspecified)\n"
     ]
    },
    {
     "name": "stdout",
     "output_type": "stream",
     "text": [
      "package 'drat' successfully unpacked and MD5 sums checked\n",
      "\n",
      "The downloaded binary packages are in\n",
      "\tC:\\Users\\Nilkanth Jadhav\\AppData\\Local\\Temp\\RtmpQhfmDA\\downloaded_packages\n"
     ]
    },
    {
     "name": "stderr",
     "output_type": "stream",
     "text": [
      "Installing package into 'C:/Users/Nilkanth Jadhav/Documents/R/win-library/3.5'\n",
      "(as 'lib' is unspecified)\n",
      "Warning message in install.packages(\"xgboost\", repos = \"http://dmlc.ml/drat/\", type = \"source\"):\n",
      "\"installation of package 'xgboost' had non-zero exit status\""
     ]
    }
   ],
   "source": [
    "install.packages(\"drat\", repos=\"https://cran.rstudio.com\")\n",
    "drat:::addRepo(\"dmlc\")\n",
    "install.packages(\"xgboost\", repos=\"http://dmlc.ml/drat/\", type = \"source\")"
   ]
  },
  {
   "cell_type": "code",
   "execution_count": 3,
   "metadata": {},
   "outputs": [],
   "source": [
    "library(xgboost)"
   ]
  },
  {
   "cell_type": "markdown",
   "metadata": {},
   "source": [
    "## Sample Code"
   ]
  },
  {
   "cell_type": "code",
   "execution_count": 4,
   "metadata": {},
   "outputs": [
    {
     "name": "stdout",
     "output_type": "stream",
     "text": [
      "[1]\ttrain-error:0.046522 \n",
      "[2]\ttrain-error:0.022263 \n"
     ]
    }
   ],
   "source": [
    "library(xgboost)\n",
    "# load data\n",
    "data(agaricus.train, package = 'xgboost')\n",
    "data(agaricus.test, package = 'xgboost')\n",
    "train <- agaricus.train\n",
    "test <- agaricus.test\n",
    "# fit model\n",
    "bst <- xgboost(data = train$data, label = train$label, max.depth = 2, eta = 1, nround = 2,\n",
    "               nthread = 2, objective = \"binary:logistic\")\n",
    "# predict\n",
    "pred <- predict(bst, test$data)"
   ]
  }
 ],
 "metadata": {
  "kernelspec": {
   "display_name": "R",
   "language": "R",
   "name": "ir"
  },
  "language_info": {
   "codemirror_mode": "r",
   "file_extension": ".r",
   "mimetype": "text/x-r-source",
   "name": "R",
   "pygments_lexer": "r",
   "version": "3.5.1"
  }
 },
 "nbformat": 4,
 "nbformat_minor": 2
}
