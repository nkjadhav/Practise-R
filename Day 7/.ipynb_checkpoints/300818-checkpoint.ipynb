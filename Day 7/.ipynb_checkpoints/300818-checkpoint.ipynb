{
 "cells": [
  {
   "cell_type": "markdown",
   "metadata": {},
   "source": [
    "## Initializing library and data"
   ]
  },
  {
   "cell_type": "code",
   "execution_count": 1,
   "metadata": {},
   "outputs": [
    {
     "name": "stderr",
     "output_type": "stream",
     "text": [
      "Loading required package: Matrix\n",
      "Loading required package: foreach\n",
      "Loaded glmnet 2.0-16\n",
      "\n"
     ]
    }
   ],
   "source": [
    "library(glmnet)\n",
    "library(MASS)\n",
    "library(ISLR)"
   ]
  },
  {
   "cell_type": "code",
   "execution_count": 2,
   "metadata": {},
   "outputs": [],
   "source": [
    "data(\"Hitters\") # Load dataset Hitters"
   ]
  },
  {
   "cell_type": "code",
   "execution_count": 3,
   "metadata": {},
   "outputs": [],
   "source": [
    "Hitters1=data.frame(Hitters)"
   ]
  },
  {
   "cell_type": "code",
   "execution_count": 4,
   "metadata": {},
   "outputs": [
    {
     "data": {
      "text/html": [
       "<table>\n",
       "<thead><tr><th></th><th scope=col>AtBat</th><th scope=col>Hits</th><th scope=col>HmRun</th><th scope=col>Runs</th><th scope=col>RBI</th><th scope=col>Walks</th><th scope=col>Years</th><th scope=col>CAtBat</th><th scope=col>CHits</th><th scope=col>CHmRun</th><th scope=col>CRuns</th><th scope=col>CRBI</th><th scope=col>CWalks</th><th scope=col>League</th><th scope=col>Division</th><th scope=col>PutOuts</th><th scope=col>Assists</th><th scope=col>Errors</th><th scope=col>Salary</th><th scope=col>NewLeague</th></tr></thead>\n",
       "<tbody>\n",
       "\t<tr><th scope=row>-Andy Allanson</th><td>293  </td><td> 66  </td><td> 1   </td><td>30   </td><td>29   </td><td>14   </td><td> 1   </td><td> 293 </td><td>  66 </td><td>  1  </td><td> 30  </td><td> 29  </td><td> 14  </td><td>A    </td><td>E    </td><td>446  </td><td> 33  </td><td>20   </td><td>   NA</td><td>A    </td></tr>\n",
       "\t<tr><th scope=row>-Alan Ashby</th><td>315  </td><td> 81  </td><td> 7   </td><td>24   </td><td>38   </td><td>39   </td><td>14   </td><td>3449 </td><td> 835 </td><td> 69  </td><td>321  </td><td>414  </td><td>375  </td><td>N    </td><td>W    </td><td>632  </td><td> 43  </td><td>10   </td><td>475.0</td><td>N    </td></tr>\n",
       "\t<tr><th scope=row>-Alvin Davis</th><td>479  </td><td>130  </td><td>18   </td><td>66   </td><td>72   </td><td>76   </td><td> 3   </td><td>1624 </td><td> 457 </td><td> 63  </td><td>224  </td><td>266  </td><td>263  </td><td>A    </td><td>W    </td><td>880  </td><td> 82  </td><td>14   </td><td>480.0</td><td>A    </td></tr>\n",
       "\t<tr><th scope=row>-Andre Dawson</th><td>496  </td><td>141  </td><td>20   </td><td>65   </td><td>78   </td><td>37   </td><td>11   </td><td>5628 </td><td>1575 </td><td>225  </td><td>828  </td><td>838  </td><td>354  </td><td>N    </td><td>E    </td><td>200  </td><td> 11  </td><td> 3   </td><td>500.0</td><td>N    </td></tr>\n",
       "\t<tr><th scope=row>-Andres Galarraga</th><td>321  </td><td> 87  </td><td>10   </td><td>39   </td><td>42   </td><td>30   </td><td> 2   </td><td> 396 </td><td> 101 </td><td> 12  </td><td> 48  </td><td> 46  </td><td> 33  </td><td>N    </td><td>E    </td><td>805  </td><td> 40  </td><td> 4   </td><td> 91.5</td><td>N    </td></tr>\n",
       "\t<tr><th scope=row>-Alfredo Griffin</th><td>594  </td><td>169  </td><td> 4   </td><td>74   </td><td>51   </td><td>35   </td><td>11   </td><td>4408 </td><td>1133 </td><td> 19  </td><td>501  </td><td>336  </td><td>194  </td><td>A    </td><td>W    </td><td>282  </td><td>421  </td><td>25   </td><td>750.0</td><td>A    </td></tr>\n",
       "</tbody>\n",
       "</table>\n"
      ],
      "text/latex": [
       "\\begin{tabular}{r|llllllllllllllllllll}\n",
       "  & AtBat & Hits & HmRun & Runs & RBI & Walks & Years & CAtBat & CHits & CHmRun & CRuns & CRBI & CWalks & League & Division & PutOuts & Assists & Errors & Salary & NewLeague\\\\\n",
       "\\hline\n",
       "\t-Andy Allanson & 293   &  66   &  1    & 30    & 29    & 14    &  1    &  293  &   66  &   1   &  30   &  29   &  14   & A     & E     & 446   &  33   & 20    &    NA & A    \\\\\n",
       "\t-Alan Ashby & 315   &  81   &  7    & 24    & 38    & 39    & 14    & 3449  &  835  &  69   & 321   & 414   & 375   & N     & W     & 632   &  43   & 10    & 475.0 & N    \\\\\n",
       "\t-Alvin Davis & 479   & 130   & 18    & 66    & 72    & 76    &  3    & 1624  &  457  &  63   & 224   & 266   & 263   & A     & W     & 880   &  82   & 14    & 480.0 & A    \\\\\n",
       "\t-Andre Dawson & 496   & 141   & 20    & 65    & 78    & 37    & 11    & 5628  & 1575  & 225   & 828   & 838   & 354   & N     & E     & 200   &  11   &  3    & 500.0 & N    \\\\\n",
       "\t-Andres Galarraga & 321   &  87   & 10    & 39    & 42    & 30    &  2    &  396  &  101  &  12   &  48   &  46   &  33   & N     & E     & 805   &  40   &  4    &  91.5 & N    \\\\\n",
       "\t-Alfredo Griffin & 594   & 169   &  4    & 74    & 51    & 35    & 11    & 4408  & 1133  &  19   & 501   & 336   & 194   & A     & W     & 282   & 421   & 25    & 750.0 & A    \\\\\n",
       "\\end{tabular}\n"
      ],
      "text/markdown": [
       "\n",
       "| <!--/--> | AtBat | Hits | HmRun | Runs | RBI | Walks | Years | CAtBat | CHits | CHmRun | CRuns | CRBI | CWalks | League | Division | PutOuts | Assists | Errors | Salary | NewLeague | \n",
       "|---|---|---|---|---|---|\n",
       "| -Andy Allanson | 293   |  66   |  1    | 30    | 29    | 14    |  1    |  293  |   66  |   1   |  30   |  29   |  14   | A     | E     | 446   |  33   | 20    |    NA | A     | \n",
       "| -Alan Ashby | 315   |  81   |  7    | 24    | 38    | 39    | 14    | 3449  |  835  |  69   | 321   | 414   | 375   | N     | W     | 632   |  43   | 10    | 475.0 | N     | \n",
       "| -Alvin Davis | 479   | 130   | 18    | 66    | 72    | 76    |  3    | 1624  |  457  |  63   | 224   | 266   | 263   | A     | W     | 880   |  82   | 14    | 480.0 | A     | \n",
       "| -Andre Dawson | 496   | 141   | 20    | 65    | 78    | 37    | 11    | 5628  | 1575  | 225   | 828   | 838   | 354   | N     | E     | 200   |  11   |  3    | 500.0 | N     | \n",
       "| -Andres Galarraga | 321   |  87   | 10    | 39    | 42    | 30    |  2    |  396  |  101  |  12   |  48   |  46   |  33   | N     | E     | 805   |  40   |  4    |  91.5 | N     | \n",
       "| -Alfredo Griffin | 594   | 169   |  4    | 74    | 51    | 35    | 11    | 4408  | 1133  |  19   | 501   | 336   | 194   | A     | W     | 282   | 421   | 25    | 750.0 | A     | \n",
       "\n",
       "\n"
      ],
      "text/plain": [
       "                  AtBat Hits HmRun Runs RBI Walks Years CAtBat CHits CHmRun\n",
       "-Andy Allanson    293    66   1    30   29  14     1     293     66    1   \n",
       "-Alan Ashby       315    81   7    24   38  39    14    3449    835   69   \n",
       "-Alvin Davis      479   130  18    66   72  76     3    1624    457   63   \n",
       "-Andre Dawson     496   141  20    65   78  37    11    5628   1575  225   \n",
       "-Andres Galarraga 321    87  10    39   42  30     2     396    101   12   \n",
       "-Alfredo Griffin  594   169   4    74   51  35    11    4408   1133   19   \n",
       "                  CRuns CRBI CWalks League Division PutOuts Assists Errors\n",
       "-Andy Allanson     30    29   14    A      E        446      33     20    \n",
       "-Alan Ashby       321   414  375    N      W        632      43     10    \n",
       "-Alvin Davis      224   266  263    A      W        880      82     14    \n",
       "-Andre Dawson     828   838  354    N      E        200      11      3    \n",
       "-Andres Galarraga  48    46   33    N      E        805      40      4    \n",
       "-Alfredo Griffin  501   336  194    A      W        282     421     25    \n",
       "                  Salary NewLeague\n",
       "-Andy Allanson       NA  A        \n",
       "-Alan Ashby       475.0  N        \n",
       "-Alvin Davis      480.0  A        \n",
       "-Andre Dawson     500.0  N        \n",
       "-Andres Galarraga  91.5  N        \n",
       "-Alfredo Griffin  750.0  A        "
      ]
     },
     "metadata": {},
     "output_type": "display_data"
    }
   ],
   "source": [
    "head(Hitters1)"
   ]
  },
  {
   "cell_type": "code",
   "execution_count": 5,
   "metadata": {},
   "outputs": [
    {
     "name": "stdout",
     "output_type": "stream",
     "text": [
      "'data.frame':\t322 obs. of  20 variables:\n",
      " $ AtBat    : int  293 315 479 496 321 594 185 298 323 401 ...\n",
      " $ Hits     : int  66 81 130 141 87 169 37 73 81 92 ...\n",
      " $ HmRun    : int  1 7 18 20 10 4 1 0 6 17 ...\n",
      " $ Runs     : int  30 24 66 65 39 74 23 24 26 49 ...\n",
      " $ RBI      : int  29 38 72 78 42 51 8 24 32 66 ...\n",
      " $ Walks    : int  14 39 76 37 30 35 21 7 8 65 ...\n",
      " $ Years    : int  1 14 3 11 2 11 2 3 2 13 ...\n",
      " $ CAtBat   : int  293 3449 1624 5628 396 4408 214 509 341 5206 ...\n",
      " $ CHits    : int  66 835 457 1575 101 1133 42 108 86 1332 ...\n",
      " $ CHmRun   : int  1 69 63 225 12 19 1 0 6 253 ...\n",
      " $ CRuns    : int  30 321 224 828 48 501 30 41 32 784 ...\n",
      " $ CRBI     : int  29 414 266 838 46 336 9 37 34 890 ...\n",
      " $ CWalks   : int  14 375 263 354 33 194 24 12 8 866 ...\n",
      " $ League   : Factor w/ 2 levels \"A\",\"N\": 1 2 1 2 2 1 2 1 2 1 ...\n",
      " $ Division : Factor w/ 2 levels \"E\",\"W\": 1 2 2 1 1 2 1 2 2 1 ...\n",
      " $ PutOuts  : int  446 632 880 200 805 282 76 121 143 0 ...\n",
      " $ Assists  : int  33 43 82 11 40 421 127 283 290 0 ...\n",
      " $ Errors   : int  20 10 14 3 4 25 7 9 19 0 ...\n",
      " $ Salary   : num  NA 475 480 500 91.5 750 70 100 75 1100 ...\n",
      " $ NewLeague: Factor w/ 2 levels \"A\",\"N\": 1 2 1 2 2 1 1 1 2 1 ...\n"
     ]
    }
   ],
   "source": [
    "str(Hitters1)"
   ]
  },
  {
   "cell_type": "code",
   "execution_count": 6,
   "metadata": {},
   "outputs": [],
   "source": [
    "Hitters1=na.omit(Hitters1)"
   ]
  },
  {
   "cell_type": "markdown",
   "metadata": {},
   "source": [
    "## Data Preparation"
   ]
  },
  {
   "cell_type": "code",
   "execution_count": 7,
   "metadata": {},
   "outputs": [
    {
     "data": {
      "text/html": [
       "<table>\n",
       "<thead><tr><th></th><th scope=col>(Intercept)</th><th scope=col>AtBat</th><th scope=col>Hits</th><th scope=col>HmRun</th><th scope=col>Runs</th><th scope=col>RBI</th><th scope=col>Walks</th><th scope=col>Years</th><th scope=col>CAtBat</th><th scope=col>CHits</th><th scope=col>CHmRun</th><th scope=col>CRuns</th><th scope=col>CRBI</th><th scope=col>CWalks</th><th scope=col>LeagueN</th><th scope=col>DivisionW</th><th scope=col>PutOuts</th><th scope=col>Assists</th><th scope=col>Errors</th><th scope=col>NewLeagueN</th></tr></thead>\n",
       "<tbody>\n",
       "\t<tr><th scope=row>-Alan Ashby</th><td>1   </td><td>315 </td><td> 81 </td><td> 7  </td><td>24  </td><td>38  </td><td>39  </td><td>14  </td><td>3449</td><td> 835</td><td> 69 </td><td>321 </td><td>414 </td><td>375 </td><td>1   </td><td>1   </td><td>632 </td><td> 43 </td><td>10  </td><td>1   </td></tr>\n",
       "\t<tr><th scope=row>-Alvin Davis</th><td>1   </td><td>479 </td><td>130 </td><td>18  </td><td>66  </td><td>72  </td><td>76  </td><td> 3  </td><td>1624</td><td> 457</td><td> 63 </td><td>224 </td><td>266 </td><td>263 </td><td>0   </td><td>1   </td><td>880 </td><td> 82 </td><td>14  </td><td>0   </td></tr>\n",
       "\t<tr><th scope=row>-Andre Dawson</th><td>1   </td><td>496 </td><td>141 </td><td>20  </td><td>65  </td><td>78  </td><td>37  </td><td>11  </td><td>5628</td><td>1575</td><td>225 </td><td>828 </td><td>838 </td><td>354 </td><td>1   </td><td>0   </td><td>200 </td><td> 11 </td><td> 3  </td><td>1   </td></tr>\n",
       "\t<tr><th scope=row>-Andres Galarraga</th><td>1   </td><td>321 </td><td> 87 </td><td>10  </td><td>39  </td><td>42  </td><td>30  </td><td> 2  </td><td> 396</td><td> 101</td><td> 12 </td><td> 48 </td><td> 46 </td><td> 33 </td><td>1   </td><td>0   </td><td>805 </td><td> 40 </td><td> 4  </td><td>1   </td></tr>\n",
       "\t<tr><th scope=row>-Alfredo Griffin</th><td>1   </td><td>594 </td><td>169 </td><td> 4  </td><td>74  </td><td>51  </td><td>35  </td><td>11  </td><td>4408</td><td>1133</td><td> 19 </td><td>501 </td><td>336 </td><td>194 </td><td>0   </td><td>1   </td><td>282 </td><td>421 </td><td>25  </td><td>0   </td></tr>\n",
       "\t<tr><th scope=row>-Al Newman</th><td>1   </td><td>185 </td><td> 37 </td><td> 1  </td><td>23  </td><td> 8  </td><td>21  </td><td> 2  </td><td> 214</td><td>  42</td><td>  1 </td><td> 30 </td><td>  9 </td><td> 24 </td><td>1   </td><td>0   </td><td> 76 </td><td>127 </td><td> 7  </td><td>0   </td></tr>\n",
       "</tbody>\n",
       "</table>\n"
      ],
      "text/latex": [
       "\\begin{tabular}{r|llllllllllllllllllll}\n",
       "  & (Intercept) & AtBat & Hits & HmRun & Runs & RBI & Walks & Years & CAtBat & CHits & CHmRun & CRuns & CRBI & CWalks & LeagueN & DivisionW & PutOuts & Assists & Errors & NewLeagueN\\\\\n",
       "\\hline\n",
       "\t-Alan Ashby & 1    & 315  &  81  &  7   & 24   & 38   & 39   & 14   & 3449 &  835 &  69  & 321  & 414  & 375  & 1    & 1    & 632  &  43  & 10   & 1   \\\\\n",
       "\t-Alvin Davis & 1    & 479  & 130  & 18   & 66   & 72   & 76   &  3   & 1624 &  457 &  63  & 224  & 266  & 263  & 0    & 1    & 880  &  82  & 14   & 0   \\\\\n",
       "\t-Andre Dawson & 1    & 496  & 141  & 20   & 65   & 78   & 37   & 11   & 5628 & 1575 & 225  & 828  & 838  & 354  & 1    & 0    & 200  &  11  &  3   & 1   \\\\\n",
       "\t-Andres Galarraga & 1    & 321  &  87  & 10   & 39   & 42   & 30   &  2   &  396 &  101 &  12  &  48  &  46  &  33  & 1    & 0    & 805  &  40  &  4   & 1   \\\\\n",
       "\t-Alfredo Griffin & 1    & 594  & 169  &  4   & 74   & 51   & 35   & 11   & 4408 & 1133 &  19  & 501  & 336  & 194  & 0    & 1    & 282  & 421  & 25   & 0   \\\\\n",
       "\t-Al Newman & 1    & 185  &  37  &  1   & 23   &  8   & 21   &  2   &  214 &   42 &   1  &  30  &   9  &  24  & 1    & 0    &  76  & 127  &  7   & 0   \\\\\n",
       "\\end{tabular}\n"
      ],
      "text/markdown": [
       "\n",
       "| <!--/--> | (Intercept) | AtBat | Hits | HmRun | Runs | RBI | Walks | Years | CAtBat | CHits | CHmRun | CRuns | CRBI | CWalks | LeagueN | DivisionW | PutOuts | Assists | Errors | NewLeagueN | \n",
       "|---|---|---|---|---|---|\n",
       "| -Alan Ashby | 1    | 315  |  81  |  7   | 24   | 38   | 39   | 14   | 3449 |  835 |  69  | 321  | 414  | 375  | 1    | 1    | 632  |  43  | 10   | 1    | \n",
       "| -Alvin Davis | 1    | 479  | 130  | 18   | 66   | 72   | 76   |  3   | 1624 |  457 |  63  | 224  | 266  | 263  | 0    | 1    | 880  |  82  | 14   | 0    | \n",
       "| -Andre Dawson | 1    | 496  | 141  | 20   | 65   | 78   | 37   | 11   | 5628 | 1575 | 225  | 828  | 838  | 354  | 1    | 0    | 200  |  11  |  3   | 1    | \n",
       "| -Andres Galarraga | 1    | 321  |  87  | 10   | 39   | 42   | 30   |  2   |  396 |  101 |  12  |  48  |  46  |  33  | 1    | 0    | 805  |  40  |  4   | 1    | \n",
       "| -Alfredo Griffin | 1    | 594  | 169  |  4   | 74   | 51   | 35   | 11   | 4408 | 1133 |  19  | 501  | 336  | 194  | 0    | 1    | 282  | 421  | 25   | 0    | \n",
       "| -Al Newman | 1    | 185  |  37  |  1   | 23   |  8   | 21   |  2   |  214 |   42 |   1  |  30  |   9  |  24  | 1    | 0    |  76  | 127  |  7   | 0    | \n",
       "\n",
       "\n"
      ],
      "text/plain": [
       "                  (Intercept) AtBat Hits HmRun Runs RBI Walks Years CAtBat\n",
       "-Alan Ashby       1           315    81   7    24   38  39    14    3449  \n",
       "-Alvin Davis      1           479   130  18    66   72  76     3    1624  \n",
       "-Andre Dawson     1           496   141  20    65   78  37    11    5628  \n",
       "-Andres Galarraga 1           321    87  10    39   42  30     2     396  \n",
       "-Alfredo Griffin  1           594   169   4    74   51  35    11    4408  \n",
       "-Al Newman        1           185    37   1    23    8  21     2     214  \n",
       "                  CHits CHmRun CRuns CRBI CWalks LeagueN DivisionW PutOuts\n",
       "-Alan Ashby        835   69    321   414  375    1       1         632    \n",
       "-Alvin Davis       457   63    224   266  263    0       1         880    \n",
       "-Andre Dawson     1575  225    828   838  354    1       0         200    \n",
       "-Andres Galarraga  101   12     48    46   33    1       0         805    \n",
       "-Alfredo Griffin  1133   19    501   336  194    0       1         282    \n",
       "-Al Newman          42    1     30     9   24    1       0          76    \n",
       "                  Assists Errors NewLeagueN\n",
       "-Alan Ashby        43     10     1         \n",
       "-Alvin Davis       82     14     0         \n",
       "-Andre Dawson      11      3     1         \n",
       "-Andres Galarraga  40      4     1         \n",
       "-Alfredo Griffin  421     25     0         \n",
       "-Al Newman        127      7     0         "
      ]
     },
     "metadata": {},
     "output_type": "display_data"
    },
    {
     "data": {
      "text/html": [
       "<ol class=list-inline>\n",
       "\t<li>263</li>\n",
       "\t<li>20</li>\n",
       "</ol>\n"
      ],
      "text/latex": [
       "\\begin{enumerate*}\n",
       "\\item 263\n",
       "\\item 20\n",
       "\\end{enumerate*}\n"
      ],
      "text/markdown": [
       "1. 263\n",
       "2. 20\n",
       "\n",
       "\n"
      ],
      "text/plain": [
       "[1] 263  20"
      ]
     },
     "metadata": {},
     "output_type": "display_data"
    }
   ],
   "source": [
    "# Create a model matrix by expanding factors and interactions\n",
    "x=model.matrix(Salary~.,Hitters1) # prepares data matrix which is prepared for processing\n",
    "head(x) # LeagueN Division NewLeague - are changed to 1 & 0 which were factor\n",
    "dim(x)"
   ]
  },
  {
   "cell_type": "code",
   "execution_count": 8,
   "metadata": {},
   "outputs": [
    {
     "data": {
      "text/html": [
       "<table>\n",
       "<thead><tr><th></th><th scope=col>AtBat</th><th scope=col>Hits</th><th scope=col>HmRun</th><th scope=col>Runs</th><th scope=col>RBI</th><th scope=col>Walks</th><th scope=col>Years</th><th scope=col>CAtBat</th><th scope=col>CHits</th><th scope=col>CHmRun</th><th scope=col>CRuns</th><th scope=col>CRBI</th><th scope=col>CWalks</th><th scope=col>LeagueN</th><th scope=col>DivisionW</th><th scope=col>PutOuts</th><th scope=col>Assists</th><th scope=col>Errors</th><th scope=col>NewLeagueN</th></tr></thead>\n",
       "<tbody>\n",
       "\t<tr><th scope=row>-Alan Ashby</th><td>315 </td><td> 81 </td><td> 7  </td><td>24  </td><td>38  </td><td>39  </td><td>14  </td><td>3449</td><td> 835</td><td> 69 </td><td>321 </td><td>414 </td><td>375 </td><td>1   </td><td>1   </td><td>632 </td><td> 43 </td><td>10  </td><td>1   </td></tr>\n",
       "\t<tr><th scope=row>-Alvin Davis</th><td>479 </td><td>130 </td><td>18  </td><td>66  </td><td>72  </td><td>76  </td><td> 3  </td><td>1624</td><td> 457</td><td> 63 </td><td>224 </td><td>266 </td><td>263 </td><td>0   </td><td>1   </td><td>880 </td><td> 82 </td><td>14  </td><td>0   </td></tr>\n",
       "\t<tr><th scope=row>-Andre Dawson</th><td>496 </td><td>141 </td><td>20  </td><td>65  </td><td>78  </td><td>37  </td><td>11  </td><td>5628</td><td>1575</td><td>225 </td><td>828 </td><td>838 </td><td>354 </td><td>1   </td><td>0   </td><td>200 </td><td> 11 </td><td> 3  </td><td>1   </td></tr>\n",
       "\t<tr><th scope=row>-Andres Galarraga</th><td>321 </td><td> 87 </td><td>10  </td><td>39  </td><td>42  </td><td>30  </td><td> 2  </td><td> 396</td><td> 101</td><td> 12 </td><td> 48 </td><td> 46 </td><td> 33 </td><td>1   </td><td>0   </td><td>805 </td><td> 40 </td><td> 4  </td><td>1   </td></tr>\n",
       "\t<tr><th scope=row>-Alfredo Griffin</th><td>594 </td><td>169 </td><td> 4  </td><td>74  </td><td>51  </td><td>35  </td><td>11  </td><td>4408</td><td>1133</td><td> 19 </td><td>501 </td><td>336 </td><td>194 </td><td>0   </td><td>1   </td><td>282 </td><td>421 </td><td>25  </td><td>0   </td></tr>\n",
       "\t<tr><th scope=row>-Al Newman</th><td>185 </td><td> 37 </td><td> 1  </td><td>23  </td><td> 8  </td><td>21  </td><td> 2  </td><td> 214</td><td>  42</td><td>  1 </td><td> 30 </td><td>  9 </td><td> 24 </td><td>1   </td><td>0   </td><td> 76 </td><td>127 </td><td> 7  </td><td>0   </td></tr>\n",
       "</tbody>\n",
       "</table>\n"
      ],
      "text/latex": [
       "\\begin{tabular}{r|lllllllllllllllllll}\n",
       "  & AtBat & Hits & HmRun & Runs & RBI & Walks & Years & CAtBat & CHits & CHmRun & CRuns & CRBI & CWalks & LeagueN & DivisionW & PutOuts & Assists & Errors & NewLeagueN\\\\\n",
       "\\hline\n",
       "\t-Alan Ashby & 315  &  81  &  7   & 24   & 38   & 39   & 14   & 3449 &  835 &  69  & 321  & 414  & 375  & 1    & 1    & 632  &  43  & 10   & 1   \\\\\n",
       "\t-Alvin Davis & 479  & 130  & 18   & 66   & 72   & 76   &  3   & 1624 &  457 &  63  & 224  & 266  & 263  & 0    & 1    & 880  &  82  & 14   & 0   \\\\\n",
       "\t-Andre Dawson & 496  & 141  & 20   & 65   & 78   & 37   & 11   & 5628 & 1575 & 225  & 828  & 838  & 354  & 1    & 0    & 200  &  11  &  3   & 1   \\\\\n",
       "\t-Andres Galarraga & 321  &  87  & 10   & 39   & 42   & 30   &  2   &  396 &  101 &  12  &  48  &  46  &  33  & 1    & 0    & 805  &  40  &  4   & 1   \\\\\n",
       "\t-Alfredo Griffin & 594  & 169  &  4   & 74   & 51   & 35   & 11   & 4408 & 1133 &  19  & 501  & 336  & 194  & 0    & 1    & 282  & 421  & 25   & 0   \\\\\n",
       "\t-Al Newman & 185  &  37  &  1   & 23   &  8   & 21   &  2   &  214 &   42 &   1  &  30  &   9  &  24  & 1    & 0    &  76  & 127  &  7   & 0   \\\\\n",
       "\\end{tabular}\n"
      ],
      "text/markdown": [
       "\n",
       "| <!--/--> | AtBat | Hits | HmRun | Runs | RBI | Walks | Years | CAtBat | CHits | CHmRun | CRuns | CRBI | CWalks | LeagueN | DivisionW | PutOuts | Assists | Errors | NewLeagueN | \n",
       "|---|---|---|---|---|---|\n",
       "| -Alan Ashby | 315  |  81  |  7   | 24   | 38   | 39   | 14   | 3449 |  835 |  69  | 321  | 414  | 375  | 1    | 1    | 632  |  43  | 10   | 1    | \n",
       "| -Alvin Davis | 479  | 130  | 18   | 66   | 72   | 76   |  3   | 1624 |  457 |  63  | 224  | 266  | 263  | 0    | 1    | 880  |  82  | 14   | 0    | \n",
       "| -Andre Dawson | 496  | 141  | 20   | 65   | 78   | 37   | 11   | 5628 | 1575 | 225  | 828  | 838  | 354  | 1    | 0    | 200  |  11  |  3   | 1    | \n",
       "| -Andres Galarraga | 321  |  87  | 10   | 39   | 42   | 30   |  2   |  396 |  101 |  12  |  48  |  46  |  33  | 1    | 0    | 805  |  40  |  4   | 1    | \n",
       "| -Alfredo Griffin | 594  | 169  |  4   | 74   | 51   | 35   | 11   | 4408 | 1133 |  19  | 501  | 336  | 194  | 0    | 1    | 282  | 421  | 25   | 0    | \n",
       "| -Al Newman | 185  |  37  |  1   | 23   |  8   | 21   |  2   |  214 |   42 |   1  |  30  |   9  |  24  | 1    | 0    |  76  | 127  |  7   | 0    | \n",
       "\n",
       "\n"
      ],
      "text/plain": [
       "                  AtBat Hits HmRun Runs RBI Walks Years CAtBat CHits CHmRun\n",
       "-Alan Ashby       315    81   7    24   38  39    14    3449    835   69   \n",
       "-Alvin Davis      479   130  18    66   72  76     3    1624    457   63   \n",
       "-Andre Dawson     496   141  20    65   78  37    11    5628   1575  225   \n",
       "-Andres Galarraga 321    87  10    39   42  30     2     396    101   12   \n",
       "-Alfredo Griffin  594   169   4    74   51  35    11    4408   1133   19   \n",
       "-Al Newman        185    37   1    23    8  21     2     214     42    1   \n",
       "                  CRuns CRBI CWalks LeagueN DivisionW PutOuts Assists Errors\n",
       "-Alan Ashby       321   414  375    1       1         632      43     10    \n",
       "-Alvin Davis      224   266  263    0       1         880      82     14    \n",
       "-Andre Dawson     828   838  354    1       0         200      11      3    \n",
       "-Andres Galarraga  48    46   33    1       0         805      40      4    \n",
       "-Alfredo Griffin  501   336  194    0       1         282     421     25    \n",
       "-Al Newman         30     9   24    1       0          76     127      7    \n",
       "                  NewLeagueN\n",
       "-Alan Ashby       1         \n",
       "-Alvin Davis      0         \n",
       "-Andre Dawson     1         \n",
       "-Andres Galarraga 1         \n",
       "-Alfredo Griffin  0         \n",
       "-Al Newman        0         "
      ]
     },
     "metadata": {},
     "output_type": "display_data"
    },
    {
     "data": {
      "text/html": [
       "<ol class=list-inline>\n",
       "\t<li>263</li>\n",
       "\t<li>19</li>\n",
       "</ol>\n"
      ],
      "text/latex": [
       "\\begin{enumerate*}\n",
       "\\item 263\n",
       "\\item 19\n",
       "\\end{enumerate*}\n"
      ],
      "text/markdown": [
       "1. 263\n",
       "2. 19\n",
       "\n",
       "\n"
      ],
      "text/plain": [
       "[1] 263  19"
      ]
     },
     "metadata": {},
     "output_type": "display_data"
    }
   ],
   "source": [
    "x=x[,-1] # Remove intercept column, do not run this cell more than once\n",
    "head(x)\n",
    "dim(x)"
   ]
  },
  {
   "cell_type": "code",
   "execution_count": 9,
   "metadata": {},
   "outputs": [
    {
     "data": {
      "text/html": [
       "<ol class=list-inline>\n",
       "\t<li>475</li>\n",
       "\t<li>480</li>\n",
       "\t<li>500</li>\n",
       "\t<li>91.5</li>\n",
       "\t<li>750</li>\n",
       "\t<li>70</li>\n",
       "</ol>\n"
      ],
      "text/latex": [
       "\\begin{enumerate*}\n",
       "\\item 475\n",
       "\\item 480\n",
       "\\item 500\n",
       "\\item 91.5\n",
       "\\item 750\n",
       "\\item 70\n",
       "\\end{enumerate*}\n"
      ],
      "text/markdown": [
       "1. 475\n",
       "2. 480\n",
       "3. 500\n",
       "4. 91.5\n",
       "5. 750\n",
       "6. 70\n",
       "\n",
       "\n"
      ],
      "text/plain": [
       "[1] 475.0 480.0 500.0  91.5 750.0  70.0"
      ]
     },
     "metadata": {},
     "output_type": "display_data"
    }
   ],
   "source": [
    "y=(Hitters1$Salary) # A vetor of salary\n",
    "head(y)"
   ]
  },
  {
   "cell_type": "code",
   "execution_count": 10,
   "metadata": {},
   "outputs": [
    {
     "data": {
      "image/png": "[encoded data removed]",
      "text/plain": [
       "plot without title"
      ]
     },
     "metadata": {},
     "output_type": "display_data"
    }
   ],
   "source": [
    "# grid of lambda\n",
    "# create grid of lambda values\n",
    "# for each lambda\n",
    "    #prepare model for each lambda\n",
    "\n",
    "grid=10^seq(10,-2,length=100) #Create a grid of 100 tuning parameters from, eqaully spaced 100 values between 10 & -2\n",
    "# in high values changes are less hence power of 10 taken\n",
    "plot(grid)"
   ]
  },
  {
   "cell_type": "markdown",
   "metadata": {},
   "source": [
    "## Ridge Regression"
   ]
  },
  {
   "cell_type": "code",
   "execution_count": 11,
   "metadata": {},
   "outputs": [
    {
     "data": {
      "image/png": "[encoded data removed]",
      "text/plain": [
       "plot without title"
      ]
     },
     "metadata": {},
     "output_type": "display_data"
    }
   ],
   "source": [
    "ridge.mod=glmnet(x,y,alpha = 0,lambda = grid)\n",
    "plot(ridge.mod)"
   ]
  },
  {
   "cell_type": "code",
   "execution_count": 12,
   "metadata": {},
   "outputs": [
    {
     "data": {
      "text/html": [
       "<ol class=list-inline>\n",
       "\t<li>20</li>\n",
       "\t<li>100</li>\n",
       "</ol>\n"
      ],
      "text/latex": [
       "\\begin{enumerate*}\n",
       "\\item 20\n",
       "\\item 100\n",
       "\\end{enumerate*}\n"
      ],
      "text/markdown": [
       "1. 20\n",
       "2. 100\n",
       "\n",
       "\n"
      ],
      "text/plain": [
       "[1]  20 100"
      ]
     },
     "metadata": {},
     "output_type": "display_data"
    }
   ],
   "source": [
    "dim(coef(ridge.mod)) #100 sets of coefficients for each lambda"
   ]
  },
  {
   "cell_type": "code",
   "execution_count": 13,
   "metadata": {},
   "outputs": [
    {
     "data": {
      "text/html": [
       "1e+10"
      ],
      "text/latex": [
       "1e+10"
      ],
      "text/markdown": [
       "1e+10"
      ],
      "text/plain": [
       "[1] 1e+10"
      ]
     },
     "metadata": {},
     "output_type": "display_data"
    },
    {
     "data": {
      "text/html": [
       "11497.5699539774"
      ],
      "text/latex": [
       "11497.5699539774"
      ],
      "text/markdown": [
       "11497.5699539774"
      ],
      "text/plain": [
       "[1] 11497.57"
      ]
     },
     "metadata": {},
     "output_type": "display_data"
    },
    {
     "data": {
      "text/html": [
       "0.01"
      ],
      "text/latex": [
       "0.01"
      ],
      "text/markdown": [
       "0.01"
      ],
      "text/plain": [
       "[1] 0.01"
      ]
     },
     "metadata": {},
     "output_type": "display_data"
    }
   ],
   "source": [
    "ridge.mod$lambda[1] #value of 1st lambda\n",
    "ridge.mod$lambda[50] #value of 50th lambda\n",
    "ridge.mod$lambda[100] #value of 100th lambda"
   ]
  },
  {
   "cell_type": "code",
   "execution_count": 14,
   "metadata": {},
   "outputs": [
    {
     "data": {
      "text/html": [
       "<dl class=dl-horizontal>\n",
       "\t<dt>(Intercept)</dt>\n",
       "\t\t<dd>407.356050200416</dd>\n",
       "\t<dt>AtBat</dt>\n",
       "\t\t<dd>0.0369571817501359</dd>\n",
       "\t<dt>Hits</dt>\n",
       "\t\t<dd>0.138180343807892</dd>\n",
       "\t<dt>HmRun</dt>\n",
       "\t\t<dd>0.524629975886911</dd>\n",
       "\t<dt>Runs</dt>\n",
       "\t\t<dd>0.230701522621179</dd>\n",
       "\t<dt>RBI</dt>\n",
       "\t\t<dd>0.239841458504058</dd>\n",
       "\t<dt>Walks</dt>\n",
       "\t\t<dd>0.289618741049884</dd>\n",
       "\t<dt>Years</dt>\n",
       "\t\t<dd>1.10770292908555</dd>\n",
       "\t<dt>CAtBat</dt>\n",
       "\t\t<dd>0.00313181522151328</dd>\n",
       "\t<dt>CHits</dt>\n",
       "\t\t<dd>0.0116536373557531</dd>\n",
       "\t<dt>CHmRun</dt>\n",
       "\t\t<dd>0.0875456697555949</dd>\n",
       "\t<dt>CRuns</dt>\n",
       "\t\t<dd>0.0233798823693758</dd>\n",
       "\t<dt>CRBI</dt>\n",
       "\t\t<dd>0.0241383203685686</dd>\n",
       "\t<dt>CWalks</dt>\n",
       "\t\t<dd>0.0250154205993732</dd>\n",
       "\t<dt>LeagueN</dt>\n",
       "\t\t<dd>0.0850281135625444</dd>\n",
       "\t<dt>DivisionW</dt>\n",
       "\t\t<dd>-6.21544097273146</dd>\n",
       "\t<dt>PutOuts</dt>\n",
       "\t\t<dd>0.0164825767604547</dd>\n",
       "\t<dt>Assists</dt>\n",
       "\t\t<dd>0.00261298804528183</dd>\n",
       "\t<dt>Errors</dt>\n",
       "\t\t<dd>-0.0205026903654579</dd>\n",
       "\t<dt>NewLeagueN</dt>\n",
       "\t\t<dd>0.301433531372699</dd>\n",
       "</dl>\n"
      ],
      "text/latex": [
       "\\begin{description*}\n",
       "\\item[(Intercept)] 407.356050200416\n",
       "\\item[AtBat] 0.0369571817501359\n",
       "\\item[Hits] 0.138180343807892\n",
       "\\item[HmRun] 0.524629975886911\n",
       "\\item[Runs] 0.230701522621179\n",
       "\\item[RBI] 0.239841458504058\n",
       "\\item[Walks] 0.289618741049884\n",
       "\\item[Years] 1.10770292908555\n",
       "\\item[CAtBat] 0.00313181522151328\n",
       "\\item[CHits] 0.0116536373557531\n",
       "\\item[CHmRun] 0.0875456697555949\n",
       "\\item[CRuns] 0.0233798823693758\n",
       "\\item[CRBI] 0.0241383203685686\n",
       "\\item[CWalks] 0.0250154205993732\n",
       "\\item[LeagueN] 0.0850281135625444\n",
       "\\item[DivisionW] -6.21544097273146\n",
       "\\item[PutOuts] 0.0164825767604547\n",
       "\\item[Assists] 0.00261298804528183\n",
       "\\item[Errors] -0.0205026903654579\n",
       "\\item[NewLeagueN] 0.301433531372699\n",
       "\\end{description*}\n"
      ],
      "text/markdown": [
       "(Intercept)\n",
       ":   407.356050200416AtBat\n",
       ":   0.0369571817501359Hits\n",
       ":   0.138180343807892HmRun\n",
       ":   0.524629975886911Runs\n",
       ":   0.230701522621179RBI\n",
       ":   0.239841458504058Walks\n",
       ":   0.289618741049884Years\n",
       ":   1.10770292908555CAtBat\n",
       ":   0.00313181522151328CHits\n",
       ":   0.0116536373557531CHmRun\n",
       ":   0.0875456697555949CRuns\n",
       ":   0.0233798823693758CRBI\n",
       ":   0.0241383203685686CWalks\n",
       ":   0.0250154205993732LeagueN\n",
       ":   0.0850281135625444DivisionW\n",
       ":   -6.21544097273146PutOuts\n",
       ":   0.0164825767604547Assists\n",
       ":   0.00261298804528183Errors\n",
       ":   -0.0205026903654579NewLeagueN\n",
       ":   0.301433531372699\n",
       "\n"
      ],
      "text/plain": [
       "  (Intercept)         AtBat          Hits         HmRun          Runs \n",
       "407.356050200   0.036957182   0.138180344   0.524629976   0.230701523 \n",
       "          RBI         Walks         Years        CAtBat         CHits \n",
       "  0.239841459   0.289618741   1.107702929   0.003131815   0.011653637 \n",
       "       CHmRun         CRuns          CRBI        CWalks       LeagueN \n",
       "  0.087545670   0.023379882   0.024138320   0.025015421   0.085028114 \n",
       "    DivisionW       PutOuts       Assists        Errors    NewLeagueN \n",
       " -6.215440973   0.016482577   0.002612988  -0.020502690   0.301433531 "
      ]
     },
     "metadata": {},
     "output_type": "display_data"
    }
   ],
   "source": [
    "# coefficient at 50th lambda i.e. values of beta's in 50th column\n",
    "coef(ridge.mod)[,50]"
   ]
  },
  {
   "cell_type": "code",
   "execution_count": 15,
   "metadata": {},
   "outputs": [
    {
     "data": {
      "text/plain": [
       "10 x 9 sparse Matrix of class \"dgCMatrix\"\n",
       "                 s0          s29          s39          s49          s59\n",
       "       1.000000e+10 3.053856e+06 1.873817e+05 1.149757e+04 705.48023107\n",
       "AtBat  5.443467e-08 1.781013e-04 2.856183e-03 3.695718e-02   0.11211115\n",
       "Hits   1.974589e-07 6.460892e-04 1.038009e-02 1.381803e-01   0.65622409\n",
       "HmRun  7.956523e-07 2.602891e-03 4.166863e-02 5.246300e-01   1.17980910\n",
       "Runs   3.339178e-07 1.092488e-03 1.753936e-02 2.307015e-01   0.93769713\n",
       "RBI    3.527222e-07 1.153932e-03 1.850770e-02 2.398415e-01   0.84718546\n",
       "Walks  4.151323e-07 1.358217e-03 2.181794e-02 2.896187e-01   1.31987948\n",
       "Years  1.697711e-06 5.553840e-03 8.883504e-02 1.107703e+00   2.59640425\n",
       "CAtBat 4.673743e-09 1.528998e-05 2.449690e-04 3.131815e-03   0.01083413\n",
       "CHits  1.720071e-08 5.627140e-05 9.021725e-04 1.165364e-02   0.04674557\n",
       "               s69        s79        s89        s99\n",
       "       43.28761281  2.6560878  0.1629751  0.0100000\n",
       "AtBat  -0.41480601 -1.7526436 -1.9680069 -1.9738615\n",
       "Hits    2.10530493  6.1739859  7.2992751  7.3777227\n",
       "HmRun  -1.34828331  1.3285278  3.6592305  3.9366022\n",
       "Runs    1.13281252 -0.7689372 -2.0612924 -2.1987362\n",
       "RBI     0.79219405 -0.1297830 -0.8286657 -0.9162301\n",
       "Walks   2.83508432  5.5357165  6.1573465  6.2003772\n",
       "Years  -6.85814163 -9.2923000 -4.3482824 -3.7140342\n",
       "CAtBat  0.00438123 -0.0792321 -0.1650985 -0.1751006\n",
       "CHits   0.11187771  0.2132942  0.2171948  0.2113277"
      ]
     },
     "metadata": {},
     "output_type": "display_data"
    }
   ],
   "source": [
    "rbind(ridge.mod$lambda[c(1,30,40,50,60,70,80,90,100)], coef(ridge.mod)[2:10, c(1,30,40,50,60,70,80,90,100)])"
   ]
  },
  {
   "cell_type": "code",
   "execution_count": 16,
   "metadata": {},
   "outputs": [
    {
     "data": {
      "text/plain": [
       "20 x 1 sparse Matrix of class \"dgCMatrix\"\n",
       "                        1\n",
       "(Intercept)  4.876610e+01\n",
       "AtBat       -3.580999e-01\n",
       "Hits         1.969359e+00\n",
       "HmRun       -1.278248e+00\n",
       "Runs         1.145892e+00\n",
       "RBI          8.038292e-01\n",
       "Walks        2.716186e+00\n",
       "Years       -6.218319e+00\n",
       "CAtBat       5.447837e-03\n",
       "CHits        1.064895e-01\n",
       "CHmRun       6.244860e-01\n",
       "CRuns        2.214985e-01\n",
       "CRBI         2.186914e-01\n",
       "CWalks      -1.500245e-01\n",
       "LeagueN      4.592589e+01\n",
       "DivisionW   -1.182011e+02\n",
       "PutOuts      2.502322e-01\n",
       "Assists      1.215665e-01\n",
       "Errors      -3.278600e+00\n",
       "NewLeagueN  -9.496680e+00"
      ]
     },
     "metadata": {},
     "output_type": "display_data"
    }
   ],
   "source": [
    "# getting beta value at certain lambda\n",
    "# predict beta values of inbetween lambda value with basic co ordinate geometry\n",
    "ridge.pred<-predict(ridge.mod, s=50, type = \"coefficients\")\n",
    "ridge.pred"
   ]
  },
  {
   "cell_type": "markdown",
   "metadata": {},
   "source": [
    "## Dividing Data into Training and Testing"
   ]
  },
  {
   "cell_type": "markdown",
   "metadata": {},
   "source": [
    "Training - x[train], y[train]\n",
    "\n",
    "Prediction - y^\n",
    "\n",
    "error - x[test]\n",
    "\n",
    "y.text=y[test]"
   ]
  },
  {
   "cell_type": "code",
   "execution_count": 17,
   "metadata": {},
   "outputs": [
    {
     "data": {
      "text/html": [
       "<ol class=list-inline>\n",
       "\t<li>3</li>\n",
       "\t<li>4</li>\n",
       "\t<li>5</li>\n",
       "\t<li>7</li>\n",
       "\t<li>2</li>\n",
       "\t<li>8</li>\n",
       "\t<li>9</li>\n",
       "\t<li>6</li>\n",
       "\t<li>10</li>\n",
       "\t<li>1</li>\n",
       "</ol>\n"
      ],
      "text/latex": [
       "\\begin{enumerate*}\n",
       "\\item 3\n",
       "\\item 4\n",
       "\\item 5\n",
       "\\item 7\n",
       "\\item 2\n",
       "\\item 8\n",
       "\\item 9\n",
       "\\item 6\n",
       "\\item 10\n",
       "\\item 1\n",
       "\\end{enumerate*}\n"
      ],
      "text/markdown": [
       "1. 3\n",
       "2. 4\n",
       "3. 5\n",
       "4. 7\n",
       "5. 2\n",
       "6. 8\n",
       "7. 9\n",
       "8. 6\n",
       "9. 10\n",
       "10. 1\n",
       "\n",
       "\n"
      ],
      "text/plain": [
       " [1]  3  4  5  7  2  8  9  6 10  1"
      ]
     },
     "metadata": {},
     "output_type": "display_data"
    },
    {
     "data": {
      "text/html": [
       "<ol class=list-inline>\n",
       "\t<li>5</li>\n",
       "\t<li>4</li>\n",
       "\t<li>8</li>\n",
       "\t<li>1</li>\n",
       "</ol>\n"
      ],
      "text/latex": [
       "\\begin{enumerate*}\n",
       "\\item 5\n",
       "\\item 4\n",
       "\\item 8\n",
       "\\item 1\n",
       "\\end{enumerate*}\n"
      ],
      "text/markdown": [
       "1. 5\n",
       "2. 4\n",
       "3. 8\n",
       "4. 1\n",
       "\n",
       "\n"
      ],
      "text/plain": [
       "[1] 5 4 8 1"
      ]
     },
     "metadata": {},
     "output_type": "display_data"
    },
    {
     "data": {
      "text/html": [
       "<ol class=list-inline>\n",
       "\t<li>3</li>\n",
       "\t<li>7</li>\n",
       "\t<li>2</li>\n",
       "\t<li>9</li>\n",
       "\t<li>6</li>\n",
       "\t<li>10</li>\n",
       "</ol>\n"
      ],
      "text/latex": [
       "\\begin{enumerate*}\n",
       "\\item 3\n",
       "\\item 7\n",
       "\\item 2\n",
       "\\item 9\n",
       "\\item 6\n",
       "\\item 10\n",
       "\\end{enumerate*}\n"
      ],
      "text/markdown": [
       "1. 3\n",
       "2. 7\n",
       "3. 2\n",
       "4. 9\n",
       "5. 6\n",
       "6. 10\n",
       "\n",
       "\n"
      ],
      "text/plain": [
       "[1]  3  7  2  9  6 10"
      ]
     },
     "metadata": {},
     "output_type": "display_data"
    }
   ],
   "source": [
    "# Simple demonstration with numbers\n",
    "set.seed(1)\n",
    "\n",
    "temp<-sample(1:10)\n",
    "temp\n",
    "\n",
    "train <- sample(1:10, 4)\n",
    "#train\n",
    "temp[train]\n",
    "\n",
    "test = -train\n",
    "#test\n",
    "temp[test]\n",
    "\n"
   ]
  },
  {
   "cell_type": "code",
   "execution_count": 18,
   "metadata": {},
   "outputs": [],
   "source": [
    "#if we set seed it generates sequence. next seq is genereated frm previous set n so on\n",
    "set.seed(1)\n",
    "#sample: it divides data into test and train data\n",
    "\n",
    "#train\n",
    "train<-sample(1:nrow(x), nrow(x)/2)\n",
    "test<- -train\n",
    "\n",
    "# x[train,]\n",
    "# y[train] # vector\n",
    "# x[test,]\n",
    "# y[test]"
   ]
  },
  {
   "cell_type": "code",
   "execution_count": 19,
   "metadata": {},
   "outputs": [
    {
     "data": {
      "image/png": "[encoded data removed]",
      "text/plain": [
       "plot without title"
      ]
     },
     "metadata": {},
     "output_type": "display_data"
    }
   ],
   "source": [
    "#new model on trainig data\n",
    "ridge.mod2<- glmnet(x[train,],y[train], alpha = 0, lambda= grid)\n",
    "plot(ridge.mod2)"
   ]
  },
  {
   "cell_type": "code",
   "execution_count": 20,
   "metadata": {},
   "outputs": [
    {
     "data": {
      "text/html": [
       "101186.29561569"
      ],
      "text/latex": [
       "101186.29561569"
      ],
      "text/markdown": [
       "101186.29561569"
      ],
      "text/plain": [
       "[1] 101186.3"
      ]
     },
     "metadata": {},
     "output_type": "display_data"
    },
    {
     "data": {
      "text/html": [
       "193253.05679545"
      ],
      "text/latex": [
       "193253.05679545"
      ],
      "text/markdown": [
       "193253.05679545"
      ],
      "text/plain": [
       "[1] 193253.1"
      ]
     },
     "metadata": {},
     "output_type": "display_data"
    },
    {
     "data": {
      "text/html": [
       "115816.071023997"
      ],
      "text/latex": [
       "115816.071023997"
      ],
      "text/markdown": [
       "115816.071023997"
      ],
      "text/plain": [
       "[1] 115816.1"
      ]
     },
     "metadata": {},
     "output_type": "display_data"
    }
   ],
   "source": [
    "#predict: gives y hat - s=4\n",
    "ridge.pred<- predict(ridge.mod2, s=4,newx = x[test,])\n",
    "#error\n",
    "RSS<- mean((ridge.pred-y[test])^2)\n",
    "RSS\n",
    "\n",
    "#s=1e10 i.e. 10^10\n",
    "ridge.pred<- predict(ridge.mod2, s=1e10,newx = x[test,])\n",
    "#error\n",
    "RSS1<-mean((ridge.pred-y[test])^2)\n",
    "RSS1\n",
    "\n",
    "#s=0\n",
    "ridge.pred<- predict(ridge.mod2, s=0,newx = x[test,])\n",
    "#error\n",
    "RSS3<-mean((ridge.pred-y[test])^2)\n",
    "RSS3"
   ]
  },
  {
   "cell_type": "markdown",
   "metadata": {},
   "source": [
    "## Using cross validation to find best model - Ridge"
   ]
  },
  {
   "cell_type": "code",
   "execution_count": 21,
   "metadata": {},
   "outputs": [
    {
     "data": {
      "text/html": [
       "231.012970008316"
      ],
      "text/latex": [
       "231.012970008316"
      ],
      "text/markdown": [
       "231.012970008316"
      ],
      "text/plain": [
       "[1] 231.013"
      ]
     },
     "metadata": {},
     "output_type": "display_data"
    },
    {
     "data": {
      "image/png": "[encoded data removed]",
      "text/plain": [
       "plot without title"
      ]
     },
     "metadata": {},
     "output_type": "display_data"
    }
   ],
   "source": [
    "# Finding best lambda using Cross Validation\n",
    "set.seed(1)\n",
    "#for cross validation here if we dont give lambda value r will take itself value\n",
    "cv.out.ridge <-cv.glmnet(x[train,],y[train], alpha= 0, lambda = grid)\n",
    "plot(cv.out.ridge)\n",
    "\n",
    "bestlambda <- cv.out.ridge$lambda.min\n",
    "bestlambda"
   ]
  },
  {
   "cell_type": "code",
   "execution_count": 22,
   "metadata": {},
   "outputs": [
    {
     "data": {
      "text/html": [
       "96010.4266331397"
      ],
      "text/latex": [
       "96010.4266331397"
      ],
      "text/markdown": [
       "96010.4266331397"
      ],
      "text/plain": [
       "[1] 96010.43"
      ]
     },
     "metadata": {},
     "output_type": "display_data"
    }
   ],
   "source": [
    "# predict best model using best lambda\n",
    "ridge.pred<- predict(ridge.mod2, s= bestlambda, newx = x[test,])\n",
    "RSS4<-mean((ridge.pred-y[test])^2)\n",
    "RSS4\n",
    "#error is less so best model for best lambda value"
   ]
  },
  {
   "cell_type": "markdown",
   "metadata": {},
   "source": [
    "## Lasso regression"
   ]
  },
  {
   "cell_type": "code",
   "execution_count": 23,
   "metadata": {},
   "outputs": [
    {
     "data": {
      "image/png": "[encoded data removed]",
      "text/plain": [
       "plot without title"
      ]
     },
     "metadata": {},
     "output_type": "display_data"
    }
   ],
   "source": [
    "#new model on trainig data\n",
    "lasso.mod <- glmnet(x[train,],y[train], alpha = 1, lambda= grid)\n",
    "plot(lasso.mod)"
   ]
  },
  {
   "cell_type": "code",
   "execution_count": 29,
   "metadata": {},
   "outputs": [
    {
     "data": {
      "text/html": [
       "95001.37877815"
      ],
      "text/latex": [
       "95001.37877815"
      ],
      "text/markdown": [
       "95001.37877815"
      ],
      "text/plain": [
       "[1] 95001.38"
      ]
     },
     "metadata": {},
     "output_type": "display_data"
    },
    {
     "data": {
      "text/html": [
       "193253.113067991"
      ],
      "text/latex": [
       "193253.113067991"
      ],
      "text/markdown": [
       "193253.113067991"
      ],
      "text/plain": [
       "[1] 193253.1"
      ]
     },
     "metadata": {},
     "output_type": "display_data"
    },
    {
     "data": {
      "text/html": [
       "100183.567316902"
      ],
      "text/latex": [
       "100183.567316902"
      ],
      "text/markdown": [
       "100183.567316902"
      ],
      "text/plain": [
       "[1] 100183.6"
      ]
     },
     "metadata": {},
     "output_type": "display_data"
    }
   ],
   "source": [
    "#predict: gives y hat - s=4\n",
    "lasso.pred<- predict(lasso.mod, s=4,newx = x[test,])\n",
    "#error\n",
    "RSS<- mean((lasso.pred-y[test])^2)\n",
    "RSS\n",
    "\n",
    "#s=1e10 i.e. 10^10\n",
    "lasso.pred<- predict(lasso.mod, s=1e10,newx = x[test,])\n",
    "#error\n",
    "RSS1<-mean((lasso.pred-y[test])^2)\n",
    "RSS1\n",
    "\n",
    "#s=0\n",
    "lasso.pred<- predict(lasso.mod, s=10,newx = x[test,])\n",
    "#error\n",
    "RSS3<-mean((lasso.pred-y[test])^2)\n",
    "RSS3"
   ]
  },
  {
   "cell_type": "markdown",
   "metadata": {},
   "source": [
    "## Using cross validation to find best model - Lasso"
   ]
  },
  {
   "cell_type": "code",
   "execution_count": 25,
   "metadata": {},
   "outputs": [
    {
     "data": {
      "text/html": [
       "18.7381742286039"
      ],
      "text/latex": [
       "18.7381742286039"
      ],
      "text/markdown": [
       "18.7381742286039"
      ],
      "text/plain": [
       "[1] 18.73817"
      ]
     },
     "metadata": {},
     "output_type": "display_data"
    },
    {
     "data": {
      "image/png": "[encoded data removed]",
      "text/plain": [
       "plot without title"
      ]
     },
     "metadata": {},
     "output_type": "display_data"
    }
   ],
   "source": [
    "# Finding best lambda using Cross Validation\n",
    "set.seed(1)\n",
    "cv.out.lasso<- cv.glmnet(x[train,],y[train], alpha= 1, lambda = grid)\n",
    "plot(cv.out.lasso)\n",
    "\n",
    "bestlambda<- cv.out.lasso$lambda.min\n",
    "bestlambda"
   ]
  },
  {
   "cell_type": "code",
   "execution_count": 26,
   "metadata": {},
   "outputs": [
    {
     "data": {
      "text/html": [
       "100862.516721746"
      ],
      "text/latex": [
       "100862.516721746"
      ],
      "text/markdown": [
       "100862.516721746"
      ],
      "text/plain": [
       "[1] 100862.5"
      ]
     },
     "metadata": {},
     "output_type": "display_data"
    }
   ],
   "source": [
    "# predict best model using best lambda\n",
    "cv.out.lasso<-cv.glmnet(x[train,],y[train], alpha= 1, lambda = grid)\n",
    "lasso.pred<-predict(cv.out.lasso , s=bestlambda, newx=x[test,])\n",
    "RSS4<- mean((lasso.pred-y[test])^2)\n",
    "RSS4\n",
    "#error is less so best model for best lambda value"
   ]
  },
  {
   "cell_type": "markdown",
   "metadata": {},
   "source": [
    "## Looking for features which are having non-zero coefficent"
   ]
  },
  {
   "cell_type": "code",
   "execution_count": 27,
   "metadata": {},
   "outputs": [
    {
     "data": {
      "text/plain": [
       "\n",
       "FALSE  TRUE \n",
       "   13     7 "
      ]
     },
     "metadata": {},
     "output_type": "display_data"
    },
    {
     "data": {
      "text/html": [
       "<dl class=dl-horizontal>\n",
       "\t<dt>(Intercept)</dt>\n",
       "\t\t<dd>24.6392478148452</dd>\n",
       "\t<dt>Hits</dt>\n",
       "\t\t<dd>1.84994298868242</dd>\n",
       "\t<dt>Walks</dt>\n",
       "\t\t<dd>2.19610053486717</dd>\n",
       "\t<dt>CRuns</dt>\n",
       "\t\t<dd>0.205850377068254</dd>\n",
       "\t<dt>CRBI</dt>\n",
       "\t\t<dd>0.409592413876792</dd>\n",
       "\t<dt>DivisionW</dt>\n",
       "\t\t<dd>-99.9736533886889</dd>\n",
       "\t<dt>PutOuts</dt>\n",
       "\t\t<dd>0.215890155792955</dd>\n",
       "</dl>\n"
      ],
      "text/latex": [
       "\\begin{description*}\n",
       "\\item[(Intercept)] 24.6392478148452\n",
       "\\item[Hits] 1.84994298868242\n",
       "\\item[Walks] 2.19610053486717\n",
       "\\item[CRuns] 0.205850377068254\n",
       "\\item[CRBI] 0.409592413876792\n",
       "\\item[DivisionW] -99.9736533886889\n",
       "\\item[PutOuts] 0.215890155792955\n",
       "\\end{description*}\n"
      ],
      "text/markdown": [
       "(Intercept)\n",
       ":   24.6392478148452Hits\n",
       ":   1.84994298868242Walks\n",
       ":   2.19610053486717CRuns\n",
       ":   0.205850377068254CRBI\n",
       ":   0.409592413876792DivisionW\n",
       ":   -99.9736533886889PutOuts\n",
       ":   0.215890155792955\n",
       "\n"
      ],
      "text/plain": [
       "(Intercept)        Hits       Walks       CRuns        CRBI   DivisionW \n",
       " 24.6392478   1.8499430   2.1961005   0.2058504   0.4095924 -99.9736534 \n",
       "    PutOuts \n",
       "  0.2158902 "
      ]
     },
     "metadata": {},
     "output_type": "display_data"
    }
   ],
   "source": [
    "lasso.out<-glmnet(x,y, alpha=1,lambda= grid)\n",
    "lasso.coeff<- predict(lasso.out, type=\"coefficient\", s= bestlambda)[1:20,]\n",
    "#some values is equal to 0 in lasso\n",
    "table(lasso.coeff!=0)\n",
    "lasso.coeff[lasso.coeff!=0]"
   ]
  },
  {
   "cell_type": "code",
   "execution_count": 28,
   "metadata": {},
   "outputs": [],
   "source": [
    "# Lasso bestlambda is not giving the lowest value of error\n",
    "\n",
    "# bestlambda = 100862.516721746\n",
    "# s=4        = 95001.37877815\n",
    "# s=10^10    = 193253.113067991\n",
    "# s=10       = 100183.567316902"
   ]
  },
  {
   "cell_type": "code",
   "execution_count": null,
   "metadata": {},
   "outputs": [],
   "source": []
  }
 ],
 "metadata": {
  "kernelspec": {
   "display_name": "R",
   "language": "R",
   "name": "ir"
  },
  "language_info": {
   "codemirror_mode": "r",
   "file_extension": ".r",
   "mimetype": "text/x-r-source",
   "name": "R",
   "pygments_lexer": "r",
   "version": "3.5.1"
  }
 },
 "nbformat": 4,
 "nbformat_minor": 2
}
