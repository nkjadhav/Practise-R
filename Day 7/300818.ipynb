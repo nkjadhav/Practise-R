{
 "cells": [
  {
   "cell_type": "markdown",
   "metadata": {},
   "source": [
    "## Initializing library and data"
   ]
  },
  {
   "cell_type": "code",
   "execution_count": 1,
   "metadata": {},
   "outputs": [
    {
     "name": "stderr",
     "output_type": "stream",
     "text": [
      "Loading required package: Matrix\n",
      "Loading required package: foreach\n",
      "Loaded glmnet 2.0-16\n",
      "\n"
     ]
    }
   ],
   "source": [
    "library(glmnet)\n",
    "library(MASS)\n",
    "library(ISLR)"
   ]
  },
  {
   "cell_type": "code",
   "execution_count": 2,
   "metadata": {},
   "outputs": [],
   "source": [
    "data(\"Hitters\") # Load dataset Hitters"
   ]
  },
  {
   "cell_type": "code",
   "execution_count": 3,
   "metadata": {},
   "outputs": [],
   "source": [
    "Hitters1=data.frame(Hitters)"
   ]
  },
  {
   "cell_type": "code",
   "execution_count": 4,
   "metadata": {},
   "outputs": [
    {
     "data": {
      "text/html": [
       "<table>\n",
       "<thead><tr><th></th><th scope=col>AtBat</th><th scope=col>Hits</th><th scope=col>HmRun</th><th scope=col>Runs</th><th scope=col>RBI</th><th scope=col>Walks</th><th scope=col>Years</th><th scope=col>CAtBat</th><th scope=col>CHits</th><th scope=col>CHmRun</th><th scope=col>CRuns</th><th scope=col>CRBI</th><th scope=col>CWalks</th><th scope=col>League</th><th scope=col>Division</th><th scope=col>PutOuts</th><th scope=col>Assists</th><th scope=col>Errors</th><th scope=col>Salary</th><th scope=col>NewLeague</th></tr></thead>\n",
       "<tbody>\n",
       "\t<tr><th scope=row>-Andy Allanson</th><td>293  </td><td> 66  </td><td> 1   </td><td>30   </td><td>29   </td><td>14   </td><td> 1   </td><td> 293 </td><td>  66 </td><td>  1  </td><td> 30  </td><td> 29  </td><td> 14  </td><td>A    </td><td>E    </td><td>446  </td><td> 33  </td><td>20   </td><td>   NA</td><td>A    </td></tr>\n",
       "\t<tr><th scope=row>-Alan Ashby</th><td>315  </td><td> 81  </td><td> 7   </td><td>24   </td><td>38   </td><td>39   </td><td>14   </td><td>3449 </td><td> 835 </td><td> 69  </td><td>321  </td><td>414  </td><td>375  </td><td>N    </td><td>W    </td><td>632  </td><td> 43  </td><td>10   </td><td>475.0</td><td>N    </td></tr>\n",
       "\t<tr><th scope=row>-Alvin Davis</th><td>479  </td><td>130  </td><td>18   </td><td>66   </td><td>72   </td><td>76   </td><td> 3   </td><td>1624 </td><td> 457 </td><td> 63  </td><td>224  </td><td>266  </td><td>263  </td><td>A    </td><td>W    </td><td>880  </td><td> 82  </td><td>14   </td><td>480.0</td><td>A    </td></tr>\n",
       "\t<tr><th scope=row>-Andre Dawson</th><td>496  </td><td>141  </td><td>20   </td><td>65   </td><td>78   </td><td>37   </td><td>11   </td><td>5628 </td><td>1575 </td><td>225  </td><td>828  </td><td>838  </td><td>354  </td><td>N    </td><td>E    </td><td>200  </td><td> 11  </td><td> 3   </td><td>500.0</td><td>N    </td></tr>\n",
       "\t<tr><th scope=row>-Andres Galarraga</th><td>321  </td><td> 87  </td><td>10   </td><td>39   </td><td>42   </td><td>30   </td><td> 2   </td><td> 396 </td><td> 101 </td><td> 12  </td><td> 48  </td><td> 46  </td><td> 33  </td><td>N    </td><td>E    </td><td>805  </td><td> 40  </td><td> 4   </td><td> 91.5</td><td>N    </td></tr>\n",
       "\t<tr><th scope=row>-Alfredo Griffin</th><td>594  </td><td>169  </td><td> 4   </td><td>74   </td><td>51   </td><td>35   </td><td>11   </td><td>4408 </td><td>1133 </td><td> 19  </td><td>501  </td><td>336  </td><td>194  </td><td>A    </td><td>W    </td><td>282  </td><td>421  </td><td>25   </td><td>750.0</td><td>A    </td></tr>\n",
       "</tbody>\n",
       "</table>\n"
      ],
      "text/latex": [
       "\\begin{tabular}{r|llllllllllllllllllll}\n",
       "  & AtBat & Hits & HmRun & Runs & RBI & Walks & Years & CAtBat & CHits & CHmRun & CRuns & CRBI & CWalks & League & Division & PutOuts & Assists & Errors & Salary & NewLeague\\\\\n",
       "\\hline\n",
       "\t-Andy Allanson & 293   &  66   &  1    & 30    & 29    & 14    &  1    &  293  &   66  &   1   &  30   &  29   &  14   & A     & E     & 446   &  33   & 20    &    NA & A    \\\\\n",
       "\t-Alan Ashby & 315   &  81   &  7    & 24    & 38    & 39    & 14    & 3449  &  835  &  69   & 321   & 414   & 375   & N     & W     & 632   &  43   & 10    & 475.0 & N    \\\\\n",
       "\t-Alvin Davis & 479   & 130   & 18    & 66    & 72    & 76    &  3    & 1624  &  457  &  63   & 224   & 266   & 263   & A     & W     & 880   &  82   & 14    & 480.0 & A    \\\\\n",
       "\t-Andre Dawson & 496   & 141   & 20    & 65    & 78    & 37    & 11    & 5628  & 1575  & 225   & 828   & 838   & 354   & N     & E     & 200   &  11   &  3    & 500.0 & N    \\\\\n",
       "\t-Andres Galarraga & 321   &  87   & 10    & 39    & 42    & 30    &  2    &  396  &  101  &  12   &  48   &  46   &  33   & N     & E     & 805   &  40   &  4    &  91.5 & N    \\\\\n",
       "\t-Alfredo Griffin & 594   & 169   &  4    & 74    & 51    & 35    & 11    & 4408  & 1133  &  19   & 501   & 336   & 194   & A     & W     & 282   & 421   & 25    & 750.0 & A    \\\\\n",
       "\\end{tabular}\n"
      ],
      "text/markdown": [
       "\n",
       "| <!--/--> | AtBat | Hits | HmRun | Runs | RBI | Walks | Years | CAtBat | CHits | CHmRun | CRuns | CRBI | CWalks | League | Division | PutOuts | Assists | Errors | Salary | NewLeague | \n",
       "|---|---|---|---|---|---|\n",
       "| -Andy Allanson | 293   |  66   |  1    | 30    | 29    | 14    |  1    |  293  |   66  |   1   |  30   |  29   |  14   | A     | E     | 446   |  33   | 20    |    NA | A     | \n",
       "| -Alan Ashby | 315   |  81   |  7    | 24    | 38    | 39    | 14    | 3449  |  835  |  69   | 321   | 414   | 375   | N     | W     | 632   |  43   | 10    | 475.0 | N     | \n",
       "| -Alvin Davis | 479   | 130   | 18    | 66    | 72    | 76    |  3    | 1624  |  457  |  63   | 224   | 266   | 263   | A     | W     | 880   |  82   | 14    | 480.0 | A     | \n",
       "| -Andre Dawson | 496   | 141   | 20    | 65    | 78    | 37    | 11    | 5628  | 1575  | 225   | 828   | 838   | 354   | N     | E     | 200   |  11   |  3    | 500.0 | N     | \n",
       "| -Andres Galarraga | 321   |  87   | 10    | 39    | 42    | 30    |  2    |  396  |  101  |  12   |  48   |  46   |  33   | N     | E     | 805   |  40   |  4    |  91.5 | N     | \n",
       "| -Alfredo Griffin | 594   | 169   |  4    | 74    | 51    | 35    | 11    | 4408  | 1133  |  19   | 501   | 336   | 194   | A     | W     | 282   | 421   | 25    | 750.0 | A     | \n",
       "\n",
       "\n"
      ],
      "text/plain": [
       "                  AtBat Hits HmRun Runs RBI Walks Years CAtBat CHits CHmRun\n",
       "-Andy Allanson    293    66   1    30   29  14     1     293     66    1   \n",
       "-Alan Ashby       315    81   7    24   38  39    14    3449    835   69   \n",
       "-Alvin Davis      479   130  18    66   72  76     3    1624    457   63   \n",
       "-Andre Dawson     496   141  20    65   78  37    11    5628   1575  225   \n",
       "-Andres Galarraga 321    87  10    39   42  30     2     396    101   12   \n",
       "-Alfredo Griffin  594   169   4    74   51  35    11    4408   1133   19   \n",
       "                  CRuns CRBI CWalks League Division PutOuts Assists Errors\n",
       "-Andy Allanson     30    29   14    A      E        446      33     20    \n",
       "-Alan Ashby       321   414  375    N      W        632      43     10    \n",
       "-Alvin Davis      224   266  263    A      W        880      82     14    \n",
       "-Andre Dawson     828   838  354    N      E        200      11      3    \n",
       "-Andres Galarraga  48    46   33    N      E        805      40      4    \n",
       "-Alfredo Griffin  501   336  194    A      W        282     421     25    \n",
       "                  Salary NewLeague\n",
       "-Andy Allanson       NA  A        \n",
       "-Alan Ashby       475.0  N        \n",
       "-Alvin Davis      480.0  A        \n",
       "-Andre Dawson     500.0  N        \n",
       "-Andres Galarraga  91.5  N        \n",
       "-Alfredo Griffin  750.0  A        "
      ]
     },
     "metadata": {},
     "output_type": "display_data"
    }
   ],
   "source": [
    "head(Hitters1)"
   ]
  },
  {
   "cell_type": "code",
   "execution_count": 5,
   "metadata": {},
   "outputs": [
    {
     "name": "stdout",
     "output_type": "stream",
     "text": [
      "'data.frame':\t322 obs. of  20 variables:\n",
      " $ AtBat    : int  293 315 479 496 321 594 185 298 323 401 ...\n",
      " $ Hits     : int  66 81 130 141 87 169 37 73 81 92 ...\n",
      " $ HmRun    : int  1 7 18 20 10 4 1 0 6 17 ...\n",
      " $ Runs     : int  30 24 66 65 39 74 23 24 26 49 ...\n",
      " $ RBI      : int  29 38 72 78 42 51 8 24 32 66 ...\n",
      " $ Walks    : int  14 39 76 37 30 35 21 7 8 65 ...\n",
      " $ Years    : int  1 14 3 11 2 11 2 3 2 13 ...\n",
      " $ CAtBat   : int  293 3449 1624 5628 396 4408 214 509 341 5206 ...\n",
      " $ CHits    : int  66 835 457 1575 101 1133 42 108 86 1332 ...\n",
      " $ CHmRun   : int  1 69 63 225 12 19 1 0 6 253 ...\n",
      " $ CRuns    : int  30 321 224 828 48 501 30 41 32 784 ...\n",
      " $ CRBI     : int  29 414 266 838 46 336 9 37 34 890 ...\n",
      " $ CWalks   : int  14 375 263 354 33 194 24 12 8 866 ...\n",
      " $ League   : Factor w/ 2 levels \"A\",\"N\": 1 2 1 2 2 1 2 1 2 1 ...\n",
      " $ Division : Factor w/ 2 levels \"E\",\"W\": 1 2 2 1 1 2 1 2 2 1 ...\n",
      " $ PutOuts  : int  446 632 880 200 805 282 76 121 143 0 ...\n",
      " $ Assists  : int  33 43 82 11 40 421 127 283 290 0 ...\n",
      " $ Errors   : int  20 10 14 3 4 25 7 9 19 0 ...\n",
      " $ Salary   : num  NA 475 480 500 91.5 750 70 100 75 1100 ...\n",
      " $ NewLeague: Factor w/ 2 levels \"A\",\"N\": 1 2 1 2 2 1 1 1 2 1 ...\n"
     ]
    }
   ],
   "source": [
    "str(Hitters1)"
   ]
  },
  {
   "cell_type": "code",
   "execution_count": 6,
   "metadata": {},
   "outputs": [],
   "source": [
    "Hitters1=na.omit(Hitters1)"
   ]
  },
  {
   "cell_type": "markdown",
   "metadata": {},
   "source": [
    "## Data Preparation"
   ]
  },
  {
   "cell_type": "code",
   "execution_count": 7,
   "metadata": {},
   "outputs": [
    {
     "data": {
      "text/html": [
       "<table>\n",
       "<thead><tr><th></th><th scope=col>(Intercept)</th><th scope=col>AtBat</th><th scope=col>Hits</th><th scope=col>HmRun</th><th scope=col>Runs</th><th scope=col>RBI</th><th scope=col>Walks</th><th scope=col>Years</th><th scope=col>CAtBat</th><th scope=col>CHits</th><th scope=col>CHmRun</th><th scope=col>CRuns</th><th scope=col>CRBI</th><th scope=col>CWalks</th><th scope=col>LeagueN</th><th scope=col>DivisionW</th><th scope=col>PutOuts</th><th scope=col>Assists</th><th scope=col>Errors</th><th scope=col>NewLeagueN</th></tr></thead>\n",
       "<tbody>\n",
       "\t<tr><th scope=row>-Alan Ashby</th><td>1   </td><td>315 </td><td> 81 </td><td> 7  </td><td>24  </td><td>38  </td><td>39  </td><td>14  </td><td>3449</td><td> 835</td><td> 69 </td><td>321 </td><td>414 </td><td>375 </td><td>1   </td><td>1   </td><td>632 </td><td> 43 </td><td>10  </td><td>1   </td></tr>\n",
       "\t<tr><th scope=row>-Alvin Davis</th><td>1   </td><td>479 </td><td>130 </td><td>18  </td><td>66  </td><td>72  </td><td>76  </td><td> 3  </td><td>1624</td><td> 457</td><td> 63 </td><td>224 </td><td>266 </td><td>263 </td><td>0   </td><td>1   </td><td>880 </td><td> 82 </td><td>14  </td><td>0   </td></tr>\n",
       "\t<tr><th scope=row>-Andre Dawson</th><td>1   </td><td>496 </td><td>141 </td><td>20  </td><td>65  </td><td>78  </td><td>37  </td><td>11  </td><td>5628</td><td>1575</td><td>225 </td><td>828 </td><td>838 </td><td>354 </td><td>1   </td><td>0   </td><td>200 </td><td> 11 </td><td> 3  </td><td>1   </td></tr>\n",
       "\t<tr><th scope=row>-Andres Galarraga</th><td>1   </td><td>321 </td><td> 87 </td><td>10  </td><td>39  </td><td>42  </td><td>30  </td><td> 2  </td><td> 396</td><td> 101</td><td> 12 </td><td> 48 </td><td> 46 </td><td> 33 </td><td>1   </td><td>0   </td><td>805 </td><td> 40 </td><td> 4  </td><td>1   </td></tr>\n",
       "\t<tr><th scope=row>-Alfredo Griffin</th><td>1   </td><td>594 </td><td>169 </td><td> 4  </td><td>74  </td><td>51  </td><td>35  </td><td>11  </td><td>4408</td><td>1133</td><td> 19 </td><td>501 </td><td>336 </td><td>194 </td><td>0   </td><td>1   </td><td>282 </td><td>421 </td><td>25  </td><td>0   </td></tr>\n",
       "\t<tr><th scope=row>-Al Newman</th><td>1   </td><td>185 </td><td> 37 </td><td> 1  </td><td>23  </td><td> 8  </td><td>21  </td><td> 2  </td><td> 214</td><td>  42</td><td>  1 </td><td> 30 </td><td>  9 </td><td> 24 </td><td>1   </td><td>0   </td><td> 76 </td><td>127 </td><td> 7  </td><td>0   </td></tr>\n",
       "</tbody>\n",
       "</table>\n"
      ],
      "text/latex": [
       "\\begin{tabular}{r|llllllllllllllllllll}\n",
       "  & (Intercept) & AtBat & Hits & HmRun & Runs & RBI & Walks & Years & CAtBat & CHits & CHmRun & CRuns & CRBI & CWalks & LeagueN & DivisionW & PutOuts & Assists & Errors & NewLeagueN\\\\\n",
       "\\hline\n",
       "\t-Alan Ashby & 1    & 315  &  81  &  7   & 24   & 38   & 39   & 14   & 3449 &  835 &  69  & 321  & 414  & 375  & 1    & 1    & 632  &  43  & 10   & 1   \\\\\n",
       "\t-Alvin Davis & 1    & 479  & 130  & 18   & 66   & 72   & 76   &  3   & 1624 &  457 &  63  & 224  & 266  & 263  & 0    & 1    & 880  &  82  & 14   & 0   \\\\\n",
       "\t-Andre Dawson & 1    & 496  & 141  & 20   & 65   & 78   & 37   & 11   & 5628 & 1575 & 225  & 828  & 838  & 354  & 1    & 0    & 200  &  11  &  3   & 1   \\\\\n",
       "\t-Andres Galarraga & 1    & 321  &  87  & 10   & 39   & 42   & 30   &  2   &  396 &  101 &  12  &  48  &  46  &  33  & 1    & 0    & 805  &  40  &  4   & 1   \\\\\n",
       "\t-Alfredo Griffin & 1    & 594  & 169  &  4   & 74   & 51   & 35   & 11   & 4408 & 1133 &  19  & 501  & 336  & 194  & 0    & 1    & 282  & 421  & 25   & 0   \\\\\n",
       "\t-Al Newman & 1    & 185  &  37  &  1   & 23   &  8   & 21   &  2   &  214 &   42 &   1  &  30  &   9  &  24  & 1    & 0    &  76  & 127  &  7   & 0   \\\\\n",
       "\\end{tabular}\n"
      ],
      "text/markdown": [
       "\n",
       "| <!--/--> | (Intercept) | AtBat | Hits | HmRun | Runs | RBI | Walks | Years | CAtBat | CHits | CHmRun | CRuns | CRBI | CWalks | LeagueN | DivisionW | PutOuts | Assists | Errors | NewLeagueN | \n",
       "|---|---|---|---|---|---|\n",
       "| -Alan Ashby | 1    | 315  |  81  |  7   | 24   | 38   | 39   | 14   | 3449 |  835 |  69  | 321  | 414  | 375  | 1    | 1    | 632  |  43  | 10   | 1    | \n",
       "| -Alvin Davis | 1    | 479  | 130  | 18   | 66   | 72   | 76   |  3   | 1624 |  457 |  63  | 224  | 266  | 263  | 0    | 1    | 880  |  82  | 14   | 0    | \n",
       "| -Andre Dawson | 1    | 496  | 141  | 20   | 65   | 78   | 37   | 11   | 5628 | 1575 | 225  | 828  | 838  | 354  | 1    | 0    | 200  |  11  |  3   | 1    | \n",
       "| -Andres Galarraga | 1    | 321  |  87  | 10   | 39   | 42   | 30   |  2   |  396 |  101 |  12  |  48  |  46  |  33  | 1    | 0    | 805  |  40  |  4   | 1    | \n",
       "| -Alfredo Griffin | 1    | 594  | 169  |  4   | 74   | 51   | 35   | 11   | 4408 | 1133 |  19  | 501  | 336  | 194  | 0    | 1    | 282  | 421  | 25   | 0    | \n",
       "| -Al Newman | 1    | 185  |  37  |  1   | 23   |  8   | 21   |  2   |  214 |   42 |   1  |  30  |   9  |  24  | 1    | 0    |  76  | 127  |  7   | 0    | \n",
       "\n",
       "\n"
      ],
      "text/plain": [
       "                  (Intercept) AtBat Hits HmRun Runs RBI Walks Years CAtBat\n",
       "-Alan Ashby       1           315    81   7    24   38  39    14    3449  \n",
       "-Alvin Davis      1           479   130  18    66   72  76     3    1624  \n",
       "-Andre Dawson     1           496   141  20    65   78  37    11    5628  \n",
       "-Andres Galarraga 1           321    87  10    39   42  30     2     396  \n",
       "-Alfredo Griffin  1           594   169   4    74   51  35    11    4408  \n",
       "-Al Newman        1           185    37   1    23    8  21     2     214  \n",
       "                  CHits CHmRun CRuns CRBI CWalks LeagueN DivisionW PutOuts\n",
       "-Alan Ashby        835   69    321   414  375    1       1         632    \n",
       "-Alvin Davis       457   63    224   266  263    0       1         880    \n",
       "-Andre Dawson     1575  225    828   838  354    1       0         200    \n",
       "-Andres Galarraga  101   12     48    46   33    1       0         805    \n",
       "-Alfredo Griffin  1133   19    501   336  194    0       1         282    \n",
       "-Al Newman          42    1     30     9   24    1       0          76    \n",
       "                  Assists Errors NewLeagueN\n",
       "-Alan Ashby        43     10     1         \n",
       "-Alvin Davis       82     14     0         \n",
       "-Andre Dawson      11      3     1         \n",
       "-Andres Galarraga  40      4     1         \n",
       "-Alfredo Griffin  421     25     0         \n",
       "-Al Newman        127      7     0         "
      ]
     },
     "metadata": {},
     "output_type": "display_data"
    },
    {
     "data": {
      "text/html": [
       "<ol class=list-inline>\n",
       "\t<li>263</li>\n",
       "\t<li>20</li>\n",
       "</ol>\n"
      ],
      "text/latex": [
       "\\begin{enumerate*}\n",
       "\\item 263\n",
       "\\item 20\n",
       "\\end{enumerate*}\n"
      ],
      "text/markdown": [
       "1. 263\n",
       "2. 20\n",
       "\n",
       "\n"
      ],
      "text/plain": [
       "[1] 263  20"
      ]
     },
     "metadata": {},
     "output_type": "display_data"
    }
   ],
   "source": [
    "# Create a model matrix by expanding factors and interactions\n",
    "x=model.matrix(Salary~.,Hitters1) # prepares data matrix which is prepared for processing\n",
    "head(x) # LeagueN Division NewLeague - are changed to 1 & 0 which were factor\n",
    "dim(x)"
   ]
  },
  {
   "cell_type": "code",
   "execution_count": 8,
   "metadata": {},
   "outputs": [
    {
     "data": {
      "text/html": [
       "<table>\n",
       "<thead><tr><th></th><th scope=col>AtBat</th><th scope=col>Hits</th><th scope=col>HmRun</th><th scope=col>Runs</th><th scope=col>RBI</th><th scope=col>Walks</th><th scope=col>Years</th><th scope=col>CAtBat</th><th scope=col>CHits</th><th scope=col>CHmRun</th><th scope=col>CRuns</th><th scope=col>CRBI</th><th scope=col>CWalks</th><th scope=col>LeagueN</th><th scope=col>DivisionW</th><th scope=col>PutOuts</th><th scope=col>Assists</th><th scope=col>Errors</th><th scope=col>NewLeagueN</th></tr></thead>\n",
       "<tbody>\n",
       "\t<tr><th scope=row>-Alan Ashby</th><td>315 </td><td> 81 </td><td> 7  </td><td>24  </td><td>38  </td><td>39  </td><td>14  </td><td>3449</td><td> 835</td><td> 69 </td><td>321 </td><td>414 </td><td>375 </td><td>1   </td><td>1   </td><td>632 </td><td> 43 </td><td>10  </td><td>1   </td></tr>\n",
       "\t<tr><th scope=row>-Alvin Davis</th><td>479 </td><td>130 </td><td>18  </td><td>66  </td><td>72  </td><td>76  </td><td> 3  </td><td>1624</td><td> 457</td><td> 63 </td><td>224 </td><td>266 </td><td>263 </td><td>0   </td><td>1   </td><td>880 </td><td> 82 </td><td>14  </td><td>0   </td></tr>\n",
       "\t<tr><th scope=row>-Andre Dawson</th><td>496 </td><td>141 </td><td>20  </td><td>65  </td><td>78  </td><td>37  </td><td>11  </td><td>5628</td><td>1575</td><td>225 </td><td>828 </td><td>838 </td><td>354 </td><td>1   </td><td>0   </td><td>200 </td><td> 11 </td><td> 3  </td><td>1   </td></tr>\n",
       "\t<tr><th scope=row>-Andres Galarraga</th><td>321 </td><td> 87 </td><td>10  </td><td>39  </td><td>42  </td><td>30  </td><td> 2  </td><td> 396</td><td> 101</td><td> 12 </td><td> 48 </td><td> 46 </td><td> 33 </td><td>1   </td><td>0   </td><td>805 </td><td> 40 </td><td> 4  </td><td>1   </td></tr>\n",
       "\t<tr><th scope=row>-Alfredo Griffin</th><td>594 </td><td>169 </td><td> 4  </td><td>74  </td><td>51  </td><td>35  </td><td>11  </td><td>4408</td><td>1133</td><td> 19 </td><td>501 </td><td>336 </td><td>194 </td><td>0   </td><td>1   </td><td>282 </td><td>421 </td><td>25  </td><td>0   </td></tr>\n",
       "\t<tr><th scope=row>-Al Newman</th><td>185 </td><td> 37 </td><td> 1  </td><td>23  </td><td> 8  </td><td>21  </td><td> 2  </td><td> 214</td><td>  42</td><td>  1 </td><td> 30 </td><td>  9 </td><td> 24 </td><td>1   </td><td>0   </td><td> 76 </td><td>127 </td><td> 7  </td><td>0   </td></tr>\n",
       "</tbody>\n",
       "</table>\n"
      ],
      "text/latex": [
       "\\begin{tabular}{r|lllllllllllllllllll}\n",
       "  & AtBat & Hits & HmRun & Runs & RBI & Walks & Years & CAtBat & CHits & CHmRun & CRuns & CRBI & CWalks & LeagueN & DivisionW & PutOuts & Assists & Errors & NewLeagueN\\\\\n",
       "\\hline\n",
       "\t-Alan Ashby & 315  &  81  &  7   & 24   & 38   & 39   & 14   & 3449 &  835 &  69  & 321  & 414  & 375  & 1    & 1    & 632  &  43  & 10   & 1   \\\\\n",
       "\t-Alvin Davis & 479  & 130  & 18   & 66   & 72   & 76   &  3   & 1624 &  457 &  63  & 224  & 266  & 263  & 0    & 1    & 880  &  82  & 14   & 0   \\\\\n",
       "\t-Andre Dawson & 496  & 141  & 20   & 65   & 78   & 37   & 11   & 5628 & 1575 & 225  & 828  & 838  & 354  & 1    & 0    & 200  &  11  &  3   & 1   \\\\\n",
       "\t-Andres Galarraga & 321  &  87  & 10   & 39   & 42   & 30   &  2   &  396 &  101 &  12  &  48  &  46  &  33  & 1    & 0    & 805  &  40  &  4   & 1   \\\\\n",
       "\t-Alfredo Griffin & 594  & 169  &  4   & 74   & 51   & 35   & 11   & 4408 & 1133 &  19  & 501  & 336  & 194  & 0    & 1    & 282  & 421  & 25   & 0   \\\\\n",
       "\t-Al Newman & 185  &  37  &  1   & 23   &  8   & 21   &  2   &  214 &   42 &   1  &  30  &   9  &  24  & 1    & 0    &  76  & 127  &  7   & 0   \\\\\n",
       "\\end{tabular}\n"
      ],
      "text/markdown": [
       "\n",
       "| <!--/--> | AtBat | Hits | HmRun | Runs | RBI | Walks | Years | CAtBat | CHits | CHmRun | CRuns | CRBI | CWalks | LeagueN | DivisionW | PutOuts | Assists | Errors | NewLeagueN | \n",
       "|---|---|---|---|---|---|\n",
       "| -Alan Ashby | 315  |  81  |  7   | 24   | 38   | 39   | 14   | 3449 |  835 |  69  | 321  | 414  | 375  | 1    | 1    | 632  |  43  | 10   | 1    | \n",
       "| -Alvin Davis | 479  | 130  | 18   | 66   | 72   | 76   |  3   | 1624 |  457 |  63  | 224  | 266  | 263  | 0    | 1    | 880  |  82  | 14   | 0    | \n",
       "| -Andre Dawson | 496  | 141  | 20   | 65   | 78   | 37   | 11   | 5628 | 1575 | 225  | 828  | 838  | 354  | 1    | 0    | 200  |  11  |  3   | 1    | \n",
       "| -Andres Galarraga | 321  |  87  | 10   | 39   | 42   | 30   |  2   |  396 |  101 |  12  |  48  |  46  |  33  | 1    | 0    | 805  |  40  |  4   | 1    | \n",
       "| -Alfredo Griffin | 594  | 169  |  4   | 74   | 51   | 35   | 11   | 4408 | 1133 |  19  | 501  | 336  | 194  | 0    | 1    | 282  | 421  | 25   | 0    | \n",
       "| -Al Newman | 185  |  37  |  1   | 23   |  8   | 21   |  2   |  214 |   42 |   1  |  30  |   9  |  24  | 1    | 0    |  76  | 127  |  7   | 0    | \n",
       "\n",
       "\n"
      ],
      "text/plain": [
       "                  AtBat Hits HmRun Runs RBI Walks Years CAtBat CHits CHmRun\n",
       "-Alan Ashby       315    81   7    24   38  39    14    3449    835   69   \n",
       "-Alvin Davis      479   130  18    66   72  76     3    1624    457   63   \n",
       "-Andre Dawson     496   141  20    65   78  37    11    5628   1575  225   \n",
       "-Andres Galarraga 321    87  10    39   42  30     2     396    101   12   \n",
       "-Alfredo Griffin  594   169   4    74   51  35    11    4408   1133   19   \n",
       "-Al Newman        185    37   1    23    8  21     2     214     42    1   \n",
       "                  CRuns CRBI CWalks LeagueN DivisionW PutOuts Assists Errors\n",
       "-Alan Ashby       321   414  375    1       1         632      43     10    \n",
       "-Alvin Davis      224   266  263    0       1         880      82     14    \n",
       "-Andre Dawson     828   838  354    1       0         200      11      3    \n",
       "-Andres Galarraga  48    46   33    1       0         805      40      4    \n",
       "-Alfredo Griffin  501   336  194    0       1         282     421     25    \n",
       "-Al Newman         30     9   24    1       0          76     127      7    \n",
       "                  NewLeagueN\n",
       "-Alan Ashby       1         \n",
       "-Alvin Davis      0         \n",
       "-Andre Dawson     1         \n",
       "-Andres Galarraga 1         \n",
       "-Alfredo Griffin  0         \n",
       "-Al Newman        0         "
      ]
     },
     "metadata": {},
     "output_type": "display_data"
    },
    {
     "data": {
      "text/html": [
       "<ol class=list-inline>\n",
       "\t<li>263</li>\n",
       "\t<li>19</li>\n",
       "</ol>\n"
      ],
      "text/latex": [
       "\\begin{enumerate*}\n",
       "\\item 263\n",
       "\\item 19\n",
       "\\end{enumerate*}\n"
      ],
      "text/markdown": [
       "1. 263\n",
       "2. 19\n",
       "\n",
       "\n"
      ],
      "text/plain": [
       "[1] 263  19"
      ]
     },
     "metadata": {},
     "output_type": "display_data"
    }
   ],
   "source": [
    "x=x[,-1] # Remove intercept column, do not run this cell more than once\n",
    "head(x)\n",
    "dim(x)"
   ]
  },
  {
   "cell_type": "code",
   "execution_count": 9,
   "metadata": {},
   "outputs": [
    {
     "data": {
      "text/html": [
       "<ol class=list-inline>\n",
       "\t<li>475</li>\n",
       "\t<li>480</li>\n",
       "\t<li>500</li>\n",
       "\t<li>91.5</li>\n",
       "\t<li>750</li>\n",
       "\t<li>70</li>\n",
       "</ol>\n"
      ],
      "text/latex": [
       "\\begin{enumerate*}\n",
       "\\item 475\n",
       "\\item 480\n",
       "\\item 500\n",
       "\\item 91.5\n",
       "\\item 750\n",
       "\\item 70\n",
       "\\end{enumerate*}\n"
      ],
      "text/markdown": [
       "1. 475\n",
       "2. 480\n",
       "3. 500\n",
       "4. 91.5\n",
       "5. 750\n",
       "6. 70\n",
       "\n",
       "\n"
      ],
      "text/plain": [
       "[1] 475.0 480.0 500.0  91.5 750.0  70.0"
      ]
     },
     "metadata": {},
     "output_type": "display_data"
    }
   ],
   "source": [
    "y=(Hitters1$Salary) # A vetor of salary\n",
    "head(y)"
   ]
  },
  {
   "cell_type": "code",
   "execution_count": 10,
   "metadata": {},
   "outputs": [
    {
     "data": {
      "text/html": [
       "<ol class=list-inline>\n",
       "\t<li>1e+10</li>\n",
       "\t<li>7564633275.54629</li>\n",
       "\t<li>5722367659.35022</li>\n",
       "\t<li>4328761281.08306</li>\n",
       "\t<li>3274549162.87773</li>\n",
       "\t<li>2477076355.99171</li>\n",
       "\t<li>1873817422.86039</li>\n",
       "\t<li>1417474162.92681</li>\n",
       "\t<li>1072267222.01033</li>\n",
       "\t<li>811130830.789689</li>\n",
       "\t<li>613590727.341316</li>\n",
       "\t<li>464158883.361277</li>\n",
       "\t<li>351119173.421513</li>\n",
       "\t<li>265608778.294668</li>\n",
       "\t<li>200923300.256505</li>\n",
       "\t<li>151991108.295293</li>\n",
       "\t<li>114975699.539774</li>\n",
       "\t<li>86974900.2617783</li>\n",
       "\t<li>65793322.4657568</li>\n",
       "\t<li>49770235.6433211</li>\n",
       "\t<li>37649358.0679247</li>\n",
       "\t<li>28480358.684358</li>\n",
       "\t<li>21544346.9003188</li>\n",
       "\t<li>16297508.3462064</li>\n",
       "\t<li>12328467.3944207</li>\n",
       "\t<li>9326033.4688322</li>\n",
       "\t<li>7054802.31071865</li>\n",
       "\t<li>5336699.2312063</li>\n",
       "\t<li>4037017.25859655</li>\n",
       "\t<li>3053855.50883341</li>\n",
       "\t<li>2310129.70008316</li>\n",
       "\t<li>1747528.40000768</li>\n",
       "\t<li>1321941.14846603</li>\n",
       "\t<li>1e+06</li>\n",
       "\t<li>756463.327554629</li>\n",
       "\t<li>572236.765935022</li>\n",
       "\t<li>432876.128108306</li>\n",
       "\t<li>327454.916287772</li>\n",
       "\t<li>247707.635599171</li>\n",
       "\t<li>187381.742286038</li>\n",
       "\t<li>141747.41629268</li>\n",
       "\t<li>107226.722201032</li>\n",
       "\t<li>81113.0830789687</li>\n",
       "\t<li>61359.0727341318</li>\n",
       "\t<li>46415.8883361277</li>\n",
       "\t<li>35111.9173421513</li>\n",
       "\t<li>26560.8778294668</li>\n",
       "\t<li>20092.3300256505</li>\n",
       "\t<li>15199.1108295293</li>\n",
       "\t<li>11497.5699539774</li>\n",
       "\t<li>8697.49002617783</li>\n",
       "\t<li>6579.33224657568</li>\n",
       "\t<li>4977.02356433211</li>\n",
       "\t<li>3764.93580679246</li>\n",
       "\t<li>2848.0358684358</li>\n",
       "\t<li>2154.43469003188</li>\n",
       "\t<li>1629.75083462064</li>\n",
       "\t<li>1232.84673944207</li>\n",
       "\t<li>932.60334688322</li>\n",
       "\t<li>705.480231071865</li>\n",
       "\t<li>533.66992312063</li>\n",
       "\t<li>403.701725859655</li>\n",
       "\t<li>305.385550883341</li>\n",
       "\t<li>231.012970008316</li>\n",
       "\t<li>174.752840000768</li>\n",
       "\t<li>132.194114846603</li>\n",
       "\t<li>100</li>\n",
       "\t<li>75.6463327554629</li>\n",
       "\t<li>57.2236765935022</li>\n",
       "\t<li>43.2876128108306</li>\n",
       "\t<li>32.7454916287773</li>\n",
       "\t<li>24.7707635599171</li>\n",
       "\t<li>18.7381742286039</li>\n",
       "\t<li>14.174741629268</li>\n",
       "\t<li>10.7226722201032</li>\n",
       "\t<li>8.11130830789686</li>\n",
       "\t<li>6.13590727341316</li>\n",
       "\t<li>4.64158883361277</li>\n",
       "\t<li>3.51119173421513</li>\n",
       "\t<li>2.65608778294668</li>\n",
       "\t<li>2.00923300256505</li>\n",
       "\t<li>1.51991108295293</li>\n",
       "\t<li>1.14975699539774</li>\n",
       "\t<li>0.869749002617783</li>\n",
       "\t<li>0.657933224657568</li>\n",
       "\t<li>0.497702356433211</li>\n",
       "\t<li>0.376493580679247</li>\n",
       "\t<li>0.28480358684358</li>\n",
       "\t<li>0.215443469003188</li>\n",
       "\t<li>0.162975083462064</li>\n",
       "\t<li>0.123284673944206</li>\n",
       "\t<li>0.0932603346883218</li>\n",
       "\t<li>0.0705480231071863</li>\n",
       "\t<li>0.053366992312063</li>\n",
       "\t<li>0.0403701725859655</li>\n",
       "\t<li>0.0305385550883341</li>\n",
       "\t<li>0.0231012970008316</li>\n",
       "\t<li>0.0174752840000768</li>\n",
       "\t<li>0.0132194114846603</li>\n",
       "\t<li>0.01</li>\n",
       "</ol>\n"
      ],
      "text/latex": [
       "\\begin{enumerate*}\n",
       "\\item 1e+10\n",
       "\\item 7564633275.54629\n",
       "\\item 5722367659.35022\n",
       "\\item 4328761281.08306\n",
       "\\item 3274549162.87773\n",
       "\\item 2477076355.99171\n",
       "\\item 1873817422.86039\n",
       "\\item 1417474162.92681\n",
       "\\item 1072267222.01033\n",
       "\\item 811130830.789689\n",
       "\\item 613590727.341316\n",
       "\\item 464158883.361277\n",
       "\\item 351119173.421513\n",
       "\\item 265608778.294668\n",
       "\\item 200923300.256505\n",
       "\\item 151991108.295293\n",
       "\\item 114975699.539774\n",
       "\\item 86974900.2617783\n",
       "\\item 65793322.4657568\n",
       "\\item 49770235.6433211\n",
       "\\item 37649358.0679247\n",
       "\\item 28480358.684358\n",
       "\\item 21544346.9003188\n",
       "\\item 16297508.3462064\n",
       "\\item 12328467.3944207\n",
       "\\item 9326033.4688322\n",
       "\\item 7054802.31071865\n",
       "\\item 5336699.2312063\n",
       "\\item 4037017.25859655\n",
       "\\item 3053855.50883341\n",
       "\\item 2310129.70008316\n",
       "\\item 1747528.40000768\n",
       "\\item 1321941.14846603\n",
       "\\item 1e+06\n",
       "\\item 756463.327554629\n",
       "\\item 572236.765935022\n",
       "\\item 432876.128108306\n",
       "\\item 327454.916287772\n",
       "\\item 247707.635599171\n",
       "\\item 187381.742286038\n",
       "\\item 141747.41629268\n",
       "\\item 107226.722201032\n",
       "\\item 81113.0830789687\n",
       "\\item 61359.0727341318\n",
       "\\item 46415.8883361277\n",
       "\\item 35111.9173421513\n",
       "\\item 26560.8778294668\n",
       "\\item 20092.3300256505\n",
       "\\item 15199.1108295293\n",
       "\\item 11497.5699539774\n",
       "\\item 8697.49002617783\n",
       "\\item 6579.33224657568\n",
       "\\item 4977.02356433211\n",
       "\\item 3764.93580679246\n",
       "\\item 2848.0358684358\n",
       "\\item 2154.43469003188\n",
       "\\item 1629.75083462064\n",
       "\\item 1232.84673944207\n",
       "\\item 932.60334688322\n",
       "\\item 705.480231071865\n",
       "\\item 533.66992312063\n",
       "\\item 403.701725859655\n",
       "\\item 305.385550883341\n",
       "\\item 231.012970008316\n",
       "\\item 174.752840000768\n",
       "\\item 132.194114846603\n",
       "\\item 100\n",
       "\\item 75.6463327554629\n",
       "\\item 57.2236765935022\n",
       "\\item 43.2876128108306\n",
       "\\item 32.7454916287773\n",
       "\\item 24.7707635599171\n",
       "\\item 18.7381742286039\n",
       "\\item 14.174741629268\n",
       "\\item 10.7226722201032\n",
       "\\item 8.11130830789686\n",
       "\\item 6.13590727341316\n",
       "\\item 4.64158883361277\n",
       "\\item 3.51119173421513\n",
       "\\item 2.65608778294668\n",
       "\\item 2.00923300256505\n",
       "\\item 1.51991108295293\n",
       "\\item 1.14975699539774\n",
       "\\item 0.869749002617783\n",
       "\\item 0.657933224657568\n",
       "\\item 0.497702356433211\n",
       "\\item 0.376493580679247\n",
       "\\item 0.28480358684358\n",
       "\\item 0.215443469003188\n",
       "\\item 0.162975083462064\n",
       "\\item 0.123284673944206\n",
       "\\item 0.0932603346883218\n",
       "\\item 0.0705480231071863\n",
       "\\item 0.053366992312063\n",
       "\\item 0.0403701725859655\n",
       "\\item 0.0305385550883341\n",
       "\\item 0.0231012970008316\n",
       "\\item 0.0174752840000768\n",
       "\\item 0.0132194114846603\n",
       "\\item 0.01\n",
       "\\end{enumerate*}\n"
      ],
      "text/markdown": [
       "1. 1e+10\n",
       "2. 7564633275.54629\n",
       "3. 5722367659.35022\n",
       "4. 4328761281.08306\n",
       "5. 3274549162.87773\n",
       "6. 2477076355.99171\n",
       "7. 1873817422.86039\n",
       "8. 1417474162.92681\n",
       "9. 1072267222.01033\n",
       "10. 811130830.789689\n",
       "11. 613590727.341316\n",
       "12. 464158883.361277\n",
       "13. 351119173.421513\n",
       "14. 265608778.294668\n",
       "15. 200923300.256505\n",
       "16. 151991108.295293\n",
       "17. 114975699.539774\n",
       "18. 86974900.2617783\n",
       "19. 65793322.4657568\n",
       "20. 49770235.6433211\n",
       "21. 37649358.0679247\n",
       "22. 28480358.684358\n",
       "23. 21544346.9003188\n",
       "24. 16297508.3462064\n",
       "25. 12328467.3944207\n",
       "26. 9326033.4688322\n",
       "27. 7054802.31071865\n",
       "28. 5336699.2312063\n",
       "29. 4037017.25859655\n",
       "30. 3053855.50883341\n",
       "31. 2310129.70008316\n",
       "32. 1747528.40000768\n",
       "33. 1321941.14846603\n",
       "34. 1e+06\n",
       "35. 756463.327554629\n",
       "36. 572236.765935022\n",
       "37. 432876.128108306\n",
       "38. 327454.916287772\n",
       "39. 247707.635599171\n",
       "40. 187381.742286038\n",
       "41. 141747.41629268\n",
       "42. 107226.722201032\n",
       "43. 81113.0830789687\n",
       "44. 61359.0727341318\n",
       "45. 46415.8883361277\n",
       "46. 35111.9173421513\n",
       "47. 26560.8778294668\n",
       "48. 20092.3300256505\n",
       "49. 15199.1108295293\n",
       "50. 11497.5699539774\n",
       "51. 8697.49002617783\n",
       "52. 6579.33224657568\n",
       "53. 4977.02356433211\n",
       "54. 3764.93580679246\n",
       "55. 2848.0358684358\n",
       "56. 2154.43469003188\n",
       "57. 1629.75083462064\n",
       "58. 1232.84673944207\n",
       "59. 932.60334688322\n",
       "60. 705.480231071865\n",
       "61. 533.66992312063\n",
       "62. 403.701725859655\n",
       "63. 305.385550883341\n",
       "64. 231.012970008316\n",
       "65. 174.752840000768\n",
       "66. 132.194114846603\n",
       "67. 100\n",
       "68. 75.6463327554629\n",
       "69. 57.2236765935022\n",
       "70. 43.2876128108306\n",
       "71. 32.7454916287773\n",
       "72. 24.7707635599171\n",
       "73. 18.7381742286039\n",
       "74. 14.174741629268\n",
       "75. 10.7226722201032\n",
       "76. 8.11130830789686\n",
       "77. 6.13590727341316\n",
       "78. 4.64158883361277\n",
       "79. 3.51119173421513\n",
       "80. 2.65608778294668\n",
       "81. 2.00923300256505\n",
       "82. 1.51991108295293\n",
       "83. 1.14975699539774\n",
       "84. 0.869749002617783\n",
       "85. 0.657933224657568\n",
       "86. 0.497702356433211\n",
       "87. 0.376493580679247\n",
       "88. 0.28480358684358\n",
       "89. 0.215443469003188\n",
       "90. 0.162975083462064\n",
       "91. 0.123284673944206\n",
       "92. 0.0932603346883218\n",
       "93. 0.0705480231071863\n",
       "94. 0.053366992312063\n",
       "95. 0.0403701725859655\n",
       "96. 0.0305385550883341\n",
       "97. 0.0231012970008316\n",
       "98. 0.0174752840000768\n",
       "99. 0.0132194114846603\n",
       "100. 0.01\n",
       "\n",
       "\n"
      ],
      "text/plain": [
       "  [1] 1.000000e+10 7.564633e+09 5.722368e+09 4.328761e+09 3.274549e+09\n",
       "  [6] 2.477076e+09 1.873817e+09 1.417474e+09 1.072267e+09 8.111308e+08\n",
       " [11] 6.135907e+08 4.641589e+08 3.511192e+08 2.656088e+08 2.009233e+08\n",
       " [16] 1.519911e+08 1.149757e+08 8.697490e+07 6.579332e+07 4.977024e+07\n",
       " [21] 3.764936e+07 2.848036e+07 2.154435e+07 1.629751e+07 1.232847e+07\n",
       " [26] 9.326033e+06 7.054802e+06 5.336699e+06 4.037017e+06 3.053856e+06\n",
       " [31] 2.310130e+06 1.747528e+06 1.321941e+06 1.000000e+06 7.564633e+05\n",
       " [36] 5.722368e+05 4.328761e+05 3.274549e+05 2.477076e+05 1.873817e+05\n",
       " [41] 1.417474e+05 1.072267e+05 8.111308e+04 6.135907e+04 4.641589e+04\n",
       " [46] 3.511192e+04 2.656088e+04 2.009233e+04 1.519911e+04 1.149757e+04\n",
       " [51] 8.697490e+03 6.579332e+03 4.977024e+03 3.764936e+03 2.848036e+03\n",
       " [56] 2.154435e+03 1.629751e+03 1.232847e+03 9.326033e+02 7.054802e+02\n",
       " [61] 5.336699e+02 4.037017e+02 3.053856e+02 2.310130e+02 1.747528e+02\n",
       " [66] 1.321941e+02 1.000000e+02 7.564633e+01 5.722368e+01 4.328761e+01\n",
       " [71] 3.274549e+01 2.477076e+01 1.873817e+01 1.417474e+01 1.072267e+01\n",
       " [76] 8.111308e+00 6.135907e+00 4.641589e+00 3.511192e+00 2.656088e+00\n",
       " [81] 2.009233e+00 1.519911e+00 1.149757e+00 8.697490e-01 6.579332e-01\n",
       " [86] 4.977024e-01 3.764936e-01 2.848036e-01 2.154435e-01 1.629751e-01\n",
       " [91] 1.232847e-01 9.326033e-02 7.054802e-02 5.336699e-02 4.037017e-02\n",
       " [96] 3.053856e-02 2.310130e-02 1.747528e-02 1.321941e-02 1.000000e-02"
      ]
     },
     "metadata": {},
     "output_type": "display_data"
    },
    {
     "data": {
      "image/png": "[encoded data removed]",
      "text/plain": [
       "plot without title"
      ]
     },
     "metadata": {},
     "output_type": "display_data"
    }
   ],
   "source": [
    "# grid of lambda\n",
    "# create grid of lambda values\n",
    "# for each lambda\n",
    "    #prepare model for each lambda\n",
    "\n",
    "\n",
    "grid=10^seq(10,-2,length=100) #Create a grid of 100 tuning parameters from, eqaully spaced 100 values between 10 & -2\n",
    "# in high values changes are less hence power of 10 taken\n",
    "grid\n",
    "plot(grid)"
   ]
  },
  {
   "cell_type": "markdown",
   "metadata": {},
   "source": [
    "## Ridge Regression"
   ]
  },
  {
   "cell_type": "code",
   "execution_count": 11,
   "metadata": {},
   "outputs": [
    {
     "data": {
      "image/png": "[encoded data removed]",
      "text/plain": [
       "plot without title"
      ]
     },
     "metadata": {},
     "output_type": "display_data"
    }
   ],
   "source": [
    "ridge.mod=glmnet(x,y,alpha = 0,lambda = grid)\n",
    "plot(ridge.mod)"
   ]
  },
  {
   "cell_type": "code",
   "execution_count": 12,
   "metadata": {},
   "outputs": [
    {
     "data": {
      "text/html": [
       "<ol class=list-inline>\n",
       "\t<li>20</li>\n",
       "\t<li>100</li>\n",
       "</ol>\n"
      ],
      "text/latex": [
       "\\begin{enumerate*}\n",
       "\\item 20\n",
       "\\item 100\n",
       "\\end{enumerate*}\n"
      ],
      "text/markdown": [
       "1. 20\n",
       "2. 100\n",
       "\n",
       "\n"
      ],
      "text/plain": [
       "[1]  20 100"
      ]
     },
     "metadata": {},
     "output_type": "display_data"
    }
   ],
   "source": [
    "dim(coef(ridge.mod)) #100 sets of coefficients for each lambda"
   ]
  },
  {
   "cell_type": "code",
   "execution_count": 13,
   "metadata": {},
   "outputs": [
    {
     "data": {
      "text/html": [
       "1e+10"
      ],
      "text/latex": [
       "1e+10"
      ],
      "text/markdown": [
       "1e+10"
      ],
      "text/plain": [
       "[1] 1e+10"
      ]
     },
     "metadata": {},
     "output_type": "display_data"
    },
    {
     "data": {
      "text/html": [
       "11497.5699539774"
      ],
      "text/latex": [
       "11497.5699539774"
      ],
      "text/markdown": [
       "11497.5699539774"
      ],
      "text/plain": [
       "[1] 11497.57"
      ]
     },
     "metadata": {},
     "output_type": "display_data"
    },
    {
     "data": {
      "text/html": [
       "0.01"
      ],
      "text/latex": [
       "0.01"
      ],
      "text/markdown": [
       "0.01"
      ],
      "text/plain": [
       "[1] 0.01"
      ]
     },
     "metadata": {},
     "output_type": "display_data"
    }
   ],
   "source": [
    "ridge.mod$lambda[1] #value of 1st lambda\n",
    "ridge.mod$lambda[50] #value of 50th lambda\n",
    "ridge.mod$lambda[100] #value of 100th lambda"
   ]
  },
  {
   "cell_type": "code",
   "execution_count": 14,
   "metadata": {},
   "outputs": [
    {
     "data": {
      "text/html": [
       "<dl class=dl-horizontal>\n",
       "\t<dt>(Intercept)</dt>\n",
       "\t\t<dd>407.356050200416</dd>\n",
       "\t<dt>AtBat</dt>\n",
       "\t\t<dd>0.0369571817501359</dd>\n",
       "\t<dt>Hits</dt>\n",
       "\t\t<dd>0.138180343807892</dd>\n",
       "\t<dt>HmRun</dt>\n",
       "\t\t<dd>0.524629975886911</dd>\n",
       "\t<dt>Runs</dt>\n",
       "\t\t<dd>0.230701522621179</dd>\n",
       "\t<dt>RBI</dt>\n",
       "\t\t<dd>0.239841458504058</dd>\n",
       "\t<dt>Walks</dt>\n",
       "\t\t<dd>0.289618741049884</dd>\n",
       "\t<dt>Years</dt>\n",
       "\t\t<dd>1.10770292908555</dd>\n",
       "\t<dt>CAtBat</dt>\n",
       "\t\t<dd>0.00313181522151328</dd>\n",
       "\t<dt>CHits</dt>\n",
       "\t\t<dd>0.0116536373557531</dd>\n",
       "\t<dt>CHmRun</dt>\n",
       "\t\t<dd>0.0875456697555949</dd>\n",
       "\t<dt>CRuns</dt>\n",
       "\t\t<dd>0.0233798823693758</dd>\n",
       "\t<dt>CRBI</dt>\n",
       "\t\t<dd>0.0241383203685686</dd>\n",
       "\t<dt>CWalks</dt>\n",
       "\t\t<dd>0.0250154205993732</dd>\n",
       "\t<dt>LeagueN</dt>\n",
       "\t\t<dd>0.0850281135625444</dd>\n",
       "\t<dt>DivisionW</dt>\n",
       "\t\t<dd>-6.21544097273146</dd>\n",
       "\t<dt>PutOuts</dt>\n",
       "\t\t<dd>0.0164825767604547</dd>\n",
       "\t<dt>Assists</dt>\n",
       "\t\t<dd>0.00261298804528183</dd>\n",
       "\t<dt>Errors</dt>\n",
       "\t\t<dd>-0.0205026903654579</dd>\n",
       "\t<dt>NewLeagueN</dt>\n",
       "\t\t<dd>0.301433531372699</dd>\n",
       "</dl>\n"
      ],
      "text/latex": [
       "\\begin{description*}\n",
       "\\item[(Intercept)] 407.356050200416\n",
       "\\item[AtBat] 0.0369571817501359\n",
       "\\item[Hits] 0.138180343807892\n",
       "\\item[HmRun] 0.524629975886911\n",
       "\\item[Runs] 0.230701522621179\n",
       "\\item[RBI] 0.239841458504058\n",
       "\\item[Walks] 0.289618741049884\n",
       "\\item[Years] 1.10770292908555\n",
       "\\item[CAtBat] 0.00313181522151328\n",
       "\\item[CHits] 0.0116536373557531\n",
       "\\item[CHmRun] 0.0875456697555949\n",
       "\\item[CRuns] 0.0233798823693758\n",
       "\\item[CRBI] 0.0241383203685686\n",
       "\\item[CWalks] 0.0250154205993732\n",
       "\\item[LeagueN] 0.0850281135625444\n",
       "\\item[DivisionW] -6.21544097273146\n",
       "\\item[PutOuts] 0.0164825767604547\n",
       "\\item[Assists] 0.00261298804528183\n",
       "\\item[Errors] -0.0205026903654579\n",
       "\\item[NewLeagueN] 0.301433531372699\n",
       "\\end{description*}\n"
      ],
      "text/markdown": [
       "(Intercept)\n",
       ":   407.356050200416AtBat\n",
       ":   0.0369571817501359Hits\n",
       ":   0.138180343807892HmRun\n",
       ":   0.524629975886911Runs\n",
       ":   0.230701522621179RBI\n",
       ":   0.239841458504058Walks\n",
       ":   0.289618741049884Years\n",
       ":   1.10770292908555CAtBat\n",
       ":   0.00313181522151328CHits\n",
       ":   0.0116536373557531CHmRun\n",
       ":   0.0875456697555949CRuns\n",
       ":   0.0233798823693758CRBI\n",
       ":   0.0241383203685686CWalks\n",
       ":   0.0250154205993732LeagueN\n",
       ":   0.0850281135625444DivisionW\n",
       ":   -6.21544097273146PutOuts\n",
       ":   0.0164825767604547Assists\n",
       ":   0.00261298804528183Errors\n",
       ":   -0.0205026903654579NewLeagueN\n",
       ":   0.301433531372699\n",
       "\n"
      ],
      "text/plain": [
       "  (Intercept)         AtBat          Hits         HmRun          Runs \n",
       "407.356050200   0.036957182   0.138180344   0.524629976   0.230701523 \n",
       "          RBI         Walks         Years        CAtBat         CHits \n",
       "  0.239841459   0.289618741   1.107702929   0.003131815   0.011653637 \n",
       "       CHmRun         CRuns          CRBI        CWalks       LeagueN \n",
       "  0.087545670   0.023379882   0.024138320   0.025015421   0.085028114 \n",
       "    DivisionW       PutOuts       Assists        Errors    NewLeagueN \n",
       " -6.215440973   0.016482577   0.002612988  -0.020502690   0.301433531 "
      ]
     },
     "metadata": {},
     "output_type": "display_data"
    }
   ],
   "source": [
    "# coefficient at 50th lambda i.e. values of beta's in 50th column\n",
    "coef(ridge.mod)[,50]"
   ]
  },
  {
   "cell_type": "code",
   "execution_count": 15,
   "metadata": {},
   "outputs": [
    {
     "data": {
      "text/plain": [
       "10 x 9 sparse Matrix of class \"dgCMatrix\"\n",
       "                 s0          s29          s39          s49          s59\n",
       "       1.000000e+10 3.053856e+06 1.873817e+05 1.149757e+04 705.48023107\n",
       "AtBat  5.443467e-08 1.781013e-04 2.856183e-03 3.695718e-02   0.11211115\n",
       "Hits   1.974589e-07 6.460892e-04 1.038009e-02 1.381803e-01   0.65622409\n",
       "HmRun  7.956523e-07 2.602891e-03 4.166863e-02 5.246300e-01   1.17980910\n",
       "Runs   3.339178e-07 1.092488e-03 1.753936e-02 2.307015e-01   0.93769713\n",
       "RBI    3.527222e-07 1.153932e-03 1.850770e-02 2.398415e-01   0.84718546\n",
       "Walks  4.151323e-07 1.358217e-03 2.181794e-02 2.896187e-01   1.31987948\n",
       "Years  1.697711e-06 5.553840e-03 8.883504e-02 1.107703e+00   2.59640425\n",
       "CAtBat 4.673743e-09 1.528998e-05 2.449690e-04 3.131815e-03   0.01083413\n",
       "CHits  1.720071e-08 5.627140e-05 9.021725e-04 1.165364e-02   0.04674557\n",
       "               s69        s79        s89        s99\n",
       "       43.28761281  2.6560878  0.1629751  0.0100000\n",
       "AtBat  -0.41480601 -1.7526436 -1.9680069 -1.9738615\n",
       "Hits    2.10530493  6.1739859  7.2992751  7.3777227\n",
       "HmRun  -1.34828331  1.3285278  3.6592305  3.9366022\n",
       "Runs    1.13281252 -0.7689372 -2.0612924 -2.1987362\n",
       "RBI     0.79219405 -0.1297830 -0.8286657 -0.9162301\n",
       "Walks   2.83508432  5.5357165  6.1573465  6.2003772\n",
       "Years  -6.85814163 -9.2923000 -4.3482824 -3.7140342\n",
       "CAtBat  0.00438123 -0.0792321 -0.1650985 -0.1751006\n",
       "CHits   0.11187771  0.2132942  0.2171948  0.2113277"
      ]
     },
     "metadata": {},
     "output_type": "display_data"
    }
   ],
   "source": [
    "rbind(ridge.mod$lambda[c(1,30,40,50,60,70,80,90,100)], coef(ridge.mod)[2:10, c(1,30,40,50,60,70,80,90,100)])"
   ]
  },
  {
   "cell_type": "code",
   "execution_count": 16,
   "metadata": {},
   "outputs": [
    {
     "data": {
      "text/plain": [
       "20 x 1 sparse Matrix of class \"dgCMatrix\"\n",
       "                        1\n",
       "(Intercept)  4.876610e+01\n",
       "AtBat       -3.580999e-01\n",
       "Hits         1.969359e+00\n",
       "HmRun       -1.278248e+00\n",
       "Runs         1.145892e+00\n",
       "RBI          8.038292e-01\n",
       "Walks        2.716186e+00\n",
       "Years       -6.218319e+00\n",
       "CAtBat       5.447837e-03\n",
       "CHits        1.064895e-01\n",
       "CHmRun       6.244860e-01\n",
       "CRuns        2.214985e-01\n",
       "CRBI         2.186914e-01\n",
       "CWalks      -1.500245e-01\n",
       "LeagueN      4.592589e+01\n",
       "DivisionW   -1.182011e+02\n",
       "PutOuts      2.502322e-01\n",
       "Assists      1.215665e-01\n",
       "Errors      -3.278600e+00\n",
       "NewLeagueN  -9.496680e+00"
      ]
     },
     "metadata": {},
     "output_type": "display_data"
    }
   ],
   "source": [
    "# getting beta value at certain lambda\n",
    "# predict beta values of inbetween lambda value with basic co ordinate geometry\n",
    "ridge.pred<-predict(ridge.mod, s=50, type = \"coefficients\")\n",
    "ridge.pred"
   ]
  },
  {
   "cell_type": "markdown",
   "metadata": {},
   "source": [
    "## Dividing Data into Training and Testing"
   ]
  },
  {
   "cell_type": "markdown",
   "metadata": {},
   "source": [
    "Training - x[train], y[train]\n",
    "\n",
    "Prediction - y^\n",
    "\n",
    "error - x[test]\n",
    "\n",
    "y.text=y[test]"
   ]
  },
  {
   "cell_type": "code",
   "execution_count": 17,
   "metadata": {},
   "outputs": [
    {
     "data": {
      "text/html": [
       "<ol class=list-inline>\n",
       "\t<li>3</li>\n",
       "\t<li>4</li>\n",
       "\t<li>5</li>\n",
       "\t<li>7</li>\n",
       "\t<li>2</li>\n",
       "\t<li>8</li>\n",
       "\t<li>9</li>\n",
       "\t<li>6</li>\n",
       "\t<li>10</li>\n",
       "\t<li>1</li>\n",
       "</ol>\n"
      ],
      "text/latex": [
       "\\begin{enumerate*}\n",
       "\\item 3\n",
       "\\item 4\n",
       "\\item 5\n",
       "\\item 7\n",
       "\\item 2\n",
       "\\item 8\n",
       "\\item 9\n",
       "\\item 6\n",
       "\\item 10\n",
       "\\item 1\n",
       "\\end{enumerate*}\n"
      ],
      "text/markdown": [
       "1. 3\n",
       "2. 4\n",
       "3. 5\n",
       "4. 7\n",
       "5. 2\n",
       "6. 8\n",
       "7. 9\n",
       "8. 6\n",
       "9. 10\n",
       "10. 1\n",
       "\n",
       "\n"
      ],
      "text/plain": [
       " [1]  3  4  5  7  2  8  9  6 10  1"
      ]
     },
     "metadata": {},
     "output_type": "display_data"
    },
    {
     "data": {
      "text/html": [
       "<ol class=list-inline>\n",
       "\t<li>5</li>\n",
       "\t<li>4</li>\n",
       "\t<li>8</li>\n",
       "\t<li>1</li>\n",
       "</ol>\n"
      ],
      "text/latex": [
       "\\begin{enumerate*}\n",
       "\\item 5\n",
       "\\item 4\n",
       "\\item 8\n",
       "\\item 1\n",
       "\\end{enumerate*}\n"
      ],
      "text/markdown": [
       "1. 5\n",
       "2. 4\n",
       "3. 8\n",
       "4. 1\n",
       "\n",
       "\n"
      ],
      "text/plain": [
       "[1] 5 4 8 1"
      ]
     },
     "metadata": {},
     "output_type": "display_data"
    },
    {
     "data": {
      "text/html": [
       "<ol class=list-inline>\n",
       "\t<li>3</li>\n",
       "\t<li>7</li>\n",
       "\t<li>2</li>\n",
       "\t<li>9</li>\n",
       "\t<li>6</li>\n",
       "\t<li>10</li>\n",
       "</ol>\n"
      ],
      "text/latex": [
       "\\begin{enumerate*}\n",
       "\\item 3\n",
       "\\item 7\n",
       "\\item 2\n",
       "\\item 9\n",
       "\\item 6\n",
       "\\item 10\n",
       "\\end{enumerate*}\n"
      ],
      "text/markdown": [
       "1. 3\n",
       "2. 7\n",
       "3. 2\n",
       "4. 9\n",
       "5. 6\n",
       "6. 10\n",
       "\n",
       "\n"
      ],
      "text/plain": [
       "[1]  3  7  2  9  6 10"
      ]
     },
     "metadata": {},
     "output_type": "display_data"
    }
   ],
   "source": [
    "# Simple demonstration with numbers\n",
    "set.seed(1)\n",
    "\n",
    "temp<-sample(1:10)\n",
    "temp\n",
    "\n",
    "train <- sample(1:10, 4)\n",
    "#train\n",
    "temp[train]\n",
    "\n",
    "test = -train\n",
    "#test\n",
    "temp[test]\n",
    "\n"
   ]
  },
  {
   "cell_type": "code",
   "execution_count": 18,
   "metadata": {},
   "outputs": [],
   "source": [
    "#if we set seed it generates sequence. next seq is genereated frm previous set n so on\n",
    "set.seed(1)\n",
    "#sample: it divides data into test and train data\n",
    "\n",
    "#train\n",
    "train<-sample(1:nrow(x), nrow(x)/2)\n",
    "test<- -train\n",
    "\n",
    "# x[train,]\n",
    "# y[train] # vector\n",
    "# x[test,]\n",
    "# y[test]"
   ]
  },
  {
   "cell_type": "code",
   "execution_count": 19,
   "metadata": {},
   "outputs": [
    {
     "data": {
      "image/png": "[encoded data removed]",
      "text/plain": [
       "plot without title"
      ]
     },
     "metadata": {},
     "output_type": "display_data"
    }
   ],
   "source": [
    "#new model on trainig data\n",
    "ridge.mod2<- glmnet(x[train,],y[train], alpha = 0, lambda= grid)\n",
    "plot(ridge.mod2)"
   ]
  },
  {
   "cell_type": "code",
   "execution_count": 20,
   "metadata": {},
   "outputs": [
    {
     "name": "stdout",
     "output_type": "stream",
     "text": [
      "s =  4\tError =  101186.3\n",
      "s =  10\tError =  97837.71\n",
      "s =  1e+10\tError =  193253.1"
     ]
    }
   ],
   "source": [
    "#predict: gives y hat - s=4\n",
    "ridge.pred<- predict(ridge.mod2, s=4,newx = x[test,])\n",
    "#error\n",
    "RSS1<- mean((ridge.pred-y[test])^2)\n",
    "cat(\"s = \", 4)\n",
    "cat(\"\\tError = \", RSS1)\n",
    "\n",
    "#s=1e10 i.e. 10\n",
    "ridge.pred<- predict(ridge.mod2, s=10, newx = x[test,])\n",
    "#error\n",
    "RSS2<-mean((ridge.pred-y[test])^2)\n",
    "cat(\"\\ns = \", 10)\n",
    "cat(\"\\tError = \", RSS2)\n",
    "\n",
    "#s=0\n",
    "ridge.pred<- predict(ridge.mod2, s=10^10, newx = x[test,])\n",
    "#error\n",
    "RSS3<-mean((ridge.pred-y[test])^2)\n",
    "cat(\"\\ns = \", 10^10)\n",
    "cat(\"\\tError = \", RSS3)"
   ]
  },
  {
   "cell_type": "markdown",
   "metadata": {},
   "source": [
    "\n",
    "## Using cross validation to find best model - Ridge Regression"
   ]
  },
  {
   "cell_type": "code",
   "execution_count": 21,
   "metadata": {},
   "outputs": [
    {
     "name": "stdout",
     "output_type": "stream",
     "text": [
      "Best lambda =  231.013\tError = 96010.43"
     ]
    },
    {
     "data": {
      "image/png": "[encoded data removed]",
      "text/plain": [
       "plot without title"
      ]
     },
     "metadata": {},
     "output_type": "display_data"
    }
   ],
   "source": [
    "# Finding best lambda using Cross Validation\n",
    "set.seed(1)\n",
    "#for cross validation here if we dont give lambda value r will take itself value\n",
    "cv.out.ridge <-cv.glmnet(x[train,],y[train], alpha= 0, lambda = grid)\n",
    "plot(cv.out.ridge)\n",
    "\n",
    "bestlambda.ridge <- cv.out.ridge$lambda.min\n",
    "cat(\"Best lambda = \", bestlambda.ridge)\n",
    "\n",
    "\n",
    "# predict best model using best lambda\n",
    "ridge.pred<- predict(ridge.mod2, s= bestlambda.ridge, newx = x[test,])\n",
    "RSS.ridge<-mean((ridge.pred-y[test])^2)\n",
    "cat(\"\\tError =\", RSS.ridge)\n",
    "#error is less so best model for best lambda value"
   ]
  },
  {
   "cell_type": "markdown",
   "metadata": {},
   "source": [
    "## Ridge Model Errors for various values of s"
   ]
  },
  {
   "cell_type": "code",
   "execution_count": 22,
   "metadata": {},
   "outputs": [
    {
     "name": "stdout",
     "output_type": "stream",
     "text": [
      "\n",
      "s =  211\tError =  96013.01\n",
      "s =  212\tError =  96012.29\n",
      "s =  213\tError =  96011.63\n",
      "s =  214\tError =  96011.04\n",
      "s =  215\tError =  96010.51\n",
      "s =  216\tError =  96010.03\n",
      "s =  217\tError =  96009.63\n",
      "s =  218\tError =  96009.28\n",
      "s =  219\tError =  96008.99\n",
      "s =  220\tError =  96008.77\n",
      "s =  221\tError =  96008.61\n",
      "s =  222\tError =  96008.51\n",
      "s =  223\tError =  96008.48\n",
      "s =  224\tError =  96008.5\n",
      "s =  225\tError =  96008.59\n",
      "s =  226\tError =  96008.74\n",
      "s =  227\tError =  96008.95\n",
      "s =  228\tError =  96009.23\n",
      "s =  229\tError =  96009.56\n",
      "s =  230\tError =  96009.96\n",
      "s =  231\tError =  96010.42\n",
      "s =  232\tError =  96011.28\n",
      "s =  233\tError =  96012.18\n",
      "s =  234\tError =  96013.12\n",
      "s =  235\tError =  96014.11\n",
      "s =  236\tError =  96015.15\n",
      "s =  237\tError =  96016.22\n",
      "s =  238\tError =  96017.34\n",
      "s =  239\tError =  96018.51\n",
      "s =  240\tError =  96019.71\n",
      "Best lambda =  231.013\tError = 96010.43"
     ]
    },
    {
     "data": {
      "image/png": "[encoded data removed]",
      "text/plain": [
       "Plot with title \"Ridge Rigression Error\""
      ]
     },
     "metadata": {},
     "output_type": "display_data"
    }
   ],
   "source": [
    "init.s.ridge<-210\n",
    "no.of.points<-30\n",
    "\n",
    "result.ridge <- data.frame(matrix(nrow = no.of.points, ncol = 2))\n",
    "for(i in 1:no.of.points) {\n",
    "    ridge.pred<- predict(ridge.mod2, s=i+init.s.ridge,newx = x[test,])\n",
    "    #error\n",
    "    RSS<-mean((ridge.pred-y[test])^2)\n",
    "    cat(\"\\ns = \", i+init.s.ridge)\n",
    "    cat(\"\\tError = \", RSS)\n",
    "    result.ridge[i, 1] <- i+init.s.ridge\n",
    "    result.ridge[i, 2] <- RSS\n",
    "    }\n",
    "\n",
    "# Adding Bestlambda in table\n",
    "cat(\"\\nBest lambda = \", bestlambda.ridge)\n",
    "cat(\"\\tError =\", RSS.ridge)\n",
    "result.ridge[i+1, 1] <- bestlambda.ridge\n",
    "result.ridge[i+1, 2] <- RSS.ridge\n",
    "\n",
    "result.ridge <- result.ridge[order(result.ridge[,1]),]\n",
    "\n",
    "# Plotting RSS graph with bestlambda as RED dot\n",
    "plot(result.ridge, col=ifelse(result.ridge[,1]==bestlambda.ridge, \"red\", \"black\"), type = \"o\", main=\"Ridge Rigression Error\", xlab=\"s =\", ylab=\"RSS\", pch=19, cex=0.5)\n",
    "text(result.ridge, labels= result.ridge[,1], cex=0.5, font=2, pos = ifelse(result.ridge[,1]==bestlambda.ridge, 4, 1))\n",
    "\n",
    "#plot(bestlambda, col = \"green\", pch=18, cex=0.5)\n",
    "#grid(50, NA, lwd = 1) # grid only in y-direction\n",
    "# The “pos” option specifies the position of the text relative to the point.\n",
    "# 1 = below # 2 = left # 3 = above # 4 = right"
   ]
  },
  {
   "cell_type": "markdown",
   "metadata": {},
   "source": [
    "## Lasso regression"
   ]
  },
  {
   "cell_type": "code",
   "execution_count": 23,
   "metadata": {},
   "outputs": [
    {
     "data": {
      "image/png": "[encoded data removed]",
      "text/plain": [
       "plot without title"
      ]
     },
     "metadata": {},
     "output_type": "display_data"
    }
   ],
   "source": [
    "#new model on trainig data\n",
    "lasso.mod <- glmnet(x[train,],y[train], alpha = 1, lambda= grid)\n",
    "plot(lasso.mod)"
   ]
  },
  {
   "cell_type": "code",
   "execution_count": 24,
   "metadata": {},
   "outputs": [
    {
     "name": "stdout",
     "output_type": "stream",
     "text": [
      "s =  4\tError =  95001.38\n",
      "s =  10\tError =  100183.6\n",
      "s =  1e+10\tError =  193253.1"
     ]
    }
   ],
   "source": [
    "#predict: gives y hat - s=4\n",
    "lasso.pred<- predict(lasso.mod, s=4,newx = x[test,])\n",
    "#error\n",
    "RSS1<- mean((lasso.pred-y[test])^2)\n",
    "cat(\"s = \", 4)\n",
    "cat(\"\\tError = \", RSS1)\n",
    "\n",
    "#s=1e10 i.e. 10^10\n",
    "lasso.pred<- predict(lasso.mod, s=10,newx = x[test,])\n",
    "#error\n",
    "RSS2<-mean((lasso.pred-y[test])^2)\n",
    "cat(\"\\ns = \", 10)\n",
    "cat(\"\\tError = \", RSS2)\n",
    "\n",
    "#s=0\n",
    "lasso.pred<- predict(lasso.mod, s=10^10,newx = x[test,])\n",
    "#error\n",
    "RSS3<-mean((lasso.pred-y[test])^2)\n",
    "cat(\"\\ns = \", 10^10)\n",
    "cat(\"\\tError = \", RSS3)"
   ]
  },
  {
   "cell_type": "markdown",
   "metadata": {},
   "source": [
    "## Using cross validation to find best model - Lasso Rigression"
   ]
  },
  {
   "cell_type": "code",
   "execution_count": 28,
   "metadata": {},
   "outputs": [
    {
     "name": "stdout",
     "output_type": "stream",
     "text": [
      "Best lambda =  18.73817"
     ]
    },
    {
     "data": {
      "text/html": [
       "132.194114846603"
      ],
      "text/latex": [
       "132.194114846603"
      ],
      "text/markdown": [
       "132.194114846603"
      ],
      "text/plain": [
       "[1] 132.1941"
      ]
     },
     "metadata": {},
     "output_type": "display_data"
    },
    {
     "name": "stdout",
     "output_type": "stream",
     "text": [
      "\tError = 100862.5"
     ]
    },
    {
     "data": {
      "image/png": "[encoded data removed]",
      "text/plain": [
       "plot without title"
      ]
     },
     "metadata": {},
     "output_type": "display_data"
    }
   ],
   "source": [
    "# Finding best lambda using Cross Validation\n",
    "set.seed(1)\n",
    "cv.out.lasso<- cv.glmnet(x[train,],y[train], alpha= 1, lambda = grid)\n",
    "plot(cv.out.lasso)\n",
    "\n",
    "bestlambda.lasso<- cv.out.lasso$lambda.min\n",
    "cat(\"Best lambda = \", bestlambda.lasso)\n",
    "\n",
    "# predict best model using best lambda\n",
    "lasso.pred<-predict(cv.out.lasso , s=bestlambda.lasso, newx=x[test,])\n",
    "RSS.lasso<- mean((lasso.pred-y[test])^2)\n",
    "cat(\"\\tError =\", RSS.lasso)\n",
    "#error is less so best model for best lambda value"
   ]
  },
  {
   "cell_type": "markdown",
   "metadata": {},
   "source": [
    "## Lasso Model Errors for various values of s"
   ]
  },
  {
   "cell_type": "code",
   "execution_count": 26,
   "metadata": {},
   "outputs": [
    {
     "name": "stdout",
     "output_type": "stream",
     "text": [
      "\n",
      "s =  1\tError =  105697.5\n",
      "s =  2\tError =  99246.57\n",
      "s =  3\tError =  95872.57\n",
      "s =  4\tError =  95001.38\n",
      "s =  5\tError =  95613.46\n",
      "s =  6\tError =  97378.48\n",
      "s =  7\tError =  98619.13\n",
      "s =  8\tError =  99924.94\n",
      "s =  9\tError =  100107.4\n",
      "s =  10\tError =  100183.6\n",
      "s =  11\tError =  100287.5\n",
      "s =  12\tError =  100363.9\n",
      "s =  13\tError =  100471.7\n",
      "s =  14\tError =  100610.9\n",
      "s =  15\tError =  100665.1\n",
      "s =  16\tError =  100705.6\n",
      "s =  17\tError =  100755.1\n",
      "s =  18\tError =  100813.6\n",
      "s =  19\tError =  100867.7\n",
      "s =  20\tError =  100893\n",
      "s =  21\tError =  100927.3\n",
      "s =  22\tError =  100970.4\n",
      "s =  23\tError =  101022.4\n",
      "s =  24\tError =  101083.2\n",
      "s =  25\tError =  101153.3\n",
      "s =  26\tError =  101233.4\n",
      "s =  27\tError =  101321.9\n",
      "s =  28\tError =  101419.1\n",
      "s =  29\tError =  101524.8\n",
      "s =  30\tError =  101639.1\n",
      "Best lambda =  18.73817\tError = 100862.5"
     ]
    },
    {
     "data": {
      "image/png": "[encoded data removed]",
      "text/plain": [
       "Plot with title \"Lasso Rigression Error\""
      ]
     },
     "metadata": {},
     "output_type": "display_data"
    }
   ],
   "source": [
    "init.s.lasso<-0\n",
    "no.of.points<-30\n",
    "\n",
    "result.lasso <- data.frame(matrix(nrow = no.of.points, ncol = 2))\n",
    "for(i in 1:no.of.points) {\n",
    "    lasso.pred<- predict(lasso.mod, s=i+init.s.lasso,newx = x[test,])\n",
    "    #error\n",
    "    RSS<-mean((lasso.pred-y[test])^2)\n",
    "    cat(\"\\ns = \", i+init.s.lasso)\n",
    "    cat(\"\\tError = \", RSS)\n",
    "    result.lasso[i, 1] <- i+init.s.lasso\n",
    "    result.lasso[i, 2] <- RSS\n",
    "    }\n",
    "\n",
    "# Adding Bestlambda in table\n",
    "cat(\"\\nBest lambda = \", bestlambda.lasso)\n",
    "cat(\"\\tError =\", RSS.lasso)\n",
    "result.lasso[i+1, 1] <- bestlambda.lasso\n",
    "result.lasso[i+1, 2] <- RSS.lasso\n",
    "\n",
    "result.lasso <- result.lasso[order(result.lasso[,1]),]\n",
    "\n",
    "# Plotting RSS graph with bestlambda as RED dot\n",
    "plot(result.lasso, col=ifelse(result.lasso[,1]==bestlambda.lasso, \"red\", \"black\"), type = \"o\", main=\"Lasso Rigression Error\", xlab=\"s =\", ylab=\"RSS\", pch=19, cex=0.5)\n",
    "text(result.lasso, labels= result.lasso[,1], cex=0.5, font=2, pos = ifelse(result.lasso[,1]==bestlambda.lasso, 3, 1))\n",
    "\n",
    "#plot(bestlambda, col = \"green\", pch=18, cex=0.5)\n",
    "#grid(50, NA, lwd = 1) # grid only in y-direction\n",
    "# The “pos” option specifies the position of the text relative to the point.\n",
    "# 1 = below # 2 = left # 3 = above # 4 = right"
   ]
  },
  {
   "cell_type": "markdown",
   "metadata": {},
   "source": [
    "## Looking for features which are having non-zero coefficent"
   ]
  },
  {
   "cell_type": "code",
   "execution_count": 27,
   "metadata": {},
   "outputs": [
    {
     "data": {
      "text/plain": [
       "\n",
       "FALSE  TRUE \n",
       "   13     7 "
      ]
     },
     "metadata": {},
     "output_type": "display_data"
    },
    {
     "data": {
      "text/html": [
       "<dl class=dl-horizontal>\n",
       "\t<dt>(Intercept)</dt>\n",
       "\t\t<dd>24.6392478148452</dd>\n",
       "\t<dt>Hits</dt>\n",
       "\t\t<dd>1.84994298868242</dd>\n",
       "\t<dt>Walks</dt>\n",
       "\t\t<dd>2.19610053486717</dd>\n",
       "\t<dt>CRuns</dt>\n",
       "\t\t<dd>0.205850377068254</dd>\n",
       "\t<dt>CRBI</dt>\n",
       "\t\t<dd>0.409592413876792</dd>\n",
       "\t<dt>DivisionW</dt>\n",
       "\t\t<dd>-99.9736533886889</dd>\n",
       "\t<dt>PutOuts</dt>\n",
       "\t\t<dd>0.215890155792955</dd>\n",
       "</dl>\n"
      ],
      "text/latex": [
       "\\begin{description*}\n",
       "\\item[(Intercept)] 24.6392478148452\n",
       "\\item[Hits] 1.84994298868242\n",
       "\\item[Walks] 2.19610053486717\n",
       "\\item[CRuns] 0.205850377068254\n",
       "\\item[CRBI] 0.409592413876792\n",
       "\\item[DivisionW] -99.9736533886889\n",
       "\\item[PutOuts] 0.215890155792955\n",
       "\\end{description*}\n"
      ],
      "text/markdown": [
       "(Intercept)\n",
       ":   24.6392478148452Hits\n",
       ":   1.84994298868242Walks\n",
       ":   2.19610053486717CRuns\n",
       ":   0.205850377068254CRBI\n",
       ":   0.409592413876792DivisionW\n",
       ":   -99.9736533886889PutOuts\n",
       ":   0.215890155792955\n",
       "\n"
      ],
      "text/plain": [
       "(Intercept)        Hits       Walks       CRuns        CRBI   DivisionW \n",
       " 24.6392478   1.8499430   2.1961005   0.2058504   0.4095924 -99.9736534 \n",
       "    PutOuts \n",
       "  0.2158902 "
      ]
     },
     "metadata": {},
     "output_type": "display_data"
    }
   ],
   "source": [
    "lasso.out<-glmnet(x,y, alpha=1,lambda= grid)\n",
    "lasso.coeff<- predict(lasso.out, type=\"coefficient\", s= bestlambda.lasso)[1:20,]\n",
    "#some values is equal to 0 in lasso\n",
    "table(lasso.coeff!=0)\n",
    "lasso.coeff[lasso.coeff!=0]"
   ]
  }
 ],
 "metadata": {
  "kernelspec": {
   "display_name": "R",
   "language": "R",
   "name": "ir"
  },
  "language_info": {
   "codemirror_mode": "r",
   "file_extension": ".r",
   "mimetype": "text/x-r-source",
   "name": "R",
   "pygments_lexer": "r",
   "version": "3.5.1"
  }
 },
 "nbformat": 4,
 "nbformat_minor": 2
}
