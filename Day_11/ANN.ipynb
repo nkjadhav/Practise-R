{
 "cells": [
  {
   "cell_type": "code",
   "execution_count": 1,
   "metadata": {},
   "outputs": [],
   "source": [
    "library(neuralnet)"
   ]
  },
  {
   "cell_type": "code",
   "execution_count": 3,
   "metadata": {},
   "outputs": [
    {
     "data": {
      "text/html": [
       "<table>\n",
       "<thead><tr><th scope=col>Sepal.Length</th><th scope=col>Sepal.Width</th><th scope=col>Petal.Length</th><th scope=col>Petal.Width</th><th scope=col>Species</th></tr></thead>\n",
       "<tbody>\n",
       "\t<tr><td>5.1   </td><td>3.5   </td><td>1.4   </td><td>0.2   </td><td>setosa</td></tr>\n",
       "\t<tr><td>4.9   </td><td>3.0   </td><td>1.4   </td><td>0.2   </td><td>setosa</td></tr>\n",
       "\t<tr><td>4.7   </td><td>3.2   </td><td>1.3   </td><td>0.2   </td><td>setosa</td></tr>\n",
       "\t<tr><td>4.6   </td><td>3.1   </td><td>1.5   </td><td>0.2   </td><td>setosa</td></tr>\n",
       "\t<tr><td>5.0   </td><td>3.6   </td><td>1.4   </td><td>0.2   </td><td>setosa</td></tr>\n",
       "\t<tr><td>5.4   </td><td>3.9   </td><td>1.7   </td><td>0.4   </td><td>setosa</td></tr>\n",
       "</tbody>\n",
       "</table>\n"
      ],
      "text/latex": [
       "\\begin{tabular}{r|lllll}\n",
       " Sepal.Length & Sepal.Width & Petal.Length & Petal.Width & Species\\\\\n",
       "\\hline\n",
       "\t 5.1    & 3.5    & 1.4    & 0.2    & setosa\\\\\n",
       "\t 4.9    & 3.0    & 1.4    & 0.2    & setosa\\\\\n",
       "\t 4.7    & 3.2    & 1.3    & 0.2    & setosa\\\\\n",
       "\t 4.6    & 3.1    & 1.5    & 0.2    & setosa\\\\\n",
       "\t 5.0    & 3.6    & 1.4    & 0.2    & setosa\\\\\n",
       "\t 5.4    & 3.9    & 1.7    & 0.4    & setosa\\\\\n",
       "\\end{tabular}\n"
      ],
      "text/markdown": [
       "\n",
       "Sepal.Length | Sepal.Width | Petal.Length | Petal.Width | Species | \n",
       "|---|---|---|---|---|---|\n",
       "| 5.1    | 3.5    | 1.4    | 0.2    | setosa | \n",
       "| 4.9    | 3.0    | 1.4    | 0.2    | setosa | \n",
       "| 4.7    | 3.2    | 1.3    | 0.2    | setosa | \n",
       "| 4.6    | 3.1    | 1.5    | 0.2    | setosa | \n",
       "| 5.0    | 3.6    | 1.4    | 0.2    | setosa | \n",
       "| 5.4    | 3.9    | 1.7    | 0.4    | setosa | \n",
       "\n",
       "\n"
      ],
      "text/plain": [
       "  Sepal.Length Sepal.Width Petal.Length Petal.Width Species\n",
       "1 5.1          3.5         1.4          0.2         setosa \n",
       "2 4.9          3.0         1.4          0.2         setosa \n",
       "3 4.7          3.2         1.3          0.2         setosa \n",
       "4 4.6          3.1         1.5          0.2         setosa \n",
       "5 5.0          3.6         1.4          0.2         setosa \n",
       "6 5.4          3.9         1.7          0.4         setosa "
      ]
     },
     "metadata": {},
     "output_type": "display_data"
    },
    {
     "data": {
      "text/html": [
       "<ol class=list-inline>\n",
       "\t<li>150</li>\n",
       "\t<li>5</li>\n",
       "</ol>\n"
      ],
      "text/latex": [
       "\\begin{enumerate*}\n",
       "\\item 150\n",
       "\\item 5\n",
       "\\end{enumerate*}\n"
      ],
      "text/markdown": [
       "1. 150\n",
       "2. 5\n",
       "\n",
       "\n"
      ],
      "text/plain": [
       "[1] 150   5"
      ]
     },
     "metadata": {},
     "output_type": "display_data"
    }
   ],
   "source": [
    "# Multilayer Neural Network, Three category ANN, two hidden layer (3,2)\n",
    "set.seed(101)\n",
    "iris1=data.frame(iris)\n",
    "head(iris1)\n",
    "dim(iris1)"
   ]
  },
  {
   "cell_type": "code",
   "execution_count": 4,
   "metadata": {},
   "outputs": [],
   "source": [
    "sample.size<-100\n",
    "iristrain<-iris1[sample(1:nrow(iris1), sample.size),]\n",
    "nnet_iristrain<-iristrain"
   ]
  },
  {
   "cell_type": "code",
   "execution_count": 5,
   "metadata": {},
   "outputs": [],
   "source": [
    "# Converting categorical output to three binary variables\n",
    "nnet_iristrain <- cbind(nnet_iristrain, iristrain$Species == \"setosa\")\n",
    "nnet_iristrain <- cbind(nnet_iristrain, iristrain$Species == \"versicolor\")\n",
    "nnet_iristrain <- cbind(nnet_iristrain, iristrain$Species == \"virginica\")"
   ]
  },
  {
   "cell_type": "code",
   "execution_count": 6,
   "metadata": {},
   "outputs": [
    {
     "data": {
      "text/html": [
       "<table>\n",
       "<thead><tr><th></th><th scope=col>Sepal.Length</th><th scope=col>Sepal.Width</th><th scope=col>Petal.Length</th><th scope=col>Petal.Width</th><th scope=col>Species</th><th scope=col>iristrain$Species == \"setosa\"</th><th scope=col>iristrain$Species == \"versicolor\"</th><th scope=col>iristrain$Species == \"virginica\"</th></tr></thead>\n",
       "<tbody>\n",
       "\t<tr><th scope=row>56</th><td>5.7       </td><td>2.8       </td><td>4.5       </td><td>1.3       </td><td>versicolor</td><td>FALSE     </td><td> TRUE     </td><td>FALSE     </td></tr>\n",
       "\t<tr><th scope=row>7</th><td>4.6       </td><td>3.4       </td><td>1.4       </td><td>0.3       </td><td>setosa    </td><td> TRUE     </td><td>FALSE     </td><td>FALSE     </td></tr>\n",
       "\t<tr><th scope=row>106</th><td>7.6       </td><td>3.0       </td><td>6.6       </td><td>2.1       </td><td>virginica </td><td>FALSE     </td><td>FALSE     </td><td> TRUE     </td></tr>\n",
       "\t<tr><th scope=row>97</th><td>5.7       </td><td>2.9       </td><td>4.2       </td><td>1.3       </td><td>versicolor</td><td>FALSE     </td><td> TRUE     </td><td>FALSE     </td></tr>\n",
       "\t<tr><th scope=row>37</th><td>5.5       </td><td>3.5       </td><td>1.3       </td><td>0.2       </td><td>setosa    </td><td> TRUE     </td><td>FALSE     </td><td>FALSE     </td></tr>\n",
       "\t<tr><th scope=row>44</th><td>5.0       </td><td>3.5       </td><td>1.6       </td><td>0.6       </td><td>setosa    </td><td> TRUE     </td><td>FALSE     </td><td>FALSE     </td></tr>\n",
       "</tbody>\n",
       "</table>\n"
      ],
      "text/latex": [
       "\\begin{tabular}{r|llllllll}\n",
       "  & Sepal.Length & Sepal.Width & Petal.Length & Petal.Width & Species & iristrain\\$Species == \"setosa\" & iristrain\\$Species == \"versicolor\" & iristrain\\$Species == \"virginica\"\\\\\n",
       "\\hline\n",
       "\t56 & 5.7        & 2.8        & 4.5        & 1.3        & versicolor & FALSE      &  TRUE      & FALSE     \\\\\n",
       "\t7 & 4.6        & 3.4        & 1.4        & 0.3        & setosa     &  TRUE      & FALSE      & FALSE     \\\\\n",
       "\t106 & 7.6        & 3.0        & 6.6        & 2.1        & virginica  & FALSE      & FALSE      &  TRUE     \\\\\n",
       "\t97 & 5.7        & 2.9        & 4.2        & 1.3        & versicolor & FALSE      &  TRUE      & FALSE     \\\\\n",
       "\t37 & 5.5        & 3.5        & 1.3        & 0.2        & setosa     &  TRUE      & FALSE      & FALSE     \\\\\n",
       "\t44 & 5.0        & 3.5        & 1.6        & 0.6        & setosa     &  TRUE      & FALSE      & FALSE     \\\\\n",
       "\\end{tabular}\n"
      ],
      "text/markdown": [
       "\n",
       "| <!--/--> | Sepal.Length | Sepal.Width | Petal.Length | Petal.Width | Species | iristrain$Species == \"setosa\" | iristrain$Species == \"versicolor\" | iristrain$Species == \"virginica\" | \n",
       "|---|---|---|---|---|---|\n",
       "| 56 | 5.7        | 2.8        | 4.5        | 1.3        | versicolor | FALSE      |  TRUE      | FALSE      | \n",
       "| 7 | 4.6        | 3.4        | 1.4        | 0.3        | setosa     |  TRUE      | FALSE      | FALSE      | \n",
       "| 106 | 7.6        | 3.0        | 6.6        | 2.1        | virginica  | FALSE      | FALSE      |  TRUE      | \n",
       "| 97 | 5.7        | 2.9        | 4.2        | 1.3        | versicolor | FALSE      |  TRUE      | FALSE      | \n",
       "| 37 | 5.5        | 3.5        | 1.3        | 0.2        | setosa     |  TRUE      | FALSE      | FALSE      | \n",
       "| 44 | 5.0        | 3.5        | 1.6        | 0.6        | setosa     |  TRUE      | FALSE      | FALSE      | \n",
       "\n",
       "\n"
      ],
      "text/plain": [
       "    Sepal.Length Sepal.Width Petal.Length Petal.Width Species   \n",
       "56  5.7          2.8         4.5          1.3         versicolor\n",
       "7   4.6          3.4         1.4          0.3         setosa    \n",
       "106 7.6          3.0         6.6          2.1         virginica \n",
       "97  5.7          2.9         4.2          1.3         versicolor\n",
       "37  5.5          3.5         1.3          0.2         setosa    \n",
       "44  5.0          3.5         1.6          0.6         setosa    \n",
       "    iristrain$Species == \"setosa\" iristrain$Species == \"versicolor\"\n",
       "56  FALSE                          TRUE                            \n",
       "7    TRUE                         FALSE                            \n",
       "106 FALSE                         FALSE                            \n",
       "97  FALSE                          TRUE                            \n",
       "37   TRUE                         FALSE                            \n",
       "44   TRUE                         FALSE                            \n",
       "    iristrain$Species == \"virginica\"\n",
       "56  FALSE                           \n",
       "7   FALSE                           \n",
       "106  TRUE                           \n",
       "97  FALSE                           \n",
       "37  FALSE                           \n",
       "44  FALSE                           "
      ]
     },
     "metadata": {},
     "output_type": "display_data"
    }
   ],
   "source": [
    "head(nnet_iristrain)"
   ]
  },
  {
   "cell_type": "code",
   "execution_count": 9,
   "metadata": {},
   "outputs": [
    {
     "data": {
      "text/html": [
       "<table>\n",
       "<thead><tr><th></th><th scope=col>Sepal.Length</th><th scope=col>Sepal.Width</th><th scope=col>Petal.Length</th><th scope=col>Petal.Width</th><th scope=col>Species</th><th scope=col>setosa</th><th scope=col>versicolor</th><th scope=col>virginica</th></tr></thead>\n",
       "<tbody>\n",
       "\t<tr><th scope=row>56</th><td>5.7       </td><td>2.8       </td><td>4.5       </td><td>1.3       </td><td>versicolor</td><td>FALSE     </td><td> TRUE     </td><td>FALSE     </td></tr>\n",
       "\t<tr><th scope=row>7</th><td>4.6       </td><td>3.4       </td><td>1.4       </td><td>0.3       </td><td>setosa    </td><td> TRUE     </td><td>FALSE     </td><td>FALSE     </td></tr>\n",
       "\t<tr><th scope=row>106</th><td>7.6       </td><td>3.0       </td><td>6.6       </td><td>2.1       </td><td>virginica </td><td>FALSE     </td><td>FALSE     </td><td> TRUE     </td></tr>\n",
       "\t<tr><th scope=row>97</th><td>5.7       </td><td>2.9       </td><td>4.2       </td><td>1.3       </td><td>versicolor</td><td>FALSE     </td><td> TRUE     </td><td>FALSE     </td></tr>\n",
       "\t<tr><th scope=row>37</th><td>5.5       </td><td>3.5       </td><td>1.3       </td><td>0.2       </td><td>setosa    </td><td> TRUE     </td><td>FALSE     </td><td>FALSE     </td></tr>\n",
       "\t<tr><th scope=row>44</th><td>5.0       </td><td>3.5       </td><td>1.6       </td><td>0.6       </td><td>setosa    </td><td> TRUE     </td><td>FALSE     </td><td>FALSE     </td></tr>\n",
       "</tbody>\n",
       "</table>\n"
      ],
      "text/latex": [
       "\\begin{tabular}{r|llllllll}\n",
       "  & Sepal.Length & Sepal.Width & Petal.Length & Petal.Width & Species & setosa & versicolor & virginica\\\\\n",
       "\\hline\n",
       "\t56 & 5.7        & 2.8        & 4.5        & 1.3        & versicolor & FALSE      &  TRUE      & FALSE     \\\\\n",
       "\t7 & 4.6        & 3.4        & 1.4        & 0.3        & setosa     &  TRUE      & FALSE      & FALSE     \\\\\n",
       "\t106 & 7.6        & 3.0        & 6.6        & 2.1        & virginica  & FALSE      & FALSE      &  TRUE     \\\\\n",
       "\t97 & 5.7        & 2.9        & 4.2        & 1.3        & versicolor & FALSE      &  TRUE      & FALSE     \\\\\n",
       "\t37 & 5.5        & 3.5        & 1.3        & 0.2        & setosa     &  TRUE      & FALSE      & FALSE     \\\\\n",
       "\t44 & 5.0        & 3.5        & 1.6        & 0.6        & setosa     &  TRUE      & FALSE      & FALSE     \\\\\n",
       "\\end{tabular}\n"
      ],
      "text/markdown": [
       "\n",
       "| <!--/--> | Sepal.Length | Sepal.Width | Petal.Length | Petal.Width | Species | setosa | versicolor | virginica | \n",
       "|---|---|---|---|---|---|\n",
       "| 56 | 5.7        | 2.8        | 4.5        | 1.3        | versicolor | FALSE      |  TRUE      | FALSE      | \n",
       "| 7 | 4.6        | 3.4        | 1.4        | 0.3        | setosa     |  TRUE      | FALSE      | FALSE      | \n",
       "| 106 | 7.6        | 3.0        | 6.6        | 2.1        | virginica  | FALSE      | FALSE      |  TRUE      | \n",
       "| 97 | 5.7        | 2.9        | 4.2        | 1.3        | versicolor | FALSE      |  TRUE      | FALSE      | \n",
       "| 37 | 5.5        | 3.5        | 1.3        | 0.2        | setosa     |  TRUE      | FALSE      | FALSE      | \n",
       "| 44 | 5.0        | 3.5        | 1.6        | 0.6        | setosa     |  TRUE      | FALSE      | FALSE      | \n",
       "\n",
       "\n"
      ],
      "text/plain": [
       "    Sepal.Length Sepal.Width Petal.Length Petal.Width Species    setosa\n",
       "56  5.7          2.8         4.5          1.3         versicolor FALSE \n",
       "7   4.6          3.4         1.4          0.3         setosa      TRUE \n",
       "106 7.6          3.0         6.6          2.1         virginica  FALSE \n",
       "97  5.7          2.9         4.2          1.3         versicolor FALSE \n",
       "37  5.5          3.5         1.3          0.2         setosa      TRUE \n",
       "44  5.0          3.5         1.6          0.6         setosa      TRUE \n",
       "    versicolor virginica\n",
       "56   TRUE      FALSE    \n",
       "7   FALSE      FALSE    \n",
       "106 FALSE       TRUE    \n",
       "97   TRUE      FALSE    \n",
       "37  FALSE      FALSE    \n",
       "44  FALSE      FALSE    "
      ]
     },
     "metadata": {},
     "output_type": "display_data"
    }
   ],
   "source": [
    "names(nnet_iristrain)[6]<-'setosa'\n",
    "names(nnet_iristrain)[7]<-'versicolor'\n",
    "names(nnet_iristrain)[8]<-'virginica'\n",
    "head(nnet_iristrain)"
   ]
  },
  {
   "cell_type": "code",
   "execution_count": 13,
   "metadata": {},
   "outputs": [],
   "source": [
    "# Building NN\n",
    "nn <- neuralnet(setosa+versicolor+virginica ~ Sepal.Length+Sepal.Width+Petal.Length+Petal.Width, data=nnet_iristrain, hidden = c(3,2), algorithm = 'backprop', learningrate = 0.15, linear.output = F)\n",
    "plot(nn)"
   ]
  },
  {
   "cell_type": "code",
   "execution_count": null,
   "metadata": {},
   "outputs": [],
   "source": []
  }
 ],
 "metadata": {
  "kernelspec": {
   "display_name": "R",
   "language": "R",
   "name": "ir"
  },
  "language_info": {
   "codemirror_mode": "r",
   "file_extension": ".r",
   "mimetype": "text/x-r-source",
   "name": "R",
   "pygments_lexer": "r",
   "version": "3.5.1"
  }
 },
 "nbformat": 4,
 "nbformat_minor": 2
}
