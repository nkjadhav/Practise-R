{
 "cells": [
  {
   "cell_type": "markdown",
   "metadata": {},
   "source": [
    "# Time Series\n",
    "Prediction in future is known as Forcasting - x axis time and y axis prediction\n",
    "- Trends (Consistent Increasing or Decreasing)\n",
    "- Season (Pattern related to time of week/month/quarter/year/festival)\n",
    "- Cycles (Patterns that are beyond a year, only seen in dataset having lots of years of data)\n",
    "- Irregulr patterns are error\n"
   ]
  },
  {
   "cell_type": "markdown",
   "metadata": {},
   "source": [
    "## Types\n",
    "- Additive Time Series\n",
    "- Multiplicative Time Series"
   ]
  },
  {
   "cell_type": "markdown",
   "metadata": {},
   "source": [
    "Moving Average - Avg of moving set of points is calculated and curve is fitted along with avg points.\n",
    "\n",
    "Exponential Smoothing - Nearest pt. gets higher weightage while fitting curve"
   ]
  },
  {
   "cell_type": "markdown",
   "metadata": {},
   "source": [
    "## Error Analysis\n",
    "- MAPE - Mean Absolute Percentage Error\n",
    "- MAD - Mean Absolute Deviaton\n",
    "- MSD - Mean Squared Deviation"
   ]
  },
  {
   "cell_type": "code",
   "execution_count": 1,
   "metadata": {},
   "outputs": [
    {
     "name": "stderr",
     "output_type": "stream",
     "text": [
      "Loading required package: xts\n",
      "Loading required package: zoo\n",
      "\n",
      "Attaching package: 'zoo'\n",
      "\n",
      "The following objects are masked from 'package:base':\n",
      "\n",
      "    as.Date, as.Date.numeric\n",
      "\n",
      "Loading required package: TTR\n",
      "Version 0.4-0 included new data defaults. See ?getSymbols.\n",
      "Loading required package: fma\n",
      "Loading required package: expsmooth\n",
      "Loading required package: lmtest\n",
      "Loading required package: tseries\n"
     ]
    }
   ],
   "source": [
    "library(quantmod)\n",
    "library(forecast)\n",
    "library(fpp)"
   ]
  },
  {
   "cell_type": "code",
   "execution_count": 2,
   "metadata": {},
   "outputs": [
    {
     "name": "stderr",
     "output_type": "stream",
     "text": [
      "'getSymbols' currently uses auto.assign=TRUE by default, but will\n",
      "use auto.assign=FALSE in 0.5-0. You will still be able to use\n",
      "'loadSymbols' to automatically load data. getOption(\"getSymbols.env\")\n",
      "and getOption(\"getSymbols.auto.assign\") will still be checked for\n",
      "alternate defaults.\n",
      "\n",
      "This message is shown once per session and may be disabled by setting \n",
      "options(\"getSymbols.warning4.0\"=FALSE). See ?getSymbols for details.\n",
      "\n",
      "\n",
      "WARNING: There have been significant changes to Yahoo Finance data.\n",
      "Please see the Warning section of '?getSymbols.yahoo' for details.\n",
      "\n",
      "This message is shown once per session and may be disabled by setting\n",
      "options(\"getSymbols.yahoo.warning\"=FALSE).\n"
     ]
    },
    {
     "data": {
      "text/html": [
       "'GOOG'"
      ],
      "text/latex": [
       "'GOOG'"
      ],
      "text/markdown": [
       "'GOOG'"
      ],
      "text/plain": [
       "[1] \"GOOG\""
      ]
     },
     "metadata": {},
     "output_type": "display_data"
    },
    {
     "data": {
      "text/plain": [
       "           GOOG.Open GOOG.High GOOG.Low GOOG.Close GOOG.Volume GOOG.Adjusted\n",
       "2014-04-01  555.6547  565.3414 555.6547   564.0585        7900      564.0585\n",
       "2014-04-02  596.7090  601.5225 559.1157   563.8994      147500      563.8994\n",
       "2014-04-03  566.7338  584.0685 561.0450   566.6244     5113100      566.6244\n",
       "2014-04-04  571.5076  574.6105 540.0306   540.1699     6386800      540.1699\n",
       "2014-04-07  537.7830  545.4807 524.2673   535.2072     4413700      535.2072\n",
       "2014-04-08  539.6328  551.9650 538.6482   551.8655     3159900      551.8655"
      ]
     },
     "metadata": {},
     "output_type": "display_data"
    }
   ],
   "source": [
    "# Loading Google stock data using NASDAQ (GOOG)\n",
    "from.dat <- as.Date(\"04/01/14\", format = \"%m/%d/%y\")\n",
    "to.dat <- as.Date(\"10/30/17\", format = \"%m/%d/%y\")\n",
    "getSymbols(\"GOOG\", src = \"yahoo\", from = from.dat, to = to.dat)\n",
    "head(GOOG)"
   ]
  },
  {
   "cell_type": "code",
   "execution_count": 3,
   "metadata": {},
   "outputs": [
    {
     "data": {
      "text/plain": [
       "         GOOG.Open GOOG.High GOOG.Low GOOG.Close GOOG.Volume GOOG.Adjusted\n",
       "Apr 2014  555.6547  601.5225 500.0504   523.7800    67539600      523.7800\n",
       "May 2014  524.2275  564.7348 500.5477   556.8282    36727500      556.8282\n",
       "Jun 2014  557.6339  579.2649 535.8038   572.1341    38105800      572.1341\n",
       "Jul 2014  575.1575  596.3709 561.9203   568.4742    34704900      568.4742\n",
       "Aug 2014  567.2808  584.1282 556.9377   568.4742    27734000      568.4742\n",
       "Sep 2014  568.7228  593.2181 565.1028   574.2027    33608300      574.2027"
      ]
     },
     "metadata": {},
     "output_type": "display_data"
    }
   ],
   "source": [
    "# Converting to monthly stocks\n",
    "mGoog <- to.monthly(GOOG)\n",
    "head(mGoog)"
   ]
  },
  {
   "cell_type": "code",
   "execution_count": 4,
   "metadata": {},
   "outputs": [
    {
     "data": {
      "text/plain": [
       "         GOOG.Open\n",
       "Apr 2014  555.6547\n",
       "May 2014  524.2275\n",
       "Jun 2014  557.6339\n",
       "Jul 2014  575.1575\n",
       "Aug 2014  567.2808\n",
       "Sep 2014  568.7228\n",
       "Oct 2014  572.8601\n",
       "Nov 2014  552.4623\n",
       "Dec 2014  535.9531\n",
       "Jan 2015  526.1147\n",
       "Feb 2015  528.8199\n",
       "Mar 2015  557.4623\n",
       "Apr 2015  545.5975\n",
       "May 2015  538.4300\n",
       "Jun 2015  536.7900\n",
       "Jul 2015  524.7300\n",
       "Aug 2015  625.3400\n",
       "Sep 2015  602.3600\n",
       "Oct 2015  608.3700\n",
       "Nov 2015  711.0600\n",
       "Dec 2015  747.1100\n",
       "Jan 2016  743.0000\n",
       "Feb 2016  750.4600\n",
       "Mar 2016  703.6200\n",
       "Apr 2016  738.6000\n",
       "May 2016  697.6300\n",
       "Jun 2016  734.5300\n",
       "Jul 2016  692.2000\n",
       "Aug 2016  761.0900\n",
       "Sep 2016  769.2500\n",
       "Oct 2016  774.2500\n",
       "Nov 2016  782.8900\n",
       "Dec 2016  757.4400\n",
       "Jan 2017  778.8100\n",
       "Feb 2017  799.6800\n",
       "Mar 2017  828.8500\n",
       "Apr 2017  829.2200\n",
       "May 2017  901.9400\n",
       "Jun 2017  968.9500\n",
       "Jul 2017  912.1800\n",
       "Aug 2017  932.3800\n",
       "Sep 2017  941.1300\n",
       "Oct 2017  959.9800"
      ]
     },
     "metadata": {},
     "output_type": "display_data"
    }
   ],
   "source": [
    "googOpen <- Op(mGoog)\n",
    "googOpen"
   ]
  },
  {
   "cell_type": "code",
   "execution_count": 5,
   "metadata": {},
   "outputs": [
    {
     "data": {
      "text/plain": [
       "       Jan      Feb      Mar      Apr      May      Jun      Jul      Aug\n",
       "1 555.6547 524.2275 557.6339 575.1575 567.2808 568.7228 572.8601 552.4623\n",
       "2 545.5975 538.4300 536.7900 524.7300 625.3400 602.3600 608.3700 711.0600\n",
       "3 738.6000 697.6300 734.5300 692.2000 761.0900 769.2500 774.2500 782.8900\n",
       "4 829.2200 901.9400 968.9500 912.1800 932.3800 941.1300 959.9800         \n",
       "       Sep      Oct      Nov      Dec\n",
       "1 535.9531 526.1147 528.8199 557.4623\n",
       "2 747.1100 743.0000 750.4600 703.6200\n",
       "3 757.4400 778.8100 799.6800 828.8500\n",
       "4                                    "
      ]
     },
     "metadata": {},
     "output_type": "display_data"
    }
   ],
   "source": [
    "# Creating timeseries\n",
    "ts1 <- ts(googOpen, frequency = 12)\n",
    "ts1"
   ]
  },
  {
   "cell_type": "code",
   "execution_count": 6,
   "metadata": {},
   "outputs": [
    {
     "data": {
      "image/png": "[encoded data removed]",
      "text/plain": [
       "plot without title"
      ]
     },
     "metadata": {},
     "output_type": "display_data"
    }
   ],
   "source": [
    "# plot time series\n",
    "plot(ts1, xlab = \"Year+1\", ylab = \"GOOG\")"
   ]
  },
  {
   "cell_type": "code",
   "execution_count": 7,
   "metadata": {},
   "outputs": [
    {
     "data": {
      "image/png": "[encoded data removed]",
      "text/plain": [
       "plot without title"
      ]
     },
     "metadata": {},
     "output_type": "display_data"
    }
   ],
   "source": [
    "# Decompose the time series\n",
    "plot(decompose(ts1), xlab = \"Years+1\")"
   ]
  },
  {
   "cell_type": "code",
   "execution_count": 8,
   "metadata": {},
   "outputs": [
    {
     "data": {
      "text/plain": [
       "       Jan      Feb      Mar      Apr      May      Jun      Jul      Aug\n",
       "1 555.6547 524.2275 557.6339 575.1575 567.2808 568.7228 572.8601 552.4623\n",
       "2 545.5975 538.4300 536.7900 524.7300 625.3400 602.3600 608.3700 711.0600\n",
       "3 738.6000 697.6300 734.5300 692.2000 761.0900 769.2500 774.2500 782.8900\n",
       "4 829.2200 901.9400 968.9500 912.1800 932.3800 941.1300 959.9800         \n",
       "       Sep      Oct      Nov      Dec\n",
       "1 535.9531 526.1147 528.8199 557.4623\n",
       "2 747.1100 743.0000 750.4600 703.6200\n",
       "3 757.4400 778.8100 799.6800 828.8500\n",
       "4                                    "
      ]
     },
     "metadata": {},
     "output_type": "display_data"
    },
    {
     "data": {
      "text/plain": [
       "     Jan    Feb    Mar    Apr    May    Jun    Jul    Aug    Sep    Oct    Nov\n",
       "3                                           774.25 782.89 757.44 778.81 799.68\n",
       "4 829.22 901.94 968.95 912.18 932.38 941.13 959.98                            \n",
       "     Dec\n",
       "3 828.85\n",
       "4       "
      ]
     },
     "metadata": {},
     "output_type": "display_data"
    }
   ],
   "source": [
    "# Training and Testing Data\n",
    "ts1Train<-window(ts1,start=1,emd=3.5)\n",
    "ts1Test<-window(ts1,start=3.5,emd=4.5)\n",
    "\n",
    "ts1Train\n",
    "ts1Test"
   ]
  },
  {
   "cell_type": "code",
   "execution_count": 9,
   "metadata": {},
   "outputs": [
    {
     "name": "stderr",
     "output_type": "stream",
     "text": [
      "Warning message in ets(object, lambda = lambda, biasadj = biasadj, allow.multiplicative.trend = allow.multiplicative.trend, :\n",
      "\"Missing values encountered. Using longest contiguous portion of time series\"Warning message in ets(object, lambda = lambda, biasadj = biasadj, allow.multiplicative.trend = allow.multiplicative.trend, :\n",
      "\"Missing values encountered. Using longest contiguous portion of time series\"Warning message in ets(object, lambda = lambda, biasadj = biasadj, allow.multiplicative.trend = allow.multiplicative.trend, :\n",
      "\"Missing values encountered. Using longest contiguous portion of time series\""
     ]
    },
    {
     "data": {
      "image/png": "[encoded data removed]",
      "text/plain": [
       "plot without title"
      ]
     },
     "metadata": {},
     "output_type": "display_data"
    }
   ],
   "source": [
    "# Forcasting using simple moving average\n",
    "# For univariate time series\n",
    "# ETS(A,A,N)\n",
    "plot(ts1)\n",
    "\n",
    "goog_ma<-ma(ts1Train, order = 3)\n",
    "goog_ma_forecast<-forecast(goog_ma)\n",
    "lines(goog_ma_forecast$fitted, col=\"red\")\n",
    "#lines(goog_ma_forecast$mean, col=\"blue\")\n",
    "\n",
    "goog_ma<-ma(ts1Train, order = 4)\n",
    "goog_ma_forecast<-forecast(goog_ma)\n",
    "lines(goog_ma_forecast$fitted, col=\"blue\")\n",
    "#lines(goog_ma_forecast$mean, col=\"yellow\")\n",
    "\n",
    "goog_ma<-ma(ts1Train, order = 10)\n",
    "goog_ma_forecast<-forecast(goog_ma)\n",
    "lines(goog_ma_forecast$fitted, col=\"green\")\n",
    "#lines(goog_ma_forecast$mean, col=\"orange\")"
   ]
  },
  {
   "cell_type": "code",
   "execution_count": 10,
   "metadata": {},
   "outputs": [
    {
     "data": {
      "image/png": "[encoded data removed]",
      "text/plain": [
       "Plot with title \"Forecasts from ETS(A,A,N)\""
      ]
     },
     "metadata": {},
     "output_type": "display_data"
    }
   ],
   "source": [
    "plot(goog_ma_forecast)\n",
    "lines(ts1Test)"
   ]
  },
  {
   "cell_type": "code",
   "execution_count": 11,
   "metadata": {},
   "outputs": [
    {
     "name": "stdout",
     "output_type": "stream",
     "text": [
      "\n",
      "Forecast method: Simple exponential smoothing\n",
      "\n",
      "Model Information:\n",
      "Simple exponential smoothing \n",
      "\n",
      "Call:\n",
      " ses(y = ts1Train, h = 10, alpha = 0.9) \n",
      "\n",
      "  Smoothing parameters:\n",
      "    alpha = 0.9 \n",
      "\n",
      "  Initial states:\n",
      "    l = 552.8499 \n",
      "\n",
      "  sigma:  36.7855\n",
      "\n",
      "     AIC     AICc      BIC \n",
      "473.7224 474.0224 477.2448 \n",
      "\n",
      "Error measures:\n",
      "                   ME    RMSE      MAE      MPE     MAPE      MASE       ACF1\n",
      "Training set 10.46879 35.9198 25.76575 1.274793 3.630136 0.2030472 -0.1317004\n",
      "\n",
      "Forecasts:\n",
      "      Point Forecast    Lo 80    Hi 80    Lo 95    Hi 95\n",
      "Aug 4       957.9922 910.8497 1005.135 885.8940 1030.090\n",
      "Sep 4       957.9922 894.5685 1021.416 860.9940 1054.990\n",
      "Oct 4       957.9922 881.6855 1034.299 841.2911 1074.693\n",
      "Nov 4       957.9922 870.6831 1045.301 824.4645 1091.520\n",
      "Dec 4       957.9922 860.9199 1055.065 809.5330 1106.451\n",
      "Jan 5       957.9922 852.0527 1063.932 795.9717 1120.013\n",
      "Feb 5       957.9922 843.8724 1072.112 783.4610 1132.523\n",
      "Mar 5       957.9922 836.2405 1079.744 771.7890 1144.195\n",
      "Apr 5       957.9922 829.0595 1086.925 760.8066 1155.178\n",
      "May 5       957.9922 822.2579 1093.727 750.4045 1165.580\n"
     ]
    },
    {
     "data": {
      "image/png": "[encoded data removed]",
      "text/plain": [
       "Plot with title \"Forecasts from Simple exponential smoothing\""
      ]
     },
     "metadata": {},
     "output_type": "display_data"
    }
   ],
   "source": [
    "# Simple exponential smoothing model for short term foecasting\n",
    "fit<-ses(ts1Train, h=10, alpha = 0.9)\n",
    "plot(fit)\n",
    "lines(ts1Test, col=\"red\")\n",
    "summary(fit)"
   ]
  },
  {
   "cell_type": "code",
   "execution_count": 12,
   "metadata": {},
   "outputs": [
    {
     "data": {
      "image/png": "[encoded data removed]",
      "text/plain": [
       "Plot with title \"Forecasts from Holt's method\""
      ]
     },
     "metadata": {},
     "output_type": "display_data"
    }
   ],
   "source": [
    "# Double exponentil smoothing model\n",
    "# Holt local trend method (Level and Trend)\n",
    "fit<-holt(ts1Train, h=10)\n",
    "plot(fit)\n",
    "lines(ts1Test, col = \"red\")\n",
    "\n"
   ]
  },
  {
   "cell_type": "code",
   "execution_count": 13,
   "metadata": {},
   "outputs": [
    {
     "data": {
      "image/png": "[encoded data removed]",
      "text/plain": [
       "Plot with title \"Forecasts from Holt's method\""
      ]
     },
     "metadata": {},
     "output_type": "display_data"
    }
   ],
   "source": [
    "fit<-holt(ts1Train, h=10, alpha = 0.9, beta = 0.9)\n",
    "plot(fit)"
   ]
  },
  {
   "cell_type": "markdown",
   "metadata": {},
   "source": [
    "# ETS - Error Trend Season\n",
    "A - Additive\n",
    "\n",
    "M - Multiplicative\n",
    "\n",
    "Z - Automatic"
   ]
  },
  {
   "cell_type": "code",
   "execution_count": 14,
   "metadata": {},
   "outputs": [
    {
     "data": {
      "text/plain": [
       "      Point Forecast     Lo 80    Hi 80    Lo 95    Hi 95\n",
       "Aug 4       967.4950  921.5768 1013.413 897.2692 1037.721\n",
       "Sep 4       977.0274  918.8235 1035.231 888.0122 1066.043\n",
       "Oct 4       986.5598  918.2427 1054.877 882.0778 1091.042\n",
       "Nov 4       996.0923  918.9748 1073.210 878.1513 1114.033\n",
       "Dec 4      1005.6247  920.6111 1090.638 875.6077 1135.642\n",
       "Jan 5      1015.1571  922.9192 1107.395 874.0914 1156.223\n",
       "Feb 5      1024.6895  925.7517 1123.627 873.3772 1176.002\n",
       "Mar 5      1034.2219  929.0085 1139.435 873.3119 1195.132\n",
       "Apr 5      1043.7544  932.6176 1154.891 873.7853 1213.723\n",
       "May 5      1053.2868  936.5254 1170.048 874.7156 1231.858\n",
       "Jun 5      1062.8192  940.6906 1184.948 876.0396 1249.599\n",
       "Jul 5      1072.3516  945.0807 1199.623 877.7075 1266.996\n",
       "Aug 5      1081.8840  949.6693 1214.099 879.6791 1284.089\n",
       "Sep 5      1091.4165  954.4351 1228.398 881.9216 1300.911\n",
       "Oct 5      1100.9489  959.3601 1242.538 884.4076 1317.490\n",
       "Nov 5      1110.4813  964.4293 1256.533 887.1140 1333.849\n",
       "Dec 5      1120.0137  969.6298 1270.398 890.0213 1350.006\n",
       "Jan 6      1129.5461  974.9505 1284.142 893.1125 1365.980\n",
       "Feb 6      1139.0786  980.3819 1297.775 896.3730 1381.784\n",
       "Mar 6      1148.6110  985.9157 1311.306 899.7900 1397.432\n",
       "Apr 6      1158.1434  991.5444 1324.742 903.3523 1412.935\n",
       "May 6      1167.6758  997.2616 1338.090 907.0498 1428.302\n",
       "Jun 6      1177.2082 1003.0614 1351.355 910.8736 1443.543\n",
       "Jul 6      1186.7406 1008.9386 1364.543 914.8158 1458.665"
      ]
     },
     "metadata": {},
     "output_type": "display_data"
    },
    {
     "data": {
      "image/png": "[encoded data removed]",
      "text/plain": [
       "Plot with title \"Forecasts from ETS(A,A,N)\""
      ]
     },
     "metadata": {},
     "output_type": "display_data"
    }
   ],
   "source": [
    "ets1<-ets(ts1Train, model = \"AAN\") # fit model\n",
    "fcast<-forecast(ets1) #forcast on ets\n",
    "plot(fcast)\n",
    "lines(ts1Test, col=\"red\")\n",
    "fcast"
   ]
  },
  {
   "cell_type": "code",
   "execution_count": 15,
   "metadata": {},
   "outputs": [
    {
     "name": "stderr",
     "output_type": "stream",
     "text": [
      "Warning message in window.default(x, ...):\n",
      "\"'start' value not changed\""
     ]
    },
    {
     "ename": "ERROR",
     "evalue": "Error in window.default(x, ...): 'start' cannot be after 'end'\n",
     "output_type": "error",
     "traceback": [
      "Error in window.default(x, ...): 'start' cannot be after 'end'\nTraceback:\n",
      "1. accuracy(fcast, ts1Test)",
      "2. accuracy.default(fcast, ts1Test)",
      "3. testaccuracy(f, x, test, d, D)",
      "4. window(f, start = start, end = end)",
      "5. window.ts(f, start = start, end = end)",
      "6. as.ts(window.default(x, ...))",
      "7. window.default(x, ...)",
      "8. stop(\"'start' cannot be after 'end'\")"
     ]
    }
   ],
   "source": [
    "accuracy(fcast, ts1Test)"
   ]
  },
  {
   "cell_type": "code",
   "execution_count": null,
   "metadata": {},
   "outputs": [],
   "source": []
  }
 ],
 "metadata": {
  "kernelspec": {
   "display_name": "R",
   "language": "R",
   "name": "ir"
  },
  "language_info": {
   "codemirror_mode": "r",
   "file_extension": ".r",
   "mimetype": "text/x-r-source",
   "name": "R",
   "pygments_lexer": "r",
   "version": "3.5.1"
  }
 },
 "nbformat": 4,
 "nbformat_minor": 2
}
