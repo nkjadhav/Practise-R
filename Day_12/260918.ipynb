{
 "cells": [
  {
   "cell_type": "markdown",
   "metadata": {},
   "source": [
    "# Market Basket Analysis"
   ]
  },
  {
   "cell_type": "code",
   "execution_count": 7,
   "metadata": {},
   "outputs": [],
   "source": [
    "library(arules)\n",
    "library(arulesViz)\n",
    "library(datasets)"
   ]
  },
  {
   "cell_type": "code",
   "execution_count": 2,
   "metadata": {},
   "outputs": [
    {
     "data": {
      "text/plain": [
       "transactions in sparse format with\n",
       " 6 transactions (rows) and\n",
       " 169 items (columns)"
      ]
     },
     "metadata": {},
     "output_type": "display_data"
    }
   ],
   "source": [
    "# Load Dataset\n",
    "data(Groceries)\n",
    "head(Groceries)"
   ]
  },
  {
   "cell_type": "code",
   "execution_count": 3,
   "metadata": {},
   "outputs": [
    {
     "name": "stdout",
     "output_type": "stream",
     "text": [
      "Apriori\n",
      "\n",
      "Parameter specification:\n",
      " confidence minval smax arem  aval originalSupport maxtime support minlen\n",
      "        0.5    0.1    1 none FALSE            TRUE       5    0.01      1\n",
      " maxlen target   ext\n",
      "     10  rules FALSE\n",
      "\n",
      "Algorithmic control:\n",
      " filter tree heap memopt load sort verbose\n",
      "    0.1 TRUE TRUE  FALSE TRUE    2    TRUE\n",
      "\n",
      "Absolute minimum support count: 98 \n",
      "\n",
      "set item appearances ...[0 item(s)] done [0.00s].\n",
      "set transactions ...[169 item(s), 9835 transaction(s)] done [0.02s].\n",
      "sorting and recoding items ... [88 item(s)] done [0.00s].\n",
      "creating transaction tree ... done [0.00s].\n",
      "checking subsets of size 1 2 3 4 done [0.00s].\n",
      "writing ... [15 rule(s)] done [0.00s].\n",
      "creating S4 object  ... done [0.02s].\n",
      "     lhs                                      rhs                support\n",
      "[1]  {citrus fruit,root vegetables}        => {other vegetables} 0.010  \n",
      "[2]  {tropical fruit,root vegetables}      => {other vegetables} 0.012  \n",
      "[3]  {curd,yogurt}                         => {whole milk}       0.010  \n",
      "[4]  {other vegetables,butter}             => {whole milk}       0.011  \n",
      "[5]  {tropical fruit,root vegetables}      => {whole milk}       0.012  \n",
      "[6]  {root vegetables,yogurt}              => {whole milk}       0.015  \n",
      "[7]  {other vegetables,domestic eggs}      => {whole milk}       0.012  \n",
      "[8]  {yogurt,whipped/sour cream}           => {whole milk}       0.011  \n",
      "[9]  {root vegetables,rolls/buns}          => {whole milk}       0.013  \n",
      "[10] {pip fruit,other vegetables}          => {whole milk}       0.014  \n",
      "[11] {tropical fruit,yogurt}               => {whole milk}       0.015  \n",
      "[12] {other vegetables,yogurt}             => {whole milk}       0.022  \n",
      "[13] {other vegetables,whipped/sour cream} => {whole milk}       0.015  \n",
      "[14] {root vegetables,rolls/buns}          => {other vegetables} 0.012  \n",
      "[15] {root vegetables,yogurt}              => {other vegetables} 0.013  \n",
      "     confidence lift  count\n",
      "[1]  0.586      3.030 102  \n",
      "[2]  0.585      3.021 121  \n",
      "[3]  0.582      2.279  99  \n",
      "[4]  0.574      2.245 113  \n",
      "[5]  0.570      2.231 118  \n",
      "[6]  0.563      2.203 143  \n",
      "[7]  0.553      2.162 121  \n",
      "[8]  0.525      2.053 107  \n",
      "[9]  0.523      2.047 125  \n",
      "[10] 0.518      2.025 133  \n",
      "[11] 0.517      2.025 149  \n",
      "[12] 0.513      2.007 219  \n",
      "[13] 0.507      1.984 144  \n",
      "[14] 0.502      2.595 120  \n",
      "[15] 0.500      2.584 127  \n"
     ]
    }
   ],
   "source": [
    "# Implimenting Apriori algorithm\n",
    "Rules <- apriori(Groceries, parameter = list(support=0.01, confidence=0.5))\n",
    "#inspect(Rules[])\n",
    "\n",
    "# making Rules to 3 digits precision\n",
    "quality(Rules)=round(quality(Rules), digits = 3)\n",
    "#inspect(Rules[])\n",
    "\n",
    "# Sort Rules\n",
    "Rules_new=sort(Rules, by=\"confidence\")\n",
    "inspect(Rules_new[])"
   ]
  },
  {
   "cell_type": "code",
   "execution_count": 6,
   "metadata": {},
   "outputs": [
    {
     "data": {
      "image/png": "[encoded data removed]",
      "text/plain": [
       "plot without title"
      ]
     },
     "metadata": {},
     "output_type": "display_data"
    },
    {
     "data": {
      "image/png": "[encoded data removed]",
      "text/plain": [
       "plot without title"
      ]
     },
     "metadata": {},
     "output_type": "display_data"
    }
   ],
   "source": [
    "par(mfrow=c(1,2))\n",
    "# plot rules\n",
    "plot(Rules_new)\n",
    "plot(Rules_new, measure = \"lift\", shading = \"support\")"
   ]
  }
 ],
 "metadata": {
  "kernelspec": {
   "display_name": "R",
   "language": "R",
   "name": "ir"
  },
  "language_info": {
   "codemirror_mode": "r",
   "file_extension": ".r",
   "mimetype": "text/x-r-source",
   "name": "R",
   "pygments_lexer": "r",
   "version": "3.5.1"
  }
 },
 "nbformat": 4,
 "nbformat_minor": 2
}
